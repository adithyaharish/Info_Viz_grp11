{
 "cells": [
  {
   "cell_type": "code",
   "execution_count": 8,
   "metadata": {},
   "outputs": [],
   "source": [
    "import pandas as pd\n",
    "import plotly.graph_objects as go\n",
    "from ipywidgets import widgets, Output\n",
    "from IPython.display import display\n",
    "import pandas as pd\n",
    "import plotly.express as px"
   ]
  },
  {
   "cell_type": "code",
   "execution_count": 2,
   "metadata": {},
   "outputs": [
    {
     "data": {
      "text/plain": [
       "Index(['Data.Precipitation', 'Date.Full', 'Date.Month', 'Date.Week of',\n",
       "       'Date.Year', 'Station.City', 'Station.Code', 'Station.Location',\n",
       "       'Station.State', 'Data.Temperature.Avg Temp',\n",
       "       'Data.Temperature.Max Temp', 'Data.Temperature.Min Temp',\n",
       "       'Data.Wind.Direction', 'Data.Wind.Speed'],\n",
       "      dtype='object')"
      ]
     },
     "execution_count": 2,
     "metadata": {},
     "output_type": "execute_result"
    }
   ],
   "source": [
    "df = pd.read_csv('weather.csv')\n",
    "df.columns"
   ]
  },
  {
   "cell_type": "code",
   "execution_count": 3,
   "metadata": {},
   "outputs": [
    {
     "data": {
      "text/html": [
       "<div>\n",
       "<style scoped>\n",
       "    .dataframe tbody tr th:only-of-type {\n",
       "        vertical-align: middle;\n",
       "    }\n",
       "\n",
       "    .dataframe tbody tr th {\n",
       "        vertical-align: top;\n",
       "    }\n",
       "\n",
       "    .dataframe thead th {\n",
       "        text-align: right;\n",
       "    }\n",
       "</style>\n",
       "<table border=\"1\" class=\"dataframe\">\n",
       "  <thead>\n",
       "    <tr style=\"text-align: right;\">\n",
       "      <th></th>\n",
       "      <th>Data.Precipitation</th>\n",
       "      <th>Date.Full</th>\n",
       "      <th>Date.Month</th>\n",
       "      <th>Date.Week of</th>\n",
       "      <th>Date.Year</th>\n",
       "      <th>Station.City</th>\n",
       "      <th>Station.Code</th>\n",
       "      <th>Station.Location</th>\n",
       "      <th>Station.State</th>\n",
       "      <th>Data.Temperature.Avg Temp</th>\n",
       "      <th>Data.Temperature.Max Temp</th>\n",
       "      <th>Data.Temperature.Min Temp</th>\n",
       "      <th>Data.Wind.Direction</th>\n",
       "      <th>Data.Wind.Speed</th>\n",
       "    </tr>\n",
       "  </thead>\n",
       "  <tbody>\n",
       "    <tr>\n",
       "      <th>0</th>\n",
       "      <td>0.00</td>\n",
       "      <td>2016-01-03</td>\n",
       "      <td>1</td>\n",
       "      <td>3</td>\n",
       "      <td>2016</td>\n",
       "      <td>Birmingham</td>\n",
       "      <td>BHM</td>\n",
       "      <td>Birmingham, AL</td>\n",
       "      <td>Alabama</td>\n",
       "      <td>39</td>\n",
       "      <td>46</td>\n",
       "      <td>32</td>\n",
       "      <td>33</td>\n",
       "      <td>4.33</td>\n",
       "    </tr>\n",
       "    <tr>\n",
       "      <th>1</th>\n",
       "      <td>0.00</td>\n",
       "      <td>2016-01-03</td>\n",
       "      <td>1</td>\n",
       "      <td>3</td>\n",
       "      <td>2016</td>\n",
       "      <td>Huntsville</td>\n",
       "      <td>HSV</td>\n",
       "      <td>Huntsville, AL</td>\n",
       "      <td>Alabama</td>\n",
       "      <td>39</td>\n",
       "      <td>47</td>\n",
       "      <td>31</td>\n",
       "      <td>32</td>\n",
       "      <td>3.86</td>\n",
       "    </tr>\n",
       "    <tr>\n",
       "      <th>2</th>\n",
       "      <td>0.16</td>\n",
       "      <td>2016-01-03</td>\n",
       "      <td>1</td>\n",
       "      <td>3</td>\n",
       "      <td>2016</td>\n",
       "      <td>Mobile</td>\n",
       "      <td>MOB</td>\n",
       "      <td>Mobile, AL</td>\n",
       "      <td>Alabama</td>\n",
       "      <td>46</td>\n",
       "      <td>51</td>\n",
       "      <td>41</td>\n",
       "      <td>35</td>\n",
       "      <td>9.73</td>\n",
       "    </tr>\n",
       "    <tr>\n",
       "      <th>3</th>\n",
       "      <td>0.00</td>\n",
       "      <td>2016-01-03</td>\n",
       "      <td>1</td>\n",
       "      <td>3</td>\n",
       "      <td>2016</td>\n",
       "      <td>Montgomery</td>\n",
       "      <td>MGM</td>\n",
       "      <td>Montgomery, AL</td>\n",
       "      <td>Alabama</td>\n",
       "      <td>45</td>\n",
       "      <td>52</td>\n",
       "      <td>38</td>\n",
       "      <td>32</td>\n",
       "      <td>6.86</td>\n",
       "    </tr>\n",
       "    <tr>\n",
       "      <th>4</th>\n",
       "      <td>0.01</td>\n",
       "      <td>2016-01-03</td>\n",
       "      <td>1</td>\n",
       "      <td>3</td>\n",
       "      <td>2016</td>\n",
       "      <td>Anchorage</td>\n",
       "      <td>ANC</td>\n",
       "      <td>Anchorage, AK</td>\n",
       "      <td>Alaska</td>\n",
       "      <td>34</td>\n",
       "      <td>38</td>\n",
       "      <td>29</td>\n",
       "      <td>19</td>\n",
       "      <td>7.80</td>\n",
       "    </tr>\n",
       "    <tr>\n",
       "      <th>...</th>\n",
       "      <td>...</td>\n",
       "      <td>...</td>\n",
       "      <td>...</td>\n",
       "      <td>...</td>\n",
       "      <td>...</td>\n",
       "      <td>...</td>\n",
       "      <td>...</td>\n",
       "      <td>...</td>\n",
       "      <td>...</td>\n",
       "      <td>...</td>\n",
       "      <td>...</td>\n",
       "      <td>...</td>\n",
       "      <td>...</td>\n",
       "      <td>...</td>\n",
       "    </tr>\n",
       "    <tr>\n",
       "      <th>16738</th>\n",
       "      <td>0.08</td>\n",
       "      <td>2017-01-01</td>\n",
       "      <td>1</td>\n",
       "      <td>1</td>\n",
       "      <td>2017</td>\n",
       "      <td>Casper</td>\n",
       "      <td>CPR</td>\n",
       "      <td>Casper, WY</td>\n",
       "      <td>Wyoming</td>\n",
       "      <td>23</td>\n",
       "      <td>32</td>\n",
       "      <td>15</td>\n",
       "      <td>23</td>\n",
       "      <td>19.98</td>\n",
       "    </tr>\n",
       "    <tr>\n",
       "      <th>16739</th>\n",
       "      <td>0.00</td>\n",
       "      <td>2017-01-01</td>\n",
       "      <td>1</td>\n",
       "      <td>1</td>\n",
       "      <td>2017</td>\n",
       "      <td>Cheyenne</td>\n",
       "      <td>CYS</td>\n",
       "      <td>Cheyenne, WY</td>\n",
       "      <td>Wyoming</td>\n",
       "      <td>32</td>\n",
       "      <td>42</td>\n",
       "      <td>21</td>\n",
       "      <td>26</td>\n",
       "      <td>15.16</td>\n",
       "    </tr>\n",
       "    <tr>\n",
       "      <th>16740</th>\n",
       "      <td>0.00</td>\n",
       "      <td>2017-01-01</td>\n",
       "      <td>1</td>\n",
       "      <td>1</td>\n",
       "      <td>2017</td>\n",
       "      <td>Lander</td>\n",
       "      <td>LND</td>\n",
       "      <td>Lander, WY</td>\n",
       "      <td>Wyoming</td>\n",
       "      <td>17</td>\n",
       "      <td>29</td>\n",
       "      <td>4</td>\n",
       "      <td>26</td>\n",
       "      <td>1.65</td>\n",
       "    </tr>\n",
       "    <tr>\n",
       "      <th>16741</th>\n",
       "      <td>0.06</td>\n",
       "      <td>2017-01-01</td>\n",
       "      <td>1</td>\n",
       "      <td>1</td>\n",
       "      <td>2017</td>\n",
       "      <td>Rawlins</td>\n",
       "      <td>RWL</td>\n",
       "      <td>Rawlins, WY</td>\n",
       "      <td>Wyoming</td>\n",
       "      <td>23</td>\n",
       "      <td>31</td>\n",
       "      <td>13</td>\n",
       "      <td>24</td>\n",
       "      <td>18.16</td>\n",
       "    </tr>\n",
       "    <tr>\n",
       "      <th>16742</th>\n",
       "      <td>0.10</td>\n",
       "      <td>2017-01-01</td>\n",
       "      <td>1</td>\n",
       "      <td>1</td>\n",
       "      <td>2017</td>\n",
       "      <td>Sheridan</td>\n",
       "      <td>SHR</td>\n",
       "      <td>Sheridan, WY</td>\n",
       "      <td>Wyoming</td>\n",
       "      <td>21</td>\n",
       "      <td>34</td>\n",
       "      <td>8</td>\n",
       "      <td>23</td>\n",
       "      <td>7.51</td>\n",
       "    </tr>\n",
       "  </tbody>\n",
       "</table>\n",
       "<p>16743 rows × 14 columns</p>\n",
       "</div>"
      ],
      "text/plain": [
       "       Data.Precipitation   Date.Full  Date.Month  Date.Week of  Date.Year  \\\n",
       "0                    0.00  2016-01-03           1             3       2016   \n",
       "1                    0.00  2016-01-03           1             3       2016   \n",
       "2                    0.16  2016-01-03           1             3       2016   \n",
       "3                    0.00  2016-01-03           1             3       2016   \n",
       "4                    0.01  2016-01-03           1             3       2016   \n",
       "...                   ...         ...         ...           ...        ...   \n",
       "16738                0.08  2017-01-01           1             1       2017   \n",
       "16739                0.00  2017-01-01           1             1       2017   \n",
       "16740                0.00  2017-01-01           1             1       2017   \n",
       "16741                0.06  2017-01-01           1             1       2017   \n",
       "16742                0.10  2017-01-01           1             1       2017   \n",
       "\n",
       "      Station.City Station.Code Station.Location Station.State  \\\n",
       "0       Birmingham          BHM   Birmingham, AL       Alabama   \n",
       "1       Huntsville          HSV   Huntsville, AL       Alabama   \n",
       "2           Mobile          MOB       Mobile, AL       Alabama   \n",
       "3       Montgomery          MGM   Montgomery, AL       Alabama   \n",
       "4        Anchorage          ANC    Anchorage, AK        Alaska   \n",
       "...            ...          ...              ...           ...   \n",
       "16738       Casper          CPR       Casper, WY       Wyoming   \n",
       "16739     Cheyenne          CYS     Cheyenne, WY       Wyoming   \n",
       "16740       Lander          LND       Lander, WY       Wyoming   \n",
       "16741      Rawlins          RWL      Rawlins, WY       Wyoming   \n",
       "16742     Sheridan          SHR     Sheridan, WY       Wyoming   \n",
       "\n",
       "       Data.Temperature.Avg Temp  Data.Temperature.Max Temp  \\\n",
       "0                             39                         46   \n",
       "1                             39                         47   \n",
       "2                             46                         51   \n",
       "3                             45                         52   \n",
       "4                             34                         38   \n",
       "...                          ...                        ...   \n",
       "16738                         23                         32   \n",
       "16739                         32                         42   \n",
       "16740                         17                         29   \n",
       "16741                         23                         31   \n",
       "16742                         21                         34   \n",
       "\n",
       "       Data.Temperature.Min Temp  Data.Wind.Direction  Data.Wind.Speed  \n",
       "0                             32                   33             4.33  \n",
       "1                             31                   32             3.86  \n",
       "2                             41                   35             9.73  \n",
       "3                             38                   32             6.86  \n",
       "4                             29                   19             7.80  \n",
       "...                          ...                  ...              ...  \n",
       "16738                         15                   23            19.98  \n",
       "16739                         21                   26            15.16  \n",
       "16740                          4                   26             1.65  \n",
       "16741                         13                   24            18.16  \n",
       "16742                          8                   23             7.51  \n",
       "\n",
       "[16743 rows x 14 columns]"
      ]
     },
     "execution_count": 3,
     "metadata": {},
     "output_type": "execute_result"
    }
   ],
   "source": [
    "df"
   ]
  },
  {
   "cell_type": "code",
   "execution_count": 4,
   "metadata": {},
   "outputs": [],
   "source": [
    "df['Station.State'] = df['Station.State'].replace({'DE': 'Delaware', 'VA': 'Virginia'})"
   ]
  },
  {
   "cell_type": "code",
   "execution_count": 15,
   "metadata": {},
   "outputs": [],
   "source": [
    "# Filtering the DataFrame for the year 2016 and excluding Puerto Rico\n",
    "filtered_df = df[(df['Date.Year'] == 2016) & (df['Station.State'] != 'Puerto Rico')]\n",
    "\n",
    "# Grouping by 'Station.State' and 'Date.Full', then calculating mean for specified columns\n",
    "average_temperatures = filtered_df.groupby(['Station.State', 'Date.Full']).agg({\n",
    "    'Data.Temperature.Avg Temp': 'mean',\n",
    "    'Data.Precipitation': 'mean',\n",
    "    'Data.Wind.Speed': 'mean'\n",
    "}).reset_index()"
   ]
  },
  {
   "cell_type": "code",
   "execution_count": 16,
   "metadata": {},
   "outputs": [
    {
     "data": {
      "text/html": [
       "<div>\n",
       "<style scoped>\n",
       "    .dataframe tbody tr th:only-of-type {\n",
       "        vertical-align: middle;\n",
       "    }\n",
       "\n",
       "    .dataframe tbody tr th {\n",
       "        vertical-align: top;\n",
       "    }\n",
       "\n",
       "    .dataframe thead th {\n",
       "        text-align: right;\n",
       "    }\n",
       "</style>\n",
       "<table border=\"1\" class=\"dataframe\">\n",
       "  <thead>\n",
       "    <tr style=\"text-align: right;\">\n",
       "      <th></th>\n",
       "      <th>Station.State</th>\n",
       "      <th>Date.Full</th>\n",
       "      <th>Data.Temperature.Avg Temp</th>\n",
       "      <th>Data.Precipitation</th>\n",
       "      <th>Data.Wind.Speed</th>\n",
       "    </tr>\n",
       "  </thead>\n",
       "  <tbody>\n",
       "    <tr>\n",
       "      <th>0</th>\n",
       "      <td>Alabama</td>\n",
       "      <td>2016-01-03</td>\n",
       "      <td>42.25</td>\n",
       "      <td>0.0400</td>\n",
       "      <td>6.1950</td>\n",
       "    </tr>\n",
       "    <tr>\n",
       "      <th>1</th>\n",
       "      <td>Alabama</td>\n",
       "      <td>2016-01-10</td>\n",
       "      <td>45.75</td>\n",
       "      <td>0.2975</td>\n",
       "      <td>7.2550</td>\n",
       "    </tr>\n",
       "    <tr>\n",
       "      <th>2</th>\n",
       "      <td>Alabama</td>\n",
       "      <td>2016-01-17</td>\n",
       "      <td>43.50</td>\n",
       "      <td>1.0550</td>\n",
       "      <td>4.2000</td>\n",
       "    </tr>\n",
       "    <tr>\n",
       "      <th>3</th>\n",
       "      <td>Alabama</td>\n",
       "      <td>2016-01-24</td>\n",
       "      <td>39.50</td>\n",
       "      <td>2.3075</td>\n",
       "      <td>5.9175</td>\n",
       "    </tr>\n",
       "    <tr>\n",
       "      <th>4</th>\n",
       "      <td>Alabama</td>\n",
       "      <td>2016-01-31</td>\n",
       "      <td>50.25</td>\n",
       "      <td>0.8975</td>\n",
       "      <td>6.0600</td>\n",
       "    </tr>\n",
       "    <tr>\n",
       "      <th>...</th>\n",
       "      <td>...</td>\n",
       "      <td>...</td>\n",
       "      <td>...</td>\n",
       "      <td>...</td>\n",
       "      <td>...</td>\n",
       "    </tr>\n",
       "    <tr>\n",
       "      <th>2595</th>\n",
       "      <td>Wyoming</td>\n",
       "      <td>2016-11-27</td>\n",
       "      <td>33.40</td>\n",
       "      <td>0.2760</td>\n",
       "      <td>8.1320</td>\n",
       "    </tr>\n",
       "    <tr>\n",
       "      <th>2596</th>\n",
       "      <td>Wyoming</td>\n",
       "      <td>2016-12-04</td>\n",
       "      <td>25.60</td>\n",
       "      <td>0.0120</td>\n",
       "      <td>8.3720</td>\n",
       "    </tr>\n",
       "    <tr>\n",
       "      <th>2597</th>\n",
       "      <td>Wyoming</td>\n",
       "      <td>2016-12-11</td>\n",
       "      <td>12.80</td>\n",
       "      <td>0.1780</td>\n",
       "      <td>7.2260</td>\n",
       "    </tr>\n",
       "    <tr>\n",
       "      <th>2598</th>\n",
       "      <td>Wyoming</td>\n",
       "      <td>2016-12-18</td>\n",
       "      <td>13.40</td>\n",
       "      <td>0.3300</td>\n",
       "      <td>9.1800</td>\n",
       "    </tr>\n",
       "    <tr>\n",
       "      <th>2599</th>\n",
       "      <td>Wyoming</td>\n",
       "      <td>2016-12-25</td>\n",
       "      <td>25.00</td>\n",
       "      <td>0.2840</td>\n",
       "      <td>9.6260</td>\n",
       "    </tr>\n",
       "  </tbody>\n",
       "</table>\n",
       "<p>2600 rows × 5 columns</p>\n",
       "</div>"
      ],
      "text/plain": [
       "     Station.State   Date.Full  Data.Temperature.Avg Temp  Data.Precipitation  \\\n",
       "0          Alabama  2016-01-03                      42.25              0.0400   \n",
       "1          Alabama  2016-01-10                      45.75              0.2975   \n",
       "2          Alabama  2016-01-17                      43.50              1.0550   \n",
       "3          Alabama  2016-01-24                      39.50              2.3075   \n",
       "4          Alabama  2016-01-31                      50.25              0.8975   \n",
       "...            ...         ...                        ...                 ...   \n",
       "2595       Wyoming  2016-11-27                      33.40              0.2760   \n",
       "2596       Wyoming  2016-12-04                      25.60              0.0120   \n",
       "2597       Wyoming  2016-12-11                      12.80              0.1780   \n",
       "2598       Wyoming  2016-12-18                      13.40              0.3300   \n",
       "2599       Wyoming  2016-12-25                      25.00              0.2840   \n",
       "\n",
       "      Data.Wind.Speed  \n",
       "0              6.1950  \n",
       "1              7.2550  \n",
       "2              4.2000  \n",
       "3              5.9175  \n",
       "4              6.0600  \n",
       "...               ...  \n",
       "2595           8.1320  \n",
       "2596           8.3720  \n",
       "2597           7.2260  \n",
       "2598           9.1800  \n",
       "2599           9.6260  \n",
       "\n",
       "[2600 rows x 5 columns]"
      ]
     },
     "execution_count": 16,
     "metadata": {},
     "output_type": "execute_result"
    }
   ],
   "source": [
    "average_temperatures"
   ]
  },
  {
   "cell_type": "code",
   "execution_count": 17,
   "metadata": {},
   "outputs": [],
   "source": [
    "# Map of state names to abbreviations if using abbreviations\n",
    "state_abbrev = {\n",
    "    'Alabama': 'AL', 'Alaska': 'AK', 'Arizona': 'AZ', 'Arkansas': 'AR', 'California': 'CA',\n",
    "    'Colorado': 'CO', 'Connecticut': 'CT', 'Delaware': 'DE', 'Florida': 'FL',\n",
    "    'Georgia': 'GA', 'Hawaii': 'HI', 'Idaho': 'ID', 'Illinois': 'IL',\n",
    "    'Indiana': 'IN', 'Iowa': 'IA', 'Kansas': 'KS', 'Kentucky': 'KY',\n",
    "    'Louisiana': 'LA', 'Maine': 'ME', 'Maryland': 'MD', 'Massachusetts': 'MA',\n",
    "    'Michigan': 'MI', 'Minnesota': 'MN', 'Mississippi': 'MS', 'Missouri': 'MO',\n",
    "    'Montana': 'MT', 'Nebraska': 'NE', 'Nevada': 'NV', 'New Hampshire': 'NH',\n",
    "    'New Jersey': 'NJ', 'New Mexico': 'NM', 'New York': 'NY', 'North Carolina': 'NC',\n",
    "    'North Dakota': 'ND', 'Ohio': 'OH', 'Oklahoma': 'OK', 'Oregon': 'OR',\n",
    "    'Pennsylvania': 'PA', 'Rhode Island': 'RI', 'South Carolina': 'SC',\n",
    "    'South Dakota': 'SD', 'Tennessee': 'TN', 'Texas': 'TX', 'Utah': 'UT',\n",
    "    'Vermont': 'VT', 'Virginia': 'VA', 'Washington': 'WA', 'West Virginia': 'WV',\n",
    "    'Wisconsin': 'WI', 'Wyoming': 'WY'\n",
    "}\n",
    "average_temperatures['Station.State'] = average_temperatures['Station.State'].map(state_abbrev)"
   ]
  },
  {
   "cell_type": "code",
   "execution_count": 21,
   "metadata": {},
   "outputs": [],
   "source": [
    "state_names = {\n",
    "    'AL': 'Alabama',\n",
    "    'AK': 'Alaska',\n",
    "    'AZ': 'Arizona',\n",
    "    'AR': 'Arkansas',\n",
    "    'CA': 'California',\n",
    "    'CO': 'Colorado',\n",
    "    'CT': 'Connecticut',\n",
    "    'DE': 'Delaware',\n",
    "    'FL': 'Florida',\n",
    "    'GA': 'Georgia',\n",
    "    'HI': 'Hawaii',\n",
    "    'ID': 'Idaho',\n",
    "    'IL': 'Illinois',\n",
    "    'IN': 'Indiana',\n",
    "    'IA': 'Iowa',\n",
    "    'KS': 'Kansas',\n",
    "    'KY': 'Kentucky',\n",
    "    'LA': 'Louisiana',\n",
    "    'ME': 'Maine',\n",
    "    'MD': 'Maryland',\n",
    "    'MA': 'Massachusetts',\n",
    "    'MI': 'Michigan',\n",
    "    'MN': 'Minnesota',\n",
    "    'MS': 'Mississippi',\n",
    "    'MO': 'Missouri',\n",
    "    'MT': 'Montana',\n",
    "    'NE': 'Nebraska',\n",
    "    'NV': 'Nevada',\n",
    "    'NH': 'New Hampshire',\n",
    "    'NJ': 'New Jersey',\n",
    "    'NM': 'New Mexico',\n",
    "    'NY': 'New York',\n",
    "    'NC': 'North Carolina',\n",
    "    'ND': 'North Dakota',\n",
    "    'OH': 'Ohio',\n",
    "    'OK': 'Oklahoma',\n",
    "    'OR': 'Oregon',\n",
    "    'PA': 'Pennsylvania',\n",
    "    'RI': 'Rhode Island',\n",
    "    'SC': 'South Carolina',\n",
    "    'SD': 'South Dakota',\n",
    "    'TN': 'Tennessee',\n",
    "    'TX': 'Texas',\n",
    "    'UT': 'Utah',\n",
    "    'VT': 'Vermont',\n",
    "    'VA': 'Virginia',\n",
    "    'WA': 'Washington',\n",
    "    'WV': 'West Virginia',\n",
    "    'WI': 'Wisconsin',\n",
    "    'WY': 'Wyoming',\n",
    "    'DC': 'District of Columbia',\n",
    "    'AS': 'American Samoa',\n",
    "    'GU': 'Guam',\n",
    "    'MP': 'Northern Mariana Islands',\n",
    "    'PR': 'Puerto Rico',\n",
    "    'UM': 'United States Minor Outlying Islands',\n",
    "    'VI': 'Virgin Islands'\n",
    "}"
   ]
  },
  {
   "cell_type": "code",
   "execution_count": 22,
   "metadata": {},
   "outputs": [],
   "source": [
    "# Create a new column 'State Full' combining initials and full names\n",
    "average_temperatures['State Full'] = average_temperatures['Station.State'].map(state_names).fillna('Unknown State') + \" (\" + average_temperatures['Station.State'] + \")\""
   ]
  },
  {
   "cell_type": "code",
   "execution_count": 23,
   "metadata": {},
   "outputs": [
    {
     "data": {
      "text/html": [
       "<div>\n",
       "<style scoped>\n",
       "    .dataframe tbody tr th:only-of-type {\n",
       "        vertical-align: middle;\n",
       "    }\n",
       "\n",
       "    .dataframe tbody tr th {\n",
       "        vertical-align: top;\n",
       "    }\n",
       "\n",
       "    .dataframe thead th {\n",
       "        text-align: right;\n",
       "    }\n",
       "</style>\n",
       "<table border=\"1\" class=\"dataframe\">\n",
       "  <thead>\n",
       "    <tr style=\"text-align: right;\">\n",
       "      <th></th>\n",
       "      <th>Station.State</th>\n",
       "      <th>Date.Full</th>\n",
       "      <th>Data.Temperature.Avg Temp</th>\n",
       "      <th>Data.Precipitation</th>\n",
       "      <th>Data.Wind.Speed</th>\n",
       "      <th>State Full</th>\n",
       "    </tr>\n",
       "  </thead>\n",
       "  <tbody>\n",
       "    <tr>\n",
       "      <th>0</th>\n",
       "      <td>AL</td>\n",
       "      <td>2016-01-03</td>\n",
       "      <td>42.25</td>\n",
       "      <td>0.0400</td>\n",
       "      <td>6.1950</td>\n",
       "      <td>Alabama (AL)</td>\n",
       "    </tr>\n",
       "    <tr>\n",
       "      <th>1</th>\n",
       "      <td>AL</td>\n",
       "      <td>2016-01-10</td>\n",
       "      <td>45.75</td>\n",
       "      <td>0.2975</td>\n",
       "      <td>7.2550</td>\n",
       "      <td>Alabama (AL)</td>\n",
       "    </tr>\n",
       "    <tr>\n",
       "      <th>2</th>\n",
       "      <td>AL</td>\n",
       "      <td>2016-01-17</td>\n",
       "      <td>43.50</td>\n",
       "      <td>1.0550</td>\n",
       "      <td>4.2000</td>\n",
       "      <td>Alabama (AL)</td>\n",
       "    </tr>\n",
       "    <tr>\n",
       "      <th>3</th>\n",
       "      <td>AL</td>\n",
       "      <td>2016-01-24</td>\n",
       "      <td>39.50</td>\n",
       "      <td>2.3075</td>\n",
       "      <td>5.9175</td>\n",
       "      <td>Alabama (AL)</td>\n",
       "    </tr>\n",
       "    <tr>\n",
       "      <th>4</th>\n",
       "      <td>AL</td>\n",
       "      <td>2016-01-31</td>\n",
       "      <td>50.25</td>\n",
       "      <td>0.8975</td>\n",
       "      <td>6.0600</td>\n",
       "      <td>Alabama (AL)</td>\n",
       "    </tr>\n",
       "    <tr>\n",
       "      <th>...</th>\n",
       "      <td>...</td>\n",
       "      <td>...</td>\n",
       "      <td>...</td>\n",
       "      <td>...</td>\n",
       "      <td>...</td>\n",
       "      <td>...</td>\n",
       "    </tr>\n",
       "    <tr>\n",
       "      <th>2595</th>\n",
       "      <td>WY</td>\n",
       "      <td>2016-11-27</td>\n",
       "      <td>33.40</td>\n",
       "      <td>0.2760</td>\n",
       "      <td>8.1320</td>\n",
       "      <td>Wyoming (WY)</td>\n",
       "    </tr>\n",
       "    <tr>\n",
       "      <th>2596</th>\n",
       "      <td>WY</td>\n",
       "      <td>2016-12-04</td>\n",
       "      <td>25.60</td>\n",
       "      <td>0.0120</td>\n",
       "      <td>8.3720</td>\n",
       "      <td>Wyoming (WY)</td>\n",
       "    </tr>\n",
       "    <tr>\n",
       "      <th>2597</th>\n",
       "      <td>WY</td>\n",
       "      <td>2016-12-11</td>\n",
       "      <td>12.80</td>\n",
       "      <td>0.1780</td>\n",
       "      <td>7.2260</td>\n",
       "      <td>Wyoming (WY)</td>\n",
       "    </tr>\n",
       "    <tr>\n",
       "      <th>2598</th>\n",
       "      <td>WY</td>\n",
       "      <td>2016-12-18</td>\n",
       "      <td>13.40</td>\n",
       "      <td>0.3300</td>\n",
       "      <td>9.1800</td>\n",
       "      <td>Wyoming (WY)</td>\n",
       "    </tr>\n",
       "    <tr>\n",
       "      <th>2599</th>\n",
       "      <td>WY</td>\n",
       "      <td>2016-12-25</td>\n",
       "      <td>25.00</td>\n",
       "      <td>0.2840</td>\n",
       "      <td>9.6260</td>\n",
       "      <td>Wyoming (WY)</td>\n",
       "    </tr>\n",
       "  </tbody>\n",
       "</table>\n",
       "<p>2600 rows × 6 columns</p>\n",
       "</div>"
      ],
      "text/plain": [
       "     Station.State   Date.Full  Data.Temperature.Avg Temp  Data.Precipitation  \\\n",
       "0               AL  2016-01-03                      42.25              0.0400   \n",
       "1               AL  2016-01-10                      45.75              0.2975   \n",
       "2               AL  2016-01-17                      43.50              1.0550   \n",
       "3               AL  2016-01-24                      39.50              2.3075   \n",
       "4               AL  2016-01-31                      50.25              0.8975   \n",
       "...            ...         ...                        ...                 ...   \n",
       "2595            WY  2016-11-27                      33.40              0.2760   \n",
       "2596            WY  2016-12-04                      25.60              0.0120   \n",
       "2597            WY  2016-12-11                      12.80              0.1780   \n",
       "2598            WY  2016-12-18                      13.40              0.3300   \n",
       "2599            WY  2016-12-25                      25.00              0.2840   \n",
       "\n",
       "      Data.Wind.Speed    State Full  \n",
       "0              6.1950  Alabama (AL)  \n",
       "1              7.2550  Alabama (AL)  \n",
       "2              4.2000  Alabama (AL)  \n",
       "3              5.9175  Alabama (AL)  \n",
       "4              6.0600  Alabama (AL)  \n",
       "...               ...           ...  \n",
       "2595           8.1320  Wyoming (WY)  \n",
       "2596           8.3720  Wyoming (WY)  \n",
       "2597           7.2260  Wyoming (WY)  \n",
       "2598           9.1800  Wyoming (WY)  \n",
       "2599           9.6260  Wyoming (WY)  \n",
       "\n",
       "[2600 rows x 6 columns]"
      ]
     },
     "execution_count": 23,
     "metadata": {},
     "output_type": "execute_result"
    }
   ],
   "source": [
    "average_temperatures"
   ]
  },
  {
   "cell_type": "code",
   "execution_count": 24,
   "metadata": {},
   "outputs": [
    {
     "data": {
      "application/vnd.plotly.v1+json": {
       "config": {
        "plotlyServerURL": "https://plot.ly"
       },
       "data": [
        {
         "coloraxis": "coloraxis",
         "customdata": [
          [
           "AL",
           "2016-01-03",
           42.25,
           0.04,
           6.195
          ],
          [
           "AK",
           "2016-01-03",
           33.67741935483871,
           0.34903225806451615,
           8.91741935483871
          ],
          [
           "AZ",
           "2016-01-03",
           44.8,
           0,
           5.965999999999999
          ],
          [
           "AR",
           "2016-01-03",
           39.666666666666664,
           0,
           4.1866666666666665
          ],
          [
           "CA",
           "2016-01-03",
           45.526315789473685,
           0.005263157894736842,
           4.360526315789474
          ],
          [
           "CO",
           "2016-01-03",
           16.5,
           0,
           3.0866666666666664
          ],
          [
           "CT",
           "2016-01-03",
           36,
           0,
           7.529999999999999
          ],
          [
           "DE",
           "2016-01-03",
           37,
           0,
           6.43
          ],
          [
           "FL",
           "2016-01-03",
           65.08333333333333,
           0.5075,
           5.88
          ],
          [
           "GA",
           "2016-01-03",
           48.166666666666664,
           0.18000000000000002,
           5.7683333333333335
          ],
          [
           "HI",
           "2016-01-03",
           71.8,
           0.038,
           6.356
          ],
          [
           "ID",
           "2016-01-03",
           14.666666666666666,
           0,
           2.74
          ],
          [
           "IL",
           "2016-01-03",
           27.166666666666668,
           0,
           10.246666666666668
          ],
          [
           "IN",
           "2016-01-03",
           30,
           0.0075,
           10.455
          ],
          [
           "IA",
           "2016-01-03",
           22,
           0,
           10.602
          ],
          [
           "KS",
           "2016-01-03",
           31.833333333333332,
           0,
           7.04
          ],
          [
           "KY",
           "2016-01-03",
           35.8,
           0,
           6.178
          ],
          [
           "LA",
           "2016-01-03",
           47.4,
           0.19599999999999998,
           7.142
          ],
          [
           "ME",
           "2016-01-03",
           28.666666666666668,
           0.03666666666666667,
           5.93
          ],
          [
           "MD",
           "2016-01-03",
           37.5,
           0,
           4.41
          ],
          [
           "MA",
           "2016-01-03",
           42.666666666666664,
           0,
           11.663333333333334
          ],
          [
           "MI",
           "2016-01-03",
           28.11111111111111,
           0.05222222222222222,
           10.311111111111112
          ],
          [
           "MN",
           "2016-01-03",
           21,
           0,
           10.288
          ],
          [
           "MS",
           "2016-01-03",
           43.142857142857146,
           0.05857142857142857,
           5.365714285714286
          ],
          [
           "MO",
           "2016-01-03",
           32.714285714285715,
           0,
           7.715714285714286
          ],
          [
           "MT",
           "2016-01-03",
           9.818181818181818,
           0.0009090909090909091,
           6.251818181818181
          ],
          [
           "NE",
           "2016-01-03",
           22.625,
           0,
           7.83875
          ],
          [
           "NV",
           "2016-01-03",
           22.666666666666668,
           0,
           4.235
          ],
          [
           "NH",
           "2016-01-03",
           47,
           0,
           29.380000000000003
          ],
          [
           "NJ",
           "2016-01-03",
           36.5,
           0,
           8.18
          ],
          [
           "NM",
           "2016-01-03",
           29.666666666666668,
           0.006666666666666667,
           3.83
          ],
          [
           "NY",
           "2016-01-03",
           31.75,
           0.05,
           9.8975
          ],
          [
           "NC",
           "2016-01-03",
           43.857142857142854,
           0.11285714285714286,
           4.3342857142857145
          ],
          [
           "ND",
           "2016-01-03",
           20.2,
           0,
           8.804
          ],
          [
           "OH",
           "2016-01-03",
           29,
           0.014285714285714287,
           11.382857142857144
          ],
          [
           "OK",
           "2016-01-03",
           34.25,
           0,
           5.42
          ],
          [
           "OR",
           "2016-01-03",
           25.625,
           0.11875,
           7.26
          ],
          [
           "PA",
           "2016-01-03",
           33.142857142857146,
           0.047142857142857146,
           9.407142857142858
          ],
          [
           "RI",
           "2016-01-03",
           36,
           0,
           7.36
          ],
          [
           "SC",
           "2016-01-03",
           48,
           0.1375,
           2.455
          ],
          [
           "SD",
           "2016-01-03",
           20,
           0,
           7.104000000000001
          ],
          [
           "TN",
           "2016-01-03",
           37.125,
           0,
           3.46
          ],
          [
           "TX",
           "2016-01-03",
           43.333333333333336,
           0.2941666666666667,
           7.065
          ],
          [
           "UT",
           "2016-01-03",
           15,
           0,
           1.6
          ],
          [
           "VT",
           "2016-01-03",
           31,
           0.03,
           6.5
          ],
          [
           "VA",
           "2016-01-03",
           41.285714285714285,
           0,
           5.664285714285714
          ],
          [
           "WA",
           "2016-01-03",
           20.714285714285715,
           0.07571428571428572,
           4.255714285714285
          ],
          [
           "WV",
           "2016-01-03",
           34.5,
           0,
           6.58
          ],
          [
           "WI",
           "2016-01-03",
           24.5,
           0,
           8.530000000000001
          ],
          [
           "WY",
           "2016-01-03",
           16,
           0,
           5.518
          ]
         ],
         "geo": "geo",
         "hovertemplate": "<b>%{hovertext}</b><br><br>Date=%{customdata[1]}<br>Temperature (F)=%{z:.4f}<br>Precipitation (inches)=%{customdata[3]:.4f}<br>Wind Speed (mph)=%{customdata[4]:.4f}<extra></extra>",
         "hovertext": [
          "Alabama (AL)",
          "Alaska (AK)",
          "Arizona (AZ)",
          "Arkansas (AR)",
          "California (CA)",
          "Colorado (CO)",
          "Connecticut (CT)",
          "Delaware (DE)",
          "Florida (FL)",
          "Georgia (GA)",
          "Hawaii (HI)",
          "Idaho (ID)",
          "Illinois (IL)",
          "Indiana (IN)",
          "Iowa (IA)",
          "Kansas (KS)",
          "Kentucky (KY)",
          "Louisiana (LA)",
          "Maine (ME)",
          "Maryland (MD)",
          "Massachusetts (MA)",
          "Michigan (MI)",
          "Minnesota (MN)",
          "Mississippi (MS)",
          "Missouri (MO)",
          "Montana (MT)",
          "Nebraska (NE)",
          "Nevada (NV)",
          "New Hampshire (NH)",
          "New Jersey (NJ)",
          "New Mexico (NM)",
          "New York (NY)",
          "North Carolina (NC)",
          "North Dakota (ND)",
          "Ohio (OH)",
          "Oklahoma (OK)",
          "Oregon (OR)",
          "Pennsylvania (PA)",
          "Rhode Island (RI)",
          "South Carolina (SC)",
          "South Dakota (SD)",
          "Tennessee (TN)",
          "Texas (TX)",
          "Utah (UT)",
          "Vermont (VT)",
          "Virginia (VA)",
          "Washington (WA)",
          "West Virginia (WV)",
          "Wisconsin (WI)",
          "Wyoming (WY)"
         ],
         "locationmode": "USA-states",
         "locations": [
          "AL",
          "AK",
          "AZ",
          "AR",
          "CA",
          "CO",
          "CT",
          "DE",
          "FL",
          "GA",
          "HI",
          "ID",
          "IL",
          "IN",
          "IA",
          "KS",
          "KY",
          "LA",
          "ME",
          "MD",
          "MA",
          "MI",
          "MN",
          "MS",
          "MO",
          "MT",
          "NE",
          "NV",
          "NH",
          "NJ",
          "NM",
          "NY",
          "NC",
          "ND",
          "OH",
          "OK",
          "OR",
          "PA",
          "RI",
          "SC",
          "SD",
          "TN",
          "TX",
          "UT",
          "VT",
          "VA",
          "WA",
          "WV",
          "WI",
          "WY"
         ],
         "name": "",
         "type": "choropleth",
         "z": [
          42.25,
          33.67741935483871,
          44.8,
          39.666666666666664,
          45.526315789473685,
          16.5,
          36,
          37,
          65.08333333333333,
          48.166666666666664,
          71.8,
          14.666666666666666,
          27.166666666666668,
          30,
          22,
          31.833333333333332,
          35.8,
          47.4,
          28.666666666666668,
          37.5,
          42.666666666666664,
          28.11111111111111,
          21,
          43.142857142857146,
          32.714285714285715,
          9.818181818181818,
          22.625,
          22.666666666666668,
          47,
          36.5,
          29.666666666666668,
          31.75,
          43.857142857142854,
          20.2,
          29,
          34.25,
          25.625,
          33.142857142857146,
          36,
          48,
          20,
          37.125,
          43.333333333333336,
          15,
          31,
          41.285714285714285,
          20.714285714285715,
          34.5,
          24.5,
          16
         ]
        }
       ],
       "frames": [
        {
         "data": [
          {
           "coloraxis": "coloraxis",
           "customdata": [
            [
             "AL",
             "2016-01-03",
             42.25,
             0.04,
             6.195
            ],
            [
             "AK",
             "2016-01-03",
             33.67741935483871,
             0.34903225806451615,
             8.91741935483871
            ],
            [
             "AZ",
             "2016-01-03",
             44.8,
             0,
             5.965999999999999
            ],
            [
             "AR",
             "2016-01-03",
             39.666666666666664,
             0,
             4.1866666666666665
            ],
            [
             "CA",
             "2016-01-03",
             45.526315789473685,
             0.005263157894736842,
             4.360526315789474
            ],
            [
             "CO",
             "2016-01-03",
             16.5,
             0,
             3.0866666666666664
            ],
            [
             "CT",
             "2016-01-03",
             36,
             0,
             7.529999999999999
            ],
            [
             "DE",
             "2016-01-03",
             37,
             0,
             6.43
            ],
            [
             "FL",
             "2016-01-03",
             65.08333333333333,
             0.5075,
             5.88
            ],
            [
             "GA",
             "2016-01-03",
             48.166666666666664,
             0.18000000000000002,
             5.7683333333333335
            ],
            [
             "HI",
             "2016-01-03",
             71.8,
             0.038,
             6.356
            ],
            [
             "ID",
             "2016-01-03",
             14.666666666666666,
             0,
             2.74
            ],
            [
             "IL",
             "2016-01-03",
             27.166666666666668,
             0,
             10.246666666666668
            ],
            [
             "IN",
             "2016-01-03",
             30,
             0.0075,
             10.455
            ],
            [
             "IA",
             "2016-01-03",
             22,
             0,
             10.602
            ],
            [
             "KS",
             "2016-01-03",
             31.833333333333332,
             0,
             7.04
            ],
            [
             "KY",
             "2016-01-03",
             35.8,
             0,
             6.178
            ],
            [
             "LA",
             "2016-01-03",
             47.4,
             0.19599999999999998,
             7.142
            ],
            [
             "ME",
             "2016-01-03",
             28.666666666666668,
             0.03666666666666667,
             5.93
            ],
            [
             "MD",
             "2016-01-03",
             37.5,
             0,
             4.41
            ],
            [
             "MA",
             "2016-01-03",
             42.666666666666664,
             0,
             11.663333333333334
            ],
            [
             "MI",
             "2016-01-03",
             28.11111111111111,
             0.05222222222222222,
             10.311111111111112
            ],
            [
             "MN",
             "2016-01-03",
             21,
             0,
             10.288
            ],
            [
             "MS",
             "2016-01-03",
             43.142857142857146,
             0.05857142857142857,
             5.365714285714286
            ],
            [
             "MO",
             "2016-01-03",
             32.714285714285715,
             0,
             7.715714285714286
            ],
            [
             "MT",
             "2016-01-03",
             9.818181818181818,
             0.0009090909090909091,
             6.251818181818181
            ],
            [
             "NE",
             "2016-01-03",
             22.625,
             0,
             7.83875
            ],
            [
             "NV",
             "2016-01-03",
             22.666666666666668,
             0,
             4.235
            ],
            [
             "NH",
             "2016-01-03",
             47,
             0,
             29.380000000000003
            ],
            [
             "NJ",
             "2016-01-03",
             36.5,
             0,
             8.18
            ],
            [
             "NM",
             "2016-01-03",
             29.666666666666668,
             0.006666666666666667,
             3.83
            ],
            [
             "NY",
             "2016-01-03",
             31.75,
             0.05,
             9.8975
            ],
            [
             "NC",
             "2016-01-03",
             43.857142857142854,
             0.11285714285714286,
             4.3342857142857145
            ],
            [
             "ND",
             "2016-01-03",
             20.2,
             0,
             8.804
            ],
            [
             "OH",
             "2016-01-03",
             29,
             0.014285714285714287,
             11.382857142857144
            ],
            [
             "OK",
             "2016-01-03",
             34.25,
             0,
             5.42
            ],
            [
             "OR",
             "2016-01-03",
             25.625,
             0.11875,
             7.26
            ],
            [
             "PA",
             "2016-01-03",
             33.142857142857146,
             0.047142857142857146,
             9.407142857142858
            ],
            [
             "RI",
             "2016-01-03",
             36,
             0,
             7.36
            ],
            [
             "SC",
             "2016-01-03",
             48,
             0.1375,
             2.455
            ],
            [
             "SD",
             "2016-01-03",
             20,
             0,
             7.104000000000001
            ],
            [
             "TN",
             "2016-01-03",
             37.125,
             0,
             3.46
            ],
            [
             "TX",
             "2016-01-03",
             43.333333333333336,
             0.2941666666666667,
             7.065
            ],
            [
             "UT",
             "2016-01-03",
             15,
             0,
             1.6
            ],
            [
             "VT",
             "2016-01-03",
             31,
             0.03,
             6.5
            ],
            [
             "VA",
             "2016-01-03",
             41.285714285714285,
             0,
             5.664285714285714
            ],
            [
             "WA",
             "2016-01-03",
             20.714285714285715,
             0.07571428571428572,
             4.255714285714285
            ],
            [
             "WV",
             "2016-01-03",
             34.5,
             0,
             6.58
            ],
            [
             "WI",
             "2016-01-03",
             24.5,
             0,
             8.530000000000001
            ],
            [
             "WY",
             "2016-01-03",
             16,
             0,
             5.518
            ]
           ],
           "geo": "geo",
           "hovertemplate": "<b>%{hovertext}</b><br><br>Date=%{customdata[1]}<br>Temperature (F)=%{z:.4f}<br>Precipitation (inches)=%{customdata[3]:.4f}<br>Wind Speed (mph)=%{customdata[4]:.4f}<extra></extra>",
           "hovertext": [
            "Alabama (AL)",
            "Alaska (AK)",
            "Arizona (AZ)",
            "Arkansas (AR)",
            "California (CA)",
            "Colorado (CO)",
            "Connecticut (CT)",
            "Delaware (DE)",
            "Florida (FL)",
            "Georgia (GA)",
            "Hawaii (HI)",
            "Idaho (ID)",
            "Illinois (IL)",
            "Indiana (IN)",
            "Iowa (IA)",
            "Kansas (KS)",
            "Kentucky (KY)",
            "Louisiana (LA)",
            "Maine (ME)",
            "Maryland (MD)",
            "Massachusetts (MA)",
            "Michigan (MI)",
            "Minnesota (MN)",
            "Mississippi (MS)",
            "Missouri (MO)",
            "Montana (MT)",
            "Nebraska (NE)",
            "Nevada (NV)",
            "New Hampshire (NH)",
            "New Jersey (NJ)",
            "New Mexico (NM)",
            "New York (NY)",
            "North Carolina (NC)",
            "North Dakota (ND)",
            "Ohio (OH)",
            "Oklahoma (OK)",
            "Oregon (OR)",
            "Pennsylvania (PA)",
            "Rhode Island (RI)",
            "South Carolina (SC)",
            "South Dakota (SD)",
            "Tennessee (TN)",
            "Texas (TX)",
            "Utah (UT)",
            "Vermont (VT)",
            "Virginia (VA)",
            "Washington (WA)",
            "West Virginia (WV)",
            "Wisconsin (WI)",
            "Wyoming (WY)"
           ],
           "locationmode": "USA-states",
           "locations": [
            "AL",
            "AK",
            "AZ",
            "AR",
            "CA",
            "CO",
            "CT",
            "DE",
            "FL",
            "GA",
            "HI",
            "ID",
            "IL",
            "IN",
            "IA",
            "KS",
            "KY",
            "LA",
            "ME",
            "MD",
            "MA",
            "MI",
            "MN",
            "MS",
            "MO",
            "MT",
            "NE",
            "NV",
            "NH",
            "NJ",
            "NM",
            "NY",
            "NC",
            "ND",
            "OH",
            "OK",
            "OR",
            "PA",
            "RI",
            "SC",
            "SD",
            "TN",
            "TX",
            "UT",
            "VT",
            "VA",
            "WA",
            "WV",
            "WI",
            "WY"
           ],
           "name": "",
           "type": "choropleth",
           "z": [
            42.25,
            33.67741935483871,
            44.8,
            39.666666666666664,
            45.526315789473685,
            16.5,
            36,
            37,
            65.08333333333333,
            48.166666666666664,
            71.8,
            14.666666666666666,
            27.166666666666668,
            30,
            22,
            31.833333333333332,
            35.8,
            47.4,
            28.666666666666668,
            37.5,
            42.666666666666664,
            28.11111111111111,
            21,
            43.142857142857146,
            32.714285714285715,
            9.818181818181818,
            22.625,
            22.666666666666668,
            47,
            36.5,
            29.666666666666668,
            31.75,
            43.857142857142854,
            20.2,
            29,
            34.25,
            25.625,
            33.142857142857146,
            36,
            48,
            20,
            37.125,
            43.333333333333336,
            15,
            31,
            41.285714285714285,
            20.714285714285715,
            34.5,
            24.5,
            16
           ]
          }
         ],
         "name": "2016-01-03"
        },
        {
         "data": [
          {
           "coloraxis": "coloraxis",
           "customdata": [
            [
             "AL",
             "2016-01-10",
             45.75,
             0.2975,
             7.255
            ],
            [
             "AK",
             "2016-01-10",
             27.580645161290324,
             0.3954838709677419,
             8.960967741935484
            ],
            [
             "AZ",
             "2016-01-10",
             43.6,
             0.9099999999999999,
             4.42
            ],
            [
             "AR",
             "2016-01-10",
             37.333333333333336,
             0.93,
             5.093333333333334
            ],
            [
             "CA",
             "2016-01-10",
             48.78947368421053,
             2.008421052631579,
             4.017368421052631
            ],
            [
             "CO",
             "2016-01-10",
             23.166666666666668,
             0.36166666666666664,
             2.095
            ],
            [
             "CT",
             "2016-01-10",
             31,
             1.345,
             6.415
            ],
            [
             "DE",
             "2016-01-10",
             35,
             0.68,
             6.18
            ],
            [
             "FL",
             "2016-01-10",
             62.333333333333336,
             0.7158333333333333,
             7.2275
            ],
            [
             "GA",
             "2016-01-10",
             45.666666666666664,
             0.3933333333333333,
             7.491666666666667
            ],
            [
             "HI",
             "2016-01-10",
             72.8,
             0.202,
             4.7780000000000005
            ],
            [
             "ID",
             "2016-01-10",
             33,
             0.04666666666666667,
             2.64
            ],
            [
             "IL",
             "2016-01-10",
             29,
             0.44166666666666665,
             8.748333333333333
            ],
            [
             "IN",
             "2016-01-10",
             32,
             3.9375,
             6.842499999999999
            ],
            [
             "IA",
             "2016-01-10",
             21.6,
             0.368,
             9.608
            ],
            [
             "KS",
             "2016-01-10",
             29,
             0.35000000000000003,
             9.661666666666667
            ],
            [
             "KY",
             "2016-01-10",
             36.8,
             0.924,
             5.83
            ],
            [
             "LA",
             "2016-01-10",
             50.6,
             1.292,
             6.7219999999999995
            ],
            [
             "ME",
             "2016-01-10",
             22.333333333333332,
             1.54,
             5.946666666666666
            ],
            [
             "MD",
             "2016-01-10",
             37,
             0.665,
             5.505
            ],
            [
             "MA",
             "2016-01-10",
             40.333333333333336,
             0.8366666666666666,
             7.906666666666666
            ],
            [
             "MI",
             "2016-01-10",
             26.88888888888889,
             0.7433333333333333,
             6.2011111111111115
            ],
            [
             "MN",
             "2016-01-10",
             16.6,
             0.20400000000000001,
             8.872
            ],
            [
             "MS",
             "2016-01-10",
             44.857142857142854,
             0.5228571428571429,
             5.894285714285714
            ],
            [
             "MO",
             "2016-01-10",
             31,
             0.7299999999999999,
             9.370000000000001
            ],
            [
             "MT",
             "2016-01-10",
             16.09090909090909,
             0.08090909090909092,
             4.451818181818182
            ],
            [
             "NE",
             "2016-01-10",
             21.5,
             0.20625,
             8.9625
            ],
            [
             "NV",
             "2016-01-10",
             33.333333333333336,
             0.5433333333333333,
             4.365
            ],
            [
             "NH",
             "2016-01-10",
             42.5,
             0.41,
             17.38
            ],
            [
             "NJ",
             "2016-01-10",
             34.5,
             1.29,
             6.905
            ],
            [
             "NM",
             "2016-01-10",
             32.333333333333336,
             0.25,
             4.493333333333333
            ],
            [
             "NY",
             "2016-01-10",
             29,
             0.9375,
             6.2775
            ],
            [
             "NC",
             "2016-01-10",
             41.285714285714285,
             0.5757142857142857,
             6.4799999999999995
            ],
            [
             "ND",
             "2016-01-10",
             10.2,
             0.074,
             7.458
            ],
            [
             "OH",
             "2016-01-10",
             30.714285714285715,
             0.8528571428571429,
             7.014285714285714
            ],
            [
             "OK",
             "2016-01-10",
             34.5,
             0.255,
             9.532499999999999
            ],
            [
             "OR",
             "2016-01-10",
             34.125,
             0.22375,
             2.875
            ],
            [
             "PA",
             "2016-01-10",
             31,
             1.092857142857143,
             5.484285714285714
            ],
            [
             "RI",
             "2016-01-10",
             32,
             1.41,
             6.75
            ],
            [
             "SC",
             "2016-01-10",
             43.75,
             0.2775,
             7.3275
            ],
            [
             "SD",
             "2016-01-10",
             15,
             0.078,
             8.51
            ],
            [
             "TN",
             "2016-01-10",
             38.75,
             0.7025,
             4.925
            ],
            [
             "TX",
             "2016-01-10",
             45.791666666666664,
             0.52125,
             7.16125
            ],
            [
             "UT",
             "2016-01-10",
             31,
             0.29,
             2.1
            ],
            [
             "VT",
             "2016-01-10",
             25,
             0.52,
             5.81
            ],
            [
             "VA",
             "2016-01-10",
             37.57142857142857,
             0.6228571428571429,
             6.37
            ],
            [
             "WA",
             "2016-01-10",
             35,
             0.20857142857142857,
             3
            ],
            [
             "WV",
             "2016-01-10",
             32.75,
             0.4375,
             4.5625
            ],
            [
             "WI",
             "2016-01-10",
             24.25,
             0.5175000000000001,
             7.8100000000000005
            ],
            [
             "WY",
             "2016-01-10",
             20.4,
             0.252,
             4.824
            ]
           ],
           "geo": "geo",
           "hovertemplate": "<b>%{hovertext}</b><br><br>Date=%{customdata[1]}<br>Temperature (F)=%{z:.4f}<br>Precipitation (inches)=%{customdata[3]:.4f}<br>Wind Speed (mph)=%{customdata[4]:.4f}<extra></extra>",
           "hovertext": [
            "Alabama (AL)",
            "Alaska (AK)",
            "Arizona (AZ)",
            "Arkansas (AR)",
            "California (CA)",
            "Colorado (CO)",
            "Connecticut (CT)",
            "Delaware (DE)",
            "Florida (FL)",
            "Georgia (GA)",
            "Hawaii (HI)",
            "Idaho (ID)",
            "Illinois (IL)",
            "Indiana (IN)",
            "Iowa (IA)",
            "Kansas (KS)",
            "Kentucky (KY)",
            "Louisiana (LA)",
            "Maine (ME)",
            "Maryland (MD)",
            "Massachusetts (MA)",
            "Michigan (MI)",
            "Minnesota (MN)",
            "Mississippi (MS)",
            "Missouri (MO)",
            "Montana (MT)",
            "Nebraska (NE)",
            "Nevada (NV)",
            "New Hampshire (NH)",
            "New Jersey (NJ)",
            "New Mexico (NM)",
            "New York (NY)",
            "North Carolina (NC)",
            "North Dakota (ND)",
            "Ohio (OH)",
            "Oklahoma (OK)",
            "Oregon (OR)",
            "Pennsylvania (PA)",
            "Rhode Island (RI)",
            "South Carolina (SC)",
            "South Dakota (SD)",
            "Tennessee (TN)",
            "Texas (TX)",
            "Utah (UT)",
            "Vermont (VT)",
            "Virginia (VA)",
            "Washington (WA)",
            "West Virginia (WV)",
            "Wisconsin (WI)",
            "Wyoming (WY)"
           ],
           "locationmode": "USA-states",
           "locations": [
            "AL",
            "AK",
            "AZ",
            "AR",
            "CA",
            "CO",
            "CT",
            "DE",
            "FL",
            "GA",
            "HI",
            "ID",
            "IL",
            "IN",
            "IA",
            "KS",
            "KY",
            "LA",
            "ME",
            "MD",
            "MA",
            "MI",
            "MN",
            "MS",
            "MO",
            "MT",
            "NE",
            "NV",
            "NH",
            "NJ",
            "NM",
            "NY",
            "NC",
            "ND",
            "OH",
            "OK",
            "OR",
            "PA",
            "RI",
            "SC",
            "SD",
            "TN",
            "TX",
            "UT",
            "VT",
            "VA",
            "WA",
            "WV",
            "WI",
            "WY"
           ],
           "name": "",
           "type": "choropleth",
           "z": [
            45.75,
            27.580645161290324,
            43.6,
            37.333333333333336,
            48.78947368421053,
            23.166666666666668,
            31,
            35,
            62.333333333333336,
            45.666666666666664,
            72.8,
            33,
            29,
            32,
            21.6,
            29,
            36.8,
            50.6,
            22.333333333333332,
            37,
            40.333333333333336,
            26.88888888888889,
            16.6,
            44.857142857142854,
            31,
            16.09090909090909,
            21.5,
            33.333333333333336,
            42.5,
            34.5,
            32.333333333333336,
            29,
            41.285714285714285,
            10.2,
            30.714285714285715,
            34.5,
            34.125,
            31,
            32,
            43.75,
            15,
            38.75,
            45.791666666666664,
            31,
            25,
            37.57142857142857,
            35,
            32.75,
            24.25,
            20.4
           ]
          }
         ],
         "name": "2016-01-10"
        },
        {
         "data": [
          {
           "coloraxis": "coloraxis",
           "customdata": [
            [
             "AL",
             "2016-01-17",
             43.5,
             1.0550000000000002,
             4.2
            ],
            [
             "AK",
             "2016-01-17",
             25.483870967741936,
             0.5338709677419354,
             7.217096774193548
            ],
            [
             "AZ",
             "2016-01-17",
             42.8,
             0.012,
             2.42
            ],
            [
             "AR",
             "2016-01-17",
             39,
             0.01,
             3.9933333333333336
            ],
            [
             "CA",
             "2016-01-17",
             51.31578947368421,
             0.9305263157894736,
             3.836315789473684
            ],
            [
             "CO",
             "2016-01-17",
             19.333333333333332,
             0.065,
             3.266666666666667
            ],
            [
             "CT",
             "2016-01-17",
             32,
             0.36,
             7.91
            ],
            [
             "DE",
             "2016-01-17",
             34,
             0.45,
             7.75
            ],
            [
             "FL",
             "2016-01-17",
             58.583333333333336,
             1.6683333333333332,
             5.815
            ],
            [
             "GA",
             "2016-01-17",
             44.833333333333336,
             1.3333333333333333,
             5.011666666666667
            ],
            [
             "HI",
             "2016-01-17",
             71.6,
             0.01,
             2.896
            ],
            [
             "ID",
             "2016-01-17",
             31.333333333333332,
             0.27666666666666667,
             5.8566666666666665
            ],
            [
             "IL",
             "2016-01-17",
             21.333333333333332,
             0.06166666666666667,
             10.616666666666667
            ],
            [
             "IN",
             "2016-01-17",
             24.75,
             0.27,
             10.717500000000001
            ],
            [
             "IA",
             "2016-01-17",
             15.8,
             0.024,
             10.209999999999999
            ],
            [
             "KS",
             "2016-01-17",
             32,
             0.005,
             6.5633333333333335
            ],
            [
             "KY",
             "2016-01-17",
             31.4,
             0.162,
             7.662000000000001
            ],
            [
             "LA",
             "2016-01-17",
             49.2,
             0.82,
             4.064
            ],
            [
             "ME",
             "2016-01-17",
             20.333333333333332,
             0.6999999999999998,
             6.293333333333333
            ],
            [
             "MD",
             "2016-01-17",
             35,
             0.91,
             6.640000000000001
            ],
            [
             "MA",
             "2016-01-17",
             39.333333333333336,
             0.7399999999999999,
             10.18
            ],
            [
             "MI",
             "2016-01-17",
             18,
             0.4555555555555556,
             7.833333333333333
            ],
            [
             "MN",
             "2016-01-17",
             0.4,
             0.1,
             8.581999999999999
            ],
            [
             "MS",
             "2016-01-17",
             44.42857142857143,
             0.33571428571428574,
             4.167142857142857
            ],
            [
             "MO",
             "2016-01-17",
             29.857142857142858,
             0.06714285714285714,
             9.012857142857143
            ],
            [
             "MT",
             "2016-01-17",
             21.454545454545453,
             0.19545454545454544,
             6.968181818181819
            ],
            [
             "NE",
             "2016-01-17",
             24.375,
             0.03375,
             8.6525
            ],
            [
             "NV",
             "2016-01-17",
             32.166666666666664,
             0.20166666666666666,
             4.553333333333334
            ],
            [
             "NH",
             "2016-01-17",
             42.5,
             0.225,
             24.71
            ],
            [
             "NJ",
             "2016-01-17",
             34,
             0.585,
             8.715
            ],
            [
             "NM",
             "2016-01-17",
             35.666666666666664,
             0,
             5.276666666666666
            ],
            [
             "NY",
             "2016-01-17",
             27.625,
             0.45125000000000004,
             8.59375
            ],
            [
             "NC",
             "2016-01-17",
             40.714285714285715,
             1.0671428571428572,
             5.3428571428571425
            ],
            [
             "ND",
             "2016-01-17",
             3.8,
             0.17200000000000001,
             7.211999999999999
            ],
            [
             "OH",
             "2016-01-17",
             24,
             0.37285714285714283,
             11.627142857142857
            ],
            [
             "OK",
             "2016-01-17",
             37.5,
             0.0025,
             5.2775
            ],
            [
             "OR",
             "2016-01-17",
             40.375,
             2.2675,
             5.2225
            ],
            [
             "PA",
             "2016-01-17",
             29.285714285714285,
             0.4428571428571429,
             7.585714285714286
            ],
            [
             "RI",
             "2016-01-17",
             32,
             1.17,
             7.8
            ],
            [
             "SC",
             "2016-01-17",
             43.75,
             1.2475,
             5.2725
            ],
            [
             "SD",
             "2016-01-17",
             12.6,
             0.064,
             7.0920000000000005
            ],
            [
             "TN",
             "2016-01-17",
             35.875,
             0.31125,
             4.9437500000000005
            ],
            [
             "TX",
             "2016-01-17",
             47.458333333333336,
             0.10625,
             5.007083333333333
            ],
            [
             "UT",
             "2016-01-17",
             30,
             0.11,
             3.11
            ],
            [
             "VT",
             "2016-01-17",
             24,
             0.2,
             6.12
            ],
            [
             "VA",
             "2016-01-17",
             37,
             0.8214285714285714,
             6.862857142857143
            ],
            [
             "WA",
             "2016-01-17",
             37,
             1.802857142857143,
             4.26
            ],
            [
             "WV",
             "2016-01-17",
             28,
             0.2725,
             6.5424999999999995
            ],
            [
             "WI",
             "2016-01-17",
             11,
             0.06,
             8.817499999999999
            ],
            [
             "WY",
             "2016-01-17",
             22.8,
             0.124,
             10.814
            ]
           ],
           "geo": "geo",
           "hovertemplate": "<b>%{hovertext}</b><br><br>Date=%{customdata[1]}<br>Temperature (F)=%{z:.4f}<br>Precipitation (inches)=%{customdata[3]:.4f}<br>Wind Speed (mph)=%{customdata[4]:.4f}<extra></extra>",
           "hovertext": [
            "Alabama (AL)",
            "Alaska (AK)",
            "Arizona (AZ)",
            "Arkansas (AR)",
            "California (CA)",
            "Colorado (CO)",
            "Connecticut (CT)",
            "Delaware (DE)",
            "Florida (FL)",
            "Georgia (GA)",
            "Hawaii (HI)",
            "Idaho (ID)",
            "Illinois (IL)",
            "Indiana (IN)",
            "Iowa (IA)",
            "Kansas (KS)",
            "Kentucky (KY)",
            "Louisiana (LA)",
            "Maine (ME)",
            "Maryland (MD)",
            "Massachusetts (MA)",
            "Michigan (MI)",
            "Minnesota (MN)",
            "Mississippi (MS)",
            "Missouri (MO)",
            "Montana (MT)",
            "Nebraska (NE)",
            "Nevada (NV)",
            "New Hampshire (NH)",
            "New Jersey (NJ)",
            "New Mexico (NM)",
            "New York (NY)",
            "North Carolina (NC)",
            "North Dakota (ND)",
            "Ohio (OH)",
            "Oklahoma (OK)",
            "Oregon (OR)",
            "Pennsylvania (PA)",
            "Rhode Island (RI)",
            "South Carolina (SC)",
            "South Dakota (SD)",
            "Tennessee (TN)",
            "Texas (TX)",
            "Utah (UT)",
            "Vermont (VT)",
            "Virginia (VA)",
            "Washington (WA)",
            "West Virginia (WV)",
            "Wisconsin (WI)",
            "Wyoming (WY)"
           ],
           "locationmode": "USA-states",
           "locations": [
            "AL",
            "AK",
            "AZ",
            "AR",
            "CA",
            "CO",
            "CT",
            "DE",
            "FL",
            "GA",
            "HI",
            "ID",
            "IL",
            "IN",
            "IA",
            "KS",
            "KY",
            "LA",
            "ME",
            "MD",
            "MA",
            "MI",
            "MN",
            "MS",
            "MO",
            "MT",
            "NE",
            "NV",
            "NH",
            "NJ",
            "NM",
            "NY",
            "NC",
            "ND",
            "OH",
            "OK",
            "OR",
            "PA",
            "RI",
            "SC",
            "SD",
            "TN",
            "TX",
            "UT",
            "VT",
            "VA",
            "WA",
            "WV",
            "WI",
            "WY"
           ],
           "name": "",
           "type": "choropleth",
           "z": [
            43.5,
            25.483870967741936,
            42.8,
            39,
            51.31578947368421,
            19.333333333333332,
            32,
            34,
            58.583333333333336,
            44.833333333333336,
            71.6,
            31.333333333333332,
            21.333333333333332,
            24.75,
            15.8,
            32,
            31.4,
            49.2,
            20.333333333333332,
            35,
            39.333333333333336,
            18,
            0.4,
            44.42857142857143,
            29.857142857142858,
            21.454545454545453,
            24.375,
            32.166666666666664,
            42.5,
            34,
            35.666666666666664,
            27.625,
            40.714285714285715,
            3.8,
            24,
            37.5,
            40.375,
            29.285714285714285,
            32,
            43.75,
            12.6,
            35.875,
            47.458333333333336,
            30,
            24,
            37,
            37,
            28,
            11,
            22.8
           ]
          }
         ],
         "name": "2016-01-17"
        },
        {
         "data": [
          {
           "coloraxis": "coloraxis",
           "customdata": [
            [
             "AL",
             "2016-01-24",
             39.5,
             2.3075,
             5.9175
            ],
            [
             "AK",
             "2016-01-24",
             23.419354838709676,
             0.5980645161290322,
             8.036129032258065
            ],
            [
             "AZ",
             "2016-01-24",
             49.4,
             0.013999999999999999,
             3.2560000000000002
            ],
            [
             "AR",
             "2016-01-24",
             31.333333333333332,
             0.5833333333333334,
             4.216666666666667
            ],
            [
             "CA",
             "2016-01-24",
             53.473684210526315,
             1.1268421052631579,
             4.557368421052632
            ],
            [
             "CO",
             "2016-01-24",
             28.166666666666668,
             0.09000000000000001,
             3.5766666666666667
            ],
            [
             "CT",
             "2016-01-24",
             26,
             0.40499999999999997,
             13.185
            ],
            [
             "DE",
             "2016-01-24",
             25,
             1.17,
             14.62
            ],
            [
             "FL",
             "2016-01-24",
             53.166666666666664,
             0.9308333333333333,
             7.970833333333334
            ],
            [
             "GA",
             "2016-01-24",
             38.5,
             1.3483333333333334,
             6.41
            ],
            [
             "HI",
             "2016-01-24",
             72.6,
             0.158,
             3.9880000000000004
            ],
            [
             "ID",
             "2016-01-24",
             37.666666666666664,
             0.37333333333333335,
             7.243333333333333
            ],
            [
             "IL",
             "2016-01-24",
             17.5,
             0.14833333333333334,
             5.663333333333333
            ],
            [
             "IN",
             "2016-01-24",
             18.5,
             0.1975,
             7.285
            ],
            [
             "IA",
             "2016-01-24",
             16.2,
             0.066,
             5.636
            ],
            [
             "KS",
             "2016-01-24",
             27.666666666666668,
             0.13833333333333334,
             7.881666666666667
            ],
            [
             "KY",
             "2016-01-24",
             20.4,
             0.768,
             6.672
            ],
            [
             "LA",
             "2016-01-24",
             48.4,
             0.74,
             6.4719999999999995
            ],
            [
             "ME",
             "2016-01-24",
             15.333333333333334,
             0.056666666666666664,
             9.196666666666667
            ],
            [
             "MD",
             "2016-01-24",
             24,
             1.76,
             10.225
            ],
            [
             "MA",
             "2016-01-24",
             35,
             0.21999999999999997,
             15.486666666666666
            ],
            [
             "MI",
             "2016-01-24",
             18.333333333333332,
             0.12333333333333335,
             4.912222222222223
            ],
            [
             "MN",
             "2016-01-24",
             8.4,
             0.04,
             5.6240000000000006
            ],
            [
             "MS",
             "2016-01-24",
             40.714285714285715,
             1.477142857142857,
             6.88
            ],
            [
             "MO",
             "2016-01-24",
             23.428571428571427,
             0.10857142857142857,
             7.518571428571429
            ],
            [
             "MT",
             "2016-01-24",
             27.272727272727273,
             0.13636363636363635,
             5.486363636363636
            ],
            [
             "NE",
             "2016-01-24",
             25,
             0.16,
             6.3475
            ],
            [
             "NV",
             "2016-01-24",
             38.666666666666664,
             0.19333333333333333,
             4.41
            ],
            [
             "NH",
             "2016-01-24",
             40,
             0.045,
             25
            ],
            [
             "NJ",
             "2016-01-24",
             26,
             1.5299999999999998,
             13.879999999999999
            ],
            [
             "NM",
             "2016-01-24",
             42.333333333333336,
             0.0033333333333333335,
             6.486666666666667
            ],
            [
             "NY",
             "2016-01-24",
             20.5,
             0.66,
             10.4075
            ],
            [
             "NC",
             "2016-01-24",
             31.285714285714285,
             1.1771428571428573,
             6.642857142857143
            ],
            [
             "ND",
             "2016-01-24",
             14.6,
             0.074,
             7.223999999999999
            ],
            [
             "OH",
             "2016-01-24",
             16.714285714285715,
             0.060000000000000005,
             8.40857142857143
            ],
            [
             "OK",
             "2016-01-24",
             34.25,
             0.0075,
             8.8375
            ],
            [
             "OR",
             "2016-01-24",
             43.375,
             1.80875,
             4.78625
            ],
            [
             "PA",
             "2016-01-24",
             21.285714285714285,
             1.0285714285714287,
             9.667142857142858
            ],
            [
             "RI",
             "2016-01-24",
             26,
             0.45,
             13.8
            ],
            [
             "SC",
             "2016-01-24",
             35.75,
             1.2025000000000001,
             5.795
            ],
            [
             "SD",
             "2016-01-24",
             18.6,
             0.084,
             7.33
            ],
            [
             "TN",
             "2016-01-24",
             26.875,
             1.37,
             5.72625
            ],
            [
             "TX",
             "2016-01-24",
             47.75,
             0.06333333333333334,
             7.449583333333333
            ],
            [
             "UT",
             "2016-01-24",
             35,
             1,
             3.22
            ],
            [
             "VT",
             "2016-01-24",
             15,
             0.34,
             7.5
            ],
            [
             "VA",
             "2016-01-24",
             26,
             1.6857142857142857,
             9.875714285714285
            ],
            [
             "WA",
             "2016-01-24",
             39.57142857142857,
             2.165714285714286,
             4.19
            ],
            [
             "WV",
             "2016-01-24",
             16.5,
             1.4575,
             4.4975000000000005
            ],
            [
             "WI",
             "2016-01-24",
             15.5,
             0.0025,
             5.3
            ],
            [
             "WY",
             "2016-01-24",
             29.2,
             0.092,
             8.536
            ]
           ],
           "geo": "geo",
           "hovertemplate": "<b>%{hovertext}</b><br><br>Date=%{customdata[1]}<br>Temperature (F)=%{z:.4f}<br>Precipitation (inches)=%{customdata[3]:.4f}<br>Wind Speed (mph)=%{customdata[4]:.4f}<extra></extra>",
           "hovertext": [
            "Alabama (AL)",
            "Alaska (AK)",
            "Arizona (AZ)",
            "Arkansas (AR)",
            "California (CA)",
            "Colorado (CO)",
            "Connecticut (CT)",
            "Delaware (DE)",
            "Florida (FL)",
            "Georgia (GA)",
            "Hawaii (HI)",
            "Idaho (ID)",
            "Illinois (IL)",
            "Indiana (IN)",
            "Iowa (IA)",
            "Kansas (KS)",
            "Kentucky (KY)",
            "Louisiana (LA)",
            "Maine (ME)",
            "Maryland (MD)",
            "Massachusetts (MA)",
            "Michigan (MI)",
            "Minnesota (MN)",
            "Mississippi (MS)",
            "Missouri (MO)",
            "Montana (MT)",
            "Nebraska (NE)",
            "Nevada (NV)",
            "New Hampshire (NH)",
            "New Jersey (NJ)",
            "New Mexico (NM)",
            "New York (NY)",
            "North Carolina (NC)",
            "North Dakota (ND)",
            "Ohio (OH)",
            "Oklahoma (OK)",
            "Oregon (OR)",
            "Pennsylvania (PA)",
            "Rhode Island (RI)",
            "South Carolina (SC)",
            "South Dakota (SD)",
            "Tennessee (TN)",
            "Texas (TX)",
            "Utah (UT)",
            "Vermont (VT)",
            "Virginia (VA)",
            "Washington (WA)",
            "West Virginia (WV)",
            "Wisconsin (WI)",
            "Wyoming (WY)"
           ],
           "locationmode": "USA-states",
           "locations": [
            "AL",
            "AK",
            "AZ",
            "AR",
            "CA",
            "CO",
            "CT",
            "DE",
            "FL",
            "GA",
            "HI",
            "ID",
            "IL",
            "IN",
            "IA",
            "KS",
            "KY",
            "LA",
            "ME",
            "MD",
            "MA",
            "MI",
            "MN",
            "MS",
            "MO",
            "MT",
            "NE",
            "NV",
            "NH",
            "NJ",
            "NM",
            "NY",
            "NC",
            "ND",
            "OH",
            "OK",
            "OR",
            "PA",
            "RI",
            "SC",
            "SD",
            "TN",
            "TX",
            "UT",
            "VT",
            "VA",
            "WA",
            "WV",
            "WI",
            "WY"
           ],
           "name": "",
           "type": "choropleth",
           "z": [
            39.5,
            23.419354838709676,
            49.4,
            31.333333333333332,
            53.473684210526315,
            28.166666666666668,
            26,
            25,
            53.166666666666664,
            38.5,
            72.6,
            37.666666666666664,
            17.5,
            18.5,
            16.2,
            27.666666666666668,
            20.4,
            48.4,
            15.333333333333334,
            24,
            35,
            18.333333333333332,
            8.4,
            40.714285714285715,
            23.428571428571427,
            27.272727272727273,
            25,
            38.666666666666664,
            40,
            26,
            42.333333333333336,
            20.5,
            31.285714285714285,
            14.6,
            16.714285714285715,
            34.25,
            43.375,
            21.285714285714285,
            26,
            35.75,
            18.6,
            26.875,
            47.75,
            35,
            15,
            26,
            39.57142857142857,
            16.5,
            15.5,
            29.2
           ]
          }
         ],
         "name": "2016-01-24"
        },
        {
         "data": [
          {
           "coloraxis": "coloraxis",
           "customdata": [
            [
             "AL",
             "2016-01-31",
             50.25,
             0.8975,
             6.0600000000000005
            ],
            [
             "AK",
             "2016-01-31",
             30.516129032258064,
             1.0590322580645162,
             8.014193548387096
            ],
            [
             "AZ",
             "2016-01-31",
             48.8,
             0.16999999999999998,
             5.206
            ],
            [
             "AR",
             "2016-01-31",
             49.666666666666664,
             0,
             3.84
            ],
            [
             "CA",
             "2016-01-31",
             52.8421052631579,
             0.6305263157894737,
             4.457368421052632
            ],
            [
             "CO",
             "2016-01-31",
             28.833333333333332,
             0.22833333333333336,
             4.221666666666667
            ],
            [
             "CT",
             "2016-01-31",
             35,
             0,
             6.115
            ],
            [
             "DE",
             "2016-01-31",
             32,
             0,
             5.51
            ],
            [
             "FL",
             "2016-01-31",
             60.583333333333336,
             2.0325,
             4.776666666666666
            ],
            [
             "GA",
             "2016-01-31",
             49.5,
             0.19833333333333336,
             3.7383333333333333
            ],
            [
             "HI",
             "2016-01-31",
             74,
             0.12000000000000002,
             3.8899999999999997
            ],
            [
             "ID",
             "2016-01-31",
             33.333333333333336,
             0.36000000000000004,
             4.966666666666666
            ],
            [
             "IL",
             "2016-01-31",
             34.833333333333336,
             0.085,
             8.295
            ],
            [
             "IN",
             "2016-01-31",
             38,
             0.0775,
             9.5175
            ],
            [
             "IA",
             "2016-01-31",
             30.6,
             0.146,
             8.475999999999999
            ],
            [
             "KS",
             "2016-01-31",
             40.166666666666664,
             0.0016666666666666668,
             7.163333333333333
            ],
            [
             "KY",
             "2016-01-31",
             41.4,
             0.042,
             7.428
            ],
            [
             "LA",
             "2016-01-31",
             55.8,
             1.168,
             7.38
            ],
            [
             "ME",
             "2016-01-31",
             28.333333333333332,
             0.05666666666666667,
             4.736666666666667
            ],
            [
             "MD",
             "2016-01-31",
             36,
             0.02,
             5.245
            ],
            [
             "MA",
             "2016-01-31",
             43.333333333333336,
             0,
             10.403333333333334
            ],
            [
             "MI",
             "2016-01-31",
             30.22222222222222,
             0.4266666666666667,
             7.315555555555556
            ],
            [
             "MN",
             "2016-01-31",
             24.8,
             0.258,
             8.825999999999999
            ],
            [
             "MS",
             "2016-01-31",
             51,
             1.2414285714285713,
             7.840000000000001
            ],
            [
             "MO",
             "2016-01-31",
             40.57142857142857,
             0.004285714285714286,
             7.485714285714287
            ],
            [
             "MT",
             "2016-01-31",
             32,
             0.07,
             9.018181818181818
            ],
            [
             "NE",
             "2016-01-31",
             33.625,
             0.1125,
             8.45375
            ],
            [
             "NV",
             "2016-01-31",
             35.5,
             0.5650000000000001,
             4.951666666666667
            ],
            [
             "NH",
             "2016-01-31",
             46.5,
             0,
             21.345000000000002
            ],
            [
             "NJ",
             "2016-01-31",
             36.5,
             0.02,
             6.16
            ],
            [
             "NM",
             "2016-01-31",
             43.666666666666664,
             0.01,
             6.246666666666666
            ],
            [
             "NY",
             "2016-01-31",
             33.25,
             0.0625,
             8.09125
            ],
            [
             "NC",
             "2016-01-31",
             43.57142857142857,
             0.10285714285714286,
             4.672857142857143
            ],
            [
             "ND",
             "2016-01-31",
             28.6,
             0.032,
             9.166
            ],
            [
             "OH",
             "2016-01-31",
             35.57142857142857,
             0.07428571428571429,
             11.231428571428571
            ],
            [
             "OK",
             "2016-01-31",
             47.25,
             0,
             6.605
            ],
            [
             "OR",
             "2016-01-31",
             42.125,
             1.15,
             4.57375
            ],
            [
             "PA",
             "2016-01-31",
             32.714285714285715,
             0.02428571428571429,
             6.317142857142857
            ],
            [
             "RI",
             "2016-01-31",
             37,
             0,
             6.42
            ],
            [
             "SC",
             "2016-01-31",
             47.5,
             0.105,
             3.825
            ],
            [
             "SD",
             "2016-01-31",
             30.6,
             0.03200000000000001,
             8.366
            ],
            [
             "TN",
             "2016-01-31",
             42.75,
             0.47875,
             5.38125
            ],
            [
             "TX",
             "2016-01-31",
             53.541666666666664,
             0.14916666666666667,
             7.717083333333334
            ],
            [
             "UT",
             "2016-01-31",
             31,
             0.54,
             3.45
            ],
            [
             "VT",
             "2016-01-31",
             32,
             0.1,
             9.14
            ],
            [
             "VA",
             "2016-01-31",
             37.857142857142854,
             0.008571428571428572,
             5.707142857142857
            ],
            [
             "WA",
             "2016-01-31",
             39.714285714285715,
             1.6842857142857142,
             4.5928571428571425
            ],
            [
             "WV",
             "2016-01-31",
             35.25,
             0.1625,
             5.1
            ],
            [
             "WI",
             "2016-01-31",
             29,
             0.3875,
             7.135
            ],
            [
             "WY",
             "2016-01-31",
             28.4,
             0.186,
             9.132
            ]
           ],
           "geo": "geo",
           "hovertemplate": "<b>%{hovertext}</b><br><br>Date=%{customdata[1]}<br>Temperature (F)=%{z:.4f}<br>Precipitation (inches)=%{customdata[3]:.4f}<br>Wind Speed (mph)=%{customdata[4]:.4f}<extra></extra>",
           "hovertext": [
            "Alabama (AL)",
            "Alaska (AK)",
            "Arizona (AZ)",
            "Arkansas (AR)",
            "California (CA)",
            "Colorado (CO)",
            "Connecticut (CT)",
            "Delaware (DE)",
            "Florida (FL)",
            "Georgia (GA)",
            "Hawaii (HI)",
            "Idaho (ID)",
            "Illinois (IL)",
            "Indiana (IN)",
            "Iowa (IA)",
            "Kansas (KS)",
            "Kentucky (KY)",
            "Louisiana (LA)",
            "Maine (ME)",
            "Maryland (MD)",
            "Massachusetts (MA)",
            "Michigan (MI)",
            "Minnesota (MN)",
            "Mississippi (MS)",
            "Missouri (MO)",
            "Montana (MT)",
            "Nebraska (NE)",
            "Nevada (NV)",
            "New Hampshire (NH)",
            "New Jersey (NJ)",
            "New Mexico (NM)",
            "New York (NY)",
            "North Carolina (NC)",
            "North Dakota (ND)",
            "Ohio (OH)",
            "Oklahoma (OK)",
            "Oregon (OR)",
            "Pennsylvania (PA)",
            "Rhode Island (RI)",
            "South Carolina (SC)",
            "South Dakota (SD)",
            "Tennessee (TN)",
            "Texas (TX)",
            "Utah (UT)",
            "Vermont (VT)",
            "Virginia (VA)",
            "Washington (WA)",
            "West Virginia (WV)",
            "Wisconsin (WI)",
            "Wyoming (WY)"
           ],
           "locationmode": "USA-states",
           "locations": [
            "AL",
            "AK",
            "AZ",
            "AR",
            "CA",
            "CO",
            "CT",
            "DE",
            "FL",
            "GA",
            "HI",
            "ID",
            "IL",
            "IN",
            "IA",
            "KS",
            "KY",
            "LA",
            "ME",
            "MD",
            "MA",
            "MI",
            "MN",
            "MS",
            "MO",
            "MT",
            "NE",
            "NV",
            "NH",
            "NJ",
            "NM",
            "NY",
            "NC",
            "ND",
            "OH",
            "OK",
            "OR",
            "PA",
            "RI",
            "SC",
            "SD",
            "TN",
            "TX",
            "UT",
            "VT",
            "VA",
            "WA",
            "WV",
            "WI",
            "WY"
           ],
           "name": "",
           "type": "choropleth",
           "z": [
            50.25,
            30.516129032258064,
            48.8,
            49.666666666666664,
            52.8421052631579,
            28.833333333333332,
            35,
            32,
            60.583333333333336,
            49.5,
            74,
            33.333333333333336,
            34.833333333333336,
            38,
            30.6,
            40.166666666666664,
            41.4,
            55.8,
            28.333333333333332,
            36,
            43.333333333333336,
            30.22222222222222,
            24.8,
            51,
            40.57142857142857,
            32,
            33.625,
            35.5,
            46.5,
            36.5,
            43.666666666666664,
            33.25,
            43.57142857142857,
            28.6,
            35.57142857142857,
            47.25,
            42.125,
            32.714285714285715,
            37,
            47.5,
            30.6,
            42.75,
            53.541666666666664,
            31,
            32,
            37.857142857142854,
            39.714285714285715,
            35.25,
            29,
            28.4
           ]
          }
         ],
         "name": "2016-01-31"
        },
        {
         "data": [
          {
           "coloraxis": "coloraxis",
           "customdata": [
            [
             "AL",
             "2016-02-07",
             51.25,
             1.9874999999999998,
             6.555
            ],
            [
             "AK",
             "2016-02-07",
             26.451612903225808,
             0.684516129032258,
             8.720322580645162
            ],
            [
             "AZ",
             "2016-02-07",
             41.6,
             0.096,
             5.406000000000001
            ],
            [
             "AR",
             "2016-02-07",
             44.333333333333336,
             0.08,
             4.476666666666667
            ],
            [
             "CA",
             "2016-02-07",
             49.526315789473685,
             0.041578947368421056,
             4.321578947368421
            ],
            [
             "CO",
             "2016-02-07",
             17,
             0.435,
             4.923333333333333
            ],
            [
             "CT",
             "2016-02-07",
             38.5,
             1.645,
             4.805
            ],
            [
             "DE",
             "2016-02-07",
             40,
             1.24,
             5.24
            ],
            [
             "FL",
             "2016-02-07",
             63.916666666666664,
             2.0658333333333334,
             8.0975
            ],
            [
             "GA",
             "2016-02-07",
             52.666666666666664,
             2.436666666666667,
             6.383333333333333
            ],
            [
             "HI",
             "2016-02-07",
             73.4,
             0.308,
             5.5200000000000005
            ],
            [
             "ID",
             "2016-02-07",
             31,
             0.043333333333333335,
             4.416666666666667
            ],
            [
             "IL",
             "2016-02-07",
             34,
             0.45166666666666666,
             7.53
            ],
            [
             "IN",
             "2016-02-07",
             37.25,
             0.69,
             8.399999999999999
            ],
            [
             "IA",
             "2016-02-07",
             27.2,
             0.47000000000000003,
             9.412
            ],
            [
             "KS",
             "2016-02-07",
             33.333333333333336,
             0.4816666666666667,
             10.301666666666668
            ],
            [
             "KY",
             "2016-02-07",
             42.4,
             1.3820000000000001,
             6.508
            ],
            [
             "LA",
             "2016-02-07",
             53,
             0.708,
             6.037999999999999
            ],
            [
             "ME",
             "2016-02-07",
             29.666666666666668,
             1.0033333333333334,
             5.823333333333333
            ],
            [
             "MD",
             "2016-02-07",
             42,
             1.12,
             5.395
            ],
            [
             "MA",
             "2016-02-07",
             46,
             0.9266666666666667,
             8.166666666666666
            ],
            [
             "MI",
             "2016-02-07",
             29.555555555555557,
             0.8866666666666666,
             6.5633333333333335
            ],
            [
             "MN",
             "2016-02-07",
             20.2,
             0.348,
             8.424000000000001
            ],
            [
             "MS",
             "2016-02-07",
             50.285714285714285,
             1.6228571428571428,
             5.458571428571429
            ],
            [
             "MO",
             "2016-02-07",
             39,
             0.16857142857142857,
             8.317142857142857
            ],
            [
             "MT",
             "2016-02-07",
             27.272727272727273,
             0.04090909090909091,
             9.114545454545455
            ],
            [
             "NE",
             "2016-02-07",
             25.25,
             0.82875,
             11.835
            ],
            [
             "NV",
             "2016-02-07",
             36.333333333333336,
             0.051666666666666666,
             6.3500000000000005
            ],
            [
             "NH",
             "2016-02-07",
             47,
             0.69,
             24.334999999999997
            ],
            [
             "NJ",
             "2016-02-07",
             41.5,
             1.32,
             5.775
            ],
            [
             "NM",
             "2016-02-07",
             33.666666666666664,
             0.04666666666666667,
             8.936666666666666
            ],
            [
             "NY",
             "2016-02-07",
             37.375,
             0.915,
             7.04625
            ],
            [
             "NC",
             "2016-02-07",
             49.142857142857146,
             2.775714285714286,
             7.127142857142857
            ],
            [
             "ND",
             "2016-02-07",
             26,
             0.068,
             9.290000000000001
            ],
            [
             "OH",
             "2016-02-07",
             36.714285714285715,
             0.7557142857142857,
             8.694285714285714
            ],
            [
             "OK",
             "2016-02-07",
             40.5,
             0.37500000000000006,
             8.175
            ],
            [
             "OR",
             "2016-02-07",
             41.25,
             0.48125,
             4.22375
            ],
            [
             "PA",
             "2016-02-07",
             38.42857142857143,
             0.8385714285714286,
             5.2
            ],
            [
             "RI",
             "2016-02-07",
             40,
             2.15,
             6.14
            ],
            [
             "SC",
             "2016-02-07",
             51.5,
             2.0300000000000002,
             6.3374999999999995
            ],
            [
             "SD",
             "2016-02-07",
             27.2,
             0.12999999999999998,
             10.176
            ],
            [
             "TN",
             "2016-02-07",
             45.875,
             2.15625,
             4.41
            ],
            [
             "TX",
             "2016-02-07",
             48.083333333333336,
             0.02875,
             7.50125
            ],
            [
             "UT",
             "2016-02-07",
             27,
             0.11,
             4.88
            ],
            [
             "VT",
             "2016-02-07",
             34,
             0.24,
             7.04
            ],
            [
             "VA",
             "2016-02-07",
             43.42857142857143,
             1.727142857142857,
             5.781428571428571
            ],
            [
             "WA",
             "2016-02-07",
             36.285714285714285,
             0.8357142857142857,
             4.4628571428571435
            ],
            [
             "WV",
             "2016-02-07",
             41,
             0.8625,
             4.6975
            ],
            [
             "WI",
             "2016-02-07",
             27.5,
             0.545,
             6.9475
            ],
            [
             "WY",
             "2016-02-07",
             20.2,
             0.45599999999999996,
             11.78
            ]
           ],
           "geo": "geo",
           "hovertemplate": "<b>%{hovertext}</b><br><br>Date=%{customdata[1]}<br>Temperature (F)=%{z:.4f}<br>Precipitation (inches)=%{customdata[3]:.4f}<br>Wind Speed (mph)=%{customdata[4]:.4f}<extra></extra>",
           "hovertext": [
            "Alabama (AL)",
            "Alaska (AK)",
            "Arizona (AZ)",
            "Arkansas (AR)",
            "California (CA)",
            "Colorado (CO)",
            "Connecticut (CT)",
            "Delaware (DE)",
            "Florida (FL)",
            "Georgia (GA)",
            "Hawaii (HI)",
            "Idaho (ID)",
            "Illinois (IL)",
            "Indiana (IN)",
            "Iowa (IA)",
            "Kansas (KS)",
            "Kentucky (KY)",
            "Louisiana (LA)",
            "Maine (ME)",
            "Maryland (MD)",
            "Massachusetts (MA)",
            "Michigan (MI)",
            "Minnesota (MN)",
            "Mississippi (MS)",
            "Missouri (MO)",
            "Montana (MT)",
            "Nebraska (NE)",
            "Nevada (NV)",
            "New Hampshire (NH)",
            "New Jersey (NJ)",
            "New Mexico (NM)",
            "New York (NY)",
            "North Carolina (NC)",
            "North Dakota (ND)",
            "Ohio (OH)",
            "Oklahoma (OK)",
            "Oregon (OR)",
            "Pennsylvania (PA)",
            "Rhode Island (RI)",
            "South Carolina (SC)",
            "South Dakota (SD)",
            "Tennessee (TN)",
            "Texas (TX)",
            "Utah (UT)",
            "Vermont (VT)",
            "Virginia (VA)",
            "Washington (WA)",
            "West Virginia (WV)",
            "Wisconsin (WI)",
            "Wyoming (WY)"
           ],
           "locationmode": "USA-states",
           "locations": [
            "AL",
            "AK",
            "AZ",
            "AR",
            "CA",
            "CO",
            "CT",
            "DE",
            "FL",
            "GA",
            "HI",
            "ID",
            "IL",
            "IN",
            "IA",
            "KS",
            "KY",
            "LA",
            "ME",
            "MD",
            "MA",
            "MI",
            "MN",
            "MS",
            "MO",
            "MT",
            "NE",
            "NV",
            "NH",
            "NJ",
            "NM",
            "NY",
            "NC",
            "ND",
            "OH",
            "OK",
            "OR",
            "PA",
            "RI",
            "SC",
            "SD",
            "TN",
            "TX",
            "UT",
            "VT",
            "VA",
            "WA",
            "WV",
            "WI",
            "WY"
           ],
           "name": "",
           "type": "choropleth",
           "z": [
            51.25,
            26.451612903225808,
            41.6,
            44.333333333333336,
            49.526315789473685,
            17,
            38.5,
            40,
            63.916666666666664,
            52.666666666666664,
            73.4,
            31,
            34,
            37.25,
            27.2,
            33.333333333333336,
            42.4,
            53,
            29.666666666666668,
            42,
            46,
            29.555555555555557,
            20.2,
            50.285714285714285,
            39,
            27.272727272727273,
            25.25,
            36.333333333333336,
            47,
            41.5,
            33.666666666666664,
            37.375,
            49.142857142857146,
            26,
            36.714285714285715,
            40.5,
            41.25,
            38.42857142857143,
            40,
            51.5,
            27.2,
            45.875,
            48.083333333333336,
            27,
            34,
            43.42857142857143,
            36.285714285714285,
            41,
            27.5,
            20.2
           ]
          }
         ],
         "name": "2016-02-07"
        },
        {
         "data": [
          {
           "coloraxis": "coloraxis",
           "customdata": [
            [
             "AL",
             "2016-02-14",
             43,
             0.0025,
             7.9750000000000005
            ],
            [
             "AK",
             "2016-02-14",
             28.322580645161292,
             0.7383870967741936,
             7.118709677419355
            ],
            [
             "AZ",
             "2016-02-14",
             56.4,
             0,
             3.268
            ],
            [
             "AR",
             "2016-02-14",
             39.333333333333336,
             0.02666666666666667,
             5.846666666666667
            ],
            [
             "CA",
             "2016-02-14",
             59.63157894736842,
             0.004210526315789474,
             3.426315789473684
            ],
            [
             "CO",
             "2016-02-14",
             33.333333333333336,
             0,
             3.263333333333333
            ],
            [
             "CT",
             "2016-02-14",
             18.5,
             0.415,
             9.434999999999999
            ],
            [
             "DE",
             "2016-02-14",
             24,
             0.54,
             10.48
            ],
            [
             "FL",
             "2016-02-14",
             55.583333333333336,
             0.0008333333333333334,
             7.994166666666666
            ],
            [
             "GA",
             "2016-02-14",
             41.333333333333336,
             0.02666666666666667,
             7.903333333333333
            ],
            [
             "HI",
             "2016-02-14",
             71.8,
             0.028000000000000004,
             4.83
            ],
            [
             "ID",
             "2016-02-14",
             38.333333333333336,
             0.20333333333333334,
             4.3500000000000005
            ],
            [
             "IL",
             "2016-02-14",
             16.833333333333332,
             0.225,
             9.636666666666667
            ],
            [
             "IN",
             "2016-02-14",
             19.25,
             0.3075,
             9.6125
            ],
            [
             "IA",
             "2016-02-14",
             14,
             0.17,
             11.302
            ],
            [
             "KS",
             "2016-02-14",
             35.5,
             0.0016666666666666668,
             8.931666666666667
            ],
            [
             "KY",
             "2016-02-14",
             23.6,
             0.5519999999999999,
             6.9079999999999995
            ],
            [
             "LA",
             "2016-02-14",
             54.2,
             0.002,
             7.886
            ],
            [
             "ME",
             "2016-02-14",
             10,
             0.2833333333333333,
             7.796666666666667
            ],
            [
             "MD",
             "2016-02-14",
             27,
             0.28500000000000003,
             7.675
            ],
            [
             "MA",
             "2016-02-14",
             30.333333333333332,
             0.36333333333333334,
             12.006666666666668
            ],
            [
             "MI",
             "2016-02-14",
             14.666666666666666,
             0.2788888888888889,
             7.584444444444443
            ],
            [
             "MN",
             "2016-02-14",
             4.2,
             0.10200000000000001,
             10.08
            ],
            [
             "MS",
             "2016-02-14",
             45.142857142857146,
             0,
             7.027142857142857
            ],
            [
             "MO",
             "2016-02-14",
             26.285714285714285,
             0.1542857142857143,
             9.950000000000001
            ],
            [
             "MT",
             "2016-02-14",
             38,
             0.06545454545454545,
             7.724545454545455
            ],
            [
             "NE",
             "2016-02-14",
             29.75,
             0.0325,
             9.42875
            ],
            [
             "NV",
             "2016-02-14",
             42.333333333333336,
             0,
             5.138333333333333
            ],
            [
             "NH",
             "2016-02-14",
             37,
             0.105,
             19.855
            ],
            [
             "NJ",
             "2016-02-14",
             25.5,
             0.09,
             11.7
            ],
            [
             "NM",
             "2016-02-14",
             47.333333333333336,
             0,
             4.303333333333334
            ],
            [
             "NY",
             "2016-02-14",
             18.125,
             0.24125,
             9.8425
            ],
            [
             "NC",
             "2016-02-14",
             31.714285714285715,
             0.1142857142857143,
             6.757142857142857
            ],
            [
             "ND",
             "2016-02-14",
             17.6,
             0.22599999999999998,
             9.084
            ],
            [
             "OH",
             "2016-02-14",
             17.857142857142858,
             0.5114285714285715,
             9.342857142857143
            ],
            [
             "OK",
             "2016-02-14",
             42.75,
             0,
             8.395
            ],
            [
             "OR",
             "2016-02-14",
             46.375,
             0.73125,
             4.15
            ],
            [
             "PA",
             "2016-02-14",
             21.714285714285715,
             0.3514285714285714,
             9.085714285714285
            ],
            [
             "RI",
             "2016-02-14",
             18,
             0.6,
             10.28
            ],
            [
             "SC",
             "2016-02-14",
             37.25,
             0.0425,
             7.484999999999999
            ],
            [
             "SD",
             "2016-02-14",
             22.2,
             0.22799999999999998,
             10.108
            ],
            [
             "TN",
             "2016-02-14",
             30.5,
             0.21250000000000002,
             6.9075
            ],
            [
             "TX",
             "2016-02-14",
             55.291666666666664,
             0.0004166666666666667,
             7.185
            ],
            [
             "UT",
             "2016-02-14",
             32,
             0.09,
             2.17
            ],
            [
             "VT",
             "2016-02-14",
             14,
             0.14,
             6.3
            ],
            [
             "VA",
             "2016-02-14",
             27.571428571428573,
             0.13142857142857142,
             7.308571428571428
            ],
            [
             "WA",
             "2016-02-14",
             44,
             1.5357142857142858,
             5.058571428571428
            ],
            [
             "WV",
             "2016-02-14",
             19.75,
             0.3975,
             6.5625
            ],
            [
             "WI",
             "2016-02-14",
             10.75,
             0.14750000000000002,
             9.120000000000001
            ],
            [
             "WY",
             "2016-02-14",
             37,
             0.03,
             10.994
            ]
           ],
           "geo": "geo",
           "hovertemplate": "<b>%{hovertext}</b><br><br>Date=%{customdata[1]}<br>Temperature (F)=%{z:.4f}<br>Precipitation (inches)=%{customdata[3]:.4f}<br>Wind Speed (mph)=%{customdata[4]:.4f}<extra></extra>",
           "hovertext": [
            "Alabama (AL)",
            "Alaska (AK)",
            "Arizona (AZ)",
            "Arkansas (AR)",
            "California (CA)",
            "Colorado (CO)",
            "Connecticut (CT)",
            "Delaware (DE)",
            "Florida (FL)",
            "Georgia (GA)",
            "Hawaii (HI)",
            "Idaho (ID)",
            "Illinois (IL)",
            "Indiana (IN)",
            "Iowa (IA)",
            "Kansas (KS)",
            "Kentucky (KY)",
            "Louisiana (LA)",
            "Maine (ME)",
            "Maryland (MD)",
            "Massachusetts (MA)",
            "Michigan (MI)",
            "Minnesota (MN)",
            "Mississippi (MS)",
            "Missouri (MO)",
            "Montana (MT)",
            "Nebraska (NE)",
            "Nevada (NV)",
            "New Hampshire (NH)",
            "New Jersey (NJ)",
            "New Mexico (NM)",
            "New York (NY)",
            "North Carolina (NC)",
            "North Dakota (ND)",
            "Ohio (OH)",
            "Oklahoma (OK)",
            "Oregon (OR)",
            "Pennsylvania (PA)",
            "Rhode Island (RI)",
            "South Carolina (SC)",
            "South Dakota (SD)",
            "Tennessee (TN)",
            "Texas (TX)",
            "Utah (UT)",
            "Vermont (VT)",
            "Virginia (VA)",
            "Washington (WA)",
            "West Virginia (WV)",
            "Wisconsin (WI)",
            "Wyoming (WY)"
           ],
           "locationmode": "USA-states",
           "locations": [
            "AL",
            "AK",
            "AZ",
            "AR",
            "CA",
            "CO",
            "CT",
            "DE",
            "FL",
            "GA",
            "HI",
            "ID",
            "IL",
            "IN",
            "IA",
            "KS",
            "KY",
            "LA",
            "ME",
            "MD",
            "MA",
            "MI",
            "MN",
            "MS",
            "MO",
            "MT",
            "NE",
            "NV",
            "NH",
            "NJ",
            "NM",
            "NY",
            "NC",
            "ND",
            "OH",
            "OK",
            "OR",
            "PA",
            "RI",
            "SC",
            "SD",
            "TN",
            "TX",
            "UT",
            "VT",
            "VA",
            "WA",
            "WV",
            "WI",
            "WY"
           ],
           "name": "",
           "type": "choropleth",
           "z": [
            43,
            28.322580645161292,
            56.4,
            39.333333333333336,
            59.63157894736842,
            33.333333333333336,
            18.5,
            24,
            55.583333333333336,
            41.333333333333336,
            71.8,
            38.333333333333336,
            16.833333333333332,
            19.25,
            14,
            35.5,
            23.6,
            54.2,
            10,
            27,
            30.333333333333332,
            14.666666666666666,
            4.2,
            45.142857142857146,
            26.285714285714285,
            38,
            29.75,
            42.333333333333336,
            37,
            25.5,
            47.333333333333336,
            18.125,
            31.714285714285715,
            17.6,
            17.857142857142858,
            42.75,
            46.375,
            21.714285714285715,
            18,
            37.25,
            22.2,
            30.5,
            55.291666666666664,
            32,
            14,
            27.571428571428573,
            44,
            19.75,
            10.75,
            37
           ]
          }
         ],
         "name": "2016-02-14"
        },
        {
         "data": [
          {
           "coloraxis": "coloraxis",
           "customdata": [
            [
             "AL",
             "2016-02-21",
             55.5,
             1.665,
             6.2
            ],
            [
             "AK",
             "2016-02-21",
             25.096774193548388,
             0.5567741935483871,
             7.684193548387097
            ],
            [
             "AZ",
             "2016-02-21",
             60.6,
             0,
             3.998
            ],
            [
             "AR",
             "2016-02-21",
             55.666666666666664,
             0.09666666666666668,
             3.8633333333333333
            ],
            [
             "CA",
             "2016-02-21",
             56.8421052631579,
             0.5278947368421052,
             4.515263157894736
            ],
            [
             "CO",
             "2016-02-21",
             41.333333333333336,
             0.021666666666666667,
             5.16
            ],
            [
             "CT",
             "2016-02-21",
             34,
             0.97,
             7.0600000000000005
            ],
            [
             "DE",
             "2016-02-21",
             37,
             0.99,
             7.01
            ],
            [
             "FL",
             "2016-02-21",
             64.25,
             0.6708333333333334,
             6.758333333333333
            ],
            [
             "GA",
             "2016-02-21",
             52.666666666666664,
             0.6666666666666666,
             5.326666666666667
            ],
            [
             "HI",
             "2016-02-21",
             73.4,
             0.834,
             10.680000000000001
            ],
            [
             "ID",
             "2016-02-21",
             44.666666666666664,
             0.13999999999999999,
             7.316666666666666
            ],
            [
             "IL",
             "2016-02-21",
             37.833333333333336,
             0.016666666666666666,
             7.473333333333334
            ],
            [
             "IN",
             "2016-02-21",
             38.5,
             0.1,
             8.55
            ],
            [
             "IA",
             "2016-02-21",
             35.4,
             0.11000000000000001,
             8.744
            ],
            [
             "KS",
             "2016-02-21",
             50.5,
             0.0033333333333333335,
             8.924999999999999
            ],
            [
             "KY",
             "2016-02-21",
             44,
             1.49,
             5.58
            ],
            [
             "LA",
             "2016-02-21",
             61.4,
             0.718,
             5.742
            ],
            [
             "ME",
             "2016-02-21",
             26.666666666666668,
             1.2566666666666666,
             7.1000000000000005
            ],
            [
             "MD",
             "2016-02-21",
             39.5,
             1.335,
             5.29
            ],
            [
             "MA",
             "2016-02-21",
             42,
             0.62,
             10.553333333333333
            ],
            [
             "MI",
             "2016-02-21",
             28,
             0.20222222222222222,
             7.214444444444445
            ],
            [
             "MN",
             "2016-02-21",
             25.6,
             0.22600000000000003,
             8.022
            ],
            [
             "MS",
             "2016-02-21",
             57,
             1.0671428571428572,
             6.2
            ],
            [
             "MO",
             "2016-02-21",
             47.57142857142857,
             0.26857142857142857,
             7.764285714285714
            ],
            [
             "MT",
             "2016-02-21",
             38.81818181818182,
             0.09545454545454546,
             8.117272727272727
            ],
            [
             "NE",
             "2016-02-21",
             43.125,
             0.055,
             8.495000000000001
            ],
            [
             "NV",
             "2016-02-21",
             45.5,
             0.29833333333333334,
             5.646666666666667
            ],
            [
             "NH",
             "2016-02-21",
             44,
             0.555,
             24.410000000000004
            ],
            [
             "NJ",
             "2016-02-21",
             38.5,
             1.4649999999999999,
             6.85
            ],
            [
             "NM",
             "2016-02-21",
             53.333333333333336,
             0,
             5.646666666666667
            ],
            [
             "NY",
             "2016-02-21",
             30.125,
             1.35125,
             7.7875000000000005
            ],
            [
             "NC",
             "2016-02-21",
             45.142857142857146,
             1.0585714285714285,
             5.9628571428571435
            ],
            [
             "ND",
             "2016-02-21",
             31.8,
             0.08399999999999999,
             7.882
            ],
            [
             "OH",
             "2016-02-21",
             35.142857142857146,
             0.31714285714285717,
             8.804285714285713
            ],
            [
             "OK",
             "2016-02-21",
             56,
             0,
             9.075
            ],
            [
             "OR",
             "2016-02-21",
             45.375,
             0.8325,
             4.94375
            ],
            [
             "PA",
             "2016-02-21",
             34.57142857142857,
             1.3257142857142858,
             6.474285714285714
            ],
            [
             "RI",
             "2016-02-21",
             34,
             0.89,
             7.44
            ],
            [
             "SC",
             "2016-02-21",
             48.75,
             0.7675,
             5.455
            ],
            [
             "SD",
             "2016-02-21",
             37.2,
             0.126,
             8.912
            ],
            [
             "TN",
             "2016-02-21",
             47,
             1.9024999999999999,
             4.9925
            ],
            [
             "TX",
             "2016-02-21",
             62.75,
             0.13375,
             8.136666666666667
            ],
            [
             "UT",
             "2016-02-21",
             45,
             0.31,
             7.12
            ],
            [
             "VT",
             "2016-02-21",
             27,
             0.67,
             7.94
            ],
            [
             "VA",
             "2016-02-21",
             41.42857142857143,
             1.7328571428571429,
             5.737142857142857
            ],
            [
             "WA",
             "2016-02-21",
             44.714285714285715,
             1.55,
             6.277142857142857
            ],
            [
             "WV",
             "2016-02-21",
             40.75,
             1.98,
             5.3225
            ],
            [
             "WI",
             "2016-02-21",
             30,
             0.035,
             7.115
            ],
            [
             "WY",
             "2016-02-21",
             39.2,
             0.146,
             12.654
            ]
           ],
           "geo": "geo",
           "hovertemplate": "<b>%{hovertext}</b><br><br>Date=%{customdata[1]}<br>Temperature (F)=%{z:.4f}<br>Precipitation (inches)=%{customdata[3]:.4f}<br>Wind Speed (mph)=%{customdata[4]:.4f}<extra></extra>",
           "hovertext": [
            "Alabama (AL)",
            "Alaska (AK)",
            "Arizona (AZ)",
            "Arkansas (AR)",
            "California (CA)",
            "Colorado (CO)",
            "Connecticut (CT)",
            "Delaware (DE)",
            "Florida (FL)",
            "Georgia (GA)",
            "Hawaii (HI)",
            "Idaho (ID)",
            "Illinois (IL)",
            "Indiana (IN)",
            "Iowa (IA)",
            "Kansas (KS)",
            "Kentucky (KY)",
            "Louisiana (LA)",
            "Maine (ME)",
            "Maryland (MD)",
            "Massachusetts (MA)",
            "Michigan (MI)",
            "Minnesota (MN)",
            "Mississippi (MS)",
            "Missouri (MO)",
            "Montana (MT)",
            "Nebraska (NE)",
            "Nevada (NV)",
            "New Hampshire (NH)",
            "New Jersey (NJ)",
            "New Mexico (NM)",
            "New York (NY)",
            "North Carolina (NC)",
            "North Dakota (ND)",
            "Ohio (OH)",
            "Oklahoma (OK)",
            "Oregon (OR)",
            "Pennsylvania (PA)",
            "Rhode Island (RI)",
            "South Carolina (SC)",
            "South Dakota (SD)",
            "Tennessee (TN)",
            "Texas (TX)",
            "Utah (UT)",
            "Vermont (VT)",
            "Virginia (VA)",
            "Washington (WA)",
            "West Virginia (WV)",
            "Wisconsin (WI)",
            "Wyoming (WY)"
           ],
           "locationmode": "USA-states",
           "locations": [
            "AL",
            "AK",
            "AZ",
            "AR",
            "CA",
            "CO",
            "CT",
            "DE",
            "FL",
            "GA",
            "HI",
            "ID",
            "IL",
            "IN",
            "IA",
            "KS",
            "KY",
            "LA",
            "ME",
            "MD",
            "MA",
            "MI",
            "MN",
            "MS",
            "MO",
            "MT",
            "NE",
            "NV",
            "NH",
            "NJ",
            "NM",
            "NY",
            "NC",
            "ND",
            "OH",
            "OK",
            "OR",
            "PA",
            "RI",
            "SC",
            "SD",
            "TN",
            "TX",
            "UT",
            "VT",
            "VA",
            "WA",
            "WV",
            "WI",
            "WY"
           ],
           "name": "",
           "type": "choropleth",
           "z": [
            55.5,
            25.096774193548388,
            60.6,
            55.666666666666664,
            56.8421052631579,
            41.333333333333336,
            34,
            37,
            64.25,
            52.666666666666664,
            73.4,
            44.666666666666664,
            37.833333333333336,
            38.5,
            35.4,
            50.5,
            44,
            61.4,
            26.666666666666668,
            39.5,
            42,
            28,
            25.6,
            57,
            47.57142857142857,
            38.81818181818182,
            43.125,
            45.5,
            44,
            38.5,
            53.333333333333336,
            30.125,
            45.142857142857146,
            31.8,
            35.142857142857146,
            56,
            45.375,
            34.57142857142857,
            34,
            48.75,
            37.2,
            47,
            62.75,
            45,
            27,
            41.42857142857143,
            44.714285714285715,
            40.75,
            30,
            39.2
           ]
          }
         ],
         "name": "2016-02-21"
        },
        {
         "data": [
          {
           "coloraxis": "coloraxis",
           "customdata": [
            [
             "AL",
             "2016-02-28",
             53.25,
             1.9475,
             7.5
            ],
            [
             "AK",
             "2016-02-28",
             34.54838709677419,
             1.07,
             9.024193548387096
            ],
            [
             "AZ",
             "2016-02-28",
             56.8,
             0,
             4.534
            ],
            [
             "AR",
             "2016-02-28",
             46.333333333333336,
             1.4366666666666668,
             4.863333333333333
            ],
            [
             "CA",
             "2016-02-28",
             58.31578947368421,
             0.024736842105263158,
             3.1494736842105264
            ],
            [
             "CO",
             "2016-02-28",
             35.333333333333336,
             0.043333333333333335,
             3.9466666666666668
            ],
            [
             "CT",
             "2016-02-28",
             40,
             1.81,
             10.425
            ],
            [
             "DE",
             "2016-02-28",
             42,
             1.66,
             10.74
            ],
            [
             "FL",
             "2016-02-28",
             62.5,
             0.8033333333333333,
             7.895833333333333
            ],
            [
             "GA",
             "2016-02-28",
             54,
             1.335,
             7.3566666666666665
            ],
            [
             "HI",
             "2016-02-28",
             72.6,
             0.13599999999999998,
             3.9019999999999997
            ],
            [
             "ID",
             "2016-02-28",
             41.666666666666664,
             0.12,
             4.396666666666667
            ],
            [
             "IL",
             "2016-02-28",
             38.666666666666664,
             0.09999999999999999,
             10.433333333333332
            ],
            [
             "IN",
             "2016-02-28",
             38,
             1.4475,
             11.89
            ],
            [
             "IA",
             "2016-02-28",
             37.8,
             0.008,
             9.018
            ],
            [
             "KS",
             "2016-02-28",
             42.666666666666664,
             0.0033333333333333335,
             9.413333333333334
            ],
            [
             "KY",
             "2016-02-28",
             43.4,
             1.208,
             8.78
            ],
            [
             "LA",
             "2016-02-28",
             55.2,
             1.3239999999999998,
             6.081999999999999
            ],
            [
             "ME",
             "2016-02-28",
             27.666666666666668,
             1.4466666666666665,
             7.366666666666667
            ],
            [
             "MD",
             "2016-02-28",
             45,
             1.9300000000000002,
             9.29
            ],
            [
             "MA",
             "2016-02-28",
             45,
             1.23,
             11.966666666666667
            ],
            [
             "MI",
             "2016-02-28",
             30.77777777777778,
             0.7244444444444444,
             9.177777777777777
            ],
            [
             "MN",
             "2016-02-28",
             29.8,
             0.11000000000000001,
             6.986
            ],
            [
             "MS",
             "2016-02-28",
             51.57142857142857,
             1.8128571428571427,
             6.0928571428571425
            ],
            [
             "MO",
             "2016-02-28",
             41.857142857142854,
             0.42714285714285716,
             10.364285714285714
            ],
            [
             "MT",
             "2016-02-28",
             36.36363636363637,
             0.02,
             7.238181818181818
            ],
            [
             "NE",
             "2016-02-28",
             39,
             0.00625,
             9.4675
            ],
            [
             "NV",
             "2016-02-28",
             46.666666666666664,
             0,
             3.85
            ],
            [
             "NH",
             "2016-02-28",
             46.5,
             0.84,
             25.025
            ],
            [
             "NJ",
             "2016-02-28",
             42,
             1.385,
             11
            ],
            [
             "NM",
             "2016-02-28",
             45,
             0.15666666666666668,
             5.3500000000000005
            ],
            [
             "NY",
             "2016-02-28",
             34.375,
             1.46625,
             10.3925
            ],
            [
             "NC",
             "2016-02-28",
             48.42857142857143,
             1.7085714285714286,
             8.421428571428573
            ],
            [
             "ND",
             "2016-02-28",
             33.8,
             0.012,
             8.068
            ],
            [
             "OH",
             "2016-02-28",
             37.42857142857143,
             1.4657142857142857,
             11.055714285714286
            ],
            [
             "OK",
             "2016-02-28",
             46.25,
             0.2925,
             9.7075
            ],
            [
             "OR",
             "2016-02-28",
             44.875,
             0.33125,
             3.37125
            ],
            [
             "PA",
             "2016-02-28",
             39.142857142857146,
             1.8571428571428572,
             9.302857142857144
            ],
            [
             "RI",
             "2016-02-28",
             40,
             1.68,
             9.61
            ],
            [
             "SC",
             "2016-02-28",
             51.5,
             1.6425,
             8.155
            ],
            [
             "SD",
             "2016-02-28",
             36.2,
             0.06000000000000001,
             8.1
            ],
            [
             "TN",
             "2016-02-28",
             46,
             1.9124999999999999,
             7.2475
            ],
            [
             "TX",
             "2016-02-28",
             54.125,
             0.8854166666666666,
             8.03
            ],
            [
             "UT",
             "2016-02-28",
             43,
             0.01,
             2.45
            ],
            [
             "VT",
             "2016-02-28",
             27,
             2.09,
             6.21
            ],
            [
             "VA",
             "2016-02-28",
             44.857142857142854,
             1.2585714285714287,
             9.105714285714287
            ],
            [
             "WA",
             "2016-02-28",
             44,
             0.47428571428571425,
             4.267142857142857
            ],
            [
             "WV",
             "2016-02-28",
             42,
             0.5125,
             7.585
            ],
            [
             "WI",
             "2016-02-28",
             35,
             0.04,
             8.375
            ],
            [
             "WY",
             "2016-02-28",
             36,
             0,
             8.324
            ]
           ],
           "geo": "geo",
           "hovertemplate": "<b>%{hovertext}</b><br><br>Date=%{customdata[1]}<br>Temperature (F)=%{z:.4f}<br>Precipitation (inches)=%{customdata[3]:.4f}<br>Wind Speed (mph)=%{customdata[4]:.4f}<extra></extra>",
           "hovertext": [
            "Alabama (AL)",
            "Alaska (AK)",
            "Arizona (AZ)",
            "Arkansas (AR)",
            "California (CA)",
            "Colorado (CO)",
            "Connecticut (CT)",
            "Delaware (DE)",
            "Florida (FL)",
            "Georgia (GA)",
            "Hawaii (HI)",
            "Idaho (ID)",
            "Illinois (IL)",
            "Indiana (IN)",
            "Iowa (IA)",
            "Kansas (KS)",
            "Kentucky (KY)",
            "Louisiana (LA)",
            "Maine (ME)",
            "Maryland (MD)",
            "Massachusetts (MA)",
            "Michigan (MI)",
            "Minnesota (MN)",
            "Mississippi (MS)",
            "Missouri (MO)",
            "Montana (MT)",
            "Nebraska (NE)",
            "Nevada (NV)",
            "New Hampshire (NH)",
            "New Jersey (NJ)",
            "New Mexico (NM)",
            "New York (NY)",
            "North Carolina (NC)",
            "North Dakota (ND)",
            "Ohio (OH)",
            "Oklahoma (OK)",
            "Oregon (OR)",
            "Pennsylvania (PA)",
            "Rhode Island (RI)",
            "South Carolina (SC)",
            "South Dakota (SD)",
            "Tennessee (TN)",
            "Texas (TX)",
            "Utah (UT)",
            "Vermont (VT)",
            "Virginia (VA)",
            "Washington (WA)",
            "West Virginia (WV)",
            "Wisconsin (WI)",
            "Wyoming (WY)"
           ],
           "locationmode": "USA-states",
           "locations": [
            "AL",
            "AK",
            "AZ",
            "AR",
            "CA",
            "CO",
            "CT",
            "DE",
            "FL",
            "GA",
            "HI",
            "ID",
            "IL",
            "IN",
            "IA",
            "KS",
            "KY",
            "LA",
            "ME",
            "MD",
            "MA",
            "MI",
            "MN",
            "MS",
            "MO",
            "MT",
            "NE",
            "NV",
            "NH",
            "NJ",
            "NM",
            "NY",
            "NC",
            "ND",
            "OH",
            "OK",
            "OR",
            "PA",
            "RI",
            "SC",
            "SD",
            "TN",
            "TX",
            "UT",
            "VT",
            "VA",
            "WA",
            "WV",
            "WI",
            "WY"
           ],
           "name": "",
           "type": "choropleth",
           "z": [
            53.25,
            34.54838709677419,
            56.8,
            46.333333333333336,
            58.31578947368421,
            35.333333333333336,
            40,
            42,
            62.5,
            54,
            72.6,
            41.666666666666664,
            38.666666666666664,
            38,
            37.8,
            42.666666666666664,
            43.4,
            55.2,
            27.666666666666668,
            45,
            45,
            30.77777777777778,
            29.8,
            51.57142857142857,
            41.857142857142854,
            36.36363636363637,
            39,
            46.666666666666664,
            46.5,
            42,
            45,
            34.375,
            48.42857142857143,
            33.8,
            37.42857142857143,
            46.25,
            44.875,
            39.142857142857146,
            40,
            51.5,
            36.2,
            46,
            54.125,
            43,
            27,
            44.857142857142854,
            44,
            42,
            35,
            36
           ]
          }
         ],
         "name": "2016-02-28"
        },
        {
         "data": [
          {
           "coloraxis": "coloraxis",
           "customdata": [
            [
             "AL",
             "2016-03-06",
             52,
             1.065,
             4.525
            ],
            [
             "AK",
             "2016-03-06",
             31.303030303030305,
             0.18393939393939393,
             6.8603030303030295
            ],
            [
             "AZ",
             "2016-03-06",
             63.4,
             0.01,
             4.858
            ],
            [
             "AR",
             "2016-03-06",
             53,
             0.65,
             3.7300000000000004
            ],
            [
             "CA",
             "2016-03-06",
             59.05263157894737,
             1.3210526315789475,
             5.388947368421053
            ],
            [
             "CO",
             "2016-03-06",
             44.333333333333336,
             0.006666666666666667,
             5.058333333333334
            ],
            [
             "CT",
             "2016-03-06",
             33.5,
             0.44000000000000006,
             5.895
            ],
            [
             "DE",
             "2016-03-06",
             38,
             0.33,
             6.91
            ],
            [
             "FL",
             "2016-03-06",
             65.33333333333333,
             0.09666666666666666,
             4.915
            ],
            [
             "GA",
             "2016-03-06",
             51.833333333333336,
             1.075,
             5.4433333333333325
            ],
            [
             "HI",
             "2016-03-06",
             73.4,
             0.032,
             4.428
            ],
            [
             "ID",
             "2016-03-06",
             48,
             0.4766666666666666,
             6.136666666666667
            ],
            [
             "IL",
             "2016-03-06",
             33.666666666666664,
             0.15333333333333335,
             7.178333333333334
            ],
            [
             "IN",
             "2016-03-06",
             34,
             0.5675,
             4.95
            ],
            [
             "IA",
             "2016-03-06",
             31.2,
             0.11600000000000002,
             8.778
            ],
            [
             "KS",
             "2016-03-06",
             49.333333333333336,
             0.0016666666666666668,
             9.185
            ],
            [
             "KY",
             "2016-03-06",
             38.2,
             0.612,
             3.942
            ],
            [
             "LA",
             "2016-03-06",
             62.2,
             0.094,
             4.294
            ],
            [
             "ME",
             "2016-03-06",
             20.666666666666668,
             0.8466666666666667,
             5.696666666666666
            ],
            [
             "MD",
             "2016-03-06",
             39,
             0.445,
             5.515000000000001
            ],
            [
             "MA",
             "2016-03-06",
             40.666666666666664,
             0.32666666666666666,
             6.8066666666666675
            ],
            [
             "MI",
             "2016-03-06",
             21.444444444444443,
             0.5044444444444445,
             4.288888888888889
            ],
            [
             "MN",
             "2016-03-06",
             23.6,
             0.136,
             5.8420000000000005
            ],
            [
             "MS",
             "2016-03-06",
             54.42857142857143,
             0.7857142857142857,
             3.415714285714286
            ],
            [
             "MO",
             "2016-03-06",
             44.285714285714285,
             0.15857142857142859,
             7.869999999999999
            ],
            [
             "MT",
             "2016-03-06",
             41.27272727272727,
             0.09090909090909091,
             6.84
            ],
            [
             "NE",
             "2016-03-06",
             42.625,
             0.005,
             7.3575
            ],
            [
             "NV",
             "2016-03-06",
             52.333333333333336,
             0.135,
             5.896666666666667
            ],
            [
             "NH",
             "2016-03-06",
             43.5,
             0.395,
             33.315
            ],
            [
             "NJ",
             "2016-03-06",
             37,
             0.41,
             6.53
            ],
            [
             "NM",
             "2016-03-06",
             55,
             0,
             4.883333333333334
            ],
            [
             "NY",
             "2016-03-06",
             28.875,
             0.1925,
             5.94875
            ],
            [
             "NC",
             "2016-03-06",
             46.142857142857146,
             0.7171428571428571,
             5.747142857142857
            ],
            [
             "ND",
             "2016-03-06",
             32.6,
             0.052000000000000005,
             5.95
            ],
            [
             "OH",
             "2016-03-06",
             31,
             0.62,
             4.975714285714285
            ],
            [
             "OK",
             "2016-03-06",
             53.5,
             0.09749999999999999,
             10.5325
            ],
            [
             "OR",
             "2016-03-06",
             49.875,
             1.0625,
             6.5600000000000005
            ],
            [
             "PA",
             "2016-03-06",
             34.714285714285715,
             0.18,
             5.688571428571429
            ],
            [
             "RI",
             "2016-03-06",
             34,
             0.29,
             6.58
            ],
            [
             "SC",
             "2016-03-06",
             50.5,
             0.5675,
             5.4625
            ],
            [
             "SD",
             "2016-03-06",
             34.4,
             0.03,
             6.5280000000000005
            ],
            [
             "TN",
             "2016-03-06",
             44,
             0.5975,
             3.2925
            ],
            [
             "TX",
             "2016-03-06",
             62.5,
             0.0004166666666666667,
             8.002916666666666
            ],
            [
             "UT",
             "2016-03-06",
             52,
             0.6,
             5.63
            ],
            [
             "VT",
             "2016-03-06",
             21,
             0.25,
             4.95
            ],
            [
             "VA",
             "2016-03-06",
             40.857142857142854,
             0.45142857142857146,
             5.915714285714286
            ],
            [
             "WA",
             "2016-03-06",
             46.714285714285715,
             1.9042857142857144,
             5.557142857142857
            ],
            [
             "WV",
             "2016-03-06",
             36.5,
             0.8674999999999999,
             4.31
            ],
            [
             "WI",
             "2016-03-06",
             26.5,
             0.2775,
             6.585
            ],
            [
             "WY",
             "2016-03-06",
             42.4,
             0,
             9.512
            ]
           ],
           "geo": "geo",
           "hovertemplate": "<b>%{hovertext}</b><br><br>Date=%{customdata[1]}<br>Temperature (F)=%{z:.4f}<br>Precipitation (inches)=%{customdata[3]:.4f}<br>Wind Speed (mph)=%{customdata[4]:.4f}<extra></extra>",
           "hovertext": [
            "Alabama (AL)",
            "Alaska (AK)",
            "Arizona (AZ)",
            "Arkansas (AR)",
            "California (CA)",
            "Colorado (CO)",
            "Connecticut (CT)",
            "Delaware (DE)",
            "Florida (FL)",
            "Georgia (GA)",
            "Hawaii (HI)",
            "Idaho (ID)",
            "Illinois (IL)",
            "Indiana (IN)",
            "Iowa (IA)",
            "Kansas (KS)",
            "Kentucky (KY)",
            "Louisiana (LA)",
            "Maine (ME)",
            "Maryland (MD)",
            "Massachusetts (MA)",
            "Michigan (MI)",
            "Minnesota (MN)",
            "Mississippi (MS)",
            "Missouri (MO)",
            "Montana (MT)",
            "Nebraska (NE)",
            "Nevada (NV)",
            "New Hampshire (NH)",
            "New Jersey (NJ)",
            "New Mexico (NM)",
            "New York (NY)",
            "North Carolina (NC)",
            "North Dakota (ND)",
            "Ohio (OH)",
            "Oklahoma (OK)",
            "Oregon (OR)",
            "Pennsylvania (PA)",
            "Rhode Island (RI)",
            "South Carolina (SC)",
            "South Dakota (SD)",
            "Tennessee (TN)",
            "Texas (TX)",
            "Utah (UT)",
            "Vermont (VT)",
            "Virginia (VA)",
            "Washington (WA)",
            "West Virginia (WV)",
            "Wisconsin (WI)",
            "Wyoming (WY)"
           ],
           "locationmode": "USA-states",
           "locations": [
            "AL",
            "AK",
            "AZ",
            "AR",
            "CA",
            "CO",
            "CT",
            "DE",
            "FL",
            "GA",
            "HI",
            "ID",
            "IL",
            "IN",
            "IA",
            "KS",
            "KY",
            "LA",
            "ME",
            "MD",
            "MA",
            "MI",
            "MN",
            "MS",
            "MO",
            "MT",
            "NE",
            "NV",
            "NH",
            "NJ",
            "NM",
            "NY",
            "NC",
            "ND",
            "OH",
            "OK",
            "OR",
            "PA",
            "RI",
            "SC",
            "SD",
            "TN",
            "TX",
            "UT",
            "VT",
            "VA",
            "WA",
            "WV",
            "WI",
            "WY"
           ],
           "name": "",
           "type": "choropleth",
           "z": [
            52,
            31.303030303030305,
            63.4,
            53,
            59.05263157894737,
            44.333333333333336,
            33.5,
            38,
            65.33333333333333,
            51.833333333333336,
            73.4,
            48,
            33.666666666666664,
            34,
            31.2,
            49.333333333333336,
            38.2,
            62.2,
            20.666666666666668,
            39,
            40.666666666666664,
            21.444444444444443,
            23.6,
            54.42857142857143,
            44.285714285714285,
            41.27272727272727,
            42.625,
            52.333333333333336,
            43.5,
            37,
            55,
            28.875,
            46.142857142857146,
            32.6,
            31,
            53.5,
            49.875,
            34.714285714285715,
            34,
            50.5,
            34.4,
            44,
            62.5,
            52,
            21,
            40.857142857142854,
            46.714285714285715,
            36.5,
            26.5,
            42.4
           ]
          }
         ],
         "name": "2016-03-06"
        },
        {
         "data": [
          {
           "coloraxis": "coloraxis",
           "customdata": [
            [
             "AL",
             "2016-03-13",
             67.25,
             1.79,
             8.6575
            ],
            [
             "AK",
             "2016-03-13",
             31.03125,
             0.275,
             5.8703125
            ],
            [
             "AZ",
             "2016-03-13",
             55.4,
             0.082,
             5.212000000000001
            ],
            [
             "AR",
             "2016-03-13",
             58.666666666666664,
             3.8333333333333335,
             4.006666666666667
            ],
            [
             "CA",
             "2016-03-13",
             54.578947368421055,
             1.743157894736842,
             6.114736842105263
            ],
            [
             "CO",
             "2016-03-13",
             42.833333333333336,
             0.11,
             4.328333333333333
            ],
            [
             "CT",
             "2016-03-13",
             50.5,
             0.05,
             5.34
            ],
            [
             "DE",
             "2016-03-13",
             55,
             0.16,
             4.87
            ],
            [
             "FL",
             "2016-03-13",
             71.58333333333333,
             0.18666666666666668,
             10.4025
            ],
            [
             "GA",
             "2016-03-13",
             65.66666666666667,
             0.04833333333333333,
             5.416666666666667
            ],
            [
             "HI",
             "2016-03-13",
             73.6,
             0.72,
             11.842
            ],
            [
             "ID",
             "2016-03-13",
             46.333333333333336,
             0.4533333333333333,
             5.646666666666666
            ],
            [
             "IL",
             "2016-03-13",
             53,
             0.7933333333333333,
             7.28
            ],
            [
             "IN",
             "2016-03-13",
             54,
             1.545,
             7.9275
            ],
            [
             "IA",
             "2016-03-13",
             51,
             0.374,
             8.18
            ],
            [
             "KS",
             "2016-03-13",
             54.333333333333336,
             0.5083333333333333,
             7.695
            ],
            [
             "KY",
             "2016-03-13",
             60.6,
             1.8960000000000001,
             5.7
            ],
            [
             "LA",
             "2016-03-13",
             69,
             5.196,
             10.268
            ],
            [
             "ME",
             "2016-03-13",
             38,
             0.6066666666666667,
             6.676666666666667
            ],
            [
             "MD",
             "2016-03-13",
             56.5,
             0.29500000000000004,
             5.574999999999999
            ],
            [
             "MA",
             "2016-03-13",
             52.333333333333336,
             0.27666666666666667,
             8.090000000000002
            ],
            [
             "MI",
             "2016-03-13",
             46.333333333333336,
             0.6122222222222222,
             5.891111111111111
            ],
            [
             "MN",
             "2016-03-13",
             43.6,
             0.11000000000000001,
             7.616
            ],
            [
             "MS",
             "2016-03-13",
             66.28571428571429,
             6.412857142857143,
             10.191428571428572
            ],
            [
             "MO",
             "2016-03-13",
             57.142857142857146,
             1.127142857142857,
             7.8428571428571425
            ],
            [
             "MT",
             "2016-03-13",
             42.45454545454545,
             0.1390909090909091,
             7.29909090909091
            ],
            [
             "NE",
             "2016-03-13",
             50.625,
             0.23,
             8.0375
            ],
            [
             "NV",
             "2016-03-13",
             47.5,
             0.105,
             7.158333333333334
            ],
            [
             "NH",
             "2016-03-13",
             47,
             0.52,
             4.61
            ],
            [
             "NJ",
             "2016-03-13",
             55,
             0.035,
             5.744999999999999
            ],
            [
             "NM",
             "2016-03-13",
             52.333333333333336,
             0,
             6.636666666666667
            ],
            [
             "NY",
             "2016-03-13",
             49,
             0.39625,
             6
            ],
            [
             "NC",
             "2016-03-13",
             63.142857142857146,
             0.2557142857142857,
             6.347142857142857
            ],
            [
             "ND",
             "2016-03-13",
             42.4,
             0.022,
             8.212
            ],
            [
             "OH",
             "2016-03-13",
             52,
             1.4285714285714286,
             7.1899999999999995
            ],
            [
             "OK",
             "2016-03-13",
             57.5,
             1.005,
             7.8125
            ],
            [
             "OR",
             "2016-03-13",
             44.5,
             1.8525,
             6.9375
            ],
            [
             "PA",
             "2016-03-13",
             53.42857142857143,
             0.4471428571428571,
             4.678571428571429
            ],
            [
             "RI",
             "2016-03-13",
             50,
             0.09,
             5.01
            ],
            [
             "SC",
             "2016-03-13",
             65,
             0.1725,
             5.58
            ],
            [
             "SD",
             "2016-03-13",
             48,
             0.194,
             8.925999999999998
            ],
            [
             "TN",
             "2016-03-13",
             62.5,
             2.4175,
             4.8925
            ],
            [
             "TX",
             "2016-03-13",
             63.916666666666664,
             2.3075,
             9.089166666666667
            ],
            [
             "UT",
             "2016-03-13",
             49,
             0.05,
             5.08
            ],
            [
             "VT",
             "2016-03-13",
             43,
             0.49,
             7
            ],
            [
             "VA",
             "2016-03-13",
             60.42857142857143,
             0.3,
             5.824285714285714
            ],
            [
             "WA",
             "2016-03-13",
             42.57142857142857,
             2.282857142857143,
             6.821428571428571
            ],
            [
             "WV",
             "2016-03-13",
             57,
             0.4625,
             3.285
            ],
            [
             "WI",
             "2016-03-13",
             48.25,
             0.3325,
             6.327500000000001
            ],
            [
             "WY",
             "2016-03-13",
             42,
             0.266,
             7.65
            ]
           ],
           "geo": "geo",
           "hovertemplate": "<b>%{hovertext}</b><br><br>Date=%{customdata[1]}<br>Temperature (F)=%{z:.4f}<br>Precipitation (inches)=%{customdata[3]:.4f}<br>Wind Speed (mph)=%{customdata[4]:.4f}<extra></extra>",
           "hovertext": [
            "Alabama (AL)",
            "Alaska (AK)",
            "Arizona (AZ)",
            "Arkansas (AR)",
            "California (CA)",
            "Colorado (CO)",
            "Connecticut (CT)",
            "Delaware (DE)",
            "Florida (FL)",
            "Georgia (GA)",
            "Hawaii (HI)",
            "Idaho (ID)",
            "Illinois (IL)",
            "Indiana (IN)",
            "Iowa (IA)",
            "Kansas (KS)",
            "Kentucky (KY)",
            "Louisiana (LA)",
            "Maine (ME)",
            "Maryland (MD)",
            "Massachusetts (MA)",
            "Michigan (MI)",
            "Minnesota (MN)",
            "Mississippi (MS)",
            "Missouri (MO)",
            "Montana (MT)",
            "Nebraska (NE)",
            "Nevada (NV)",
            "New Hampshire (NH)",
            "New Jersey (NJ)",
            "New Mexico (NM)",
            "New York (NY)",
            "North Carolina (NC)",
            "North Dakota (ND)",
            "Ohio (OH)",
            "Oklahoma (OK)",
            "Oregon (OR)",
            "Pennsylvania (PA)",
            "Rhode Island (RI)",
            "South Carolina (SC)",
            "South Dakota (SD)",
            "Tennessee (TN)",
            "Texas (TX)",
            "Utah (UT)",
            "Vermont (VT)",
            "Virginia (VA)",
            "Washington (WA)",
            "West Virginia (WV)",
            "Wisconsin (WI)",
            "Wyoming (WY)"
           ],
           "locationmode": "USA-states",
           "locations": [
            "AL",
            "AK",
            "AZ",
            "AR",
            "CA",
            "CO",
            "CT",
            "DE",
            "FL",
            "GA",
            "HI",
            "ID",
            "IL",
            "IN",
            "IA",
            "KS",
            "KY",
            "LA",
            "ME",
            "MD",
            "MA",
            "MI",
            "MN",
            "MS",
            "MO",
            "MT",
            "NE",
            "NV",
            "NH",
            "NJ",
            "NM",
            "NY",
            "NC",
            "ND",
            "OH",
            "OK",
            "OR",
            "PA",
            "RI",
            "SC",
            "SD",
            "TN",
            "TX",
            "UT",
            "VT",
            "VA",
            "WA",
            "WV",
            "WI",
            "WY"
           ],
           "name": "",
           "type": "choropleth",
           "z": [
            67.25,
            31.03125,
            55.4,
            58.666666666666664,
            54.578947368421055,
            42.833333333333336,
            50.5,
            55,
            71.58333333333333,
            65.66666666666667,
            73.6,
            46.333333333333336,
            53,
            54,
            51,
            54.333333333333336,
            60.6,
            69,
            38,
            56.5,
            52.333333333333336,
            46.333333333333336,
            43.6,
            66.28571428571429,
            57.142857142857146,
            42.45454545454545,
            50.625,
            47.5,
            47,
            55,
            52.333333333333336,
            49,
            63.142857142857146,
            42.4,
            52,
            57.5,
            44.5,
            53.42857142857143,
            50,
            65,
            48,
            62.5,
            63.916666666666664,
            49,
            43,
            60.42857142857143,
            42.57142857142857,
            57,
            48.25,
            42
           ]
          }
         ],
         "name": "2016-03-13"
        },
        {
         "data": [
          {
           "coloraxis": "coloraxis",
           "customdata": [
            [
             "AL",
             "2016-03-20",
             63.25,
             0.7749999999999999,
             6.7524999999999995
            ],
            [
             "AK",
             "2016-03-20",
             27.84375,
             0.3871875,
             7.0615625
            ],
            [
             "AZ",
             "2016-03-20",
             61.2,
             0,
             3.1
            ],
            [
             "AR",
             "2016-03-20",
             55,
             0.10000000000000002,
             3.9599999999999995
            ],
            [
             "CA",
             "2016-03-20",
             59.526315789473685,
             0.1542105263157895,
             4.146315789473684
            ],
            [
             "CO",
             "2016-03-20",
             37,
             0.135,
             5.853333333333333
            ],
            [
             "CT",
             "2016-03-20",
             44,
             0.92,
             8.01
            ],
            [
             "DE",
             "2016-03-20",
             48,
             0.87,
             7.92
            ],
            [
             "FL",
             "2016-03-20",
             74.16666666666667,
             0.6749999999999999,
             5.765833333333333
            ],
            [
             "GA",
             "2016-03-20",
             66.5,
             0.17500000000000002,
             5.508333333333333
            ],
            [
             "HI",
             "2016-03-20",
             72.8,
             0.5,
             9.448
            ],
            [
             "ID",
             "2016-03-20",
             42,
             0.3866666666666667,
             7.54
            ],
            [
             "IL",
             "2016-03-20",
             47.333333333333336,
             0.5133333333333333,
             7.859999999999999
            ],
            [
             "IN",
             "2016-03-20",
             47.75,
             0.2625,
             8.9275
            ],
            [
             "IA",
             "2016-03-20",
             43.6,
             0.8219999999999998,
             9.23
            ],
            [
             "KS",
             "2016-03-20",
             43.666666666666664,
             0.02666666666666667,
             8.921666666666667
            ],
            [
             "KY",
             "2016-03-20",
             54.4,
             0.318,
             6.992
            ],
            [
             "LA",
             "2016-03-20",
             66.4,
             0.6900000000000001,
             7.398000000000001
            ],
            [
             "ME",
             "2016-03-20",
             32.333333333333336,
             0.7666666666666666,
             6.803333333333334
            ],
            [
             "MD",
             "2016-03-20",
             49.5,
             0.8600000000000001,
             6.275
            ],
            [
             "MA",
             "2016-03-20",
             47,
             0.9266666666666667,
             10.47
            ],
            [
             "MI",
             "2016-03-20",
             38.888888888888886,
             0.6888888888888889,
             6.224444444444445
            ],
            [
             "MN",
             "2016-03-20",
             35.8,
             1.49,
             7.909999999999999
            ],
            [
             "MS",
             "2016-03-20",
             61.857142857142854,
             1.0285714285714287,
             7.054285714285714
            ],
            [
             "MO",
             "2016-03-20",
             49.42857142857143,
             0.12285714285714286,
             7.377142857142857
            ],
            [
             "MT",
             "2016-03-20",
             34.09090909090909,
             0.06272727272727273,
             8.182727272727274
            ],
            [
             "NE",
             "2016-03-20",
             38.875,
             0.15125,
             9.24875
            ],
            [
             "NV",
             "2016-03-20",
             50.166666666666664,
             0,
             4.47
            ],
            [
             "NH",
             "2016-03-20",
             40,
             0.43,
             5.98
            ],
            [
             "NJ",
             "2016-03-20",
             47.5,
             1.17,
             8.135
            ],
            [
             "NM",
             "2016-03-20",
             48,
             0,
             7.13
            ],
            [
             "NY",
             "2016-03-20",
             42.125,
             0.6425000000000001,
             7.0175
            ],
            [
             "NC",
             "2016-03-20",
             60,
             0.6728571428571428,
             4.627142857142857
            ],
            [
             "ND",
             "2016-03-20",
             34.8,
             0.158,
             10.09
            ],
            [
             "OH",
             "2016-03-20",
             46.57142857142857,
             0.4842857142857143,
             8.231428571428571
            ],
            [
             "OK",
             "2016-03-20",
             49.75,
             0,
             8.15
            ],
            [
             "OR",
             "2016-03-20",
             46.625,
             0.68375,
             5.8075
            ],
            [
             "PA",
             "2016-03-20",
             46.142857142857146,
             0.5485714285714286,
             6.031428571428571
            ],
            [
             "RI",
             "2016-03-20",
             44,
             1.71,
             9.5
            ],
            [
             "SC",
             "2016-03-20",
             64.75,
             0.2575,
             5.005
            ],
            [
             "SD",
             "2016-03-20",
             38,
             0.074,
             11.174000000000001
            ],
            [
             "TN",
             "2016-03-20",
             56.375,
             0.30125,
             5.4975
            ],
            [
             "TX",
             "2016-03-20",
             61.541666666666664,
             0.15041666666666667,
             8.200000000000001
            ],
            [
             "UT",
             "2016-03-20",
             43,
             0.24,
             2.78
            ],
            [
             "VT",
             "2016-03-20",
             38,
             0.56,
             7.02
            ],
            [
             "VA",
             "2016-03-20",
             54.142857142857146,
             0.8300000000000001,
             5.485714285714286
            ],
            [
             "WA",
             "2016-03-20",
             43.857142857142854,
             0.40857142857142853,
             5.5928571428571425
            ],
            [
             "WV",
             "2016-03-20",
             51.75,
             0.5625,
             4.82
            ],
            [
             "WI",
             "2016-03-20",
             41,
             1.1725,
             7.9075
            ],
            [
             "WY",
             "2016-03-20",
             30,
             0.118,
             9.538
            ]
           ],
           "geo": "geo",
           "hovertemplate": "<b>%{hovertext}</b><br><br>Date=%{customdata[1]}<br>Temperature (F)=%{z:.4f}<br>Precipitation (inches)=%{customdata[3]:.4f}<br>Wind Speed (mph)=%{customdata[4]:.4f}<extra></extra>",
           "hovertext": [
            "Alabama (AL)",
            "Alaska (AK)",
            "Arizona (AZ)",
            "Arkansas (AR)",
            "California (CA)",
            "Colorado (CO)",
            "Connecticut (CT)",
            "Delaware (DE)",
            "Florida (FL)",
            "Georgia (GA)",
            "Hawaii (HI)",
            "Idaho (ID)",
            "Illinois (IL)",
            "Indiana (IN)",
            "Iowa (IA)",
            "Kansas (KS)",
            "Kentucky (KY)",
            "Louisiana (LA)",
            "Maine (ME)",
            "Maryland (MD)",
            "Massachusetts (MA)",
            "Michigan (MI)",
            "Minnesota (MN)",
            "Mississippi (MS)",
            "Missouri (MO)",
            "Montana (MT)",
            "Nebraska (NE)",
            "Nevada (NV)",
            "New Hampshire (NH)",
            "New Jersey (NJ)",
            "New Mexico (NM)",
            "New York (NY)",
            "North Carolina (NC)",
            "North Dakota (ND)",
            "Ohio (OH)",
            "Oklahoma (OK)",
            "Oregon (OR)",
            "Pennsylvania (PA)",
            "Rhode Island (RI)",
            "South Carolina (SC)",
            "South Dakota (SD)",
            "Tennessee (TN)",
            "Texas (TX)",
            "Utah (UT)",
            "Vermont (VT)",
            "Virginia (VA)",
            "Washington (WA)",
            "West Virginia (WV)",
            "Wisconsin (WI)",
            "Wyoming (WY)"
           ],
           "locationmode": "USA-states",
           "locations": [
            "AL",
            "AK",
            "AZ",
            "AR",
            "CA",
            "CO",
            "CT",
            "DE",
            "FL",
            "GA",
            "HI",
            "ID",
            "IL",
            "IN",
            "IA",
            "KS",
            "KY",
            "LA",
            "ME",
            "MD",
            "MA",
            "MI",
            "MN",
            "MS",
            "MO",
            "MT",
            "NE",
            "NV",
            "NH",
            "NJ",
            "NM",
            "NY",
            "NC",
            "ND",
            "OH",
            "OK",
            "OR",
            "PA",
            "RI",
            "SC",
            "SD",
            "TN",
            "TX",
            "UT",
            "VT",
            "VA",
            "WA",
            "WV",
            "WI",
            "WY"
           ],
           "name": "",
           "type": "choropleth",
           "z": [
            63.25,
            27.84375,
            61.2,
            55,
            59.526315789473685,
            37,
            44,
            48,
            74.16666666666667,
            66.5,
            72.8,
            42,
            47.333333333333336,
            47.75,
            43.6,
            43.666666666666664,
            54.4,
            66.4,
            32.333333333333336,
            49.5,
            47,
            38.888888888888886,
            35.8,
            61.857142857142854,
            49.42857142857143,
            34.09090909090909,
            38.875,
            50.166666666666664,
            40,
            47.5,
            48,
            42.125,
            60,
            34.8,
            46.57142857142857,
            49.75,
            46.625,
            46.142857142857146,
            44,
            64.75,
            38,
            56.375,
            61.541666666666664,
            43,
            38,
            54.142857142857146,
            43.857142857142854,
            51.75,
            41,
            30
           ]
          }
         ],
         "name": "2016-03-20"
        },
        {
         "data": [
          {
           "coloraxis": "coloraxis",
           "customdata": [
            [
             "AL",
             "2016-03-27",
             58.75,
             1.5875,
             6.46
            ],
            [
             "AK",
             "2016-03-27",
             35.75,
             0.5800000000000001,
             5.939375
            ],
            [
             "AZ",
             "2016-03-27",
             59.4,
             0,
             6.061999999999999
            ],
            [
             "AR",
             "2016-03-27",
             53.333333333333336,
             0.45999999999999996,
             5.94
            ],
            [
             "CA",
             "2016-03-27",
             58.36842105263158,
             0.15578947368421053,
             5.975263157894737
            ],
            [
             "CO",
             "2016-03-27",
             37.833333333333336,
             0.4183333333333333,
             6.930000000000001
            ],
            [
             "CT",
             "2016-03-27",
             45.5,
             0.16,
             6.655
            ],
            [
             "DE",
             "2016-03-27",
             50,
             0.02,
             7.32
            ],
            [
             "FL",
             "2016-03-27",
             68.33333333333333,
             1.4775,
             6.983333333333333
            ],
            [
             "GA",
             "2016-03-27",
             59.666666666666664,
             1.5916666666666668,
             4.7700000000000005
            ],
            [
             "HI",
             "2016-03-27",
             73.8,
             0.8800000000000001,
             3.0780000000000003
            ],
            [
             "ID",
             "2016-03-27",
             44.333333333333336,
             0.7333333333333333,
             6.363333333333333
            ],
            [
             "IL",
             "2016-03-27",
             45.166666666666664,
             1.0633333333333332,
             8.578333333333333
            ],
            [
             "IN",
             "2016-03-27",
             48,
             1.0675,
             8.0475
            ],
            [
             "IA",
             "2016-03-27",
             40.4,
             0.994,
             10.790000000000001
            ],
            [
             "KS",
             "2016-03-27",
             48.166666666666664,
             0.38000000000000006,
             11.938333333333333
            ],
            [
             "KY",
             "2016-03-27",
             53,
             0.9380000000000001,
             7.824000000000001
            ],
            [
             "LA",
             "2016-03-27",
             60.8,
             1.636,
             6.2780000000000005
            ],
            [
             "ME",
             "2016-03-27",
             29.333333333333332,
             0.6166666666666667,
             6.16
            ],
            [
             "MD",
             "2016-03-27",
             53,
             0.13999999999999999,
             7.869999999999999
            ],
            [
             "MA",
             "2016-03-27",
             47,
             0.2866666666666667,
             7.293333333333333
            ],
            [
             "MI",
             "2016-03-27",
             36.44444444444444,
             1.1733333333333333,
             5.713333333333334
            ],
            [
             "MN",
             "2016-03-27",
             33.4,
             0.502,
             7.965999999999999
            ],
            [
             "MS",
             "2016-03-27",
             57.714285714285715,
             0.9428571428571428,
             6.354285714285714
            ],
            [
             "MO",
             "2016-03-27",
             50.42857142857143,
             0.5271428571428571,
             11.022857142857143
            ],
            [
             "MT",
             "2016-03-27",
             38.45454545454545,
             0.1509090909090909,
             6.987272727272727
            ],
            [
             "NE",
             "2016-03-27",
             40.75,
             0.6125,
             10.6675
            ],
            [
             "NV",
             "2016-03-27",
             47.5,
             0.043333333333333335,
             6.595
            ],
            [
             "NH",
             "2016-03-27",
             39,
             0.34,
             4.8
            ],
            [
             "NJ",
             "2016-03-27",
             49.5,
             0.155,
             8.03
            ],
            [
             "NM",
             "2016-03-27",
             50.333333333333336,
             0.06333333333333334,
             8.846666666666666
            ],
            [
             "NY",
             "2016-03-27",
             42.75,
             0.27125,
             7.3475
            ],
            [
             "NC",
             "2016-03-27",
             57.42857142857143,
             0.6671428571428571,
             7.894285714285714
            ],
            [
             "ND",
             "2016-03-27",
             34.8,
             0.048,
             7.574
            ],
            [
             "OH",
             "2016-03-27",
             47.285714285714285,
             0.9714285714285714,
             8.975714285714286
            ],
            [
             "OK",
             "2016-03-27",
             54,
             0.175,
             13.79
            ],
            [
             "OR",
             "2016-03-27",
             46,
             0.7625,
             7.0425
            ],
            [
             "PA",
             "2016-03-27",
             48.142857142857146,
             0.21571428571428572,
             6.922857142857143
            ],
            [
             "RI",
             "2016-03-27",
             43,
             0.26,
             6.85
            ],
            [
             "SC",
             "2016-03-27",
             59.75,
             0.975,
             6.835
            ],
            [
             "SD",
             "2016-03-27",
             37.2,
             0.476,
             9.472
            ],
            [
             "TN",
             "2016-03-27",
             54.625,
             0.655,
             6.1125
            ],
            [
             "TX",
             "2016-03-27",
             59.458333333333336,
             0.23875000000000002,
             10.850833333333334
            ],
            [
             "UT",
             "2016-03-27",
             47,
             0.53,
             6.8
            ],
            [
             "VT",
             "2016-03-27",
             38,
             0.36,
             5.45
            ],
            [
             "VA",
             "2016-03-27",
             54.57142857142857,
             0.3071428571428571,
             8.202857142857143
            ],
            [
             "WA",
             "2016-03-27",
             46,
             1.257142857142857,
             6.347142857142857
            ],
            [
             "WV",
             "2016-03-27",
             51.25,
             0.2875,
             6.365
            ],
            [
             "WI",
             "2016-03-27",
             36.75,
             1.06,
             7.84
            ],
            [
             "WY",
             "2016-03-27",
             37.6,
             0.602,
             9.202000000000002
            ]
           ],
           "geo": "geo",
           "hovertemplate": "<b>%{hovertext}</b><br><br>Date=%{customdata[1]}<br>Temperature (F)=%{z:.4f}<br>Precipitation (inches)=%{customdata[3]:.4f}<br>Wind Speed (mph)=%{customdata[4]:.4f}<extra></extra>",
           "hovertext": [
            "Alabama (AL)",
            "Alaska (AK)",
            "Arizona (AZ)",
            "Arkansas (AR)",
            "California (CA)",
            "Colorado (CO)",
            "Connecticut (CT)",
            "Delaware (DE)",
            "Florida (FL)",
            "Georgia (GA)",
            "Hawaii (HI)",
            "Idaho (ID)",
            "Illinois (IL)",
            "Indiana (IN)",
            "Iowa (IA)",
            "Kansas (KS)",
            "Kentucky (KY)",
            "Louisiana (LA)",
            "Maine (ME)",
            "Maryland (MD)",
            "Massachusetts (MA)",
            "Michigan (MI)",
            "Minnesota (MN)",
            "Mississippi (MS)",
            "Missouri (MO)",
            "Montana (MT)",
            "Nebraska (NE)",
            "Nevada (NV)",
            "New Hampshire (NH)",
            "New Jersey (NJ)",
            "New Mexico (NM)",
            "New York (NY)",
            "North Carolina (NC)",
            "North Dakota (ND)",
            "Ohio (OH)",
            "Oklahoma (OK)",
            "Oregon (OR)",
            "Pennsylvania (PA)",
            "Rhode Island (RI)",
            "South Carolina (SC)",
            "South Dakota (SD)",
            "Tennessee (TN)",
            "Texas (TX)",
            "Utah (UT)",
            "Vermont (VT)",
            "Virginia (VA)",
            "Washington (WA)",
            "West Virginia (WV)",
            "Wisconsin (WI)",
            "Wyoming (WY)"
           ],
           "locationmode": "USA-states",
           "locations": [
            "AL",
            "AK",
            "AZ",
            "AR",
            "CA",
            "CO",
            "CT",
            "DE",
            "FL",
            "GA",
            "HI",
            "ID",
            "IL",
            "IN",
            "IA",
            "KS",
            "KY",
            "LA",
            "ME",
            "MD",
            "MA",
            "MI",
            "MN",
            "MS",
            "MO",
            "MT",
            "NE",
            "NV",
            "NH",
            "NJ",
            "NM",
            "NY",
            "NC",
            "ND",
            "OH",
            "OK",
            "OR",
            "PA",
            "RI",
            "SC",
            "SD",
            "TN",
            "TX",
            "UT",
            "VT",
            "VA",
            "WA",
            "WV",
            "WI",
            "WY"
           ],
           "name": "",
           "type": "choropleth",
           "z": [
            58.75,
            35.75,
            59.4,
            53.333333333333336,
            58.36842105263158,
            37.833333333333336,
            45.5,
            50,
            68.33333333333333,
            59.666666666666664,
            73.8,
            44.333333333333336,
            45.166666666666664,
            48,
            40.4,
            48.166666666666664,
            53,
            60.8,
            29.333333333333332,
            53,
            47,
            36.44444444444444,
            33.4,
            57.714285714285715,
            50.42857142857143,
            38.45454545454545,
            40.75,
            47.5,
            39,
            49.5,
            50.333333333333336,
            42.75,
            57.42857142857143,
            34.8,
            47.285714285714285,
            54,
            46,
            48.142857142857146,
            43,
            59.75,
            37.2,
            54.625,
            59.458333333333336,
            47,
            38,
            54.57142857142857,
            46,
            51.25,
            36.75,
            37.6
           ]
          }
         ],
         "name": "2016-03-27"
        },
        {
         "data": [
          {
           "coloraxis": "coloraxis",
           "customdata": [
            [
             "AL",
             "2016-04-03",
             59.75,
             0.9300000000000002,
             5.67
            ],
            [
             "AK",
             "2016-04-03",
             39.303030303030305,
             0.18848484848484848,
             7.177575757575758
            ],
            [
             "AZ",
             "2016-04-03",
             58.6,
             0,
             3.6100000000000003
            ],
            [
             "AR",
             "2016-04-03",
             54,
             0,
             5.006666666666667
            ],
            [
             "CA",
             "2016-04-03",
             60.89473684210526,
             0.008421052631578947,
             3.846315789473684
            ],
            [
             "CO",
             "2016-04-03",
             41.833333333333336,
             0,
             2.5416666666666665
            ],
            [
             "CT",
             "2016-04-03",
             47.5,
             0.7450000000000001,
             8.36
            ],
            [
             "DE",
             "2016-04-03",
             55,
             0.26,
             11.7
            ],
            [
             "FL",
             "2016-04-03",
             73.41666666666667,
             0.8483333333333333,
             7.536666666666666
            ],
            [
             "GA",
             "2016-04-03",
             63.833333333333336,
             2.598333333333333,
             6.095
            ],
            [
             "HI",
             "2016-04-03",
             76,
             0.026000000000000002,
             7.236
            ],
            [
             "ID",
             "2016-04-03",
             54,
             0,
             3.44
            ],
            [
             "IL",
             "2016-04-03",
             44.166666666666664,
             0.05833333333333333,
             12.251666666666667
            ],
            [
             "IN",
             "2016-04-03",
             43.25,
             0.095,
             12.8125
            ],
            [
             "IA",
             "2016-04-03",
             43.6,
             0.13999999999999999,
             12.936000000000002
            ],
            [
             "KS",
             "2016-04-03",
             50.5,
             0,
             9.523333333333333
            ],
            [
             "KY",
             "2016-04-03",
             50.4,
             0.01,
             9.024000000000001
            ],
            [
             "LA",
             "2016-04-03",
             60.2,
             1.292,
             6.1579999999999995
            ],
            [
             "ME",
             "2016-04-03",
             40.333333333333336,
             0.3466666666666667,
             8.506666666666666
            ],
            [
             "MD",
             "2016-04-03",
             57,
             0.7649999999999999,
             9.48
            ],
            [
             "MA",
             "2016-04-03",
             46.666666666666664,
             0.5033333333333333,
             12.446666666666667
            ],
            [
             "MI",
             "2016-04-03",
             31.11111111111111,
             0.38666666666666666,
             6.364444444444445
            ],
            [
             "MN",
             "2016-04-03",
             31.4,
             0.052000000000000005,
             11.018
            ],
            [
             "MS",
             "2016-04-03",
             58.142857142857146,
             0.5328571428571428,
             5.315714285714286
            ],
            [
             "MO",
             "2016-04-03",
             50,
             0.01,
             11.844285714285714
            ],
            [
             "MT",
             "2016-04-03",
             50.09090909090909,
             0,
             7.577272727272727
            ],
            [
             "NE",
             "2016-04-03",
             46.125,
             0.012499999999999999,
             11.04625
            ],
            [
             "NV",
             "2016-04-03",
             54.5,
             0.0016666666666666668,
             3.0683333333333334
            ],
            [
             "NH",
             "2016-04-03",
             52.5,
             0.105,
             29.495
            ],
            [
             "NJ",
             "2016-04-03",
             53,
             0.535,
             10.665
            ],
            [
             "NM",
             "2016-04-03",
             48,
             0.13999999999999999,
             4.586666666666667
            ],
            [
             "NY",
             "2016-04-03",
             43.75,
             0.4275,
             9.89625
            ],
            [
             "NC",
             "2016-04-03",
             61.57142857142857,
             0.4,
             9.747142857142858
            ],
            [
             "ND",
             "2016-04-03",
             38,
             0.008,
             10.822
            ],
            [
             "OH",
             "2016-04-03",
             42.142857142857146,
             0.2542857142857143,
             12.540000000000001
            ],
            [
             "OK",
             "2016-04-03",
             52.5,
             0,
             8.48
            ],
            [
             "OR",
             "2016-04-03",
             55.625,
             0.041249999999999995,
             3.01
            ],
            [
             "PA",
             "2016-04-03",
             48.857142857142854,
             0.23,
             10.821428571428571
            ],
            [
             "RI",
             "2016-04-03",
             49,
             1.2,
             9.53
            ],
            [
             "SC",
             "2016-04-03",
             63.5,
             0.7825,
             8.07
            ],
            [
             "SD",
             "2016-04-03",
             44.6,
             0.006,
             9.629999999999999
            ],
            [
             "TN",
             "2016-04-03",
             54.875,
             0.12625,
             6.78125
            ],
            [
             "TX",
             "2016-04-03",
             57.5,
             0.07875,
             7.761666666666667
            ],
            [
             "UT",
             "2016-04-03",
             51,
             0,
             2.7
            ],
            [
             "VT",
             "2016-04-03",
             42,
             0.16,
             9.86
            ],
            [
             "VA",
             "2016-04-03",
             57.857142857142854,
             0.3628571428571429,
             10.22
            ],
            [
             "WA",
             "2016-04-03",
             54.57142857142857,
             0.08571428571428572,
             3.4771428571428573
            ],
            [
             "WV",
             "2016-04-03",
             49.5,
             0.09,
             9.6975
            ],
            [
             "WI",
             "2016-04-03",
             39.75,
             0.0875,
             7.6225000000000005
            ],
            [
             "WY",
             "2016-04-03",
             41.2,
             0.006,
             10.437999999999999
            ]
           ],
           "geo": "geo",
           "hovertemplate": "<b>%{hovertext}</b><br><br>Date=%{customdata[1]}<br>Temperature (F)=%{z:.4f}<br>Precipitation (inches)=%{customdata[3]:.4f}<br>Wind Speed (mph)=%{customdata[4]:.4f}<extra></extra>",
           "hovertext": [
            "Alabama (AL)",
            "Alaska (AK)",
            "Arizona (AZ)",
            "Arkansas (AR)",
            "California (CA)",
            "Colorado (CO)",
            "Connecticut (CT)",
            "Delaware (DE)",
            "Florida (FL)",
            "Georgia (GA)",
            "Hawaii (HI)",
            "Idaho (ID)",
            "Illinois (IL)",
            "Indiana (IN)",
            "Iowa (IA)",
            "Kansas (KS)",
            "Kentucky (KY)",
            "Louisiana (LA)",
            "Maine (ME)",
            "Maryland (MD)",
            "Massachusetts (MA)",
            "Michigan (MI)",
            "Minnesota (MN)",
            "Mississippi (MS)",
            "Missouri (MO)",
            "Montana (MT)",
            "Nebraska (NE)",
            "Nevada (NV)",
            "New Hampshire (NH)",
            "New Jersey (NJ)",
            "New Mexico (NM)",
            "New York (NY)",
            "North Carolina (NC)",
            "North Dakota (ND)",
            "Ohio (OH)",
            "Oklahoma (OK)",
            "Oregon (OR)",
            "Pennsylvania (PA)",
            "Rhode Island (RI)",
            "South Carolina (SC)",
            "South Dakota (SD)",
            "Tennessee (TN)",
            "Texas (TX)",
            "Utah (UT)",
            "Vermont (VT)",
            "Virginia (VA)",
            "Washington (WA)",
            "West Virginia (WV)",
            "Wisconsin (WI)",
            "Wyoming (WY)"
           ],
           "locationmode": "USA-states",
           "locations": [
            "AL",
            "AK",
            "AZ",
            "AR",
            "CA",
            "CO",
            "CT",
            "DE",
            "FL",
            "GA",
            "HI",
            "ID",
            "IL",
            "IN",
            "IA",
            "KS",
            "KY",
            "LA",
            "ME",
            "MD",
            "MA",
            "MI",
            "MN",
            "MS",
            "MO",
            "MT",
            "NE",
            "NV",
            "NH",
            "NJ",
            "NM",
            "NY",
            "NC",
            "ND",
            "OH",
            "OK",
            "OR",
            "PA",
            "RI",
            "SC",
            "SD",
            "TN",
            "TX",
            "UT",
            "VT",
            "VA",
            "WA",
            "WV",
            "WI",
            "WY"
           ],
           "name": "",
           "type": "choropleth",
           "z": [
            59.75,
            39.303030303030305,
            58.6,
            54,
            60.89473684210526,
            41.833333333333336,
            47.5,
            55,
            73.41666666666667,
            63.833333333333336,
            76,
            54,
            44.166666666666664,
            43.25,
            43.6,
            50.5,
            50.4,
            60.2,
            40.333333333333336,
            57,
            46.666666666666664,
            31.11111111111111,
            31.4,
            58.142857142857146,
            50,
            50.09090909090909,
            46.125,
            54.5,
            52.5,
            53,
            48,
            43.75,
            61.57142857142857,
            38,
            42.142857142857146,
            52.5,
            55.625,
            48.857142857142854,
            49,
            63.5,
            44.6,
            54.875,
            57.5,
            51,
            42,
            57.857142857142854,
            54.57142857142857,
            49.5,
            39.75,
            41.2
           ]
          }
         ],
         "name": "2016-04-03"
        },
        {
         "data": [
          {
           "coloraxis": "coloraxis",
           "customdata": [
            [
             "AL",
             "2016-04-10",
             60.75,
             0.31,
             6.42
            ],
            [
             "AK",
             "2016-04-10",
             40.57575757575758,
             0.6057575757575758,
             7.036969696969697
            ],
            [
             "AZ",
             "2016-04-10",
             64.8,
             0.39,
             4.002000000000001
            ],
            [
             "AR",
             "2016-04-10",
             61.333333333333336,
             0.09000000000000001,
             4.863333333333333
            ],
            [
             "CA",
             "2016-04-10",
             63.421052631578945,
             0.5194736842105264,
             4.484210526315789
            ],
            [
             "CO",
             "2016-04-10",
             50.666666666666664,
             0.18166666666666667,
             5.291666666666667
            ],
            [
             "CT",
             "2016-04-10",
             38,
             0.76,
             8.625
            ],
            [
             "DE",
             "2016-04-10",
             43,
             0.9,
             8.91
            ],
            [
             "FL",
             "2016-04-10",
             69.66666666666667,
             0.11499999999999999,
             6.899166666666666
            ],
            [
             "GA",
             "2016-04-10",
             58.166666666666664,
             0.24,
             6.91
            ],
            [
             "HI",
             "2016-04-10",
             75,
             0.74,
             9.620000000000001
            ],
            [
             "ID",
             "2016-04-10",
             54.666666666666664,
             0.06999999999999999,
             4.6033333333333335
            ],
            [
             "IL",
             "2016-04-10",
             40.666666666666664,
             0.7116666666666666,
             10.531666666666666
            ],
            [
             "IN",
             "2016-04-10",
             40.5,
             1.085,
             9.72
            ],
            [
             "IA",
             "2016-04-10",
             40.8,
             0.6980000000000001,
             11.754
            ],
            [
             "KS",
             "2016-04-10",
             57.5,
             0.049999999999999996,
             9.673333333333334
            ],
            [
             "KY",
             "2016-04-10",
             46.4,
             0.384,
             8.379999999999999
            ],
            [
             "LA",
             "2016-04-10",
             65.2,
             0,
             5.314
            ],
            [
             "ME",
             "2016-04-10",
             30.666666666666668,
             1.08,
             9.043333333333335
            ],
            [
             "MD",
             "2016-04-10",
             44,
             0.865,
             7.75
            ],
            [
             "MA",
             "2016-04-10",
             34.5,
             1.41,
             9.27
            ],
            [
             "MI",
             "2016-04-10",
             29.22222222222222,
             1.1188888888888888,
             7.036666666666666
            ],
            [
             "MN",
             "2016-04-10",
             31.6,
             0.274,
             8.606
            ],
            [
             "MS",
             "2016-04-10",
             62.57142857142857,
             0.04,
             5.987142857142857
            ],
            [
             "MO",
             "2016-04-10",
             52.142857142857146,
             0.46571428571428575,
             10.64
            ],
            [
             "MT",
             "2016-04-10",
             48.45454545454545,
             0.13363636363636366,
             8.672727272727274
            ],
            [
             "NE",
             "2016-04-10",
             48.875,
             0.030000000000000002,
             11.19125
            ],
            [
             "NV",
             "2016-04-10",
             56.333333333333336,
             0.455,
             4.323333333333333
            ],
            [
             "NH",
             "2016-04-10",
             46.5,
             0.38,
             20.490000000000002
            ],
            [
             "NJ",
             "2016-04-10",
             41.5,
             0.8600000000000001,
             8.809999999999999
            ],
            [
             "NM",
             "2016-04-10",
             59,
             0.13999999999999999,
             6.579999999999999
            ],
            [
             "NY",
             "2016-04-10",
             33.5,
             0.6224999999999999,
             8.21125
            ],
            [
             "NC",
             "2016-04-10",
             51.285714285714285,
             0.3914285714285714,
             7.967142857142858
            ],
            [
             "ND",
             "2016-04-10",
             38,
             0.13999999999999999,
             12.244
            ],
            [
             "OH",
             "2016-04-10",
             36.714285714285715,
             1.1128571428571428,
             9.948571428571428
            ],
            [
             "OK",
             "2016-04-10",
             62.5,
             0.435,
             10.385
            ],
            [
             "OR",
             "2016-04-10",
             55.875,
             0.0375,
             4.215
            ],
            [
             "PA",
             "2016-04-10",
             38.285714285714285,
             0.91,
             8.044285714285715
            ],
            [
             "RI",
             "2016-04-10",
             37,
             2.12,
             9.48
            ],
            [
             "SC",
             "2016-04-10",
             56,
             0.3925,
             7.58
            ],
            [
             "SD",
             "2016-04-10",
             42.4,
             0.048,
             13.374
            ],
            [
             "TN",
             "2016-04-10",
             51.5,
             0.5425,
             7.38375
            ],
            [
             "TX",
             "2016-04-10",
             66.45833333333333,
             0.1725,
             8.044583333333334
            ],
            [
             "UT",
             "2016-04-10",
             57,
             0,
             4.92
            ],
            [
             "VT",
             "2016-04-10",
             31,
             0.67,
             6.32
            ],
            [
             "VA",
             "2016-04-10",
             47.42857142857143,
             0.42857142857142855,
             9.322857142857144
            ],
            [
             "WA",
             "2016-04-10",
             54.42857142857143,
             0.12714285714285714,
             5.425714285714286
            ],
            [
             "WV",
             "2016-04-10",
             40.75,
             0.8275,
             8.0425
            ],
            [
             "WI",
             "2016-04-10",
             34.25,
             0.5725,
             8.4125
            ],
            [
             "WY",
             "2016-04-10",
             46.8,
             0.10600000000000001,
             9.644
            ]
           ],
           "geo": "geo",
           "hovertemplate": "<b>%{hovertext}</b><br><br>Date=%{customdata[1]}<br>Temperature (F)=%{z:.4f}<br>Precipitation (inches)=%{customdata[3]:.4f}<br>Wind Speed (mph)=%{customdata[4]:.4f}<extra></extra>",
           "hovertext": [
            "Alabama (AL)",
            "Alaska (AK)",
            "Arizona (AZ)",
            "Arkansas (AR)",
            "California (CA)",
            "Colorado (CO)",
            "Connecticut (CT)",
            "Delaware (DE)",
            "Florida (FL)",
            "Georgia (GA)",
            "Hawaii (HI)",
            "Idaho (ID)",
            "Illinois (IL)",
            "Indiana (IN)",
            "Iowa (IA)",
            "Kansas (KS)",
            "Kentucky (KY)",
            "Louisiana (LA)",
            "Maine (ME)",
            "Maryland (MD)",
            "Massachusetts (MA)",
            "Michigan (MI)",
            "Minnesota (MN)",
            "Mississippi (MS)",
            "Missouri (MO)",
            "Montana (MT)",
            "Nebraska (NE)",
            "Nevada (NV)",
            "New Hampshire (NH)",
            "New Jersey (NJ)",
            "New Mexico (NM)",
            "New York (NY)",
            "North Carolina (NC)",
            "North Dakota (ND)",
            "Ohio (OH)",
            "Oklahoma (OK)",
            "Oregon (OR)",
            "Pennsylvania (PA)",
            "Rhode Island (RI)",
            "South Carolina (SC)",
            "South Dakota (SD)",
            "Tennessee (TN)",
            "Texas (TX)",
            "Utah (UT)",
            "Vermont (VT)",
            "Virginia (VA)",
            "Washington (WA)",
            "West Virginia (WV)",
            "Wisconsin (WI)",
            "Wyoming (WY)"
           ],
           "locationmode": "USA-states",
           "locations": [
            "AL",
            "AK",
            "AZ",
            "AR",
            "CA",
            "CO",
            "CT",
            "DE",
            "FL",
            "GA",
            "HI",
            "ID",
            "IL",
            "IN",
            "IA",
            "KS",
            "KY",
            "LA",
            "ME",
            "MD",
            "MA",
            "MI",
            "MN",
            "MS",
            "MO",
            "MT",
            "NE",
            "NV",
            "NH",
            "NJ",
            "NM",
            "NY",
            "NC",
            "ND",
            "OH",
            "OK",
            "OR",
            "PA",
            "RI",
            "SC",
            "SD",
            "TN",
            "TX",
            "UT",
            "VT",
            "VA",
            "WA",
            "WV",
            "WI",
            "WY"
           ],
           "name": "",
           "type": "choropleth",
           "z": [
            60.75,
            40.57575757575758,
            64.8,
            61.333333333333336,
            63.421052631578945,
            50.666666666666664,
            38,
            43,
            69.66666666666667,
            58.166666666666664,
            75,
            54.666666666666664,
            40.666666666666664,
            40.5,
            40.8,
            57.5,
            46.4,
            65.2,
            30.666666666666668,
            44,
            34.5,
            29.22222222222222,
            31.6,
            62.57142857142857,
            52.142857142857146,
            48.45454545454545,
            48.875,
            56.333333333333336,
            46.5,
            41.5,
            59,
            33.5,
            51.285714285714285,
            38,
            36.714285714285715,
            62.5,
            55.875,
            38.285714285714285,
            37,
            56,
            42.4,
            51.5,
            66.45833333333333,
            57,
            31,
            47.42857142857143,
            54.42857142857143,
            40.75,
            34.25,
            46.8
           ]
          }
         ],
         "name": "2016-04-10"
        },
        {
         "data": [
          {
           "coloraxis": "coloraxis",
           "customdata": [
            [
             "AL",
             "2016-04-17",
             63.25,
             2.0525,
             7.6175
            ],
            [
             "AK",
             "2016-04-17",
             41.45454545454545,
             0.5515151515151515,
             5.84030303030303
            ],
            [
             "AZ",
             "2016-04-17",
             61.6,
             0.044,
             6.048
            ],
            [
             "AR",
             "2016-04-17",
             60,
             1.0533333333333335,
             4.466666666666666
            ],
            [
             "CA",
             "2016-04-17",
             61.36842105263158,
             0.10052631578947369,
             5.909473684210527
            ],
            [
             "CO",
             "2016-04-17",
             46.666666666666664,
             0.8716666666666667,
             7.260000000000001
            ],
            [
             "CT",
             "2016-04-17",
             48.5,
             0.295,
             4.83
            ],
            [
             "DE",
             "2016-04-17",
             51,
             0.28,
             4.82
            ],
            [
             "FL",
             "2016-04-17",
             72.08333333333333,
             0.8558333333333333,
             8.102500000000001
            ],
            [
             "GA",
             "2016-04-17",
             61.333333333333336,
             0.555,
             6.3133333333333335
            ],
            [
             "HI",
             "2016-04-17",
             75.6,
             0.588,
             12.044
            ],
            [
             "ID",
             "2016-04-17",
             52,
             0.39666666666666667,
             5.333333333333333
            ],
            [
             "IL",
             "2016-04-17",
             53.833333333333336,
             0,
             7.446666666666666
            ],
            [
             "IN",
             "2016-04-17",
             52.25,
             0.5750000000000001,
             6.1
            ],
            [
             "IA",
             "2016-04-17",
             54.6,
             0.02,
             11.264
            ],
            [
             "KS",
             "2016-04-17",
             56.333333333333336,
             2.225,
             11.780000000000001
            ],
            [
             "KY",
             "2016-04-17",
             58.4,
             0.6359999999999999,
             4.618
            ],
            [
             "LA",
             "2016-04-17",
             69.6,
             2.33,
             8.564
            ],
            [
             "ME",
             "2016-04-17",
             41,
             0.6333333333333333,
             7.116666666666667
            ],
            [
             "MD",
             "2016-04-17",
             51,
             0.34500000000000003,
             5.355
            ],
            [
             "MA",
             "2016-04-17",
             46.5,
             0.255,
             8.07
            ],
            [
             "MI",
             "2016-04-17",
             46,
             0.044444444444444446,
             5.127777777777777
            ],
            [
             "MN",
             "2016-04-17",
             50.8,
             0.092,
             10.591999999999999
            ],
            [
             "MS",
             "2016-04-17",
             64.14285714285714,
             3.2842857142857147,
             7.248571428571429
            ],
            [
             "MO",
             "2016-04-17",
             57.42857142857143,
             0.3885714285714285,
             8.391428571428571
            ],
            [
             "MT",
             "2016-04-17",
             44.81818181818182,
             0.7954545454545454,
             5.795454545454546
            ],
            [
             "NE",
             "2016-04-17",
             53.125,
             1.3575,
             11.63875
            ],
            [
             "NV",
             "2016-04-17",
             53,
             0.08166666666666668,
             7.411666666666666
            ],
            [
             "NH",
             "2016-04-17",
             52,
             0.15,
             13.985
            ],
            [
             "NJ",
             "2016-04-17",
             50,
             0.215,
             5.035
            ],
            [
             "NM",
             "2016-04-17",
             54,
             0.35000000000000003,
             8.649999999999999
            ],
            [
             "NY",
             "2016-04-17",
             46.625,
             0.3425,
             5.67375
            ],
            [
             "NC",
             "2016-04-17",
             55.857142857142854,
             0.2414285714285714,
             6.727142857142858
            ],
            [
             "ND",
             "2016-04-17",
             44.2,
             0.514,
             9.564
            ],
            [
             "OH",
             "2016-04-17",
             49.57142857142857,
             0.6385714285714286,
             6.4399999999999995
            ],
            [
             "OK",
             "2016-04-17",
             59.75,
             2.2875,
             10.5425
            ],
            [
             "OR",
             "2016-04-17",
             52.25,
             0.6599999999999999,
             4.9625
            ],
            [
             "PA",
             "2016-04-17",
             50.714285714285715,
             0.31285714285714283,
             4.498571428571429
            ],
            [
             "RI",
             "2016-04-17",
             48,
             0.26,
             9.5
            ],
            [
             "SC",
             "2016-04-17",
             60.75,
             0.135,
             6.745
            ],
            [
             "SD",
             "2016-04-17",
             50.6,
             0.924,
             10.4
            ],
            [
             "TN",
             "2016-04-17",
             60,
             0.4225,
             4.195
            ],
            [
             "TX",
             "2016-04-17",
             66.79166666666667,
             1.6966666666666665,
             9.134166666666667
            ],
            [
             "UT",
             "2016-04-17",
             52,
             0.89,
             5.65
            ],
            [
             "VT",
             "2016-04-17",
             44,
             0.21,
             6.97
            ],
            [
             "VA",
             "2016-04-17",
             53.285714285714285,
             0.1557142857142857,
             6.507142857142857
            ],
            [
             "WA",
             "2016-04-17",
             51.42857142857143,
             0.4542857142857143,
             4.398571428571429
            ],
            [
             "WV",
             "2016-04-17",
             55,
             0.195,
             4.8675
            ],
            [
             "WI",
             "2016-04-17",
             48.75,
             0.0625,
             7.15
            ],
            [
             "WY",
             "2016-04-17",
             44.2,
             0.362,
             8.686
            ]
           ],
           "geo": "geo",
           "hovertemplate": "<b>%{hovertext}</b><br><br>Date=%{customdata[1]}<br>Temperature (F)=%{z:.4f}<br>Precipitation (inches)=%{customdata[3]:.4f}<br>Wind Speed (mph)=%{customdata[4]:.4f}<extra></extra>",
           "hovertext": [
            "Alabama (AL)",
            "Alaska (AK)",
            "Arizona (AZ)",
            "Arkansas (AR)",
            "California (CA)",
            "Colorado (CO)",
            "Connecticut (CT)",
            "Delaware (DE)",
            "Florida (FL)",
            "Georgia (GA)",
            "Hawaii (HI)",
            "Idaho (ID)",
            "Illinois (IL)",
            "Indiana (IN)",
            "Iowa (IA)",
            "Kansas (KS)",
            "Kentucky (KY)",
            "Louisiana (LA)",
            "Maine (ME)",
            "Maryland (MD)",
            "Massachusetts (MA)",
            "Michigan (MI)",
            "Minnesota (MN)",
            "Mississippi (MS)",
            "Missouri (MO)",
            "Montana (MT)",
            "Nebraska (NE)",
            "Nevada (NV)",
            "New Hampshire (NH)",
            "New Jersey (NJ)",
            "New Mexico (NM)",
            "New York (NY)",
            "North Carolina (NC)",
            "North Dakota (ND)",
            "Ohio (OH)",
            "Oklahoma (OK)",
            "Oregon (OR)",
            "Pennsylvania (PA)",
            "Rhode Island (RI)",
            "South Carolina (SC)",
            "South Dakota (SD)",
            "Tennessee (TN)",
            "Texas (TX)",
            "Utah (UT)",
            "Vermont (VT)",
            "Virginia (VA)",
            "Washington (WA)",
            "West Virginia (WV)",
            "Wisconsin (WI)",
            "Wyoming (WY)"
           ],
           "locationmode": "USA-states",
           "locations": [
            "AL",
            "AK",
            "AZ",
            "AR",
            "CA",
            "CO",
            "CT",
            "DE",
            "FL",
            "GA",
            "HI",
            "ID",
            "IL",
            "IN",
            "IA",
            "KS",
            "KY",
            "LA",
            "ME",
            "MD",
            "MA",
            "MI",
            "MN",
            "MS",
            "MO",
            "MT",
            "NE",
            "NV",
            "NH",
            "NJ",
            "NM",
            "NY",
            "NC",
            "ND",
            "OH",
            "OK",
            "OR",
            "PA",
            "RI",
            "SC",
            "SD",
            "TN",
            "TX",
            "UT",
            "VT",
            "VA",
            "WA",
            "WV",
            "WI",
            "WY"
           ],
           "name": "",
           "type": "choropleth",
           "z": [
            63.25,
            41.45454545454545,
            61.6,
            60,
            61.36842105263158,
            46.666666666666664,
            48.5,
            51,
            72.08333333333333,
            61.333333333333336,
            75.6,
            52,
            53.833333333333336,
            52.25,
            54.6,
            56.333333333333336,
            58.4,
            69.6,
            41,
            51,
            46.5,
            46,
            50.8,
            64.14285714285714,
            57.42857142857143,
            44.81818181818182,
            53.125,
            53,
            52,
            50,
            54,
            46.625,
            55.857142857142854,
            44.2,
            49.57142857142857,
            59.75,
            52.25,
            50.714285714285715,
            48,
            60.75,
            50.6,
            60,
            66.79166666666667,
            52,
            44,
            53.285714285714285,
            51.42857142857143,
            55,
            48.75,
            44.2
           ]
          }
         ],
         "name": "2016-04-17"
        },
        {
         "data": [
          {
           "coloraxis": "coloraxis",
           "customdata": [
            [
             "AL",
             "2016-04-24",
             67.5,
             0.2425,
             3.7350000000000003
            ],
            [
             "AK",
             "2016-04-24",
             44.878787878787875,
             0.3754545454545455,
             6.348484848484849
            ],
            [
             "AZ",
             "2016-04-24",
             67.2,
             0,
             5.368
            ],
            [
             "AR",
             "2016-04-24",
             64.66666666666667,
             0.7600000000000001,
             3.34
            ],
            [
             "CA",
             "2016-04-24",
             64.05263157894737,
             0.33263157894736844,
             5.634736842105263
            ],
            [
             "CO",
             "2016-04-24",
             48.666666666666664,
             0.22999999999999998,
             5.3133333333333335
            ],
            [
             "CT",
             "2016-04-24",
             57,
             0.39999999999999997,
             5.325
            ],
            [
             "DE",
             "2016-04-24",
             60,
             0.16,
             5.92
            ],
            [
             "FL",
             "2016-04-24",
             72.66666666666667,
             0.37833333333333335,
             7.315
            ],
            [
             "GA",
             "2016-04-24",
             66.33333333333333,
             0.24,
             3.331666666666667
            ],
            [
             "HI",
             "2016-04-24",
             75.6,
             0.8400000000000001,
             10.652000000000001
            ],
            [
             "ID",
             "2016-04-24",
             58,
             0.31666666666666665,
             5.1866666666666665
            ],
            [
             "IL",
             "2016-04-24",
             60,
             0.555,
             6.323333333333333
            ],
            [
             "IN",
             "2016-04-24",
             60.75,
             1.1175,
             5.3325000000000005
            ],
            [
             "IA",
             "2016-04-24",
             57.8,
             0.8939999999999999,
             7.662000000000001
            ],
            [
             "KS",
             "2016-04-24",
             58.5,
             0.9983333333333334,
             8.89
            ],
            [
             "KY",
             "2016-04-24",
             65,
             0.42000000000000004,
             3.2359999999999998
            ],
            [
             "LA",
             "2016-04-24",
             70.6,
             2.428,
             5.348000000000001
            ],
            [
             "ME",
             "2016-04-24",
             47,
             0.11,
             6.836666666666667
            ],
            [
             "MD",
             "2016-04-24",
             61,
             0.14500000000000002,
             4.78
            ],
            [
             "MA",
             "2016-04-24",
             54.5,
             0.055,
             5.465
            ],
            [
             "MI",
             "2016-04-24",
             50.333333333333336,
             0.2411111111111111,
             5.173333333333334
            ],
            [
             "MN",
             "2016-04-24",
             50.6,
             0.9019999999999999,
             8.282
            ],
            [
             "MS",
             "2016-04-24",
             68,
             0.38285714285714284,
             4.521428571428571
            ],
            [
             "MO",
             "2016-04-24",
             63,
             0.9085714285714286,
             7.208571428571429
            ],
            [
             "MT",
             "2016-04-24",
             51.90909090909091,
             0.7927272727272728,
             6.256363636363637
            ],
            [
             "NE",
             "2016-04-24",
             54.375,
             1.02875,
             9.2225
            ],
            [
             "NV",
             "2016-04-24",
             57,
             0.19166666666666665,
             6.256666666666667
            ],
            [
             "NH",
             "2016-04-24",
             56.5,
             0.015,
             18.495
            ],
            [
             "NJ",
             "2016-04-24",
             60.5,
             0.095,
             6.255
            ],
            [
             "NM",
             "2016-04-24",
             59,
             0.15333333333333332,
             7.32
            ],
            [
             "NY",
             "2016-04-24",
             54.25,
             0.085,
             6.2975
            ],
            [
             "NC",
             "2016-04-24",
             64.71428571428571,
             0.5385714285714286,
             4.951428571428571
            ],
            [
             "ND",
             "2016-04-24",
             48.6,
             1.0619999999999998,
             11.35
            ],
            [
             "OH",
             "2016-04-24",
             56.857142857142854,
             0.33142857142857146,
             5.502857142857144
            ],
            [
             "OK",
             "2016-04-24",
             63,
             1.2225000000000001,
             7.8875
            ],
            [
             "OR",
             "2016-04-24",
             57.25,
             0.5475,
             4.18
            ],
            [
             "PA",
             "2016-04-24",
             57.142857142857146,
             0.09,
             5.031428571428571
            ],
            [
             "RI",
             "2016-04-24",
             56,
             0.19,
             5.41
            ],
            [
             "SC",
             "2016-04-24",
             67.5,
             0.35500000000000004,
             4.1975
            ],
            [
             "SD",
             "2016-04-24",
             52.8,
             1.0539999999999998,
             9.222
            ],
            [
             "TN",
             "2016-04-24",
             65.875,
             0.76375,
             3.24625
            ],
            [
             "TX",
             "2016-04-24",
             68.41666666666667,
             2.2875,
             6.379583333333333
            ],
            [
             "UT",
             "2016-04-24",
             60,
             0.24,
             5.57
            ],
            [
             "VT",
             "2016-04-24",
             49,
             0.34,
             6.78
            ],
            [
             "VA",
             "2016-04-24",
             62.57142857142857,
             0.34142857142857147,
             5.352857142857142
            ],
            [
             "WA",
             "2016-04-24",
             60.142857142857146,
             0.20142857142857143,
             4.324285714285714
            ],
            [
             "WV",
             "2016-04-24",
             61.75,
             0.615,
             3.6375
            ],
            [
             "WI",
             "2016-04-24",
             53.75,
             0.245,
             6.765
            ],
            [
             "WY",
             "2016-04-24",
             46.8,
             1.116,
             6.386
            ]
           ],
           "geo": "geo",
           "hovertemplate": "<b>%{hovertext}</b><br><br>Date=%{customdata[1]}<br>Temperature (F)=%{z:.4f}<br>Precipitation (inches)=%{customdata[3]:.4f}<br>Wind Speed (mph)=%{customdata[4]:.4f}<extra></extra>",
           "hovertext": [
            "Alabama (AL)",
            "Alaska (AK)",
            "Arizona (AZ)",
            "Arkansas (AR)",
            "California (CA)",
            "Colorado (CO)",
            "Connecticut (CT)",
            "Delaware (DE)",
            "Florida (FL)",
            "Georgia (GA)",
            "Hawaii (HI)",
            "Idaho (ID)",
            "Illinois (IL)",
            "Indiana (IN)",
            "Iowa (IA)",
            "Kansas (KS)",
            "Kentucky (KY)",
            "Louisiana (LA)",
            "Maine (ME)",
            "Maryland (MD)",
            "Massachusetts (MA)",
            "Michigan (MI)",
            "Minnesota (MN)",
            "Mississippi (MS)",
            "Missouri (MO)",
            "Montana (MT)",
            "Nebraska (NE)",
            "Nevada (NV)",
            "New Hampshire (NH)",
            "New Jersey (NJ)",
            "New Mexico (NM)",
            "New York (NY)",
            "North Carolina (NC)",
            "North Dakota (ND)",
            "Ohio (OH)",
            "Oklahoma (OK)",
            "Oregon (OR)",
            "Pennsylvania (PA)",
            "Rhode Island (RI)",
            "South Carolina (SC)",
            "South Dakota (SD)",
            "Tennessee (TN)",
            "Texas (TX)",
            "Utah (UT)",
            "Vermont (VT)",
            "Virginia (VA)",
            "Washington (WA)",
            "West Virginia (WV)",
            "Wisconsin (WI)",
            "Wyoming (WY)"
           ],
           "locationmode": "USA-states",
           "locations": [
            "AL",
            "AK",
            "AZ",
            "AR",
            "CA",
            "CO",
            "CT",
            "DE",
            "FL",
            "GA",
            "HI",
            "ID",
            "IL",
            "IN",
            "IA",
            "KS",
            "KY",
            "LA",
            "ME",
            "MD",
            "MA",
            "MI",
            "MN",
            "MS",
            "MO",
            "MT",
            "NE",
            "NV",
            "NH",
            "NJ",
            "NM",
            "NY",
            "NC",
            "ND",
            "OH",
            "OK",
            "OR",
            "PA",
            "RI",
            "SC",
            "SD",
            "TN",
            "TX",
            "UT",
            "VT",
            "VA",
            "WA",
            "WV",
            "WI",
            "WY"
           ],
           "name": "",
           "type": "choropleth",
           "z": [
            67.5,
            44.878787878787875,
            67.2,
            64.66666666666667,
            64.05263157894737,
            48.666666666666664,
            57,
            60,
            72.66666666666667,
            66.33333333333333,
            75.6,
            58,
            60,
            60.75,
            57.8,
            58.5,
            65,
            70.6,
            47,
            61,
            54.5,
            50.333333333333336,
            50.6,
            68,
            63,
            51.90909090909091,
            54.375,
            57,
            56.5,
            60.5,
            59,
            54.25,
            64.71428571428571,
            48.6,
            56.857142857142854,
            63,
            57.25,
            57.142857142857146,
            56,
            67.5,
            52.8,
            65.875,
            68.41666666666667,
            60,
            49,
            62.57142857142857,
            60.142857142857146,
            61.75,
            53.75,
            46.8
           ]
          }
         ],
         "name": "2016-04-24"
        },
        {
         "data": [
          {
           "coloraxis": "coloraxis",
           "customdata": [
            [
             "AL",
             "2016-05-01",
             73,
             0.0875,
             3.65
            ],
            [
             "AK",
             "2016-05-01",
             46.63636363636363,
             0.2675757575757576,
             6.244242424242424
            ],
            [
             "AZ",
             "2016-05-01",
             59.8,
             0.057999999999999996,
             3.3600000000000003
            ],
            [
             "AR",
             "2016-05-01",
             65.33333333333333,
             0,
             4.133333333333334
            ],
            [
             "CA",
             "2016-05-01",
             65.94736842105263,
             0.005789473684210527,
             2.8421052631578947
            ],
            [
             "CO",
             "2016-05-01",
             41,
             0.023333333333333334,
             8.716666666666667
            ],
            [
             "CT",
             "2016-05-01",
             46.5,
             0.115,
             5.75
            ],
            [
             "DE",
             "2016-05-01",
             50,
             0.36,
             5.6
            ],
            [
             "FL",
             "2016-05-01",
             79.83333333333333,
             0,
             9.1
            ],
            [
             "GA",
             "2016-05-01",
             76.83333333333333,
             0.05499999999999999,
             3.9499999999999997
            ],
            [
             "HI",
             "2016-05-01",
             78.2,
             0.072,
             12.14
            ],
            [
             "ID",
             "2016-05-01",
             55,
             0,
             2.6999999999999997
            ],
            [
             "IL",
             "2016-05-01",
             51.666666666666664,
             0.18999999999999997,
             8.4
            ],
            [
             "IN",
             "2016-05-01",
             60.25,
             0.42250000000000004,
             5.175
            ],
            [
             "IA",
             "2016-05-01",
             47,
             0.21999999999999997,
             10.040000000000001
            ],
            [
             "KS",
             "2016-05-01",
             46.666666666666664,
             0.0033333333333333335,
             11.933333333333332
            ],
            [
             "KY",
             "2016-05-01",
             71.2,
             0.608,
             3.62
            ],
            [
             "LA",
             "2016-05-01",
             72.4,
             2.02,
             5.46
            ],
            [
             "ME",
             "2016-05-01",
             46.666666666666664,
             0.006666666666666667,
             3.6
            ],
            [
             "MD",
             "2016-05-01",
             53,
             0.59,
             5.05
            ],
            [
             "MA",
             "2016-05-01",
             50.666666666666664,
             0.05000000000000001,
             5.8999999999999995
            ],
            [
             "MI",
             "2016-05-01",
             48.55555555555556,
             0.03888888888888889,
             7.7555555555555555
            ],
            [
             "MN",
             "2016-05-01",
             47.4,
             0,
             7
            ],
            [
             "MS",
             "2016-05-01",
             71.85714285714286,
             0.30142857142857143,
             4.957142857142857
            ],
            [
             "MO",
             "2016-05-01",
             59.57142857142857,
             0.005714285714285714,
             6.828571428571428
            ],
            [
             "MT",
             "2016-05-01",
             49,
             0,
             2.3000000000000003
            ],
            [
             "NE",
             "2016-05-01",
             45,
             0.08750000000000001,
             10.899999999999999
            ],
            [
             "NV",
             "2016-05-01",
             52.5,
             0,
             5.3
            ],
            [
             "NH",
             "2016-05-01",
             52.5,
             0.105,
             7.699999999999999
            ],
            [
             "NJ",
             "2016-05-01",
             48.5,
             0.5700000000000001,
             5.05
            ],
            [
             "NM",
             "2016-05-01",
             43.666666666666664,
             0.06999999999999999,
             19.3
            ],
            [
             "NY",
             "2016-05-01",
             47.75,
             0.22,
             6.449999999999999
            ],
            [
             "NC",
             "2016-05-01",
             68.57142857142857,
             0.3257142857142857,
             5.142857142857143
            ],
            [
             "ND",
             "2016-05-01",
             48.4,
             0,
             2.7
            ],
            [
             "OH",
             "2016-05-01",
             61.285714285714285,
             0.20285714285714285,
             3.642857142857143
            ],
            [
             "OK",
             "2016-05-01",
             54.25,
             0.005,
             11.9
            ],
            [
             "OR",
             "2016-05-01",
             58.875,
             0,
             4.4625
            ],
            [
             "PA",
             "2016-05-01",
             51.57142857142857,
             0.38,
             5.371428571428572
            ],
            [
             "RI",
             "2016-05-01",
             46,
             0.1,
             3.4
            ],
            [
             "SC",
             "2016-05-01",
             75.75,
             0.47000000000000003,
             5.5249999999999995
            ],
            [
             "SD",
             "2016-05-01",
             47.2,
             0.012,
             8.02
            ],
            [
             "TN",
             "2016-05-01",
             72,
             0.09,
             4.0625
            ],
            [
             "TX",
             "2016-05-01",
             66.5,
             0.21375,
             12.279166666666667
            ],
            [
             "UT",
             "2016-05-01",
             57,
             0,
             10.8
            ],
            [
             "VT",
             "2016-05-01",
             47,
             0.28,
             3.1
            ],
            [
             "VA",
             "2016-05-01",
             62,
             0.7528571428571428,
             4.385714285714286
            ],
            [
             "WA",
             "2016-05-01",
             59.857142857142854,
             0,
             5.057142857142857
            ],
            [
             "WV",
             "2016-05-01",
             67.5,
             1.3025,
             3.05
            ],
            [
             "WI",
             "2016-05-01",
             48.5,
             0.0375,
             11.675
            ],
            [
             "WY",
             "2016-05-01",
             40.2,
             0.002,
             6.540000000000001
            ]
           ],
           "geo": "geo",
           "hovertemplate": "<b>%{hovertext}</b><br><br>Date=%{customdata[1]}<br>Temperature (F)=%{z:.4f}<br>Precipitation (inches)=%{customdata[3]:.4f}<br>Wind Speed (mph)=%{customdata[4]:.4f}<extra></extra>",
           "hovertext": [
            "Alabama (AL)",
            "Alaska (AK)",
            "Arizona (AZ)",
            "Arkansas (AR)",
            "California (CA)",
            "Colorado (CO)",
            "Connecticut (CT)",
            "Delaware (DE)",
            "Florida (FL)",
            "Georgia (GA)",
            "Hawaii (HI)",
            "Idaho (ID)",
            "Illinois (IL)",
            "Indiana (IN)",
            "Iowa (IA)",
            "Kansas (KS)",
            "Kentucky (KY)",
            "Louisiana (LA)",
            "Maine (ME)",
            "Maryland (MD)",
            "Massachusetts (MA)",
            "Michigan (MI)",
            "Minnesota (MN)",
            "Mississippi (MS)",
            "Missouri (MO)",
            "Montana (MT)",
            "Nebraska (NE)",
            "Nevada (NV)",
            "New Hampshire (NH)",
            "New Jersey (NJ)",
            "New Mexico (NM)",
            "New York (NY)",
            "North Carolina (NC)",
            "North Dakota (ND)",
            "Ohio (OH)",
            "Oklahoma (OK)",
            "Oregon (OR)",
            "Pennsylvania (PA)",
            "Rhode Island (RI)",
            "South Carolina (SC)",
            "South Dakota (SD)",
            "Tennessee (TN)",
            "Texas (TX)",
            "Utah (UT)",
            "Vermont (VT)",
            "Virginia (VA)",
            "Washington (WA)",
            "West Virginia (WV)",
            "Wisconsin (WI)",
            "Wyoming (WY)"
           ],
           "locationmode": "USA-states",
           "locations": [
            "AL",
            "AK",
            "AZ",
            "AR",
            "CA",
            "CO",
            "CT",
            "DE",
            "FL",
            "GA",
            "HI",
            "ID",
            "IL",
            "IN",
            "IA",
            "KS",
            "KY",
            "LA",
            "ME",
            "MD",
            "MA",
            "MI",
            "MN",
            "MS",
            "MO",
            "MT",
            "NE",
            "NV",
            "NH",
            "NJ",
            "NM",
            "NY",
            "NC",
            "ND",
            "OH",
            "OK",
            "OR",
            "PA",
            "RI",
            "SC",
            "SD",
            "TN",
            "TX",
            "UT",
            "VT",
            "VA",
            "WA",
            "WV",
            "WI",
            "WY"
           ],
           "name": "",
           "type": "choropleth",
           "z": [
            73,
            46.63636363636363,
            59.8,
            65.33333333333333,
            65.94736842105263,
            41,
            46.5,
            50,
            79.83333333333333,
            76.83333333333333,
            78.2,
            55,
            51.666666666666664,
            60.25,
            47,
            46.666666666666664,
            71.2,
            72.4,
            46.666666666666664,
            53,
            50.666666666666664,
            48.55555555555556,
            47.4,
            71.85714285714286,
            59.57142857142857,
            49,
            45,
            52.5,
            52.5,
            48.5,
            43.666666666666664,
            47.75,
            68.57142857142857,
            48.4,
            61.285714285714285,
            54.25,
            58.875,
            51.57142857142857,
            46,
            75.75,
            47.2,
            72,
            66.5,
            57,
            47,
            62,
            59.857142857142854,
            67.5,
            48.5,
            40.2
           ]
          }
         ],
         "name": "2016-05-01"
        },
        {
         "data": [
          {
           "coloraxis": "coloraxis",
           "customdata": [
            [
             "AL",
             "2016-05-08",
             66,
             0.315,
             5.435
            ],
            [
             "AK",
             "2016-05-08",
             45.60606060606061,
             0.8454545454545455,
             5.752727272727273
            ],
            [
             "AZ",
             "2016-05-08",
             66.8,
             0.078,
             6.56
            ],
            [
             "AR",
             "2016-05-08",
             63,
             0.02666666666666667,
             3.0666666666666664
            ],
            [
             "CA",
             "2016-05-08",
             62.1578947368421,
             0.2305263157894737,
             4.766315789473684
            ],
            [
             "CO",
             "2016-05-08",
             53.166666666666664,
             0.2333333333333333,
             4.68
            ],
            [
             "CT",
             "2016-05-08",
             51.5,
             1.49,
             7.515000000000001
            ],
            [
             "DE",
             "2016-05-08",
             55,
             2.25,
             7.22
            ],
            [
             "FL",
             "2016-05-08",
             72.66666666666667,
             1.3341666666666667,
             6.790833333333333
            ],
            [
             "GA",
             "2016-05-08",
             67.66666666666667,
             0.6266666666666666,
             6.956666666666667
            ],
            [
             "HI",
             "2016-05-08",
             76.4,
             0.6060000000000001,
             8.374
            ],
            [
             "ID",
             "2016-05-08",
             63,
             0.3466666666666667,
             4.256666666666667
            ],
            [
             "IL",
             "2016-05-08",
             57.166666666666664,
             0.5266666666666667,
             6.501666666666666
            ],
            [
             "IN",
             "2016-05-08",
             54.5,
             0.535,
             6.725
            ],
            [
             "IA",
             "2016-05-08",
             56.8,
             0.13799999999999998,
             7.404000000000001
            ],
            [
             "KS",
             "2016-05-08",
             61.166666666666664,
             0.21333333333333335,
             7.541666666666667
            ],
            [
             "KY",
             "2016-05-08",
             58.6,
             0.6759999999999999,
             5.132
            ],
            [
             "LA",
             "2016-05-08",
             68.6,
             0.288,
             5.054
            ],
            [
             "ME",
             "2016-05-08",
             49,
             1.1033333333333333,
             6.063333333333333
            ],
            [
             "MD",
             "2016-05-08",
             56.5,
             1.75,
             5.025
            ],
            [
             "MA",
             "2016-05-08",
             51.333333333333336,
             0.8733333333333334,
             8.796666666666667
            ],
            [
             "MI",
             "2016-05-08",
             51.666666666666664,
             0.55,
             5.104444444444444
            ],
            [
             "MN",
             "2016-05-08",
             56.4,
             0.10800000000000001,
             7.324
            ],
            [
             "MS",
             "2016-05-08",
             65,
             0.1685714285714286,
             4.694285714285714
            ],
            [
             "MO",
             "2016-05-08",
             60.285714285714285,
             0.14714285714285716,
             6.267142857142858
            ],
            [
             "MT",
             "2016-05-08",
             58.54545454545455,
             0.056363636363636366,
             5.309090909090909
            ],
            [
             "NE",
             "2016-05-08",
             58.875,
             0.495,
             7.7
            ],
            [
             "NV",
             "2016-05-08",
             57.833333333333336,
             0.4633333333333333,
             4.405
            ],
            [
             "NH",
             "2016-05-08",
             54,
             0.46,
             10.765
            ],
            [
             "NJ",
             "2016-05-08",
             53.5,
             2.07,
             7.095000000000001
            ],
            [
             "NM",
             "2016-05-08",
             61,
             0,
             7.253333333333333
            ],
            [
             "NY",
             "2016-05-08",
             51.5,
             1.01375,
             6.255
            ],
            [
             "NC",
             "2016-05-08",
             64.42857142857143,
             2.0571428571428574,
             5.997142857142856
            ],
            [
             "ND",
             "2016-05-08",
             58,
             0.01,
             7.15
            ],
            [
             "OH",
             "2016-05-08",
             53.142857142857146,
             0.6071428571428571,
             6.0685714285714285
            ],
            [
             "OK",
             "2016-05-08",
             63.25,
             0.02,
             8.1075
            ],
            [
             "OR",
             "2016-05-08",
             61,
             0.18875,
             5.79
            ],
            [
             "PA",
             "2016-05-08",
             54.142857142857146,
             1.2228571428571429,
             5.507142857142857
            ],
            [
             "RI",
             "2016-05-08",
             50,
             1.02,
             9.45
            ],
            [
             "SC",
             "2016-05-08",
             68.25,
             0.39749999999999996,
             7.8375
            ],
            [
             "SD",
             "2016-05-08",
             58.2,
             0.004,
             6.614
            ],
            [
             "TN",
             "2016-05-08",
             61.875,
             0.5475,
             5.5075
            ],
            [
             "TX",
             "2016-05-08",
             68.41666666666667,
             0.24875,
             8.221666666666666
            ],
            [
             "UT",
             "2016-05-08",
             61,
             0.64,
             5.21
            ],
            [
             "VT",
             "2016-05-08",
             52,
             0.96,
             5.28
            ],
            [
             "VA",
             "2016-05-08",
             60.714285714285715,
             2.2114285714285713,
             5.275714285714286
            ],
            [
             "WA",
             "2016-05-08",
             62.57142857142857,
             0.06571428571428571,
             5.29
            ],
            [
             "WV",
             "2016-05-08",
             56.5,
             1.405,
             4.8125
            ],
            [
             "WI",
             "2016-05-08",
             54.75,
             0.1475,
             5.9425
            ],
            [
             "WY",
             "2016-05-08",
             51.4,
             1.394,
             5.536
            ]
           ],
           "geo": "geo",
           "hovertemplate": "<b>%{hovertext}</b><br><br>Date=%{customdata[1]}<br>Temperature (F)=%{z:.4f}<br>Precipitation (inches)=%{customdata[3]:.4f}<br>Wind Speed (mph)=%{customdata[4]:.4f}<extra></extra>",
           "hovertext": [
            "Alabama (AL)",
            "Alaska (AK)",
            "Arizona (AZ)",
            "Arkansas (AR)",
            "California (CA)",
            "Colorado (CO)",
            "Connecticut (CT)",
            "Delaware (DE)",
            "Florida (FL)",
            "Georgia (GA)",
            "Hawaii (HI)",
            "Idaho (ID)",
            "Illinois (IL)",
            "Indiana (IN)",
            "Iowa (IA)",
            "Kansas (KS)",
            "Kentucky (KY)",
            "Louisiana (LA)",
            "Maine (ME)",
            "Maryland (MD)",
            "Massachusetts (MA)",
            "Michigan (MI)",
            "Minnesota (MN)",
            "Mississippi (MS)",
            "Missouri (MO)",
            "Montana (MT)",
            "Nebraska (NE)",
            "Nevada (NV)",
            "New Hampshire (NH)",
            "New Jersey (NJ)",
            "New Mexico (NM)",
            "New York (NY)",
            "North Carolina (NC)",
            "North Dakota (ND)",
            "Ohio (OH)",
            "Oklahoma (OK)",
            "Oregon (OR)",
            "Pennsylvania (PA)",
            "Rhode Island (RI)",
            "South Carolina (SC)",
            "South Dakota (SD)",
            "Tennessee (TN)",
            "Texas (TX)",
            "Utah (UT)",
            "Vermont (VT)",
            "Virginia (VA)",
            "Washington (WA)",
            "West Virginia (WV)",
            "Wisconsin (WI)",
            "Wyoming (WY)"
           ],
           "locationmode": "USA-states",
           "locations": [
            "AL",
            "AK",
            "AZ",
            "AR",
            "CA",
            "CO",
            "CT",
            "DE",
            "FL",
            "GA",
            "HI",
            "ID",
            "IL",
            "IN",
            "IA",
            "KS",
            "KY",
            "LA",
            "ME",
            "MD",
            "MA",
            "MI",
            "MN",
            "MS",
            "MO",
            "MT",
            "NE",
            "NV",
            "NH",
            "NJ",
            "NM",
            "NY",
            "NC",
            "ND",
            "OH",
            "OK",
            "OR",
            "PA",
            "RI",
            "SC",
            "SD",
            "TN",
            "TX",
            "UT",
            "VT",
            "VA",
            "WA",
            "WV",
            "WI",
            "WY"
           ],
           "name": "",
           "type": "choropleth",
           "z": [
            66,
            45.60606060606061,
            66.8,
            63,
            62.1578947368421,
            53.166666666666664,
            51.5,
            55,
            72.66666666666667,
            67.66666666666667,
            76.4,
            63,
            57.166666666666664,
            54.5,
            56.8,
            61.166666666666664,
            58.6,
            68.6,
            49,
            56.5,
            51.333333333333336,
            51.666666666666664,
            56.4,
            65,
            60.285714285714285,
            58.54545454545455,
            58.875,
            57.833333333333336,
            54,
            53.5,
            61,
            51.5,
            64.42857142857143,
            58,
            53.142857142857146,
            63.25,
            61,
            54.142857142857146,
            50,
            68.25,
            58.2,
            61.875,
            68.41666666666667,
            61,
            52,
            60.714285714285715,
            62.57142857142857,
            56.5,
            54.75,
            51.4
           ]
          }
         ],
         "name": "2016-05-08"
        },
        {
         "data": [
          {
           "coloraxis": "coloraxis",
           "customdata": [
            [
             "AL",
             "2016-05-15",
             71.75,
             0.405,
             5.4675
            ],
            [
             "AK",
             "2016-05-15",
             52.333333333333336,
             0.20727272727272728,
             5.734848484848484
            ],
            [
             "AZ",
             "2016-05-15",
             73,
             0,
             4.91
            ],
            [
             "AR",
             "2016-05-15",
             66.66666666666667,
             1.7566666666666666,
             3.34
            ],
            [
             "CA",
             "2016-05-15",
             65.26315789473684,
             0.004210526315789474,
             6.191052631578947
            ],
            [
             "CO",
             "2016-05-15",
             54,
             0.29333333333333333,
             4.71
            ],
            [
             "CT",
             "2016-05-15",
             58.5,
             0.21,
             5.995
            ],
            [
             "DE",
             "2016-05-15",
             59,
             0.3,
             6.22
            ],
            [
             "FL",
             "2016-05-15",
             77.16666666666667,
             0.055,
             5.3133333333333335
            ],
            [
             "GA",
             "2016-05-15",
             72.5,
             0.011666666666666665,
             4.7299999999999995
            ],
            [
             "HI",
             "2016-05-15",
             76,
             0.366,
             7.946
            ],
            [
             "ID",
             "2016-05-15",
             58,
             0.27666666666666667,
             5.5566666666666675
            ],
            [
             "IL",
             "2016-05-15",
             57.333333333333336,
             1.6316666666666666,
             8.24
            ],
            [
             "IN",
             "2016-05-15",
             57.75,
             2.19,
             7.9525
            ],
            [
             "IA",
             "2016-05-15",
             55,
             1.188,
             9.203999999999999
            ],
            [
             "KS",
             "2016-05-15",
             59.666666666666664,
             0.9616666666666668,
             6.896666666666667
            ],
            [
             "KY",
             "2016-05-15",
             62.8,
             1.9380000000000002,
             5.33
            ],
            [
             "LA",
             "2016-05-15",
             76,
             0.174,
             5.976
            ],
            [
             "ME",
             "2016-05-15",
             53.666666666666664,
             0.6233333333333333,
             6.863333333333333
            ],
            [
             "MD",
             "2016-05-15",
             58,
             1.145,
             5.05
            ],
            [
             "MA",
             "2016-05-15",
             59,
             0.08,
             9.383333333333333
            ],
            [
             "MI",
             "2016-05-15",
             50.77777777777778,
             0.9433333333333334,
             7.426666666666667
            ],
            [
             "MN",
             "2016-05-15",
             47.6,
             0.844,
             10.437999999999999
            ],
            [
             "MS",
             "2016-05-15",
             71.85714285714286,
             0.2414285714285714,
             6.461428571428571
            ],
            [
             "MO",
             "2016-05-15",
             62,
             1.1814285714285713,
             6.752857142857143
            ],
            [
             "MT",
             "2016-05-15",
             45.36363636363637,
             0.9736363636363637,
             8.426363636363636
            ],
            [
             "NE",
             "2016-05-15",
             53.125,
             1.3625,
             8.1075
            ],
            [
             "NV",
             "2016-05-15",
             61.666666666666664,
             0.005,
             5.776666666666666
            ],
            [
             "NH",
             "2016-05-15",
             58,
             0.23,
             19.470000000000002
            ],
            [
             "NJ",
             "2016-05-15",
             59,
             0.295,
             6.115
            ],
            [
             "NM",
             "2016-05-15",
             64.66666666666667,
             0.19333333333333336,
             7.666666666666667
            ],
            [
             "NY",
             "2016-05-15",
             55,
             0.48250000000000004,
             6.65125
            ],
            [
             "NC",
             "2016-05-15",
             68.71428571428571,
             0.5928571428571429,
             4.691428571428572
            ],
            [
             "ND",
             "2016-05-15",
             48.8,
             0.13,
             12.16
            ],
            [
             "OH",
             "2016-05-15",
             55.714285714285715,
             1.1128571428571428,
             7.644285714285715
            ],
            [
             "OK",
             "2016-05-15",
             65.75,
             0.315,
             7.9825
            ],
            [
             "OR",
             "2016-05-15",
             58.375,
             0.48625,
             4.1475
            ],
            [
             "PA",
             "2016-05-15",
             56.857142857142854,
             0.5742857142857144,
             5.502857142857144
            ],
            [
             "RI",
             "2016-05-15",
             58,
             0.36,
             6.85
            ],
            [
             "SC",
             "2016-05-15",
             72.5,
             0.3075,
             4.895
            ],
            [
             "SD",
             "2016-05-15",
             50.2,
             0.55,
             9.428
            ],
            [
             "TN",
             "2016-05-15",
             66.375,
             1.02375,
             4.815
            ],
            [
             "TX",
             "2016-05-15",
             73.625,
             1.0625,
             8.364166666666668
            ],
            [
             "UT",
             "2016-05-15",
             61,
             0.25,
             4.71
            ],
            [
             "VT",
             "2016-05-15",
             55,
             0.51,
             6.01
            ],
            [
             "VA",
             "2016-05-15",
             62.42857142857143,
             1.1685714285714286,
             5.3342857142857145
            ],
            [
             "WA",
             "2016-05-15",
             57.857142857142854,
             0.18714285714285714,
             4.638571428571429
            ],
            [
             "WV",
             "2016-05-15",
             60,
             1.2775,
             4.27
            ],
            [
             "WI",
             "2016-05-15",
             50.5,
             1.29,
             8.692499999999999
            ],
            [
             "WY",
             "2016-05-15",
             45.2,
             0.244,
             8.684000000000001
            ]
           ],
           "geo": "geo",
           "hovertemplate": "<b>%{hovertext}</b><br><br>Date=%{customdata[1]}<br>Temperature (F)=%{z:.4f}<br>Precipitation (inches)=%{customdata[3]:.4f}<br>Wind Speed (mph)=%{customdata[4]:.4f}<extra></extra>",
           "hovertext": [
            "Alabama (AL)",
            "Alaska (AK)",
            "Arizona (AZ)",
            "Arkansas (AR)",
            "California (CA)",
            "Colorado (CO)",
            "Connecticut (CT)",
            "Delaware (DE)",
            "Florida (FL)",
            "Georgia (GA)",
            "Hawaii (HI)",
            "Idaho (ID)",
            "Illinois (IL)",
            "Indiana (IN)",
            "Iowa (IA)",
            "Kansas (KS)",
            "Kentucky (KY)",
            "Louisiana (LA)",
            "Maine (ME)",
            "Maryland (MD)",
            "Massachusetts (MA)",
            "Michigan (MI)",
            "Minnesota (MN)",
            "Mississippi (MS)",
            "Missouri (MO)",
            "Montana (MT)",
            "Nebraska (NE)",
            "Nevada (NV)",
            "New Hampshire (NH)",
            "New Jersey (NJ)",
            "New Mexico (NM)",
            "New York (NY)",
            "North Carolina (NC)",
            "North Dakota (ND)",
            "Ohio (OH)",
            "Oklahoma (OK)",
            "Oregon (OR)",
            "Pennsylvania (PA)",
            "Rhode Island (RI)",
            "South Carolina (SC)",
            "South Dakota (SD)",
            "Tennessee (TN)",
            "Texas (TX)",
            "Utah (UT)",
            "Vermont (VT)",
            "Virginia (VA)",
            "Washington (WA)",
            "West Virginia (WV)",
            "Wisconsin (WI)",
            "Wyoming (WY)"
           ],
           "locationmode": "USA-states",
           "locations": [
            "AL",
            "AK",
            "AZ",
            "AR",
            "CA",
            "CO",
            "CT",
            "DE",
            "FL",
            "GA",
            "HI",
            "ID",
            "IL",
            "IN",
            "IA",
            "KS",
            "KY",
            "LA",
            "ME",
            "MD",
            "MA",
            "MI",
            "MN",
            "MS",
            "MO",
            "MT",
            "NE",
            "NV",
            "NH",
            "NJ",
            "NM",
            "NY",
            "NC",
            "ND",
            "OH",
            "OK",
            "OR",
            "PA",
            "RI",
            "SC",
            "SD",
            "TN",
            "TX",
            "UT",
            "VT",
            "VA",
            "WA",
            "WV",
            "WI",
            "WY"
           ],
           "name": "",
           "type": "choropleth",
           "z": [
            71.75,
            52.333333333333336,
            73,
            66.66666666666667,
            65.26315789473684,
            54,
            58.5,
            59,
            77.16666666666667,
            72.5,
            76,
            58,
            57.333333333333336,
            57.75,
            55,
            59.666666666666664,
            62.8,
            76,
            53.666666666666664,
            58,
            59,
            50.77777777777778,
            47.6,
            71.85714285714286,
            62,
            45.36363636363637,
            53.125,
            61.666666666666664,
            58,
            59,
            64.66666666666667,
            55,
            68.71428571428571,
            48.8,
            55.714285714285715,
            65.75,
            58.375,
            56.857142857142854,
            58,
            72.5,
            50.2,
            66.375,
            73.625,
            61,
            55,
            62.42857142857143,
            57.857142857142854,
            60,
            50.5,
            45.2
           ]
          }
         ],
         "name": "2016-05-15"
        },
        {
         "data": [
          {
           "coloraxis": "coloraxis",
           "customdata": [
            [
             "AL",
             "2016-05-22",
             72,
             0.745,
             5.0325
            ],
            [
             "AK",
             "2016-05-22",
             50.121212121212125,
             0.49333333333333335,
             6.843030303030303
            ],
            [
             "AZ",
             "2016-05-22",
             70.6,
             0.036,
             7.026000000000001
            ],
            [
             "AR",
             "2016-05-22",
             62.666666666666664,
             0.38999999999999996,
             3.5566666666666666
            ],
            [
             "CA",
             "2016-05-22",
             64.15789473684211,
             0.07894736842105263,
             7.473684210526316
            ],
            [
             "CO",
             "2016-05-22",
             56.166666666666664,
             0.39666666666666667,
             6.095
            ],
            [
             "CT",
             "2016-05-22",
             58,
             0.01,
             4.699999999999999
            ],
            [
             "DE",
             "2016-05-22",
             58,
             1.9,
             4.84
            ],
            [
             "FL",
             "2016-05-22",
             79.33333333333333,
             3.1941666666666664,
             5.426666666666667
            ],
            [
             "GA",
             "2016-05-22",
             70.66666666666667,
             2.5066666666666664,
             4.673333333333333
            ],
            [
             "HI",
             "2016-05-22",
             77.8,
             0.406,
             11.534
            ],
            [
             "ID",
             "2016-05-22",
             56.333333333333336,
             0.57,
             4.0633333333333335
            ],
            [
             "IL",
             "2016-05-22",
             58.833333333333336,
             0.06,
             4.541666666666667
            ],
            [
             "IN",
             "2016-05-22",
             57.25,
             0.2975,
             6.2875
            ],
            [
             "IA",
             "2016-05-22",
             58.4,
             0.03,
             5.5520000000000005
            ],
            [
             "KS",
             "2016-05-22",
             58.833333333333336,
             1.0683333333333334,
             10.685
            ],
            [
             "KY",
             "2016-05-22",
             57.8,
             1.21,
             5.0920000000000005
            ],
            [
             "LA",
             "2016-05-22",
             74.8,
             2.626,
             4.5920000000000005
            ],
            [
             "ME",
             "2016-05-22",
             56,
             0.18666666666666668,
             5.413333333333334
            ],
            [
             "MD",
             "2016-05-22",
             58,
             1,
             4.99
            ],
            [
             "MA",
             "2016-05-22",
             57.666666666666664,
             0.06333333333333334,
             7.616666666666666
            ],
            [
             "MI",
             "2016-05-22",
             55.44444444444444,
             0.0044444444444444444,
             3.8533333333333335
            ],
            [
             "MN",
             "2016-05-22",
             57,
             0.004,
             4.61
            ],
            [
             "MS",
             "2016-05-22",
             71.14285714285714,
             1.0057142857142858,
             4.8757142857142854
            ],
            [
             "MO",
             "2016-05-22",
             58.57142857142857,
             1.4485714285714286,
             6.0842857142857145
            ],
            [
             "MT",
             "2016-05-22",
             54,
             0.8145454545454545,
             6.280909090909091
            ],
            [
             "NE",
             "2016-05-22",
             57.125,
             0.7050000000000001,
             10.11
            ],
            [
             "NV",
             "2016-05-22",
             57.666666666666664,
             0.16,
             7.751666666666666
            ],
            [
             "NH",
             "2016-05-22",
             58,
             0.095,
             15.93
            ],
            [
             "NJ",
             "2016-05-22",
             58.5,
             0.465,
             5.46
            ],
            [
             "NM",
             "2016-05-22",
             62,
             0.24666666666666667,
             9.406666666666666
            ],
            [
             "NY",
             "2016-05-22",
             56.125,
             0.08125,
             4.9175
            ],
            [
             "NC",
             "2016-05-22",
             63.142857142857146,
             1.5842857142857143,
             4.7299999999999995
            ],
            [
             "ND",
             "2016-05-22",
             60.2,
             0.07,
             10.7
            ],
            [
             "OH",
             "2016-05-22",
             55.142857142857146,
             0.39142857142857146,
             5.874285714285714
            ],
            [
             "OK",
             "2016-05-22",
             62.75,
             1.8624999999999998,
             8.585
            ],
            [
             "OR",
             "2016-05-22",
             55.375,
             0.4575,
             5.4025
            ],
            [
             "PA",
             "2016-05-22",
             56.57142857142857,
             0.7814285714285715,
             4.1571428571428575
            ],
            [
             "RI",
             "2016-05-22",
             58,
             0.03,
             6.61
            ],
            [
             "SC",
             "2016-05-22",
             68,
             2.165,
             5.61
            ],
            [
             "SD",
             "2016-05-22",
             58.6,
             0.098,
             10.437999999999999
            ],
            [
             "TN",
             "2016-05-22",
             63.75,
             0.85875,
             4.06125
            ],
            [
             "TX",
             "2016-05-22",
             71.5,
             2.1795833333333334,
             8.38625
            ],
            [
             "UT",
             "2016-05-22",
             62,
             0.66,
             5.02
            ],
            [
             "VT",
             "2016-05-22",
             57,
             0.04,
             4.42
            ],
            [
             "VA",
             "2016-05-22",
             58.42857142857143,
             1.577142857142857,
             4.152857142857143
            ],
            [
             "WA",
             "2016-05-22",
             57,
             0.3057142857142857,
             5.878571428571428
            ],
            [
             "WV",
             "2016-05-22",
             55.5,
             1.725,
             3.2
            ],
            [
             "WI",
             "2016-05-22",
             57.25,
             0.035,
             4.085
            ],
            [
             "WY",
             "2016-05-22",
             52.8,
             0.418,
             7.8260000000000005
            ]
           ],
           "geo": "geo",
           "hovertemplate": "<b>%{hovertext}</b><br><br>Date=%{customdata[1]}<br>Temperature (F)=%{z:.4f}<br>Precipitation (inches)=%{customdata[3]:.4f}<br>Wind Speed (mph)=%{customdata[4]:.4f}<extra></extra>",
           "hovertext": [
            "Alabama (AL)",
            "Alaska (AK)",
            "Arizona (AZ)",
            "Arkansas (AR)",
            "California (CA)",
            "Colorado (CO)",
            "Connecticut (CT)",
            "Delaware (DE)",
            "Florida (FL)",
            "Georgia (GA)",
            "Hawaii (HI)",
            "Idaho (ID)",
            "Illinois (IL)",
            "Indiana (IN)",
            "Iowa (IA)",
            "Kansas (KS)",
            "Kentucky (KY)",
            "Louisiana (LA)",
            "Maine (ME)",
            "Maryland (MD)",
            "Massachusetts (MA)",
            "Michigan (MI)",
            "Minnesota (MN)",
            "Mississippi (MS)",
            "Missouri (MO)",
            "Montana (MT)",
            "Nebraska (NE)",
            "Nevada (NV)",
            "New Hampshire (NH)",
            "New Jersey (NJ)",
            "New Mexico (NM)",
            "New York (NY)",
            "North Carolina (NC)",
            "North Dakota (ND)",
            "Ohio (OH)",
            "Oklahoma (OK)",
            "Oregon (OR)",
            "Pennsylvania (PA)",
            "Rhode Island (RI)",
            "South Carolina (SC)",
            "South Dakota (SD)",
            "Tennessee (TN)",
            "Texas (TX)",
            "Utah (UT)",
            "Vermont (VT)",
            "Virginia (VA)",
            "Washington (WA)",
            "West Virginia (WV)",
            "Wisconsin (WI)",
            "Wyoming (WY)"
           ],
           "locationmode": "USA-states",
           "locations": [
            "AL",
            "AK",
            "AZ",
            "AR",
            "CA",
            "CO",
            "CT",
            "DE",
            "FL",
            "GA",
            "HI",
            "ID",
            "IL",
            "IN",
            "IA",
            "KS",
            "KY",
            "LA",
            "ME",
            "MD",
            "MA",
            "MI",
            "MN",
            "MS",
            "MO",
            "MT",
            "NE",
            "NV",
            "NH",
            "NJ",
            "NM",
            "NY",
            "NC",
            "ND",
            "OH",
            "OK",
            "OR",
            "PA",
            "RI",
            "SC",
            "SD",
            "TN",
            "TX",
            "UT",
            "VT",
            "VA",
            "WA",
            "WV",
            "WI",
            "WY"
           ],
           "name": "",
           "type": "choropleth",
           "z": [
            72,
            50.121212121212125,
            70.6,
            62.666666666666664,
            64.15789473684211,
            56.166666666666664,
            58,
            58,
            79.33333333333333,
            70.66666666666667,
            77.8,
            56.333333333333336,
            58.833333333333336,
            57.25,
            58.4,
            58.833333333333336,
            57.8,
            74.8,
            56,
            58,
            57.666666666666664,
            55.44444444444444,
            57,
            71.14285714285714,
            58.57142857142857,
            54,
            57.125,
            57.666666666666664,
            58,
            58.5,
            62,
            56.125,
            63.142857142857146,
            60.2,
            55.142857142857146,
            62.75,
            55.375,
            56.57142857142857,
            58,
            68,
            58.6,
            63.75,
            71.5,
            62,
            57,
            58.42857142857143,
            57,
            55.5,
            57.25,
            52.8
           ]
          }
         ],
         "name": "2016-05-22"
        },
        {
         "data": [
          {
           "coloraxis": "coloraxis",
           "customdata": [
            [
             "AL",
             "2016-05-29",
             75.5,
             0.0025,
             3.6425
            ],
            [
             "AK",
             "2016-05-29",
             52.06060606060606,
             0.1296969696969697,
             5.342424242424243
            ],
            [
             "AZ",
             "2016-05-29",
             69.4,
             0,
             5.87
            ],
            [
             "AR",
             "2016-05-29",
             73.33333333333333,
             0.8166666666666668,
             3.283333333333333
            ],
            [
             "CA",
             "2016-05-29",
             65.10526315789474,
             0.008947368421052631,
             5.935789473684211
            ],
            [
             "CO",
             "2016-05-29",
             56.166666666666664,
             0.7466666666666667,
             4.338333333333334
            ],
            [
             "CT",
             "2016-05-29",
             71,
             0.225,
             4.765000000000001
            ],
            [
             "DE",
             "2016-05-29",
             72,
             1.43,
             5.74
            ],
            [
             "FL",
             "2016-05-29",
             78.25,
             0.54,
             5.4316666666666675
            ],
            [
             "GA",
             "2016-05-29",
             73,
             0.71,
             3.5966666666666662
            ],
            [
             "HI",
             "2016-05-29",
             76.2,
             1.308,
             5.42
            ],
            [
             "ID",
             "2016-05-29",
             57.666666666666664,
             0.03333333333333333,
             4.593333333333334
            ],
            [
             "IL",
             "2016-05-29",
             73,
             0.8116666666666666,
             8.395
            ],
            [
             "IN",
             "2016-05-29",
             71.5,
             0.1375,
             7.38
            ],
            [
             "IA",
             "2016-05-29",
             70.6,
             1.7719999999999998,
             6.386
            ],
            [
             "KS",
             "2016-05-29",
             68.83333333333333,
             2.5500000000000003,
             7.043333333333333
            ],
            [
             "KY",
             "2016-05-29",
             71.8,
             0.8,
             4.252
            ],
            [
             "LA",
             "2016-05-29",
             78,
             0.716,
             5.862
            ],
            [
             "ME",
             "2016-05-29",
             61.666666666666664,
             0.33666666666666667,
             5.17
            ],
            [
             "MD",
             "2016-05-29",
             71,
             0.405,
             4.745
            ],
            [
             "MA",
             "2016-05-29",
             65,
             0.15333333333333335,
             6.163333333333334
            ],
            [
             "MI",
             "2016-05-29",
             69.11111111111111,
             1.1144444444444446,
             5.402222222222223
            ],
            [
             "MN",
             "2016-05-29",
             64.8,
             1.226,
             6.238
            ],
            [
             "MS",
             "2016-05-29",
             76.14285714285714,
             0.1542857142857143,
             5.671428571428572
            ],
            [
             "MO",
             "2016-05-29",
             71.42857142857143,
             3.2114285714285713,
             6.838571428571429
            ],
            [
             "MT",
             "2016-05-29",
             52.81818181818182,
             0.4036363636363637,
             5.079090909090909
            ],
            [
             "NE",
             "2016-05-29",
             64.375,
             1.9324999999999999,
             5.5649999999999995
            ],
            [
             "NV",
             "2016-05-29",
             59.166666666666664,
             0.11333333333333333,
             3.7433333333333336
            ],
            [
             "NH",
             "2016-05-29",
             64,
             0.36,
             12.53
            ],
            [
             "NJ",
             "2016-05-29",
             73,
             0.175,
             6.03
            ],
            [
             "NM",
             "2016-05-29",
             67.66666666666667,
             0.09333333333333334,
             7.183333333333334
            ],
            [
             "NY",
             "2016-05-29",
             70.875,
             0.78125,
             5.0775
            ],
            [
             "NC",
             "2016-05-29",
             70,
             0.62,
             4.424285714285714
            ],
            [
             "ND",
             "2016-05-29",
             61.2,
             0.828,
             4.742
            ],
            [
             "OH",
             "2016-05-29",
             70.57142857142857,
             0.33714285714285713,
             6.078571428571428
            ],
            [
             "OK",
             "2016-05-29",
             74.5,
             1.02,
             10.7975
            ],
            [
             "OR",
             "2016-05-29",
             56.875,
             0.0225,
             5.07625
            ],
            [
             "PA",
             "2016-05-29",
             72.42857142857143,
             0.1957142857142857,
             4.167142857142857
            ],
            [
             "RI",
             "2016-05-29",
             69,
             0.17,
             5.9
            ],
            [
             "SC",
             "2016-05-29",
             72.5,
             1.3675,
             3.6175
            ],
            [
             "SD",
             "2016-05-29",
             63.6,
             1.134,
             3.928
            ],
            [
             "TN",
             "2016-05-29",
             72.125,
             0.81,
             2.6237500000000002
            ],
            [
             "TX",
             "2016-05-29",
             77.83333333333333,
             1.8774999999999997,
             10.143333333333333
            ],
            [
             "UT",
             "2016-05-29",
             62,
             0.02,
             1.85
            ],
            [
             "VT",
             "2016-05-29",
             72,
             0.64,
             3.92
            ],
            [
             "VA",
             "2016-05-29",
             70.85714285714286,
             0.6642857142857144,
             4.845714285714286
            ],
            [
             "WA",
             "2016-05-29",
             56.285714285714285,
             0.3942857142857143,
             6.007142857142857
            ],
            [
             "WV",
             "2016-05-29",
             67.75,
             0.08750000000000001,
             1.915
            ],
            [
             "WI",
             "2016-05-29",
             70.25,
             1.1099999999999999,
             6.71
            ],
            [
             "WY",
             "2016-05-29",
             52.2,
             0.144,
             5.37
            ]
           ],
           "geo": "geo",
           "hovertemplate": "<b>%{hovertext}</b><br><br>Date=%{customdata[1]}<br>Temperature (F)=%{z:.4f}<br>Precipitation (inches)=%{customdata[3]:.4f}<br>Wind Speed (mph)=%{customdata[4]:.4f}<extra></extra>",
           "hovertext": [
            "Alabama (AL)",
            "Alaska (AK)",
            "Arizona (AZ)",
            "Arkansas (AR)",
            "California (CA)",
            "Colorado (CO)",
            "Connecticut (CT)",
            "Delaware (DE)",
            "Florida (FL)",
            "Georgia (GA)",
            "Hawaii (HI)",
            "Idaho (ID)",
            "Illinois (IL)",
            "Indiana (IN)",
            "Iowa (IA)",
            "Kansas (KS)",
            "Kentucky (KY)",
            "Louisiana (LA)",
            "Maine (ME)",
            "Maryland (MD)",
            "Massachusetts (MA)",
            "Michigan (MI)",
            "Minnesota (MN)",
            "Mississippi (MS)",
            "Missouri (MO)",
            "Montana (MT)",
            "Nebraska (NE)",
            "Nevada (NV)",
            "New Hampshire (NH)",
            "New Jersey (NJ)",
            "New Mexico (NM)",
            "New York (NY)",
            "North Carolina (NC)",
            "North Dakota (ND)",
            "Ohio (OH)",
            "Oklahoma (OK)",
            "Oregon (OR)",
            "Pennsylvania (PA)",
            "Rhode Island (RI)",
            "South Carolina (SC)",
            "South Dakota (SD)",
            "Tennessee (TN)",
            "Texas (TX)",
            "Utah (UT)",
            "Vermont (VT)",
            "Virginia (VA)",
            "Washington (WA)",
            "West Virginia (WV)",
            "Wisconsin (WI)",
            "Wyoming (WY)"
           ],
           "locationmode": "USA-states",
           "locations": [
            "AL",
            "AK",
            "AZ",
            "AR",
            "CA",
            "CO",
            "CT",
            "DE",
            "FL",
            "GA",
            "HI",
            "ID",
            "IL",
            "IN",
            "IA",
            "KS",
            "KY",
            "LA",
            "ME",
            "MD",
            "MA",
            "MI",
            "MN",
            "MS",
            "MO",
            "MT",
            "NE",
            "NV",
            "NH",
            "NJ",
            "NM",
            "NY",
            "NC",
            "ND",
            "OH",
            "OK",
            "OR",
            "PA",
            "RI",
            "SC",
            "SD",
            "TN",
            "TX",
            "UT",
            "VT",
            "VA",
            "WA",
            "WV",
            "WI",
            "WY"
           ],
           "name": "",
           "type": "choropleth",
           "z": [
            75.5,
            52.06060606060606,
            69.4,
            73.33333333333333,
            65.10526315789474,
            56.166666666666664,
            71,
            72,
            78.25,
            73,
            76.2,
            57.666666666666664,
            73,
            71.5,
            70.6,
            68.83333333333333,
            71.8,
            78,
            61.666666666666664,
            71,
            65,
            69.11111111111111,
            64.8,
            76.14285714285714,
            71.42857142857143,
            52.81818181818182,
            64.375,
            59.166666666666664,
            64,
            73,
            67.66666666666667,
            70.875,
            70,
            61.2,
            70.57142857142857,
            74.5,
            56.875,
            72.42857142857143,
            69,
            72.5,
            63.6,
            72.125,
            77.83333333333333,
            62,
            72,
            70.85714285714286,
            56.285714285714285,
            67.75,
            70.25,
            52.2
           ]
          }
         ],
         "name": "2016-05-29"
        },
        {
         "data": [
          {
           "coloraxis": "coloraxis",
           "customdata": [
            [
             "AL",
             "2016-06-05",
             79.75,
             1.855,
             3.0999999999999996
            ],
            [
             "AK",
             "2016-06-05",
             53.303030303030305,
             0.4624242424242424,
             5.787878787878788
            ],
            [
             "AZ",
             "2016-06-05",
             83.6,
             0,
             4.296
            ],
            [
             "AR",
             "2016-06-05",
             73.66666666666667,
             1.3399999999999999,
             2.186666666666667
            ],
            [
             "CA",
             "2016-06-05",
             73.57894736842105,
             0,
             4.606315789473684
            ],
            [
             "CO",
             "2016-06-05",
             64.83333333333333,
             0.03,
             3.3533333333333335
            ],
            [
             "CT",
             "2016-06-05",
             68,
             1.075,
             5.470000000000001
            ],
            [
             "DE",
             "2016-06-05",
             73,
             0.96,
             5.88
            ],
            [
             "FL",
             "2016-06-05",
             82.41666666666667,
             0.645,
             5.706666666666667
            ],
            [
             "GA",
             "2016-06-05",
             80.83333333333333,
             0.9716666666666667,
             2.6666666666666665
            ],
            [
             "HI",
             "2016-06-05",
             75.4,
             0.27999999999999997,
             7.132
            ],
            [
             "ID",
             "2016-06-05",
             70.33333333333333,
             0,
             3.733333333333333
            ],
            [
             "IL",
             "2016-06-05",
             71.16666666666667,
             0.48500000000000004,
             5.296666666666667
            ],
            [
             "IN",
             "2016-06-05",
             71,
             0.9724999999999999,
             4.555
            ],
            [
             "IA",
             "2016-06-05",
             68.6,
             0.576,
             8
            ],
            [
             "KS",
             "2016-06-05",
             69.5,
             0.125,
             6.333333333333333
            ],
            [
             "KY",
             "2016-06-05",
             74.6,
             1.166,
             3.1119999999999997
            ],
            [
             "LA",
             "2016-06-05",
             78,
             3.196,
             4.3759999999999994
            ],
            [
             "ME",
             "2016-06-05",
             61,
             1.1466666666666667,
             5.973333333333333
            ],
            [
             "MD",
             "2016-06-05",
             73,
             0.31999999999999995,
             4.91
            ],
            [
             "MA",
             "2016-06-05",
             62.333333333333336,
             0.6166666666666667,
             6.546666666666667
            ],
            [
             "MI",
             "2016-06-05",
             64.44444444444444,
             0.6655555555555556,
             5.0088888888888885
            ],
            [
             "MN",
             "2016-06-05",
             61.2,
             0.638,
             7.464
            ],
            [
             "MS",
             "2016-06-05",
             78.85714285714286,
             1.5500000000000003,
             3.2342857142857144
            ],
            [
             "MO",
             "2016-06-05",
             72.14285714285714,
             0.3085714285714286,
             5.014285714285714
            ],
            [
             "MT",
             "2016-06-05",
             62.81818181818182,
             0.007272727272727273,
             5.3127272727272725
            ],
            [
             "NE",
             "2016-06-05",
             66.875,
             0.046250000000000006,
             7.3725
            ],
            [
             "NV",
             "2016-06-05",
             75,
             0,
             3.7533333333333334
            ],
            [
             "NH",
             "2016-06-05",
             62.5,
             0.475,
             20.38
            ],
            [
             "NJ",
             "2016-06-05",
             70.5,
             0.62,
             4.67
            ],
            [
             "NM",
             "2016-06-05",
             71,
             0.6766666666666667,
             5.673333333333333
            ],
            [
             "NY",
             "2016-06-05",
             68.625,
             0.97375,
             5.53
            ],
            [
             "NC",
             "2016-06-05",
             77.14285714285714,
             1.3314285714285714,
             4.08
            ],
            [
             "ND",
             "2016-06-05",
             62.6,
             0.27,
             10.232
            ],
            [
             "OH",
             "2016-06-05",
             71.85714285714286,
             0.42857142857142855,
             4.931428571428571
            ],
            [
             "OK",
             "2016-06-05",
             72,
             0.3975,
             4.875
            ],
            [
             "OR",
             "2016-06-05",
             70.375,
             0.06,
             4.11
            ],
            [
             "PA",
             "2016-06-05",
             72.57142857142857,
             0.6528571428571429,
             3.9514285714285715
            ],
            [
             "RI",
             "2016-06-05",
             67,
             0.59,
             5.68
            ],
            [
             "SC",
             "2016-06-05",
             80.5,
             0.135,
             3.455
            ],
            [
             "SD",
             "2016-06-05",
             64,
             0.458,
             9.956
            ],
            [
             "TN",
             "2016-06-05",
             76.25,
             1.5,
             2.2350000000000003
            ],
            [
             "TX",
             "2016-06-05",
             74.875,
             2.1037500000000002,
             5.475833333333334
            ],
            [
             "UT",
             "2016-06-05",
             74,
             0,
             1.8
            ],
            [
             "VT",
             "2016-06-05",
             70,
             1.45,
             4.8
            ],
            [
             "VA",
             "2016-06-05",
             74.57142857142857,
             1.4642857142857142,
             4.634285714285714
            ],
            [
             "WA",
             "2016-06-05",
             69.14285714285714,
             0.1,
             5.042857142857143
            ],
            [
             "WV",
             "2016-06-05",
             72.75,
             1.385,
             2.755
            ],
            [
             "WI",
             "2016-06-05",
             67.25,
             0.8375,
             5.97
            ],
            [
             "WY",
             "2016-06-05",
             60.8,
             0.02,
             4.4239999999999995
            ]
           ],
           "geo": "geo",
           "hovertemplate": "<b>%{hovertext}</b><br><br>Date=%{customdata[1]}<br>Temperature (F)=%{z:.4f}<br>Precipitation (inches)=%{customdata[3]:.4f}<br>Wind Speed (mph)=%{customdata[4]:.4f}<extra></extra>",
           "hovertext": [
            "Alabama (AL)",
            "Alaska (AK)",
            "Arizona (AZ)",
            "Arkansas (AR)",
            "California (CA)",
            "Colorado (CO)",
            "Connecticut (CT)",
            "Delaware (DE)",
            "Florida (FL)",
            "Georgia (GA)",
            "Hawaii (HI)",
            "Idaho (ID)",
            "Illinois (IL)",
            "Indiana (IN)",
            "Iowa (IA)",
            "Kansas (KS)",
            "Kentucky (KY)",
            "Louisiana (LA)",
            "Maine (ME)",
            "Maryland (MD)",
            "Massachusetts (MA)",
            "Michigan (MI)",
            "Minnesota (MN)",
            "Mississippi (MS)",
            "Missouri (MO)",
            "Montana (MT)",
            "Nebraska (NE)",
            "Nevada (NV)",
            "New Hampshire (NH)",
            "New Jersey (NJ)",
            "New Mexico (NM)",
            "New York (NY)",
            "North Carolina (NC)",
            "North Dakota (ND)",
            "Ohio (OH)",
            "Oklahoma (OK)",
            "Oregon (OR)",
            "Pennsylvania (PA)",
            "Rhode Island (RI)",
            "South Carolina (SC)",
            "South Dakota (SD)",
            "Tennessee (TN)",
            "Texas (TX)",
            "Utah (UT)",
            "Vermont (VT)",
            "Virginia (VA)",
            "Washington (WA)",
            "West Virginia (WV)",
            "Wisconsin (WI)",
            "Wyoming (WY)"
           ],
           "locationmode": "USA-states",
           "locations": [
            "AL",
            "AK",
            "AZ",
            "AR",
            "CA",
            "CO",
            "CT",
            "DE",
            "FL",
            "GA",
            "HI",
            "ID",
            "IL",
            "IN",
            "IA",
            "KS",
            "KY",
            "LA",
            "ME",
            "MD",
            "MA",
            "MI",
            "MN",
            "MS",
            "MO",
            "MT",
            "NE",
            "NV",
            "NH",
            "NJ",
            "NM",
            "NY",
            "NC",
            "ND",
            "OH",
            "OK",
            "OR",
            "PA",
            "RI",
            "SC",
            "SD",
            "TN",
            "TX",
            "UT",
            "VT",
            "VA",
            "WA",
            "WV",
            "WI",
            "WY"
           ],
           "name": "",
           "type": "choropleth",
           "z": [
            79.75,
            53.303030303030305,
            83.6,
            73.66666666666667,
            73.57894736842105,
            64.83333333333333,
            68,
            73,
            82.41666666666667,
            80.83333333333333,
            75.4,
            70.33333333333333,
            71.16666666666667,
            71,
            68.6,
            69.5,
            74.6,
            78,
            61,
            73,
            62.333333333333336,
            64.44444444444444,
            61.2,
            78.85714285714286,
            72.14285714285714,
            62.81818181818182,
            66.875,
            75,
            62.5,
            70.5,
            71,
            68.625,
            77.14285714285714,
            62.6,
            71.85714285714286,
            72,
            70.375,
            72.57142857142857,
            67,
            80.5,
            64,
            76.25,
            74.875,
            74,
            70,
            74.57142857142857,
            69.14285714285714,
            72.75,
            67.25,
            60.8
           ]
          }
         ],
         "name": "2016-06-05"
        },
        {
         "data": [
          {
           "coloraxis": "coloraxis",
           "customdata": [
            [
             "AL",
             "2016-06-12",
             79.5,
             0.155,
             2.99
            ],
            [
             "AK",
             "2016-06-12",
             53.53125,
             0.5996875,
             5.2
            ],
            [
             "AZ",
             "2016-06-12",
             84,
             0.094,
             5.762
            ],
            [
             "AR",
             "2016-06-12",
             77,
             0.5433333333333333,
             2.216666666666667
            ],
            [
             "CA",
             "2016-06-12",
             70,
             0.032105263157894734,
             7.133157894736843
            ],
            [
             "CO",
             "2016-06-12",
             70,
             0.20166666666666666,
             3.2266666666666666
            ],
            [
             "CT",
             "2016-06-12",
             66.5,
             0.305,
             8.825
            ],
            [
             "DE",
             "2016-06-12",
             70,
             0.49,
             9.62
            ],
            [
             "FL",
             "2016-06-12",
             81.75,
             2.9908333333333332,
             4.925833333333333
            ],
            [
             "GA",
             "2016-06-12",
             78.83333333333333,
             1.1183333333333332,
             3.775
            ],
            [
             "HI",
             "2016-06-12",
             77.2,
             0.622,
             10.553999999999998
            ],
            [
             "ID",
             "2016-06-12",
             70,
             0.04,
             4.326666666666667
            ],
            [
             "IL",
             "2016-06-12",
             72.5,
             0.20666666666666667,
             6.941666666666666
            ],
            [
             "IN",
             "2016-06-12",
             70.25,
             0.16,
             6.577500000000001
            ],
            [
             "IA",
             "2016-06-12",
             73,
             0.788,
             8.47
            ],
            [
             "KS",
             "2016-06-12",
             77.83333333333333,
             0.08666666666666667,
             9.83
            ],
            [
             "KY",
             "2016-06-12",
             72.2,
             0.27599999999999997,
             4.132
            ],
            [
             "LA",
             "2016-06-12",
             81.8,
             1.7939999999999998,
             3.174
            ],
            [
             "ME",
             "2016-06-12",
             60,
             1.1633333333333333,
             7.140000000000001
            ],
            [
             "MD",
             "2016-06-12",
             71.5,
             0.02,
             8.435
            ],
            [
             "MA",
             "2016-06-12",
             62.666666666666664,
             0.12,
             11.243333333333334
            ],
            [
             "MI",
             "2016-06-12",
             61.666666666666664,
             0.14666666666666667,
             7.341111111111112
            ],
            [
             "MN",
             "2016-06-12",
             64.8,
             1.14,
             7.831999999999999
            ],
            [
             "MS",
             "2016-06-12",
             79.85714285714286,
             0.6328571428571428,
             2.8299999999999996
            ],
            [
             "MO",
             "2016-06-12",
             75.85714285714286,
             0.09142857142857143,
             6.597142857142857
            ],
            [
             "MT",
             "2016-06-12",
             66.54545454545455,
             0.4763636363636364,
             5.588181818181818
            ],
            [
             "NE",
             "2016-06-12",
             75.75,
             0.21125,
             7.9625
            ],
            [
             "NV",
             "2016-06-12",
             73.83333333333333,
             0.395,
             5.906666666666666
            ],
            [
             "NH",
             "2016-06-12",
             61,
             0.1,
             7.57
            ],
            [
             "NJ",
             "2016-06-12",
             70,
             0.35000000000000003,
             10.985
            ],
            [
             "NM",
             "2016-06-12",
             78,
             0.10666666666666667,
             6.123333333333334
            ],
            [
             "NY",
             "2016-06-12",
             62.875,
             0.4275,
             10.04375
            ],
            [
             "NC",
             "2016-06-12",
             74.71428571428571,
             0.7457142857142857,
             5.144285714285714
            ],
            [
             "ND",
             "2016-06-12",
             67.8,
             0.322,
             8.745999999999999
            ],
            [
             "OH",
             "2016-06-12",
             67.71428571428571,
             0.35714285714285715,
             8.477142857142857
            ],
            [
             "OK",
             "2016-06-12",
             78.25,
             0.0875,
             8.459999999999999
            ],
            [
             "OR",
             "2016-06-12",
             64,
             0.21125,
             5.2
            ],
            [
             "PA",
             "2016-06-12",
             67.14285714285714,
             0.3585714285714286,
             8.77142857142857
            ],
            [
             "RI",
             "2016-06-12",
             66,
             0.17,
             9.05
            ],
            [
             "SC",
             "2016-06-12",
             78.5,
             1.08,
             4.0825
            ],
            [
             "SD",
             "2016-06-12",
             74,
             0.044,
             7.098000000000001
            ],
            [
             "TN",
             "2016-06-12",
             74,
             0,
             2.92875
            ],
            [
             "TX",
             "2016-06-12",
             80.5,
             0.5929166666666666,
             6.927083333333333
            ],
            [
             "UT",
             "2016-06-12",
             78,
             0.32,
             5.57
            ],
            [
             "VT",
             "2016-06-12",
             60,
             0.42,
             7.97
            ],
            [
             "VA",
             "2016-06-12",
             74.14285714285714,
             0.06285714285714286,
             6.991428571428571
            ],
            [
             "WA",
             "2016-06-12",
             63,
             0.4014285714285714,
             4.894285714285714
            ],
            [
             "WV",
             "2016-06-12",
             68,
             0.22,
             4.91
            ],
            [
             "WI",
             "2016-06-12",
             66.5,
             0.9425,
             6.235
            ],
            [
             "WY",
             "2016-06-12",
             68.6,
             0.528,
             4.558
            ]
           ],
           "geo": "geo",
           "hovertemplate": "<b>%{hovertext}</b><br><br>Date=%{customdata[1]}<br>Temperature (F)=%{z:.4f}<br>Precipitation (inches)=%{customdata[3]:.4f}<br>Wind Speed (mph)=%{customdata[4]:.4f}<extra></extra>",
           "hovertext": [
            "Alabama (AL)",
            "Alaska (AK)",
            "Arizona (AZ)",
            "Arkansas (AR)",
            "California (CA)",
            "Colorado (CO)",
            "Connecticut (CT)",
            "Delaware (DE)",
            "Florida (FL)",
            "Georgia (GA)",
            "Hawaii (HI)",
            "Idaho (ID)",
            "Illinois (IL)",
            "Indiana (IN)",
            "Iowa (IA)",
            "Kansas (KS)",
            "Kentucky (KY)",
            "Louisiana (LA)",
            "Maine (ME)",
            "Maryland (MD)",
            "Massachusetts (MA)",
            "Michigan (MI)",
            "Minnesota (MN)",
            "Mississippi (MS)",
            "Missouri (MO)",
            "Montana (MT)",
            "Nebraska (NE)",
            "Nevada (NV)",
            "New Hampshire (NH)",
            "New Jersey (NJ)",
            "New Mexico (NM)",
            "New York (NY)",
            "North Carolina (NC)",
            "North Dakota (ND)",
            "Ohio (OH)",
            "Oklahoma (OK)",
            "Oregon (OR)",
            "Pennsylvania (PA)",
            "Rhode Island (RI)",
            "South Carolina (SC)",
            "South Dakota (SD)",
            "Tennessee (TN)",
            "Texas (TX)",
            "Utah (UT)",
            "Vermont (VT)",
            "Virginia (VA)",
            "Washington (WA)",
            "West Virginia (WV)",
            "Wisconsin (WI)",
            "Wyoming (WY)"
           ],
           "locationmode": "USA-states",
           "locations": [
            "AL",
            "AK",
            "AZ",
            "AR",
            "CA",
            "CO",
            "CT",
            "DE",
            "FL",
            "GA",
            "HI",
            "ID",
            "IL",
            "IN",
            "IA",
            "KS",
            "KY",
            "LA",
            "ME",
            "MD",
            "MA",
            "MI",
            "MN",
            "MS",
            "MO",
            "MT",
            "NE",
            "NV",
            "NH",
            "NJ",
            "NM",
            "NY",
            "NC",
            "ND",
            "OH",
            "OK",
            "OR",
            "PA",
            "RI",
            "SC",
            "SD",
            "TN",
            "TX",
            "UT",
            "VT",
            "VA",
            "WA",
            "WV",
            "WI",
            "WY"
           ],
           "name": "",
           "type": "choropleth",
           "z": [
            79.5,
            53.53125,
            84,
            77,
            70,
            70,
            66.5,
            70,
            81.75,
            78.83333333333333,
            77.2,
            70,
            72.5,
            70.25,
            73,
            77.83333333333333,
            72.2,
            81.8,
            60,
            71.5,
            62.666666666666664,
            61.666666666666664,
            64.8,
            79.85714285714286,
            75.85714285714286,
            66.54545454545455,
            75.75,
            73.83333333333333,
            61,
            70,
            78,
            62.875,
            74.71428571428571,
            67.8,
            67.71428571428571,
            78.25,
            64,
            67.14285714285714,
            66,
            78.5,
            74,
            74,
            80.5,
            78,
            60,
            74.14285714285714,
            63,
            68,
            66.5,
            68.6
           ]
          }
         ],
         "name": "2016-06-12"
        },
        {
         "data": [
          {
           "coloraxis": "coloraxis",
           "customdata": [
            [
             "AL",
             "2016-06-19",
             81.25,
             1.145,
             4.65
            ],
            [
             "AK",
             "2016-06-19",
             56.34375,
             0.3215625,
             5.9534375
            ],
            [
             "AZ",
             "2016-06-19",
             81.2,
             0,
             5.21
            ],
            [
             "AR",
             "2016-06-19",
             82,
             0.06999999999999999,
             2.84
            ],
            [
             "CA",
             "2016-06-19",
             67.21052631578948,
             0.19736842105263158,
             6.760526315789473
            ],
            [
             "CO",
             "2016-06-19",
             69,
             0.205,
             5.011666666666667
            ],
            [
             "CT",
             "2016-06-19",
             69,
             0,
             5.79
            ],
            [
             "DE",
             "2016-06-19",
             69,
             1.16,
             5.7
            ],
            [
             "FL",
             "2016-06-19",
             83.25,
             1.1616666666666666,
             6.214166666666666
            ],
            [
             "GA",
             "2016-06-19",
             81.66666666666667,
             0.8883333333333333,
             5.883333333333333
            ],
            [
             "HI",
             "2016-06-19",
             78,
             1.194,
             13.212
            ],
            [
             "ID",
             "2016-06-19",
             61.333333333333336,
             0.25999999999999995,
             4.84
            ],
            [
             "IL",
             "2016-06-19",
             76.83333333333333,
             0.5816666666666667,
             5.7749999999999995
            ],
            [
             "IN",
             "2016-06-19",
             75,
             1.09,
             6.015000000000001
            ],
            [
             "IA",
             "2016-06-19",
             76.2,
             1.22,
             6.016
            ],
            [
             "KS",
             "2016-06-19",
             80.33333333333333,
             0.9633333333333334,
             7.416666666666667
            ],
            [
             "KY",
             "2016-06-19",
             77.2,
             0.45600000000000007,
             4.642
            ],
            [
             "LA",
             "2016-06-19",
             82.6,
             1.536,
             4.218
            ],
            [
             "ME",
             "2016-06-19",
             61.666666666666664,
             0.06666666666666667,
             7.93
            ],
            [
             "MD",
             "2016-06-19",
             70,
             0.995,
             4.8
            ],
            [
             "MA",
             "2016-06-19",
             64.33333333333333,
             0.04,
             8.146666666666667
            ],
            [
             "MI",
             "2016-06-19",
             68,
             0.5866666666666667,
             3.9433333333333334
            ],
            [
             "MN",
             "2016-06-19",
             68.2,
             1.752,
             6.275999999999999
            ],
            [
             "MS",
             "2016-06-19",
             82,
             1.3771428571428572,
             4.5842857142857145
            ],
            [
             "MO",
             "2016-06-19",
             81.57142857142857,
             0.1757142857142857,
             6.21
            ],
            [
             "MT",
             "2016-06-19",
             59,
             0.5263636363636364,
             6.2727272727272725
            ],
            [
             "NE",
             "2016-06-19",
             77.75,
             1.0587499999999999,
             6.605
            ],
            [
             "NV",
             "2016-06-19",
             68.5,
             0.0033333333333333335,
             7.816666666666666
            ],
            [
             "NH",
             "2016-06-19",
             66,
             0,
             5.55
            ],
            [
             "NJ",
             "2016-06-19",
             70,
             0.145,
             6.055
            ],
            [
             "NM",
             "2016-06-19",
             78,
             0.15666666666666665,
             5.676666666666667
            ],
            [
             "NY",
             "2016-06-19",
             67.375,
             0.04125,
             5.2825
            ],
            [
             "NC",
             "2016-06-19",
             76.57142857142857,
             0.8385714285714284,
             4.824285714285715
            ],
            [
             "ND",
             "2016-06-19",
             69.2,
             1.5939999999999999,
             7.668000000000001
            ],
            [
             "OH",
             "2016-06-19",
             71.42857142857143,
             0.9314285714285714,
             5.6571428571428575
            ],
            [
             "OK",
             "2016-06-19",
             83,
             0.585,
             7.785
            ],
            [
             "OR",
             "2016-06-19",
             56,
             0.51875,
             4.91375
            ],
            [
             "PA",
             "2016-06-19",
             69.57142857142857,
             0.3685714285714286,
             4.255714285714285
            ],
            [
             "RI",
             "2016-06-19",
             68,
             0,
             7.08
            ],
            [
             "SC",
             "2016-06-19",
             82,
             0.35250000000000004,
             5.9350000000000005
            ],
            [
             "SD",
             "2016-06-19",
             74.8,
             0.8379999999999999,
             7.325999999999999
            ],
            [
             "TN",
             "2016-06-19",
             79.375,
             0.40499999999999997,
             3.6262499999999998
            ],
            [
             "TX",
             "2016-06-19",
             84.41666666666667,
             0.3125,
             8.22625
            ],
            [
             "UT",
             "2016-06-19",
             72,
             0.19,
             8.05
            ],
            [
             "VT",
             "2016-06-19",
             68,
             0.04,
             4.92
            ],
            [
             "VA",
             "2016-06-19",
             71.85714285714286,
             1.4985714285714287,
             4.834285714285714
            ],
            [
             "WA",
             "2016-06-19",
             55.142857142857146,
             0.33714285714285713,
             5.797142857142857
            ],
            [
             "WV",
             "2016-06-19",
             70.5,
             1.305,
             2.89
            ],
            [
             "WI",
             "2016-06-19",
             70.5,
             1.57,
             5.53
            ],
            [
             "WY",
             "2016-06-19",
             66.2,
             0.156,
             6.836
            ]
           ],
           "geo": "geo",
           "hovertemplate": "<b>%{hovertext}</b><br><br>Date=%{customdata[1]}<br>Temperature (F)=%{z:.4f}<br>Precipitation (inches)=%{customdata[3]:.4f}<br>Wind Speed (mph)=%{customdata[4]:.4f}<extra></extra>",
           "hovertext": [
            "Alabama (AL)",
            "Alaska (AK)",
            "Arizona (AZ)",
            "Arkansas (AR)",
            "California (CA)",
            "Colorado (CO)",
            "Connecticut (CT)",
            "Delaware (DE)",
            "Florida (FL)",
            "Georgia (GA)",
            "Hawaii (HI)",
            "Idaho (ID)",
            "Illinois (IL)",
            "Indiana (IN)",
            "Iowa (IA)",
            "Kansas (KS)",
            "Kentucky (KY)",
            "Louisiana (LA)",
            "Maine (ME)",
            "Maryland (MD)",
            "Massachusetts (MA)",
            "Michigan (MI)",
            "Minnesota (MN)",
            "Mississippi (MS)",
            "Missouri (MO)",
            "Montana (MT)",
            "Nebraska (NE)",
            "Nevada (NV)",
            "New Hampshire (NH)",
            "New Jersey (NJ)",
            "New Mexico (NM)",
            "New York (NY)",
            "North Carolina (NC)",
            "North Dakota (ND)",
            "Ohio (OH)",
            "Oklahoma (OK)",
            "Oregon (OR)",
            "Pennsylvania (PA)",
            "Rhode Island (RI)",
            "South Carolina (SC)",
            "South Dakota (SD)",
            "Tennessee (TN)",
            "Texas (TX)",
            "Utah (UT)",
            "Vermont (VT)",
            "Virginia (VA)",
            "Washington (WA)",
            "West Virginia (WV)",
            "Wisconsin (WI)",
            "Wyoming (WY)"
           ],
           "locationmode": "USA-states",
           "locations": [
            "AL",
            "AK",
            "AZ",
            "AR",
            "CA",
            "CO",
            "CT",
            "DE",
            "FL",
            "GA",
            "HI",
            "ID",
            "IL",
            "IN",
            "IA",
            "KS",
            "KY",
            "LA",
            "ME",
            "MD",
            "MA",
            "MI",
            "MN",
            "MS",
            "MO",
            "MT",
            "NE",
            "NV",
            "NH",
            "NJ",
            "NM",
            "NY",
            "NC",
            "ND",
            "OH",
            "OK",
            "OR",
            "PA",
            "RI",
            "SC",
            "SD",
            "TN",
            "TX",
            "UT",
            "VT",
            "VA",
            "WA",
            "WV",
            "WI",
            "WY"
           ],
           "name": "",
           "type": "choropleth",
           "z": [
            81.25,
            56.34375,
            81.2,
            82,
            67.21052631578948,
            69,
            69,
            69,
            83.25,
            81.66666666666667,
            78,
            61.333333333333336,
            76.83333333333333,
            75,
            76.2,
            80.33333333333333,
            77.2,
            82.6,
            61.666666666666664,
            70,
            64.33333333333333,
            68,
            68.2,
            82,
            81.57142857142857,
            59,
            77.75,
            68.5,
            66,
            70,
            78,
            67.375,
            76.57142857142857,
            69.2,
            71.42857142857143,
            83,
            56,
            69.57142857142857,
            68,
            82,
            74.8,
            79.375,
            84.41666666666667,
            72,
            68,
            71.85714285714286,
            55.142857142857146,
            70.5,
            70.5,
            66.2
           ]
          }
         ],
         "name": "2016-06-19"
        },
        {
         "data": [
          {
           "coloraxis": "coloraxis",
           "customdata": [
            [
             "AL",
             "2016-06-26",
             82.5,
             0.40750000000000003,
             3.1425
            ],
            [
             "AK",
             "2016-06-26",
             57.0625,
             0.409375,
             5.21875
            ],
            [
             "AZ",
             "2016-06-26",
             89.6,
             0.064,
             5.1579999999999995
            ],
            [
             "AR",
             "2016-06-26",
             84,
             0.19999999999999998,
             2.22
            ],
            [
             "CA",
             "2016-06-26",
             73.78947368421052,
             0,
             6.319473684210526
            ],
            [
             "CO",
             "2016-06-26",
             73.83333333333333,
             0.10833333333333334,
             3.9966666666666666
            ],
            [
             "CT",
             "2016-06-26",
             71.5,
             0.04,
             4.5600000000000005
            ],
            [
             "DE",
             "2016-06-26",
             75,
             0.73,
             5.08
            ],
            [
             "FL",
             "2016-06-26",
             81.91666666666667,
             0.5525,
             5.2675
            ],
            [
             "GA",
             "2016-06-26",
             81.5,
             0.08833333333333333,
             4.476666666666667
            ],
            [
             "HI",
             "2016-06-26",
             78,
             0.546,
             11.006
            ],
            [
             "ID",
             "2016-06-26",
             68.33333333333333,
             0.09999999999999999,
             4.84
            ],
            [
             "IL",
             "2016-06-26",
             77.83333333333333,
             1.0916666666666666,
             5.961666666666666
            ],
            [
             "IN",
             "2016-06-26",
             77,
             2.16,
             6.35
            ],
            [
             "IA",
             "2016-06-26",
             75.6,
             2.5460000000000003,
             6.864
            ],
            [
             "KS",
             "2016-06-26",
             82,
             0.505,
             7.986666666666667
            ],
            [
             "KY",
             "2016-06-26",
             79.8,
             1.3279999999999998,
             4.906000000000001
            ],
            [
             "LA",
             "2016-06-26",
             83.6,
             0.33599999999999997,
             3.0260000000000002
            ],
            [
             "ME",
             "2016-06-26",
             65.66666666666667,
             0.08333333333333333,
             5.396666666666667
            ],
            [
             "MD",
             "2016-06-26",
             74,
             1.6949999999999998,
             5.13
            ],
            [
             "MA",
             "2016-06-26",
             66,
             0.09000000000000001,
             7.386666666666667
            ],
            [
             "MI",
             "2016-06-26",
             69.33333333333333,
             0.29444444444444445,
             5.161111111111111
            ],
            [
             "MN",
             "2016-06-26",
             68,
             1.2,
             8.478
            ],
            [
             "MS",
             "2016-06-26",
             83.42857142857143,
             0.002857142857142857,
             2.837142857142857
            ],
            [
             "MO",
             "2016-06-26",
             82.85714285714286,
             0.6857142857142857,
             6.851428571428571
            ],
            [
             "MT",
             "2016-06-26",
             63.54545454545455,
             0.23727272727272727,
             6.498181818181819
            ],
            [
             "NE",
             "2016-06-26",
             75.875,
             0.15,
             6.76875
            ],
            [
             "NV",
             "2016-06-26",
             77.66666666666667,
             0,
             4.55
            ],
            [
             "NH",
             "2016-06-26",
             67,
             0.06,
             2.9
            ],
            [
             "NJ",
             "2016-06-26",
             74.5,
             0.36,
             5.455
            ],
            [
             "NM",
             "2016-06-26",
             81,
             0.6133333333333334,
             5.973333333333334
            ],
            [
             "NY",
             "2016-06-26",
             70.125,
             0.15,
             5.68125
            ],
            [
             "NC",
             "2016-06-26",
             78.42857142857143,
             0.5328571428571429,
             5.631428571428572
            ],
            [
             "ND",
             "2016-06-26",
             67,
             0.426,
             9.472
            ],
            [
             "OH",
             "2016-06-26",
             73.57142857142857,
             1.247142857142857,
             5.978571428571429
            ],
            [
             "OK",
             "2016-06-26",
             84.5,
             0.7675,
             8.969999999999999
            ],
            [
             "OR",
             "2016-06-26",
             63.75,
             0.17875,
             5.34375
            ],
            [
             "PA",
             "2016-06-26",
             73.85714285714286,
             0.5357142857142857,
             4.631428571428572
            ],
            [
             "RI",
             "2016-06-26",
             70,
             0.08,
             4.91
            ],
            [
             "SC",
             "2016-06-26",
             83,
             0,
             6.0125
            ],
            [
             "SD",
             "2016-06-26",
             71.4,
             0.156,
             8.71
            ],
            [
             "TN",
             "2016-06-26",
             80.625,
             0.85,
             4.11875
            ],
            [
             "TX",
             "2016-06-26",
             84,
             0.17791666666666664,
             8.35
            ],
            [
             "UT",
             "2016-06-26",
             79,
             0,
             3.11
            ],
            [
             "VT",
             "2016-06-26",
             70,
             0.53,
             5.1
            ],
            [
             "VA",
             "2016-06-26",
             75.14285714285714,
             2.0171428571428573,
             5.301428571428572
            ],
            [
             "WA",
             "2016-06-26",
             62.714285714285715,
             0.47000000000000003,
             4.7871428571428565
            ],
            [
             "WV",
             "2016-06-26",
             72.5,
             2.785,
             3.8375
            ],
            [
             "WI",
             "2016-06-26",
             72.5,
             1.0075,
             7.07
            ],
            [
             "WY",
             "2016-06-26",
             69.2,
             0.08199999999999999,
             5.432
            ]
           ],
           "geo": "geo",
           "hovertemplate": "<b>%{hovertext}</b><br><br>Date=%{customdata[1]}<br>Temperature (F)=%{z:.4f}<br>Precipitation (inches)=%{customdata[3]:.4f}<br>Wind Speed (mph)=%{customdata[4]:.4f}<extra></extra>",
           "hovertext": [
            "Alabama (AL)",
            "Alaska (AK)",
            "Arizona (AZ)",
            "Arkansas (AR)",
            "California (CA)",
            "Colorado (CO)",
            "Connecticut (CT)",
            "Delaware (DE)",
            "Florida (FL)",
            "Georgia (GA)",
            "Hawaii (HI)",
            "Idaho (ID)",
            "Illinois (IL)",
            "Indiana (IN)",
            "Iowa (IA)",
            "Kansas (KS)",
            "Kentucky (KY)",
            "Louisiana (LA)",
            "Maine (ME)",
            "Maryland (MD)",
            "Massachusetts (MA)",
            "Michigan (MI)",
            "Minnesota (MN)",
            "Mississippi (MS)",
            "Missouri (MO)",
            "Montana (MT)",
            "Nebraska (NE)",
            "Nevada (NV)",
            "New Hampshire (NH)",
            "New Jersey (NJ)",
            "New Mexico (NM)",
            "New York (NY)",
            "North Carolina (NC)",
            "North Dakota (ND)",
            "Ohio (OH)",
            "Oklahoma (OK)",
            "Oregon (OR)",
            "Pennsylvania (PA)",
            "Rhode Island (RI)",
            "South Carolina (SC)",
            "South Dakota (SD)",
            "Tennessee (TN)",
            "Texas (TX)",
            "Utah (UT)",
            "Vermont (VT)",
            "Virginia (VA)",
            "Washington (WA)",
            "West Virginia (WV)",
            "Wisconsin (WI)",
            "Wyoming (WY)"
           ],
           "locationmode": "USA-states",
           "locations": [
            "AL",
            "AK",
            "AZ",
            "AR",
            "CA",
            "CO",
            "CT",
            "DE",
            "FL",
            "GA",
            "HI",
            "ID",
            "IL",
            "IN",
            "IA",
            "KS",
            "KY",
            "LA",
            "ME",
            "MD",
            "MA",
            "MI",
            "MN",
            "MS",
            "MO",
            "MT",
            "NE",
            "NV",
            "NH",
            "NJ",
            "NM",
            "NY",
            "NC",
            "ND",
            "OH",
            "OK",
            "OR",
            "PA",
            "RI",
            "SC",
            "SD",
            "TN",
            "TX",
            "UT",
            "VT",
            "VA",
            "WA",
            "WV",
            "WI",
            "WY"
           ],
           "name": "",
           "type": "choropleth",
           "z": [
            82.5,
            57.0625,
            89.6,
            84,
            73.78947368421052,
            73.83333333333333,
            71.5,
            75,
            81.91666666666667,
            81.5,
            78,
            68.33333333333333,
            77.83333333333333,
            77,
            75.6,
            82,
            79.8,
            83.6,
            65.66666666666667,
            74,
            66,
            69.33333333333333,
            68,
            83.42857142857143,
            82.85714285714286,
            63.54545454545455,
            75.875,
            77.66666666666667,
            67,
            74.5,
            81,
            70.125,
            78.42857142857143,
            67,
            73.57142857142857,
            84.5,
            63.75,
            73.85714285714286,
            70,
            83,
            71.4,
            80.625,
            84,
            79,
            70,
            75.14285714285714,
            62.714285714285715,
            72.5,
            72.5,
            69.2
           ]
          }
         ],
         "name": "2016-06-26"
        },
        {
         "data": [
          {
           "coloraxis": "coloraxis",
           "customdata": [
            [
             "AL",
             "2016-07-03",
             84,
             0.015,
             3.28
            ],
            [
             "AK",
             "2016-07-03",
             58.09375,
             0.409375,
             4.64
            ],
            [
             "AZ",
             "2016-07-03",
             81,
             0.33199999999999996,
             4.09
            ],
            [
             "AR",
             "2016-07-03",
             82,
             0.6666666666666666,
             2.14
            ],
            [
             "CA",
             "2016-07-03",
             73.42105263157895,
             0,
             5.820526315789474
            ],
            [
             "CO",
             "2016-07-03",
             68.83333333333333,
             0.29333333333333333,
             3.02
            ],
            [
             "CT",
             "2016-07-03",
             72,
             0.22000000000000003,
             7.08
            ],
            [
             "DE",
             "2016-07-03",
             72,
             0,
             6.53
            ],
            [
             "FL",
             "2016-07-03",
             83.58333333333333,
             0.6608333333333333,
             4.4375
            ],
            [
             "GA",
             "2016-07-03",
             84.5,
             0.0033333333333333335,
             3.7783333333333338
            ],
            [
             "HI",
             "2016-07-03",
             79.4,
             0.19,
             13.683999999999997
            ],
            [
             "ID",
             "2016-07-03",
             75,
             0,
             4.886666666666667
            ],
            [
             "IL",
             "2016-07-03",
             65.5,
             0.24833333333333332,
             6.363333333333333
            ],
            [
             "IN",
             "2016-07-03",
             66.5,
             0.59,
             5.555
            ],
            [
             "IA",
             "2016-07-03",
             65.2,
             0.006,
             6.122
            ],
            [
             "KS",
             "2016-07-03",
             73.33333333333333,
             2.3366666666666664,
             5.588333333333334
            ],
            [
             "KY",
             "2016-07-03",
             72.4,
             0.43599999999999994,
             3.5239999999999996
            ],
            [
             "LA",
             "2016-07-03",
             84.8,
             0.18,
             3.59
            ],
            [
             "ME",
             "2016-07-03",
             67.33333333333333,
             0.5133333333333333,
             7.653333333333333
            ],
            [
             "MD",
             "2016-07-03",
             71.5,
             0.43,
             3.8150000000000004
            ],
            [
             "MA",
             "2016-07-03",
             67,
             0.11,
             10.906666666666666
            ],
            [
             "MI",
             "2016-07-03",
             63.77777777777778,
             0.3111111111111111,
             4.904444444444445
            ],
            [
             "MN",
             "2016-07-03",
             63.2,
             0.002,
             3.7359999999999998
            ],
            [
             "MS",
             "2016-07-03",
             83.57142857142857,
             0,
             3.0814285714285714
            ],
            [
             "MO",
             "2016-07-03",
             70.42857142857143,
             2.61,
             6.7299999999999995
            ],
            [
             "MT",
             "2016-07-03",
             71.63636363636364,
             0.11454545454545455,
             6.147272727272727
            ],
            [
             "NE",
             "2016-07-03",
             65.75,
             0.6162500000000001,
             7.60125
            ],
            [
             "NV",
             "2016-07-03",
             76.5,
             0.11833333333333333,
             4.615
            ],
            [
             "NH",
             "2016-07-03",
             63,
             0.19,
             22.61
            ],
            [
             "NJ",
             "2016-07-03",
             72.5,
             0.535,
             6.23
            ],
            [
             "NM",
             "2016-07-03",
             78.66666666666667,
             0.06333333333333334,
             5.93
            ],
            [
             "NY",
             "2016-07-03",
             68.25,
             0.3775,
             7.87875
            ],
            [
             "NC",
             "2016-07-03",
             78.85714285714286,
             1.0871428571428572,
             3.6100000000000003
            ],
            [
             "ND",
             "2016-07-03",
             68,
             0.154,
             8.254
            ],
            [
             "OH",
             "2016-07-03",
             65.71428571428571,
             0.15571428571428572,
             3.257142857142857
            ],
            [
             "OK",
             "2016-07-03",
             80.25,
             0.775,
             6.6125
            ],
            [
             "OR",
             "2016-07-03",
             69.125,
             0.00875,
             6.2125
            ],
            [
             "PA",
             "2016-07-03",
             69.42857142857143,
             0.06,
             4.784285714285715
            ],
            [
             "RI",
             "2016-07-03",
             72,
             0.32,
             9.33
            ],
            [
             "SC",
             "2016-07-03",
             84.5,
             0.0125,
             3.795
            ],
            [
             "SD",
             "2016-07-03",
             64.8,
             0.20600000000000002,
             8.136
            ],
            [
             "TN",
             "2016-07-03",
             79.5,
             0.20500000000000002,
             2.905
            ],
            [
             "TX",
             "2016-07-03",
             85.625,
             0.041666666666666664,
             9.873333333333333
            ],
            [
             "UT",
             "2016-07-03",
             82,
             0,
             5.76
            ],
            [
             "VT",
             "2016-07-03",
             67,
             0.16,
             5.9
            ],
            [
             "VA",
             "2016-07-03",
             73.57142857142857,
             0.7842857142857144,
             4.494285714285714
            ],
            [
             "WA",
             "2016-07-03",
             67.85714285714286,
             0.022857142857142857,
             6.4628571428571435
            ],
            [
             "WV",
             "2016-07-03",
             69.25,
             0.065,
             2.28
            ],
            [
             "WI",
             "2016-07-03",
             65.25,
             0,
             4.7275
            ],
            [
             "WY",
             "2016-07-03",
             68.8,
             0.10200000000000001,
             5.138
            ]
           ],
           "geo": "geo",
           "hovertemplate": "<b>%{hovertext}</b><br><br>Date=%{customdata[1]}<br>Temperature (F)=%{z:.4f}<br>Precipitation (inches)=%{customdata[3]:.4f}<br>Wind Speed (mph)=%{customdata[4]:.4f}<extra></extra>",
           "hovertext": [
            "Alabama (AL)",
            "Alaska (AK)",
            "Arizona (AZ)",
            "Arkansas (AR)",
            "California (CA)",
            "Colorado (CO)",
            "Connecticut (CT)",
            "Delaware (DE)",
            "Florida (FL)",
            "Georgia (GA)",
            "Hawaii (HI)",
            "Idaho (ID)",
            "Illinois (IL)",
            "Indiana (IN)",
            "Iowa (IA)",
            "Kansas (KS)",
            "Kentucky (KY)",
            "Louisiana (LA)",
            "Maine (ME)",
            "Maryland (MD)",
            "Massachusetts (MA)",
            "Michigan (MI)",
            "Minnesota (MN)",
            "Mississippi (MS)",
            "Missouri (MO)",
            "Montana (MT)",
            "Nebraska (NE)",
            "Nevada (NV)",
            "New Hampshire (NH)",
            "New Jersey (NJ)",
            "New Mexico (NM)",
            "New York (NY)",
            "North Carolina (NC)",
            "North Dakota (ND)",
            "Ohio (OH)",
            "Oklahoma (OK)",
            "Oregon (OR)",
            "Pennsylvania (PA)",
            "Rhode Island (RI)",
            "South Carolina (SC)",
            "South Dakota (SD)",
            "Tennessee (TN)",
            "Texas (TX)",
            "Utah (UT)",
            "Vermont (VT)",
            "Virginia (VA)",
            "Washington (WA)",
            "West Virginia (WV)",
            "Wisconsin (WI)",
            "Wyoming (WY)"
           ],
           "locationmode": "USA-states",
           "locations": [
            "AL",
            "AK",
            "AZ",
            "AR",
            "CA",
            "CO",
            "CT",
            "DE",
            "FL",
            "GA",
            "HI",
            "ID",
            "IL",
            "IN",
            "IA",
            "KS",
            "KY",
            "LA",
            "ME",
            "MD",
            "MA",
            "MI",
            "MN",
            "MS",
            "MO",
            "MT",
            "NE",
            "NV",
            "NH",
            "NJ",
            "NM",
            "NY",
            "NC",
            "ND",
            "OH",
            "OK",
            "OR",
            "PA",
            "RI",
            "SC",
            "SD",
            "TN",
            "TX",
            "UT",
            "VT",
            "VA",
            "WA",
            "WV",
            "WI",
            "WY"
           ],
           "name": "",
           "type": "choropleth",
           "z": [
            84,
            58.09375,
            81,
            82,
            73.42105263157895,
            68.83333333333333,
            72,
            72,
            83.58333333333333,
            84.5,
            79.4,
            75,
            65.5,
            66.5,
            65.2,
            73.33333333333333,
            72.4,
            84.8,
            67.33333333333333,
            71.5,
            67,
            63.77777777777778,
            63.2,
            83.57142857142857,
            70.42857142857143,
            71.63636363636364,
            65.75,
            76.5,
            63,
            72.5,
            78.66666666666667,
            68.25,
            78.85714285714286,
            68,
            65.71428571428571,
            80.25,
            69.125,
            69.42857142857143,
            72,
            84.5,
            64.8,
            79.5,
            85.625,
            82,
            67,
            73.57142857142857,
            67.85714285714286,
            69.25,
            65.25,
            68.8
           ]
          }
         ],
         "name": "2016-07-03"
        },
        {
         "data": [
          {
           "coloraxis": "coloraxis",
           "customdata": [
            [
             "AL",
             "2016-07-10",
             84.5,
             1.885,
             5.6775
            ],
            [
             "AK",
             "2016-07-10",
             58.34375,
             0.3646875,
             4.4678125
            ],
            [
             "AZ",
             "2016-07-10",
             86.6,
             0.057999999999999996,
             6.378
            ],
            [
             "AR",
             "2016-07-10",
             82.33333333333333,
             1.8399999999999999,
             2.603333333333333
            ],
            [
             "CA",
             "2016-07-10",
             71.10526315789474,
             0.02526315789473684,
             7.003684210526315
            ],
            [
             "CO",
             "2016-07-10",
             73.83333333333333,
             0.21,
             4.833333333333333
            ],
            [
             "CT",
             "2016-07-10",
             74,
             1.5799999999999998,
             4.43
            ],
            [
             "DE",
             "2016-07-10",
             79,
             1.54,
             5.38
            ],
            [
             "FL",
             "2016-07-10",
             85.83333333333333,
             0.26416666666666666,
             5.580000000000001
            ],
            [
             "GA",
             "2016-07-10",
             84.83333333333333,
             0.3666666666666667,
             6.141666666666667
            ],
            [
             "HI",
             "2016-07-10",
             78.4,
             0.406,
             11.838
            ],
            [
             "ID",
             "2016-07-10",
             68.66666666666667,
             0.6433333333333334,
             6.503333333333334
            ],
            [
             "IL",
             "2016-07-10",
             75.16666666666667,
             1.7583333333333335,
             4.696666666666666
            ],
            [
             "IN",
             "2016-07-10",
             74.25,
             1.1075,
             4.9875
            ],
            [
             "IA",
             "2016-07-10",
             73.6,
             1.31,
             5.788
            ],
            [
             "KS",
             "2016-07-10",
             81.83333333333333,
             0.5599999999999999,
             7.888333333333333
            ],
            [
             "KY",
             "2016-07-10",
             77.4,
             2.754,
             4.215999999999999
            ],
            [
             "LA",
             "2016-07-10",
             86.75,
             0.92,
             6.775
            ],
            [
             "ME",
             "2016-07-10",
             64.33333333333333,
             1.2833333333333332,
             4.71
            ],
            [
             "MD",
             "2016-07-10",
             79,
             1.005,
             4.895
            ],
            [
             "MA",
             "2016-07-10",
             66,
             0.2966666666666667,
             6.760000000000001
            ],
            [
             "MI",
             "2016-07-10",
             71.44444444444444,
             0.9166666666666666,
             4.117777777777778
            ],
            [
             "MN",
             "2016-07-10",
             69,
             1.3820000000000001,
             5.518
            ],
            [
             "MS",
             "2016-07-10",
             84.57142857142857,
             1.2899999999999998,
             5.908571428571428
            ],
            [
             "MO",
             "2016-07-10",
             78.71428571428571,
             2.085714285714286,
             5.18
            ],
            [
             "MT",
             "2016-07-10",
             64,
             0.4027272727272727,
             5.494545454545454
            ],
            [
             "NE",
             "2016-07-10",
             77.25,
             0.6587500000000001,
             6.1875
            ],
            [
             "NV",
             "2016-07-10",
             75.83333333333333,
             0,
             8.428333333333333
            ],
            [
             "NH",
             "2016-07-10",
             64.5,
             0.485,
             10.805
            ],
            [
             "NJ",
             "2016-07-10",
             78,
             3.0149999999999997,
             5.9350000000000005
            ],
            [
             "NM",
             "2016-07-10",
             83.33333333333333,
             0.0033333333333333335,
             5.13
            ],
            [
             "NY",
             "2016-07-10",
             74.5,
             1.125,
             4.97375
            ],
            [
             "NC",
             "2016-07-10",
             80.57142857142857,
             1.1357142857142857,
             5.638571428571429
            ],
            [
             "ND",
             "2016-07-10",
             70,
             1.7079999999999997,
             5.538
            ],
            [
             "OH",
             "2016-07-10",
             74.28571428571429,
             0.687142857142857,
             5.831428571428572
            ],
            [
             "OK",
             "2016-07-10",
             84,
             0.4375,
             10.7175
            ],
            [
             "OR",
             "2016-07-10",
             64.125,
             0.4375,
             5.96625
            ],
            [
             "PA",
             "2016-07-10",
             76.57142857142857,
             1.1914285714285715,
             4.8
            ],
            [
             "RI",
             "2016-07-10",
             73,
             0.54,
             6.04
            ],
            [
             "SC",
             "2016-07-10",
             85.75,
             0.305,
             7.8975
            ],
            [
             "SD",
             "2016-07-10",
             74,
             0.6319999999999999,
             7.148000000000001
            ],
            [
             "TN",
             "2016-07-10",
             80.28571428571429,
             2.85,
             5.317142857142857
            ],
            [
             "TX",
             "2016-07-10",
             86.875,
             0.5095833333333334,
             11.25875
            ],
            [
             "UT",
             "2016-07-10",
             81,
             0,
             8.57
            ],
            [
             "VT",
             "2016-07-10",
             73,
             1.04,
             4.22
            ],
            [
             "VA",
             "2016-07-10",
             79.14285714285714,
             0.7314285714285714,
             5.142857142857143
            ],
            [
             "WA",
             "2016-07-10",
             62.42857142857143,
             0.5228571428571429,
             5.317142857142857
            ],
            [
             "WV",
             "2016-07-10",
             73.5,
             2.385,
             3.88
            ],
            [
             "WI",
             "2016-07-10",
             72.25,
             0.71,
             5.625
            ],
            [
             "WY",
             "2016-07-10",
             71,
             0.048,
             6.82
            ]
           ],
           "geo": "geo",
           "hovertemplate": "<b>%{hovertext}</b><br><br>Date=%{customdata[1]}<br>Temperature (F)=%{z:.4f}<br>Precipitation (inches)=%{customdata[3]:.4f}<br>Wind Speed (mph)=%{customdata[4]:.4f}<extra></extra>",
           "hovertext": [
            "Alabama (AL)",
            "Alaska (AK)",
            "Arizona (AZ)",
            "Arkansas (AR)",
            "California (CA)",
            "Colorado (CO)",
            "Connecticut (CT)",
            "Delaware (DE)",
            "Florida (FL)",
            "Georgia (GA)",
            "Hawaii (HI)",
            "Idaho (ID)",
            "Illinois (IL)",
            "Indiana (IN)",
            "Iowa (IA)",
            "Kansas (KS)",
            "Kentucky (KY)",
            "Louisiana (LA)",
            "Maine (ME)",
            "Maryland (MD)",
            "Massachusetts (MA)",
            "Michigan (MI)",
            "Minnesota (MN)",
            "Mississippi (MS)",
            "Missouri (MO)",
            "Montana (MT)",
            "Nebraska (NE)",
            "Nevada (NV)",
            "New Hampshire (NH)",
            "New Jersey (NJ)",
            "New Mexico (NM)",
            "New York (NY)",
            "North Carolina (NC)",
            "North Dakota (ND)",
            "Ohio (OH)",
            "Oklahoma (OK)",
            "Oregon (OR)",
            "Pennsylvania (PA)",
            "Rhode Island (RI)",
            "South Carolina (SC)",
            "South Dakota (SD)",
            "Tennessee (TN)",
            "Texas (TX)",
            "Utah (UT)",
            "Vermont (VT)",
            "Virginia (VA)",
            "Washington (WA)",
            "West Virginia (WV)",
            "Wisconsin (WI)",
            "Wyoming (WY)"
           ],
           "locationmode": "USA-states",
           "locations": [
            "AL",
            "AK",
            "AZ",
            "AR",
            "CA",
            "CO",
            "CT",
            "DE",
            "FL",
            "GA",
            "HI",
            "ID",
            "IL",
            "IN",
            "IA",
            "KS",
            "KY",
            "LA",
            "ME",
            "MD",
            "MA",
            "MI",
            "MN",
            "MS",
            "MO",
            "MT",
            "NE",
            "NV",
            "NH",
            "NJ",
            "NM",
            "NY",
            "NC",
            "ND",
            "OH",
            "OK",
            "OR",
            "PA",
            "RI",
            "SC",
            "SD",
            "TN",
            "TX",
            "UT",
            "VT",
            "VA",
            "WA",
            "WV",
            "WI",
            "WY"
           ],
           "name": "",
           "type": "choropleth",
           "z": [
            84.5,
            58.34375,
            86.6,
            82.33333333333333,
            71.10526315789474,
            73.83333333333333,
            74,
            79,
            85.83333333333333,
            84.83333333333333,
            78.4,
            68.66666666666667,
            75.16666666666667,
            74.25,
            73.6,
            81.83333333333333,
            77.4,
            86.75,
            64.33333333333333,
            79,
            66,
            71.44444444444444,
            69,
            84.57142857142857,
            78.71428571428571,
            64,
            77.25,
            75.83333333333333,
            64.5,
            78,
            83.33333333333333,
            74.5,
            80.57142857142857,
            70,
            74.28571428571429,
            84,
            64.125,
            76.57142857142857,
            73,
            85.75,
            74,
            80.28571428571429,
            86.875,
            81,
            73,
            79.14285714285714,
            62.42857142857143,
            73.5,
            72.25,
            71
           ]
          }
         ],
         "name": "2016-07-10"
        },
        {
         "data": [
          {
           "coloraxis": "coloraxis",
           "customdata": [
            [
             "AL",
             "2016-07-17",
             81.75,
             2.0625,
             2.205
            ],
            [
             "AK",
             "2016-07-17",
             61.21875,
             0.161875,
             5.1353125
            ],
            [
             "AZ",
             "2016-07-17",
             87.8,
             0.4,
             6.032
            ],
            [
             "AR",
             "2016-07-17",
             80.33333333333333,
             0.9766666666666666,
             2.9433333333333334
            ],
            [
             "CA",
             "2016-07-17",
             72.73684210526316,
             0,
             5.703684210526316
            ],
            [
             "CO",
             "2016-07-17",
             72.5,
             0.04833333333333334,
             3.921666666666667
            ],
            [
             "CT",
             "2016-07-17",
             77.5,
             0.32999999999999996,
             5.109999999999999
            ],
            [
             "DE",
             "2016-07-17",
             79,
             0.4,
             5.78
            ],
            [
             "FL",
             "2016-07-17",
             84.16666666666667,
             0.9983333333333334,
             4.703333333333333
            ],
            [
             "GA",
             "2016-07-17",
             83.66666666666667,
             0.27,
             3.4683333333333333
            ],
            [
             "HI",
             "2016-07-17",
             79,
             0.5820000000000001,
             9.42
            ],
            [
             "ID",
             "2016-07-17",
             68.33333333333333,
             0.013333333333333334,
             3.8833333333333333
            ],
            [
             "IL",
             "2016-07-17",
             76,
             1.3399999999999999,
             7.1000000000000005
            ],
            [
             "IN",
             "2016-07-17",
             75.75,
             0.7175,
             6.6625
            ],
            [
             "IA",
             "2016-07-17",
             72.8,
             1.332,
             7.31
            ],
            [
             "KS",
             "2016-07-17",
             79.16666666666667,
             1.0883333333333334,
             8.566666666666668
            ],
            [
             "KY",
             "2016-07-17",
             78.6,
             0.5900000000000001,
             3.978
            ],
            [
             "LA",
             "2016-07-17",
             84.25,
             1.47,
             3.87
            ],
            [
             "ME",
             "2016-07-17",
             73,
             0.7166666666666667,
             5.436666666666667
            ],
            [
             "MD",
             "2016-07-17",
             79,
             0.775,
             4.1
            ],
            [
             "MA",
             "2016-07-17",
             70,
             0.19999999999999998,
             7.890000000000001
            ],
            [
             "MI",
             "2016-07-17",
             71.22222222222223,
             0.6455555555555557,
             6.862222222222223
            ],
            [
             "MN",
             "2016-07-17",
             68.8,
             2.0140000000000002,
             8.47
            ],
            [
             "MS",
             "2016-07-17",
             82.57142857142857,
             0.692857142857143,
             3.2457142857142856
            ],
            [
             "MO",
             "2016-07-17",
             79.14285714285714,
             1.1285714285714286,
             6.865714285714286
            ],
            [
             "MT",
             "2016-07-17",
             62.27272727272727,
             0.6827272727272727,
             6.191818181818181
            ],
            [
             "NE",
             "2016-07-17",
             73,
             0.835,
             6.376250000000001
            ],
            [
             "NV",
             "2016-07-17",
             75.33333333333333,
             0,
             5.609999999999999
            ],
            [
             "NH",
             "2016-07-17",
             67.5,
             0.01,
             13.959999999999999
            ],
            [
             "NJ",
             "2016-07-17",
             81,
             0.375,
             4.475
            ],
            [
             "NM",
             "2016-07-17",
             83.33333333333333,
             0,
             5.77
            ],
            [
             "NY",
             "2016-07-17",
             75.25,
             0.22125,
             5.7375
            ],
            [
             "NC",
             "2016-07-17",
             80,
             1.6600000000000001,
             3.1885714285714286
            ],
            [
             "ND",
             "2016-07-17",
             66.8,
             1.214,
             9.203999999999999
            ],
            [
             "OH",
             "2016-07-17",
             75.57142857142857,
             0.4485714285714285,
             6.882857142857143
            ],
            [
             "OK",
             "2016-07-17",
             82.75,
             1.355,
             11.7425
            ],
            [
             "OR",
             "2016-07-17",
             65.5,
             0.03,
             4.81125
            ],
            [
             "PA",
             "2016-07-17",
             77.85714285714286,
             0.25285714285714284,
             4.707142857142857
            ],
            [
             "RI",
             "2016-07-17",
             76,
             1.21,
             5.45
            ],
            [
             "SC",
             "2016-07-17",
             84,
             1.0175,
             3.5175
            ],
            [
             "SD",
             "2016-07-17",
             70,
             0.654,
             7.609999999999999
            ],
            [
             "TN",
             "2016-07-17",
             79.71428571428571,
             0.5357142857142857,
             3.051428571428571
            ],
            [
             "TX",
             "2016-07-17",
             87,
             0.35166666666666674,
             11.26375
            ],
            [
             "UT",
             "2016-07-17",
             77,
             0,
             2.35
            ],
            [
             "VT",
             "2016-07-17",
             75,
             0.61,
             5.51
            ],
            [
             "VA",
             "2016-07-17",
             79.71428571428571,
             0.2757142857142857,
             4.078571428571428
            ],
            [
             "WA",
             "2016-07-17",
             65,
             0.08857142857142856,
             4.354285714285714
            ],
            [
             "WV",
             "2016-07-17",
             75,
             0.9525,
             2.585
            ],
            [
             "WI",
             "2016-07-17",
             73.5,
             0.7325,
             8.245000000000001
            ],
            [
             "WY",
             "2016-07-17",
             66,
             0.002,
             6.604000000000001
            ]
           ],
           "geo": "geo",
           "hovertemplate": "<b>%{hovertext}</b><br><br>Date=%{customdata[1]}<br>Temperature (F)=%{z:.4f}<br>Precipitation (inches)=%{customdata[3]:.4f}<br>Wind Speed (mph)=%{customdata[4]:.4f}<extra></extra>",
           "hovertext": [
            "Alabama (AL)",
            "Alaska (AK)",
            "Arizona (AZ)",
            "Arkansas (AR)",
            "California (CA)",
            "Colorado (CO)",
            "Connecticut (CT)",
            "Delaware (DE)",
            "Florida (FL)",
            "Georgia (GA)",
            "Hawaii (HI)",
            "Idaho (ID)",
            "Illinois (IL)",
            "Indiana (IN)",
            "Iowa (IA)",
            "Kansas (KS)",
            "Kentucky (KY)",
            "Louisiana (LA)",
            "Maine (ME)",
            "Maryland (MD)",
            "Massachusetts (MA)",
            "Michigan (MI)",
            "Minnesota (MN)",
            "Mississippi (MS)",
            "Missouri (MO)",
            "Montana (MT)",
            "Nebraska (NE)",
            "Nevada (NV)",
            "New Hampshire (NH)",
            "New Jersey (NJ)",
            "New Mexico (NM)",
            "New York (NY)",
            "North Carolina (NC)",
            "North Dakota (ND)",
            "Ohio (OH)",
            "Oklahoma (OK)",
            "Oregon (OR)",
            "Pennsylvania (PA)",
            "Rhode Island (RI)",
            "South Carolina (SC)",
            "South Dakota (SD)",
            "Tennessee (TN)",
            "Texas (TX)",
            "Utah (UT)",
            "Vermont (VT)",
            "Virginia (VA)",
            "Washington (WA)",
            "West Virginia (WV)",
            "Wisconsin (WI)",
            "Wyoming (WY)"
           ],
           "locationmode": "USA-states",
           "locations": [
            "AL",
            "AK",
            "AZ",
            "AR",
            "CA",
            "CO",
            "CT",
            "DE",
            "FL",
            "GA",
            "HI",
            "ID",
            "IL",
            "IN",
            "IA",
            "KS",
            "KY",
            "LA",
            "ME",
            "MD",
            "MA",
            "MI",
            "MN",
            "MS",
            "MO",
            "MT",
            "NE",
            "NV",
            "NH",
            "NJ",
            "NM",
            "NY",
            "NC",
            "ND",
            "OH",
            "OK",
            "OR",
            "PA",
            "RI",
            "SC",
            "SD",
            "TN",
            "TX",
            "UT",
            "VT",
            "VA",
            "WA",
            "WV",
            "WI",
            "WY"
           ],
           "name": "",
           "type": "choropleth",
           "z": [
            81.75,
            61.21875,
            87.8,
            80.33333333333333,
            72.73684210526316,
            72.5,
            77.5,
            79,
            84.16666666666667,
            83.66666666666667,
            79,
            68.33333333333333,
            76,
            75.75,
            72.8,
            79.16666666666667,
            78.6,
            84.25,
            73,
            79,
            70,
            71.22222222222223,
            68.8,
            82.57142857142857,
            79.14285714285714,
            62.27272727272727,
            73,
            75.33333333333333,
            67.5,
            81,
            83.33333333333333,
            75.25,
            80,
            66.8,
            75.57142857142857,
            82.75,
            65.5,
            77.85714285714286,
            76,
            84,
            70,
            79.71428571428571,
            87,
            77,
            75,
            79.71428571428571,
            65,
            75,
            73.5,
            66
           ]
          }
         ],
         "name": "2016-07-17"
        },
        {
         "data": [
          {
           "coloraxis": "coloraxis",
           "customdata": [
            [
             "AL",
             "2016-07-24",
             84.25,
             1.175,
             1.3975
            ],
            [
             "AK",
             "2016-07-24",
             58.15625,
             0.9053125,
             6.559375
            ],
            [
             "AZ",
             "2016-07-24",
             87.4,
             0.348,
             4.104
            ],
            [
             "AR",
             "2016-07-24",
             85.66666666666667,
             0.2866666666666667,
             1.46
            ],
            [
             "CA",
             "2016-07-24",
             73.84210526315789,
             0.0015789473684210526,
             5.996842105263158
            ],
            [
             "CO",
             "2016-07-24",
             76.5,
             0.22333333333333336,
             3.7066666666666666
            ],
            [
             "CT",
             "2016-07-24",
             79,
             0.315,
             6.675
            ],
            [
             "DE",
             "2016-07-24",
             80,
             1.14,
             5.25
            ],
            [
             "FL",
             "2016-07-24",
             83.83333333333333,
             0.8650000000000001,
             4.5424999999999995
            ],
            [
             "GA",
             "2016-07-24",
             83.83333333333333,
             0.5950000000000001,
             1.68
            ],
            [
             "HI",
             "2016-07-24",
             80,
             1.502,
             9.972
            ],
            [
             "ID",
             "2016-07-24",
             74.33333333333333,
             0.0033333333333333335,
             4.753333333333334
            ],
            [
             "IL",
             "2016-07-24",
             80.5,
             2.7583333333333333,
             4.463333333333334
            ],
            [
             "IN",
             "2016-07-24",
             79,
             1.465,
             3.9275
            ],
            [
             "IA",
             "2016-07-24",
             79.2,
             2.0100000000000002,
             6.781999999999999
            ],
            [
             "KS",
             "2016-07-24",
             85.5,
             0.17333333333333334,
             9.53
            ],
            [
             "KY",
             "2016-07-24",
             81.8,
             0.17800000000000002,
             1.8559999999999999
            ],
            [
             "LA",
             "2016-07-24",
             86.5,
             0.255,
             2.1625
            ],
            [
             "ME",
             "2016-07-24",
             72,
             0.2733333333333334,
             6.0566666666666675
            ],
            [
             "MD",
             "2016-07-24",
             80.5,
             1.0050000000000001,
             3.755
            ],
            [
             "MA",
             "2016-07-24",
             71.33333333333333,
             0.12,
             9.726666666666667
            ],
            [
             "MI",
             "2016-07-24",
             75,
             0.9677777777777778,
             4.888888888888889
            ],
            [
             "MN",
             "2016-07-24",
             74.6,
             1.292,
             6.2299999999999995
            ],
            [
             "MS",
             "2016-07-24",
             84.71428571428571,
             1.24,
             1.3471428571428572
            ],
            [
             "MO",
             "2016-07-24",
             84,
             0.37142857142857144,
             5.142857142857143
            ],
            [
             "MT",
             "2016-07-24",
             71.63636363636364,
             0.10272727272727272,
             5.101818181818182
            ],
            [
             "NE",
             "2016-07-24",
             81.25,
             0.51375,
             7.50125
            ],
            [
             "NV",
             "2016-07-24",
             78.33333333333333,
             0,
             6.31
            ],
            [
             "NH",
             "2016-07-24",
             66.5,
             0.17,
             20.259999999999998
            ],
            [
             "NJ",
             "2016-07-24",
             80.5,
             0.505,
             6.995
            ],
            [
             "NM",
             "2016-07-24",
             83.33333333333333,
             0.35333333333333333,
             6.81
            ],
            [
             "NY",
             "2016-07-24",
             75.625,
             0.13875,
             6.60375
            ],
            [
             "NC",
             "2016-07-24",
             80.85714285714286,
             0.5328571428571428,
             3.2328571428571427
            ],
            [
             "ND",
             "2016-07-24",
             75.2,
             0.728,
             6.4239999999999995
            ],
            [
             "OH",
             "2016-07-24",
             77.42857142857143,
             0.9885714285714285,
             4.76
            ],
            [
             "OK",
             "2016-07-24",
             87.25,
             0,
             10.19
            ],
            [
             "OR",
             "2016-07-24",
             67.875,
             0.08625,
             4.83375
            ],
            [
             "PA",
             "2016-07-24",
             77.85714285714286,
             0.4828571428571428,
             4.430000000000001
            ],
            [
             "RI",
             "2016-07-24",
             77,
             1.71,
             7.98
            ],
            [
             "SC",
             "2016-07-24",
             83.75,
             1.2025000000000001,
             2.535
            ],
            [
             "SD",
             "2016-07-24",
             80.2,
             0.53,
             7.531999999999999
            ],
            [
             "TN",
             "2016-07-24",
             83.14285714285714,
             0.5442857142857143,
             1.6214285714285714
            ],
            [
             "TX",
             "2016-07-24",
             86.83333333333333,
             0.05458333333333334,
             7.5370833333333325
            ],
            [
             "UT",
             "2016-07-24",
             87,
             0,
             8.75
            ],
            [
             "VT",
             "2016-07-24",
             72,
             1.22,
             5.17
            ],
            [
             "VA",
             "2016-07-24",
             81.14285714285714,
             0.8642857142857144,
             3.837142857142857
            ],
            [
             "WA",
             "2016-07-24",
             67,
             0.19571428571428573,
             3.6314285714285717
            ],
            [
             "WV",
             "2016-07-24",
             76.5,
             0.105,
             1.555
            ],
            [
             "WI",
             "2016-07-24",
             77.75,
             2.16,
             4.785
            ],
            [
             "WY",
             "2016-07-24",
             75,
             0.038,
             6.162000000000001
            ]
           ],
           "geo": "geo",
           "hovertemplate": "<b>%{hovertext}</b><br><br>Date=%{customdata[1]}<br>Temperature (F)=%{z:.4f}<br>Precipitation (inches)=%{customdata[3]:.4f}<br>Wind Speed (mph)=%{customdata[4]:.4f}<extra></extra>",
           "hovertext": [
            "Alabama (AL)",
            "Alaska (AK)",
            "Arizona (AZ)",
            "Arkansas (AR)",
            "California (CA)",
            "Colorado (CO)",
            "Connecticut (CT)",
            "Delaware (DE)",
            "Florida (FL)",
            "Georgia (GA)",
            "Hawaii (HI)",
            "Idaho (ID)",
            "Illinois (IL)",
            "Indiana (IN)",
            "Iowa (IA)",
            "Kansas (KS)",
            "Kentucky (KY)",
            "Louisiana (LA)",
            "Maine (ME)",
            "Maryland (MD)",
            "Massachusetts (MA)",
            "Michigan (MI)",
            "Minnesota (MN)",
            "Mississippi (MS)",
            "Missouri (MO)",
            "Montana (MT)",
            "Nebraska (NE)",
            "Nevada (NV)",
            "New Hampshire (NH)",
            "New Jersey (NJ)",
            "New Mexico (NM)",
            "New York (NY)",
            "North Carolina (NC)",
            "North Dakota (ND)",
            "Ohio (OH)",
            "Oklahoma (OK)",
            "Oregon (OR)",
            "Pennsylvania (PA)",
            "Rhode Island (RI)",
            "South Carolina (SC)",
            "South Dakota (SD)",
            "Tennessee (TN)",
            "Texas (TX)",
            "Utah (UT)",
            "Vermont (VT)",
            "Virginia (VA)",
            "Washington (WA)",
            "West Virginia (WV)",
            "Wisconsin (WI)",
            "Wyoming (WY)"
           ],
           "locationmode": "USA-states",
           "locations": [
            "AL",
            "AK",
            "AZ",
            "AR",
            "CA",
            "CO",
            "CT",
            "DE",
            "FL",
            "GA",
            "HI",
            "ID",
            "IL",
            "IN",
            "IA",
            "KS",
            "KY",
            "LA",
            "ME",
            "MD",
            "MA",
            "MI",
            "MN",
            "MS",
            "MO",
            "MT",
            "NE",
            "NV",
            "NH",
            "NJ",
            "NM",
            "NY",
            "NC",
            "ND",
            "OH",
            "OK",
            "OR",
            "PA",
            "RI",
            "SC",
            "SD",
            "TN",
            "TX",
            "UT",
            "VT",
            "VA",
            "WA",
            "WV",
            "WI",
            "WY"
           ],
           "name": "",
           "type": "choropleth",
           "z": [
            84.25,
            58.15625,
            87.4,
            85.66666666666667,
            73.84210526315789,
            76.5,
            79,
            80,
            83.83333333333333,
            83.83333333333333,
            80,
            74.33333333333333,
            80.5,
            79,
            79.2,
            85.5,
            81.8,
            86.5,
            72,
            80.5,
            71.33333333333333,
            75,
            74.6,
            84.71428571428571,
            84,
            71.63636363636364,
            81.25,
            78.33333333333333,
            66.5,
            80.5,
            83.33333333333333,
            75.625,
            80.85714285714286,
            75.2,
            77.42857142857143,
            87.25,
            67.875,
            77.85714285714286,
            77,
            83.75,
            80.2,
            83.14285714285714,
            86.83333333333333,
            87,
            72,
            81.14285714285714,
            67,
            76.5,
            77.75,
            75
           ]
          }
         ],
         "name": "2016-07-24"
        },
        {
         "data": [
          {
           "coloraxis": "coloraxis",
           "customdata": [
            [
             "AL",
             "2016-07-31",
             83.25,
             0.9550000000000001,
             3.9899999999999998
            ],
            [
             "AK",
             "2016-07-31",
             57.625,
             0.8759375,
             5.58125
            ],
            [
             "AZ",
             "2016-07-31",
             87.4,
             0.7220000000000001,
             3.9939999999999998
            ],
            [
             "AR",
             "2016-07-31",
             81.33333333333333,
             1.3399999999999999,
             1.5433333333333332
            ],
            [
             "CA",
             "2016-07-31",
             77.42105263157895,
             0.0015789473684210526,
             4.997368421052632
            ],
            [
             "CO",
             "2016-07-31",
             75,
             0.295,
             3.526666666666667
            ],
            [
             "CT",
             "2016-07-31",
             78.5,
             1.055,
             4.675
            ],
            [
             "DE",
             "2016-07-31",
             82,
             3.27,
             3.21
            ],
            [
             "FL",
             "2016-07-31",
             84.58333333333333,
             0.7025,
             4.859166666666667
            ],
            [
             "GA",
             "2016-07-31",
             85.16666666666667,
             0.7233333333333333,
             4.69
            ],
            [
             "HI",
             "2016-07-31",
             80.6,
             0.302,
             10.492
            ],
            [
             "ID",
             "2016-07-31",
             79.66666666666667,
             0.0033333333333333335,
             3.64
            ],
            [
             "IL",
             "2016-07-31",
             76.16666666666667,
             1.04,
             3.5866666666666664
            ],
            [
             "IN",
             "2016-07-31",
             77,
             0.925,
             3.0075
            ],
            [
             "IA",
             "2016-07-31",
             73.8,
             0.184,
             4.744
            ],
            [
             "KS",
             "2016-07-31",
             78.66666666666667,
             1.1483333333333332,
             5.575
            ],
            [
             "KY",
             "2016-07-31",
             80,
             1.8800000000000001,
             2.164
            ],
            [
             "LA",
             "2016-07-31",
             84,
             1.7075,
             2.8025
            ],
            [
             "ME",
             "2016-07-31",
             73.33333333333333,
             0.5566666666666666,
             3.1466666666666665
            ],
            [
             "MD",
             "2016-07-31",
             83,
             2.98,
             2.99
            ],
            [
             "MA",
             "2016-07-31",
             71,
             0.25,
             5.686666666666667
            ],
            [
             "MI",
             "2016-07-31",
             72.33333333333333,
             0.5688888888888889,
             4.64
            ],
            [
             "MN",
             "2016-07-31",
             69.6,
             0.15999999999999998,
             5.492
            ],
            [
             "MS",
             "2016-07-31",
             82.57142857142857,
             1.4957142857142856,
             3.662857142857143
            ],
            [
             "MO",
             "2016-07-31",
             78.28571428571429,
             1.7985714285714285,
             3.3857142857142857
            ],
            [
             "MT",
             "2016-07-31",
             71.45454545454545,
             0.19545454545454544,
             4.071818181818181
            ],
            [
             "NE",
             "2016-07-31",
             74.25,
             0.8612500000000001,
             6.14375
            ],
            [
             "NV",
             "2016-07-31",
             83.33333333333333,
             0.034999999999999996,
             3.82
            ],
            [
             "NH",
             "2016-07-31",
             67.5,
             0.235,
             9.765
            ],
            [
             "NJ",
             "2016-07-31",
             80.5,
             3.025,
             4.335
            ],
            [
             "NM",
             "2016-07-31",
             79.66666666666667,
             0.5866666666666667,
             4.976666666666667
            ],
            [
             "NY",
             "2016-07-31",
             75.625,
             1.505,
             5.1187499999999995
            ],
            [
             "NC",
             "2016-07-31",
             83.85714285714286,
             0.48857142857142855,
             5.184285714285714
            ],
            [
             "ND",
             "2016-07-31",
             71.2,
             0.7300000000000001,
             5.932
            ],
            [
             "OH",
             "2016-07-31",
             76.85714285714286,
             0.4857142857142857,
             3.3028571428571425
            ],
            [
             "OK",
             "2016-07-31",
             82.5,
             1.8375,
             4.7125
            ],
            [
             "OR",
             "2016-07-31",
             73.25,
             0.00125,
             5.54875
            ],
            [
             "PA",
             "2016-07-31",
             78.71428571428571,
             2.347142857142857,
             2.8557142857142854
            ],
            [
             "RI",
             "2016-07-31",
             78,
             0.17,
             5.5
            ],
            [
             "SC",
             "2016-07-31",
             86.25,
             0.6,
             6.0225
            ],
            [
             "SD",
             "2016-07-31",
             73.4,
             0.808,
             7.1739999999999995
            ],
            [
             "TN",
             "2016-07-31",
             81.85714285714286,
             1.8628571428571428,
             3.0528571428571425
            ],
            [
             "TX",
             "2016-07-31",
             85.20833333333333,
             1.0925,
             6.2425
            ],
            [
             "UT",
             "2016-07-31",
             88,
             0,
             2.57
            ],
            [
             "VT",
             "2016-07-31",
             73,
             0.02,
             3.94
            ],
            [
             "VA",
             "2016-07-31",
             82.85714285714286,
             3.045714285714286,
             3.04
            ],
            [
             "WA",
             "2016-07-31",
             73.28571428571429,
             0.07857142857142858,
             4.31
            ],
            [
             "WV",
             "2016-07-31",
             77.25,
             1.6575,
             2.09
            ],
            [
             "WI",
             "2016-07-31",
             72.75,
             0.23750000000000002,
             5.1225
            ],
            [
             "WY",
             "2016-07-31",
             72.8,
             0.13,
             4.54
            ]
           ],
           "geo": "geo",
           "hovertemplate": "<b>%{hovertext}</b><br><br>Date=%{customdata[1]}<br>Temperature (F)=%{z:.4f}<br>Precipitation (inches)=%{customdata[3]:.4f}<br>Wind Speed (mph)=%{customdata[4]:.4f}<extra></extra>",
           "hovertext": [
            "Alabama (AL)",
            "Alaska (AK)",
            "Arizona (AZ)",
            "Arkansas (AR)",
            "California (CA)",
            "Colorado (CO)",
            "Connecticut (CT)",
            "Delaware (DE)",
            "Florida (FL)",
            "Georgia (GA)",
            "Hawaii (HI)",
            "Idaho (ID)",
            "Illinois (IL)",
            "Indiana (IN)",
            "Iowa (IA)",
            "Kansas (KS)",
            "Kentucky (KY)",
            "Louisiana (LA)",
            "Maine (ME)",
            "Maryland (MD)",
            "Massachusetts (MA)",
            "Michigan (MI)",
            "Minnesota (MN)",
            "Mississippi (MS)",
            "Missouri (MO)",
            "Montana (MT)",
            "Nebraska (NE)",
            "Nevada (NV)",
            "New Hampshire (NH)",
            "New Jersey (NJ)",
            "New Mexico (NM)",
            "New York (NY)",
            "North Carolina (NC)",
            "North Dakota (ND)",
            "Ohio (OH)",
            "Oklahoma (OK)",
            "Oregon (OR)",
            "Pennsylvania (PA)",
            "Rhode Island (RI)",
            "South Carolina (SC)",
            "South Dakota (SD)",
            "Tennessee (TN)",
            "Texas (TX)",
            "Utah (UT)",
            "Vermont (VT)",
            "Virginia (VA)",
            "Washington (WA)",
            "West Virginia (WV)",
            "Wisconsin (WI)",
            "Wyoming (WY)"
           ],
           "locationmode": "USA-states",
           "locations": [
            "AL",
            "AK",
            "AZ",
            "AR",
            "CA",
            "CO",
            "CT",
            "DE",
            "FL",
            "GA",
            "HI",
            "ID",
            "IL",
            "IN",
            "IA",
            "KS",
            "KY",
            "LA",
            "ME",
            "MD",
            "MA",
            "MI",
            "MN",
            "MS",
            "MO",
            "MT",
            "NE",
            "NV",
            "NH",
            "NJ",
            "NM",
            "NY",
            "NC",
            "ND",
            "OH",
            "OK",
            "OR",
            "PA",
            "RI",
            "SC",
            "SD",
            "TN",
            "TX",
            "UT",
            "VT",
            "VA",
            "WA",
            "WV",
            "WI",
            "WY"
           ],
           "name": "",
           "type": "choropleth",
           "z": [
            83.25,
            57.625,
            87.4,
            81.33333333333333,
            77.42105263157895,
            75,
            78.5,
            82,
            84.58333333333333,
            85.16666666666667,
            80.6,
            79.66666666666667,
            76.16666666666667,
            77,
            73.8,
            78.66666666666667,
            80,
            84,
            73.33333333333333,
            83,
            71,
            72.33333333333333,
            69.6,
            82.57142857142857,
            78.28571428571429,
            71.45454545454545,
            74.25,
            83.33333333333333,
            67.5,
            80.5,
            79.66666666666667,
            75.625,
            83.85714285714286,
            71.2,
            76.85714285714286,
            82.5,
            73.25,
            78.71428571428571,
            78,
            86.25,
            73.4,
            81.85714285714286,
            85.20833333333333,
            88,
            73,
            82.85714285714286,
            73.28571428571429,
            77.25,
            72.75,
            72.8
           ]
          }
         ],
         "name": "2016-07-31"
        },
        {
         "data": [
          {
           "coloraxis": "coloraxis",
           "customdata": [
            [
             "AL",
             "2016-08-07",
             84.25,
             0.835,
             1.695
            ],
            [
             "AK",
             "2016-08-07",
             58.57575757575758,
             0.8921212121212121,
             4.9790909090909095
            ],
            [
             "AZ",
             "2016-08-07",
             82,
             0.71,
             3.806
            ],
            [
             "AR",
             "2016-08-07",
             84.66666666666667,
             2.17,
             1.6833333333333333
            ],
            [
             "CA",
             "2016-08-07",
             73.15789473684211,
             0,
             5.687894736842105
            ],
            [
             "CO",
             "2016-08-07",
             72.16666666666667,
             0.4366666666666667,
             4.406666666666666
            ],
            [
             "CT",
             "2016-08-07",
             74.5,
             0.3,
             5.53
            ],
            [
             "DE",
             "2016-08-07",
             76,
             0,
             5.58
            ],
            [
             "FL",
             "2016-08-07",
             83.5,
             2.7783333333333338,
             5.239166666666667
            ],
            [
             "GA",
             "2016-08-07",
             83.33333333333333,
             1.955,
             2.9416666666666664
            ],
            [
             "HI",
             "2016-08-07",
             80.8,
             0.38,
             10.474
            ],
            [
             "ID",
             "2016-08-07",
             73.66666666666667,
             0.08,
             4.756666666666667
            ],
            [
             "IL",
             "2016-08-07",
             76.5,
             0.8033333333333333,
             4.053333333333334
            ],
            [
             "IN",
             "2016-08-07",
             78,
             0,
             3.0275
            ],
            [
             "IA",
             "2016-08-07",
             74.4,
             1.038,
             5.264
            ],
            [
             "KS",
             "2016-08-07",
             79.16666666666667,
             1.9333333333333333,
             7.233333333333334
            ],
            [
             "KY",
             "2016-08-07",
             79,
             2.698,
             1.972
            ],
            [
             "LA",
             "2016-08-07",
             86.2,
             1.498,
             1.834
            ],
            [
             "ME",
             "2016-08-07",
             71,
             0.49666666666666665,
             5.236666666666666
            ],
            [
             "MD",
             "2016-08-07",
             77,
             0.03,
             4.255
            ],
            [
             "MA",
             "2016-08-07",
             72.33333333333333,
             0.37999999999999995,
             7.306666666666666
            ],
            [
             "MI",
             "2016-08-07",
             73.44444444444444,
             0.09444444444444446,
             3.8322222222222226
            ],
            [
             "MN",
             "2016-08-07",
             71,
             1.16,
             5.768
            ],
            [
             "MS",
             "2016-08-07",
             85.42857142857143,
             1.182857142857143,
             1.7557142857142856
            ],
            [
             "MO",
             "2016-08-07",
             79,
             2.0685714285714285,
             4.725714285714285
            ],
            [
             "MT",
             "2016-08-07",
             67.81818181818181,
             0.16272727272727272,
             5.761818181818182
            ],
            [
             "NE",
             "2016-08-07",
             74.5,
             0.31,
             7.1975
            ],
            [
             "NV",
             "2016-08-07",
             78,
             0.04,
             5.486666666666667
            ],
            [
             "NH",
             "2016-08-07",
             61.5,
             0.355,
             11.17
            ],
            [
             "NJ",
             "2016-08-07",
             75,
             0.13,
             5.609999999999999
            ],
            [
             "NM",
             "2016-08-07",
             79.66666666666667,
             1.5833333333333333,
             4.433333333333334
            ],
            [
             "NY",
             "2016-08-07",
             73.625,
             0.515,
             5.8725000000000005
            ],
            [
             "NC",
             "2016-08-07",
             80,
             2.3042857142857147,
             4.508571428571429
            ],
            [
             "ND",
             "2016-08-07",
             71,
             0.384,
             7.35
            ],
            [
             "OH",
             "2016-08-07",
             76.85714285714286,
             0.11571428571428573,
             4.637142857142857
            ],
            [
             "OK",
             "2016-08-07",
             85.5,
             0.7999999999999999,
             7.077500000000001
            ],
            [
             "OR",
             "2016-08-07",
             67.625,
             0.03,
             5.7375
            ],
            [
             "PA",
             "2016-08-07",
             75.57142857142857,
             0.23285714285714287,
             4.137142857142857
            ],
            [
             "RI",
             "2016-08-07",
             72,
             0.95,
             5.55
            ],
            [
             "SC",
             "2016-08-07",
             82.75,
             1.915,
             4.1275
            ],
            [
             "SD",
             "2016-08-07",
             73.2,
             0.29,
             6.942
            ],
            [
             "TN",
             "2016-08-07",
             82,
             0.71875,
             2.165
            ],
            [
             "TX",
             "2016-08-07",
             87.29166666666667,
             0.07083333333333333,
             7.646249999999999
            ],
            [
             "UT",
             "2016-08-07",
             83,
             0.07,
             5.68
            ],
            [
             "VT",
             "2016-08-07",
             74,
             0.2,
             6.02
            ],
            [
             "VA",
             "2016-08-07",
             77.85714285714286,
             0.7028571428571428,
             4.451428571428571
            ],
            [
             "WA",
             "2016-08-07",
             66.28571428571429,
             0.08714285714285715,
             4.277142857142858
            ],
            [
             "WV",
             "2016-08-07",
             74.5,
             1.4100000000000001,
             2.69
            ],
            [
             "WI",
             "2016-08-07",
             74.5,
             0.7725000000000001,
             4.585
            ],
            [
             "WY",
             "2016-08-07",
             71,
             0.174,
             5.754
            ]
           ],
           "geo": "geo",
           "hovertemplate": "<b>%{hovertext}</b><br><br>Date=%{customdata[1]}<br>Temperature (F)=%{z:.4f}<br>Precipitation (inches)=%{customdata[3]:.4f}<br>Wind Speed (mph)=%{customdata[4]:.4f}<extra></extra>",
           "hovertext": [
            "Alabama (AL)",
            "Alaska (AK)",
            "Arizona (AZ)",
            "Arkansas (AR)",
            "California (CA)",
            "Colorado (CO)",
            "Connecticut (CT)",
            "Delaware (DE)",
            "Florida (FL)",
            "Georgia (GA)",
            "Hawaii (HI)",
            "Idaho (ID)",
            "Illinois (IL)",
            "Indiana (IN)",
            "Iowa (IA)",
            "Kansas (KS)",
            "Kentucky (KY)",
            "Louisiana (LA)",
            "Maine (ME)",
            "Maryland (MD)",
            "Massachusetts (MA)",
            "Michigan (MI)",
            "Minnesota (MN)",
            "Mississippi (MS)",
            "Missouri (MO)",
            "Montana (MT)",
            "Nebraska (NE)",
            "Nevada (NV)",
            "New Hampshire (NH)",
            "New Jersey (NJ)",
            "New Mexico (NM)",
            "New York (NY)",
            "North Carolina (NC)",
            "North Dakota (ND)",
            "Ohio (OH)",
            "Oklahoma (OK)",
            "Oregon (OR)",
            "Pennsylvania (PA)",
            "Rhode Island (RI)",
            "South Carolina (SC)",
            "South Dakota (SD)",
            "Tennessee (TN)",
            "Texas (TX)",
            "Utah (UT)",
            "Vermont (VT)",
            "Virginia (VA)",
            "Washington (WA)",
            "West Virginia (WV)",
            "Wisconsin (WI)",
            "Wyoming (WY)"
           ],
           "locationmode": "USA-states",
           "locations": [
            "AL",
            "AK",
            "AZ",
            "AR",
            "CA",
            "CO",
            "CT",
            "DE",
            "FL",
            "GA",
            "HI",
            "ID",
            "IL",
            "IN",
            "IA",
            "KS",
            "KY",
            "LA",
            "ME",
            "MD",
            "MA",
            "MI",
            "MN",
            "MS",
            "MO",
            "MT",
            "NE",
            "NV",
            "NH",
            "NJ",
            "NM",
            "NY",
            "NC",
            "ND",
            "OH",
            "OK",
            "OR",
            "PA",
            "RI",
            "SC",
            "SD",
            "TN",
            "TX",
            "UT",
            "VT",
            "VA",
            "WA",
            "WV",
            "WI",
            "WY"
           ],
           "name": "",
           "type": "choropleth",
           "z": [
            84.25,
            58.57575757575758,
            82,
            84.66666666666667,
            73.15789473684211,
            72.16666666666667,
            74.5,
            76,
            83.5,
            83.33333333333333,
            80.8,
            73.66666666666667,
            76.5,
            78,
            74.4,
            79.16666666666667,
            79,
            86.2,
            71,
            77,
            72.33333333333333,
            73.44444444444444,
            71,
            85.42857142857143,
            79,
            67.81818181818181,
            74.5,
            78,
            61.5,
            75,
            79.66666666666667,
            73.625,
            80,
            71,
            76.85714285714286,
            85.5,
            67.625,
            75.57142857142857,
            72,
            82.75,
            73.2,
            82,
            87.29166666666667,
            83,
            74,
            77.85714285714286,
            66.28571428571429,
            74.5,
            74.5,
            71
           ]
          }
         ],
         "name": "2016-08-07"
        },
        {
         "data": [
          {
           "coloraxis": "coloraxis",
           "customdata": [
            [
             "AL",
             "2016-08-14",
             82.5,
             1.125,
             6.1375
            ],
            [
             "AK",
             "2016-08-14",
             58.303030303030305,
             1.1887878787878787,
             4.966060606060606
            ],
            [
             "AZ",
             "2016-08-14",
             83.4,
             0.674,
             4.558
            ],
            [
             "AR",
             "2016-08-14",
             81,
             1.93,
             2.986666666666667
            ],
            [
             "CA",
             "2016-08-14",
             73.6842105263158,
             0,
             4.99421052631579
            ],
            [
             "CO",
             "2016-08-14",
             71.5,
             0.17333333333333334,
             3.6766666666666663
            ],
            [
             "CT",
             "2016-08-14",
             81,
             2.325,
             5.305
            ],
            [
             "DE",
             "2016-08-14",
             83,
             0.05,
             7.2
            ],
            [
             "FL",
             "2016-08-14",
             82.58333333333333,
             1.9491666666666667,
             5.41
            ],
            [
             "GA",
             "2016-08-14",
             83,
             0.5399999999999999,
             5.375
            ],
            [
             "HI",
             "2016-08-14",
             80.4,
             0.562,
             11.668000000000001
            ],
            [
             "ID",
             "2016-08-14",
             71,
             0.08,
             4.26
            ],
            [
             "IL",
             "2016-08-14",
             77.5,
             2.0833333333333335,
             4.455
            ],
            [
             "IN",
             "2016-08-14",
             78.5,
             1.8075,
             5.14
            ],
            [
             "IA",
             "2016-08-14",
             75.4,
             2.348,
             5.282
            ],
            [
             "KS",
             "2016-08-14",
             78.83333333333333,
             0.71,
             7.1866666666666665
            ],
            [
             "KY",
             "2016-08-14",
             81,
             0.41600000000000004,
             4.372
            ],
            [
             "LA",
             "2016-08-14",
             82.2,
             7.710000000000001,
             4.702
            ],
            [
             "ME",
             "2016-08-14",
             68.66666666666667,
             1.1199999999999999,
             4.383333333333334
            ],
            [
             "MD",
             "2016-08-14",
             82.5,
             0.27,
             5.4
            ],
            [
             "MA",
             "2016-08-14",
             77.66666666666667,
             1.03,
             8.103333333333333
            ],
            [
             "MI",
             "2016-08-14",
             74,
             1.2111111111111112,
             3.5366666666666666
            ],
            [
             "MN",
             "2016-08-14",
             70,
             1.65,
             5.311999999999999
            ],
            [
             "MS",
             "2016-08-14",
             82.42857142857143,
             2.7257142857142855,
             5.385714285714286
            ],
            [
             "MO",
             "2016-08-14",
             79.57142857142857,
             1.4057142857142857,
             5.388571428571429
            ],
            [
             "MT",
             "2016-08-14",
             65.9090909090909,
             0.3663636363636364,
             4.428181818181819
            ],
            [
             "NE",
             "2016-08-14",
             75.375,
             0.8600000000000001,
             6.95125
            ],
            [
             "NV",
             "2016-08-14",
             75.66666666666667,
             0,
             4.876666666666666
            ],
            [
             "NH",
             "2016-08-14",
             65.5,
             2.17,
             18.779999999999998
            ],
            [
             "NJ",
             "2016-08-14",
             84,
             0.2,
             7.885
            ],
            [
             "NM",
             "2016-08-14",
             77,
             0.57,
             5.6066666666666665
            ],
            [
             "NY",
             "2016-08-14",
             78.875,
             1.155,
             6.0024999999999995
            ],
            [
             "NC",
             "2016-08-14",
             81.57142857142857,
             0.5728571428571428,
             5.081428571428572
            ],
            [
             "ND",
             "2016-08-14",
             70.4,
             0.724,
             6.7379999999999995
            ],
            [
             "OH",
             "2016-08-14",
             79,
             1.804285714285714,
             6.3757142857142854
            ],
            [
             "OK",
             "2016-08-14",
             82.5,
             0.21,
             7.8149999999999995
            ],
            [
             "OR",
             "2016-08-14",
             69.5,
             0.0725,
             3.9450000000000003
            ],
            [
             "PA",
             "2016-08-14",
             80.42857142857143,
             1.7157142857142857,
             4.548571428571429
            ],
            [
             "RI",
             "2016-08-14",
             79,
             1.02,
             5.85
            ],
            [
             "SC",
             "2016-08-14",
             83.25,
             1.08,
             5.7425
            ],
            [
             "SD",
             "2016-08-14",
             74.2,
             1.23,
             7.339999999999999
            ],
            [
             "TN",
             "2016-08-14",
             82.25,
             0.37875,
             3.72625
            ],
            [
             "TX",
             "2016-08-14",
             85.75,
             1.2175,
             7.015000000000001
            ],
            [
             "UT",
             "2016-08-14",
             79,
             0.08,
             3.8
            ],
            [
             "VT",
             "2016-08-14",
             77,
             0.58,
             4.25
            ],
            [
             "VA",
             "2016-08-14",
             80.85714285714286,
             0.5657142857142857,
             5.965714285714285
            ],
            [
             "WA",
             "2016-08-14",
             68.14285714285714,
             0.05142857142857143,
             2.9757142857142855
            ],
            [
             "WV",
             "2016-08-14",
             78.25,
             0.2625,
             3.7175000000000002
            ],
            [
             "WI",
             "2016-08-14",
             75.5,
             0.805,
             4.865
            ],
            [
             "WY",
             "2016-08-14",
             68.8,
             0.098,
             5.1899999999999995
            ]
           ],
           "geo": "geo",
           "hovertemplate": "<b>%{hovertext}</b><br><br>Date=%{customdata[1]}<br>Temperature (F)=%{z:.4f}<br>Precipitation (inches)=%{customdata[3]:.4f}<br>Wind Speed (mph)=%{customdata[4]:.4f}<extra></extra>",
           "hovertext": [
            "Alabama (AL)",
            "Alaska (AK)",
            "Arizona (AZ)",
            "Arkansas (AR)",
            "California (CA)",
            "Colorado (CO)",
            "Connecticut (CT)",
            "Delaware (DE)",
            "Florida (FL)",
            "Georgia (GA)",
            "Hawaii (HI)",
            "Idaho (ID)",
            "Illinois (IL)",
            "Indiana (IN)",
            "Iowa (IA)",
            "Kansas (KS)",
            "Kentucky (KY)",
            "Louisiana (LA)",
            "Maine (ME)",
            "Maryland (MD)",
            "Massachusetts (MA)",
            "Michigan (MI)",
            "Minnesota (MN)",
            "Mississippi (MS)",
            "Missouri (MO)",
            "Montana (MT)",
            "Nebraska (NE)",
            "Nevada (NV)",
            "New Hampshire (NH)",
            "New Jersey (NJ)",
            "New Mexico (NM)",
            "New York (NY)",
            "North Carolina (NC)",
            "North Dakota (ND)",
            "Ohio (OH)",
            "Oklahoma (OK)",
            "Oregon (OR)",
            "Pennsylvania (PA)",
            "Rhode Island (RI)",
            "South Carolina (SC)",
            "South Dakota (SD)",
            "Tennessee (TN)",
            "Texas (TX)",
            "Utah (UT)",
            "Vermont (VT)",
            "Virginia (VA)",
            "Washington (WA)",
            "West Virginia (WV)",
            "Wisconsin (WI)",
            "Wyoming (WY)"
           ],
           "locationmode": "USA-states",
           "locations": [
            "AL",
            "AK",
            "AZ",
            "AR",
            "CA",
            "CO",
            "CT",
            "DE",
            "FL",
            "GA",
            "HI",
            "ID",
            "IL",
            "IN",
            "IA",
            "KS",
            "KY",
            "LA",
            "ME",
            "MD",
            "MA",
            "MI",
            "MN",
            "MS",
            "MO",
            "MT",
            "NE",
            "NV",
            "NH",
            "NJ",
            "NM",
            "NY",
            "NC",
            "ND",
            "OH",
            "OK",
            "OR",
            "PA",
            "RI",
            "SC",
            "SD",
            "TN",
            "TX",
            "UT",
            "VT",
            "VA",
            "WA",
            "WV",
            "WI",
            "WY"
           ],
           "name": "",
           "type": "choropleth",
           "z": [
            82.5,
            58.303030303030305,
            83.4,
            81,
            73.6842105263158,
            71.5,
            81,
            83,
            82.58333333333333,
            83,
            80.4,
            71,
            77.5,
            78.5,
            75.4,
            78.83333333333333,
            81,
            82.2,
            68.66666666666667,
            82.5,
            77.66666666666667,
            74,
            70,
            82.42857142857143,
            79.57142857142857,
            65.9090909090909,
            75.375,
            75.66666666666667,
            65.5,
            84,
            77,
            78.875,
            81.57142857142857,
            70.4,
            79,
            82.5,
            69.5,
            80.42857142857143,
            79,
            83.25,
            74.2,
            82.25,
            85.75,
            79,
            77,
            80.85714285714286,
            68.14285714285714,
            78.25,
            75.5,
            68.8
           ]
          }
         ],
         "name": "2016-08-14"
        },
        {
         "data": [
          {
           "coloraxis": "coloraxis",
           "customdata": [
            [
             "AL",
             "2016-08-21",
             82.5,
             1.0875,
             3.4375
            ],
            [
             "AK",
             "2016-08-21",
             57.303030303030305,
             0.6848484848484849,
             4.986060606060605
            ],
            [
             "AZ",
             "2016-08-21",
             82.8,
             0.12000000000000002,
             4.648
            ],
            [
             "AR",
             "2016-08-21",
             74.66666666666667,
             1.9533333333333334,
             1.9866666666666666
            ],
            [
             "CA",
             "2016-08-21",
             73.84210526315789,
             0,
             5.393684210526316
            ],
            [
             "CO",
             "2016-08-21",
             68.33333333333333,
             0.20333333333333334,
             3.91
            ],
            [
             "CT",
             "2016-08-21",
             78.5,
             1.05,
             5.1
            ],
            [
             "DE",
             "2016-08-21",
             81,
             1.39,
             5.22
            ],
            [
             "FL",
             "2016-08-21",
             84.41666666666667,
             0.8624999999999999,
             4.798333333333333
            ],
            [
             "GA",
             "2016-08-21",
             83.5,
             1.24,
             2.831666666666667
            ],
            [
             "HI",
             "2016-08-21",
             80,
             0.47800000000000004,
             10.074000000000002
            ],
            [
             "ID",
             "2016-08-21",
             76.33333333333333,
             0,
             2.9466666666666668
            ],
            [
             "IL",
             "2016-08-21",
             74.33333333333333,
             1.1283333333333332,
             5.46
            ],
            [
             "IN",
             "2016-08-21",
             74.75,
             3.075,
             6.3175
            ],
            [
             "IA",
             "2016-08-21",
             72.4,
             0.784,
             5.4719999999999995
            ],
            [
             "KS",
             "2016-08-21",
             75,
             0.375,
             7.116666666666667
            ],
            [
             "KY",
             "2016-08-21",
             76.8,
             3.396,
             4.286
            ],
            [
             "LA",
             "2016-08-21",
             82.8,
             3.232,
             3.3200000000000003
            ],
            [
             "ME",
             "2016-08-21",
             69,
             0.6566666666666666,
             5.44
            ],
            [
             "MD",
             "2016-08-21",
             80.5,
             3.0300000000000002,
             3.315
            ],
            [
             "MA",
             "2016-08-21",
             75,
             0.14333333333333334,
             7.503333333333333
            ],
            [
             "MI",
             "2016-08-21",
             71.88888888888889,
             2.261111111111111,
             4.637777777777778
            ],
            [
             "MN",
             "2016-08-21",
             67.2,
             1.0459999999999998,
             4.098
            ],
            [
             "MS",
             "2016-08-21",
             82.14285714285714,
             1.7899999999999998,
             3.7142857142857144
            ],
            [
             "MO",
             "2016-08-21",
             74.71428571428571,
             1.0142857142857142,
             5.392857142857143
            ],
            [
             "MT",
             "2016-08-21",
             66.63636363636364,
             0.31181818181818177,
             4.8
            ],
            [
             "NE",
             "2016-08-21",
             70.875,
             0.4875,
             6.4275
            ],
            [
             "NV",
             "2016-08-21",
             78.33333333333333,
             0.02,
             4.296666666666667
            ],
            [
             "NH",
             "2016-08-21",
             61.5,
             1.21,
             14.954999999999998
            ],
            [
             "NJ",
             "2016-08-21",
             81,
             0.68,
             5.22
            ],
            [
             "NM",
             "2016-08-21",
             73.33333333333333,
             1.0233333333333332,
             5.003333333333333
            ],
            [
             "NY",
             "2016-08-21",
             75.5,
             1.04,
             5.01125
            ],
            [
             "NC",
             "2016-08-21",
             81.71428571428571,
             1.1657142857142857,
             3.891428571428571
            ],
            [
             "ND",
             "2016-08-21",
             67,
             0.368,
             5.84
            ],
            [
             "OH",
             "2016-08-21",
             75,
             0.9971428571428572,
             6.258571428571429
            ],
            [
             "OK",
             "2016-08-21",
             77.75,
             0.1675,
             6.5275
            ],
            [
             "OR",
             "2016-08-21",
             73.75,
             0,
             4.5925
            ],
            [
             "PA",
             "2016-08-21",
             77.85714285714286,
             1.4257142857142857,
             3.834285714285714
            ],
            [
             "RI",
             "2016-08-21",
             77,
             0,
             6.32
            ],
            [
             "SC",
             "2016-08-21",
             83.25,
             0.5875,
             4.0525
            ],
            [
             "SD",
             "2016-08-21",
             69.4,
             0.40199999999999997,
             5.984
            ],
            [
             "TN",
             "2016-08-21",
             78.625,
             2.3425000000000002,
             3.0525
            ],
            [
             "TX",
             "2016-08-21",
             78.875,
             2.7687500000000003,
             5.698333333333333
            ],
            [
             "UT",
             "2016-08-21",
             81,
             0,
             4.61
            ],
            [
             "VT",
             "2016-08-21",
             73,
             1.23,
             5.15
            ],
            [
             "VA",
             "2016-08-21",
             80.71428571428571,
             1.3614285714285714,
             3.4828571428571427
            ],
            [
             "WA",
             "2016-08-21",
             72.42857142857143,
             0.004285714285714286,
             4.928571428571429
            ],
            [
             "WV",
             "2016-08-21",
             75.5,
             1.6275,
             2.8600000000000003
            ],
            [
             "WI",
             "2016-08-21",
             72,
             1.94,
             4.2475000000000005
            ],
            [
             "WY",
             "2016-08-21",
             63.6,
             0.406,
             4.136
            ]
           ],
           "geo": "geo",
           "hovertemplate": "<b>%{hovertext}</b><br><br>Date=%{customdata[1]}<br>Temperature (F)=%{z:.4f}<br>Precipitation (inches)=%{customdata[3]:.4f}<br>Wind Speed (mph)=%{customdata[4]:.4f}<extra></extra>",
           "hovertext": [
            "Alabama (AL)",
            "Alaska (AK)",
            "Arizona (AZ)",
            "Arkansas (AR)",
            "California (CA)",
            "Colorado (CO)",
            "Connecticut (CT)",
            "Delaware (DE)",
            "Florida (FL)",
            "Georgia (GA)",
            "Hawaii (HI)",
            "Idaho (ID)",
            "Illinois (IL)",
            "Indiana (IN)",
            "Iowa (IA)",
            "Kansas (KS)",
            "Kentucky (KY)",
            "Louisiana (LA)",
            "Maine (ME)",
            "Maryland (MD)",
            "Massachusetts (MA)",
            "Michigan (MI)",
            "Minnesota (MN)",
            "Mississippi (MS)",
            "Missouri (MO)",
            "Montana (MT)",
            "Nebraska (NE)",
            "Nevada (NV)",
            "New Hampshire (NH)",
            "New Jersey (NJ)",
            "New Mexico (NM)",
            "New York (NY)",
            "North Carolina (NC)",
            "North Dakota (ND)",
            "Ohio (OH)",
            "Oklahoma (OK)",
            "Oregon (OR)",
            "Pennsylvania (PA)",
            "Rhode Island (RI)",
            "South Carolina (SC)",
            "South Dakota (SD)",
            "Tennessee (TN)",
            "Texas (TX)",
            "Utah (UT)",
            "Vermont (VT)",
            "Virginia (VA)",
            "Washington (WA)",
            "West Virginia (WV)",
            "Wisconsin (WI)",
            "Wyoming (WY)"
           ],
           "locationmode": "USA-states",
           "locations": [
            "AL",
            "AK",
            "AZ",
            "AR",
            "CA",
            "CO",
            "CT",
            "DE",
            "FL",
            "GA",
            "HI",
            "ID",
            "IL",
            "IN",
            "IA",
            "KS",
            "KY",
            "LA",
            "ME",
            "MD",
            "MA",
            "MI",
            "MN",
            "MS",
            "MO",
            "MT",
            "NE",
            "NV",
            "NH",
            "NJ",
            "NM",
            "NY",
            "NC",
            "ND",
            "OH",
            "OK",
            "OR",
            "PA",
            "RI",
            "SC",
            "SD",
            "TN",
            "TX",
            "UT",
            "VT",
            "VA",
            "WA",
            "WV",
            "WI",
            "WY"
           ],
           "name": "",
           "type": "choropleth",
           "z": [
            82.5,
            57.303030303030305,
            82.8,
            74.66666666666667,
            73.84210526315789,
            68.33333333333333,
            78.5,
            81,
            84.41666666666667,
            83.5,
            80,
            76.33333333333333,
            74.33333333333333,
            74.75,
            72.4,
            75,
            76.8,
            82.8,
            69,
            80.5,
            75,
            71.88888888888889,
            67.2,
            82.14285714285714,
            74.71428571428571,
            66.63636363636364,
            70.875,
            78.33333333333333,
            61.5,
            81,
            73.33333333333333,
            75.5,
            81.71428571428571,
            67,
            75,
            77.75,
            73.75,
            77.85714285714286,
            77,
            83.25,
            69.4,
            78.625,
            78.875,
            81,
            73,
            80.71428571428571,
            72.42857142857143,
            75.5,
            72,
            63.6
           ]
          }
         ],
         "name": "2016-08-21"
        },
        {
         "data": [
          {
           "coloraxis": "coloraxis",
           "customdata": [
            [
             "AL",
             "2016-08-28",
             83.5,
             0.5675,
             2.64
            ],
            [
             "AK",
             "2016-08-28",
             58.303030303030305,
             0.7496969696969696,
             4.680909090909091
            ],
            [
             "AZ",
             "2016-08-28",
             77.8,
             0.418,
             3.34
            ],
            [
             "AR",
             "2016-08-28",
             79.33333333333333,
             0.023333333333333334,
             2.6833333333333336
            ],
            [
             "CA",
             "2016-08-28",
             71.21052631578948,
             0.002105263157894737,
             5.164736842105263
            ],
            [
             "CO",
             "2016-08-28",
             65,
             0.2816666666666667,
             3.4600000000000004
            ],
            [
             "CT",
             "2016-08-28",
             74.5,
             0,
             5.75
            ],
            [
             "DE",
             "2016-08-28",
             76,
             0,
             4.9
            ],
            [
             "FL",
             "2016-08-28",
             84.66666666666667,
             1.1300000000000001,
             6.834166666666666
            ],
            [
             "GA",
             "2016-08-28",
             82,
             0.3983333333333334,
             3.605
            ],
            [
             "HI",
             "2016-08-28",
             80.4,
             3.2960000000000003,
             8.164
            ],
            [
             "ID",
             "2016-08-28",
             68.66666666666667,
             0,
             4.626666666666667
            ],
            [
             "IL",
             "2016-08-28",
             74.66666666666667,
             2.255,
             5.395
            ],
            [
             "IN",
             "2016-08-28",
             75,
             1.2375,
             4.157500000000001
            ],
            [
             "IA",
             "2016-08-28",
             70.8,
             1.128,
             6.2780000000000005
            ],
            [
             "KS",
             "2016-08-28",
             74.66666666666667,
             1.76,
             7.055
            ],
            [
             "KY",
             "2016-08-28",
             78.4,
             0.328,
             2.6879999999999997
            ],
            [
             "LA",
             "2016-08-28",
             83.4,
             2.472,
             2.9539999999999997
            ],
            [
             "ME",
             "2016-08-28",
             69,
             1.0366666666666668,
             5.62
            ],
            [
             "MD",
             "2016-08-28",
             75.5,
             0,
             3.66
            ],
            [
             "MA",
             "2016-08-28",
             73,
             0.9333333333333335,
             8.173333333333334
            ],
            [
             "MI",
             "2016-08-28",
             69.44444444444444,
             0.9255555555555556,
             4.704444444444444
            ],
            [
             "MN",
             "2016-08-28",
             66.4,
             0.6960000000000001,
             6.816
            ],
            [
             "MS",
             "2016-08-28",
             83.28571428571429,
             1.0914285714285714,
             2.08
            ],
            [
             "MO",
             "2016-08-28",
             76.85714285714286,
             1.7057142857142857,
             5.590000000000001
            ],
            [
             "MT",
             "2016-08-28",
             62.18181818181818,
             0.007272727272727273,
             6.533636363636364
            ],
            [
             "NE",
             "2016-08-28",
             69.75,
             0.40375,
             6.9975
            ],
            [
             "NV",
             "2016-08-28",
             72.5,
             0.03166666666666667,
             3.58
            ],
            [
             "NH",
             "2016-08-28",
             60,
             1.165,
             18.279999999999998
            ],
            [
             "NJ",
             "2016-08-28",
             76.5,
             0.005,
             6.210000000000001
            ],
            [
             "NM",
             "2016-08-28",
             71,
             0.7166666666666667,
             5.786666666666666
            ],
            [
             "NY",
             "2016-08-28",
             72.75,
             0.3325,
             5.75375
            ],
            [
             "NC",
             "2016-08-28",
             78.85714285714286,
             0.35857142857142854,
             3.261428571428571
            ],
            [
             "ND",
             "2016-08-28",
             66.6,
             0.13799999999999998,
             9.123999999999999
            ],
            [
             "OH",
             "2016-08-28",
             74.42857142857143,
             0.9885714285714285,
             4.225714285714285
            ],
            [
             "OK",
             "2016-08-28",
             80,
             0.5825,
             8.3675
            ],
            [
             "OR",
             "2016-08-28",
             68.875,
             0,
             4.28
            ],
            [
             "PA",
             "2016-08-28",
             74.42857142857143,
             0.09714285714285716,
             3.882857142857143
            ],
            [
             "RI",
             "2016-08-28",
             75,
             0.74,
             5.74
            ],
            [
             "SC",
             "2016-08-28",
             81.25,
             0.14250000000000002,
             3.5975
            ],
            [
             "SD",
             "2016-08-28",
             68,
             0.37,
             8.508
            ],
            [
             "TN",
             "2016-08-28",
             79.375,
             0.77,
             1.99
            ],
            [
             "TX",
             "2016-08-28",
             81.625,
             0.6308333333333334,
             6.934166666666666
            ],
            [
             "UT",
             "2016-08-28",
             76,
             0,
             2.84
            ],
            [
             "VT",
             "2016-08-28",
             73,
             0.08,
             7.8
            ],
            [
             "VA",
             "2016-08-28",
             77.57142857142857,
             0,
             4.525714285714286
            ],
            [
             "WA",
             "2016-08-28",
             67.71428571428571,
             0.008571428571428572,
             4.578571428571428
            ],
            [
             "WV",
             "2016-08-28",
             74.75,
             0.1,
             2.14
            ],
            [
             "WI",
             "2016-08-28",
             70.25,
             1.0775,
             5.2675
            ],
            [
             "WY",
             "2016-08-28",
             63.4,
             0.2,
             5.622
            ]
           ],
           "geo": "geo",
           "hovertemplate": "<b>%{hovertext}</b><br><br>Date=%{customdata[1]}<br>Temperature (F)=%{z:.4f}<br>Precipitation (inches)=%{customdata[3]:.4f}<br>Wind Speed (mph)=%{customdata[4]:.4f}<extra></extra>",
           "hovertext": [
            "Alabama (AL)",
            "Alaska (AK)",
            "Arizona (AZ)",
            "Arkansas (AR)",
            "California (CA)",
            "Colorado (CO)",
            "Connecticut (CT)",
            "Delaware (DE)",
            "Florida (FL)",
            "Georgia (GA)",
            "Hawaii (HI)",
            "Idaho (ID)",
            "Illinois (IL)",
            "Indiana (IN)",
            "Iowa (IA)",
            "Kansas (KS)",
            "Kentucky (KY)",
            "Louisiana (LA)",
            "Maine (ME)",
            "Maryland (MD)",
            "Massachusetts (MA)",
            "Michigan (MI)",
            "Minnesota (MN)",
            "Mississippi (MS)",
            "Missouri (MO)",
            "Montana (MT)",
            "Nebraska (NE)",
            "Nevada (NV)",
            "New Hampshire (NH)",
            "New Jersey (NJ)",
            "New Mexico (NM)",
            "New York (NY)",
            "North Carolina (NC)",
            "North Dakota (ND)",
            "Ohio (OH)",
            "Oklahoma (OK)",
            "Oregon (OR)",
            "Pennsylvania (PA)",
            "Rhode Island (RI)",
            "South Carolina (SC)",
            "South Dakota (SD)",
            "Tennessee (TN)",
            "Texas (TX)",
            "Utah (UT)",
            "Vermont (VT)",
            "Virginia (VA)",
            "Washington (WA)",
            "West Virginia (WV)",
            "Wisconsin (WI)",
            "Wyoming (WY)"
           ],
           "locationmode": "USA-states",
           "locations": [
            "AL",
            "AK",
            "AZ",
            "AR",
            "CA",
            "CO",
            "CT",
            "DE",
            "FL",
            "GA",
            "HI",
            "ID",
            "IL",
            "IN",
            "IA",
            "KS",
            "KY",
            "LA",
            "ME",
            "MD",
            "MA",
            "MI",
            "MN",
            "MS",
            "MO",
            "MT",
            "NE",
            "NV",
            "NH",
            "NJ",
            "NM",
            "NY",
            "NC",
            "ND",
            "OH",
            "OK",
            "OR",
            "PA",
            "RI",
            "SC",
            "SD",
            "TN",
            "TX",
            "UT",
            "VT",
            "VA",
            "WA",
            "WV",
            "WI",
            "WY"
           ],
           "name": "",
           "type": "choropleth",
           "z": [
            83.5,
            58.303030303030305,
            77.8,
            79.33333333333333,
            71.21052631578948,
            65,
            74.5,
            76,
            84.66666666666667,
            82,
            80.4,
            68.66666666666667,
            74.66666666666667,
            75,
            70.8,
            74.66666666666667,
            78.4,
            83.4,
            69,
            75.5,
            73,
            69.44444444444444,
            66.4,
            83.28571428571429,
            76.85714285714286,
            62.18181818181818,
            69.75,
            72.5,
            60,
            76.5,
            71,
            72.75,
            78.85714285714286,
            66.6,
            74.42857142857143,
            80,
            68.875,
            74.42857142857143,
            75,
            81.25,
            68,
            79.375,
            81.625,
            76,
            73,
            77.57142857142857,
            67.71428571428571,
            74.75,
            70.25,
            63.4
           ]
          }
         ],
         "name": "2016-08-28"
        },
        {
         "data": [
          {
           "coloraxis": "coloraxis",
           "customdata": [
            [
             "AL",
             "2016-09-04",
             82.25,
             0.3425,
             5.5
            ],
            [
             "AK",
             "2016-09-04",
             55.06060606060606,
             0.2112121212121212,
             3.656969696969697
            ],
            [
             "AZ",
             "2016-09-04",
             82,
             0.04,
             5.584
            ],
            [
             "AR",
             "2016-09-04",
             72.66666666666667,
             0.38000000000000006,
             2.5166666666666666
            ],
            [
             "CA",
             "2016-09-04",
             69.26315789473684,
             0.0005263157894736842,
             5.924736842105263
            ],
            [
             "CO",
             "2016-09-04",
             69.83333333333333,
             0.18333333333333335,
             5.391666666666667
            ],
            [
             "CT",
             "2016-09-04",
             70,
             0.49,
             5.359999999999999
            ],
            [
             "DE",
             "2016-09-04",
             72,
             0.18,
             7.47
            ],
            [
             "FL",
             "2016-09-04",
             82.33333333333333,
             2.0708333333333333,
             6.918333333333333
            ],
            [
             "GA",
             "2016-09-04",
             77.16666666666667,
             2.475,
             4.435
            ],
            [
             "HI",
             "2016-09-04",
             81.4,
             0.728,
             10.678
            ],
            [
             "ID",
             "2016-09-04",
             64.33333333333333,
             0.049999999999999996,
             4.446666666666666
            ],
            [
             "IL",
             "2016-09-04",
             68.33333333333333,
             0,
             6.9316666666666675
            ],
            [
             "IN",
             "2016-09-04",
             68.25,
             0,
             7.4475
            ],
            [
             "IA",
             "2016-09-04",
             66.6,
             0.006,
             7.787999999999999
            ],
            [
             "KS",
             "2016-09-04",
             72.16666666666667,
             0.445,
             11.1
            ],
            [
             "KY",
             "2016-09-04",
             71.6,
             0,
             6.101999999999999
            ],
            [
             "LA",
             "2016-09-04",
             84.6,
             0.576,
             4.59
            ],
            [
             "ME",
             "2016-09-04",
             64.33333333333333,
             0.049999999999999996,
             3.4066666666666667
            ],
            [
             "MD",
             "2016-09-04",
             72,
             0.635,
             6.61
            ],
            [
             "MA",
             "2016-09-04",
             69,
             0.006666666666666667,
             6.213333333333334
            ],
            [
             "MI",
             "2016-09-04",
             63.111111111111114,
             0.005555555555555556,
             3.9722222222222223
            ],
            [
             "MN",
             "2016-09-04",
             64.8,
             0.16,
             8.322
            ],
            [
             "MS",
             "2016-09-04",
             82,
             0.22142857142857145,
             5.130000000000001
            ],
            [
             "MO",
             "2016-09-04",
             70.14285714285714,
             0,
             7.288571428571429
            ],
            [
             "MT",
             "2016-09-04",
             62.18181818181818,
             0.27909090909090906,
             6.383636363636364
            ],
            [
             "NE",
             "2016-09-04",
             69.875,
             0.15125,
             10.7475
            ],
            [
             "NV",
             "2016-09-04",
             71.33333333333333,
             0,
             7.596666666666667
            ],
            [
             "NH",
             "2016-09-04",
             57.5,
             0,
             8.61
            ],
            [
             "NJ",
             "2016-09-04",
             71.5,
             0.19,
             7.959999999999999
            ],
            [
             "NM",
             "2016-09-04",
             74.33333333333333,
             0.02666666666666667,
             8.806666666666667
            ],
            [
             "NY",
             "2016-09-04",
             67,
             0.09625,
             5.215
            ],
            [
             "NC",
             "2016-09-04",
             74.14285714285714,
             2.43,
             5.432857142857143
            ],
            [
             "ND",
             "2016-09-04",
             70,
             0.686,
             12.322
            ],
            [
             "OH",
             "2016-09-04",
             66.71428571428571,
             0.015714285714285715,
             6.481428571428571
            ],
            [
             "OK",
             "2016-09-04",
             76,
             0.1,
             9.215
            ],
            [
             "OR",
             "2016-09-04",
             60.125,
             0.18874999999999997,
             4.565
            ],
            [
             "PA",
             "2016-09-04",
             69.28571428571429,
             0.09999999999999999,
             5.081428571428572
            ],
            [
             "RI",
             "2016-09-04",
             70,
             0.49,
             6.3
            ],
            [
             "SC",
             "2016-09-04",
             76.5,
             1.9049999999999998,
             4.465
            ],
            [
             "SD",
             "2016-09-04",
             71.6,
             0.46799999999999997,
             13.734
            ],
            [
             "TN",
             "2016-09-04",
             75.625,
             0.11374999999999999,
             4.85125
            ],
            [
             "TX",
             "2016-09-04",
             81.04166666666667,
             0.25625000000000003,
             6.319583333333333
            ],
            [
             "UT",
             "2016-09-04",
             77,
             0.01,
             10.6
            ],
            [
             "VT",
             "2016-09-04",
             65,
             0,
             3.75
            ],
            [
             "VA",
             "2016-09-04",
             72.85714285714286,
             0.7128571428571429,
             7.7542857142857144
            ],
            [
             "WA",
             "2016-09-04",
             58.714285714285715,
             0.2842857142857143,
             4.684285714285714
            ],
            [
             "WV",
             "2016-09-04",
             67.25,
             0.10500000000000001,
             2.93
            ],
            [
             "WI",
             "2016-09-04",
             65.25,
             0,
             6.43
            ],
            [
             "WY",
             "2016-09-04",
             68.2,
             0.174,
             6.212
            ]
           ],
           "geo": "geo",
           "hovertemplate": "<b>%{hovertext}</b><br><br>Date=%{customdata[1]}<br>Temperature (F)=%{z:.4f}<br>Precipitation (inches)=%{customdata[3]:.4f}<br>Wind Speed (mph)=%{customdata[4]:.4f}<extra></extra>",
           "hovertext": [
            "Alabama (AL)",
            "Alaska (AK)",
            "Arizona (AZ)",
            "Arkansas (AR)",
            "California (CA)",
            "Colorado (CO)",
            "Connecticut (CT)",
            "Delaware (DE)",
            "Florida (FL)",
            "Georgia (GA)",
            "Hawaii (HI)",
            "Idaho (ID)",
            "Illinois (IL)",
            "Indiana (IN)",
            "Iowa (IA)",
            "Kansas (KS)",
            "Kentucky (KY)",
            "Louisiana (LA)",
            "Maine (ME)",
            "Maryland (MD)",
            "Massachusetts (MA)",
            "Michigan (MI)",
            "Minnesota (MN)",
            "Mississippi (MS)",
            "Missouri (MO)",
            "Montana (MT)",
            "Nebraska (NE)",
            "Nevada (NV)",
            "New Hampshire (NH)",
            "New Jersey (NJ)",
            "New Mexico (NM)",
            "New York (NY)",
            "North Carolina (NC)",
            "North Dakota (ND)",
            "Ohio (OH)",
            "Oklahoma (OK)",
            "Oregon (OR)",
            "Pennsylvania (PA)",
            "Rhode Island (RI)",
            "South Carolina (SC)",
            "South Dakota (SD)",
            "Tennessee (TN)",
            "Texas (TX)",
            "Utah (UT)",
            "Vermont (VT)",
            "Virginia (VA)",
            "Washington (WA)",
            "West Virginia (WV)",
            "Wisconsin (WI)",
            "Wyoming (WY)"
           ],
           "locationmode": "USA-states",
           "locations": [
            "AL",
            "AK",
            "AZ",
            "AR",
            "CA",
            "CO",
            "CT",
            "DE",
            "FL",
            "GA",
            "HI",
            "ID",
            "IL",
            "IN",
            "IA",
            "KS",
            "KY",
            "LA",
            "ME",
            "MD",
            "MA",
            "MI",
            "MN",
            "MS",
            "MO",
            "MT",
            "NE",
            "NV",
            "NH",
            "NJ",
            "NM",
            "NY",
            "NC",
            "ND",
            "OH",
            "OK",
            "OR",
            "PA",
            "RI",
            "SC",
            "SD",
            "TN",
            "TX",
            "UT",
            "VT",
            "VA",
            "WA",
            "WV",
            "WI",
            "WY"
           ],
           "name": "",
           "type": "choropleth",
           "z": [
            82.25,
            55.06060606060606,
            82,
            72.66666666666667,
            69.26315789473684,
            69.83333333333333,
            70,
            72,
            82.33333333333333,
            77.16666666666667,
            81.4,
            64.33333333333333,
            68.33333333333333,
            68.25,
            66.6,
            72.16666666666667,
            71.6,
            84.6,
            64.33333333333333,
            72,
            69,
            63.111111111111114,
            64.8,
            82,
            70.14285714285714,
            62.18181818181818,
            69.875,
            71.33333333333333,
            57.5,
            71.5,
            74.33333333333333,
            67,
            74.14285714285714,
            70,
            66.71428571428571,
            76,
            60.125,
            69.28571428571429,
            70,
            76.5,
            71.6,
            75.625,
            81.04166666666667,
            77,
            65,
            72.85714285714286,
            58.714285714285715,
            67.25,
            65.25,
            68.2
           ]
          }
         ],
         "name": "2016-09-04"
        },
        {
         "data": [
          {
           "coloraxis": "coloraxis",
           "customdata": [
            [
             "AL",
             "2016-09-11",
             81.25,
             0.28500000000000003,
             2.535
            ],
            [
             "AK",
             "2016-09-11",
             51.21875,
             1.3309375,
             5.1503125
            ],
            [
             "AZ",
             "2016-09-11",
             78.6,
             0.386,
             4.49
            ],
            [
             "AR",
             "2016-09-11",
             78.33333333333333,
             0.06333333333333334,
             2.9066666666666667
            ],
            [
             "CA",
             "2016-09-11",
             70.78947368421052,
             0,
             4.782631578947369
            ],
            [
             "CO",
             "2016-09-11",
             65.66666666666667,
             0.0033333333333333335,
             4.336666666666667
            ],
            [
             "CT",
             "2016-09-11",
             75.5,
             0.375,
             8.25
            ],
            [
             "DE",
             "2016-09-11",
             80,
             0.04,
             6.85
            ],
            [
             "FL",
             "2016-09-11",
             81.5,
             0.7316666666666666,
             5.378333333333333
            ],
            [
             "GA",
             "2016-09-11",
             79.5,
             0.15166666666666667,
             2.23
            ],
            [
             "HI",
             "2016-09-11",
             79.8,
             0.25,
             10.062000000000001
            ],
            [
             "ID",
             "2016-09-11",
             61,
             0.12333333333333334,
             4.569999999999999
            ],
            [
             "IL",
             "2016-09-11",
             74.33333333333333,
             1.6500000000000001,
             6.666666666666667
            ],
            [
             "IN",
             "2016-09-11",
             74.75,
             1.43,
             6.34
            ],
            [
             "IA",
             "2016-09-11",
             71.6,
             1.6740000000000002,
             7.540000000000001
            ],
            [
             "KS",
             "2016-09-11",
             75,
             2.5133333333333336,
             9.571666666666667
            ],
            [
             "KY",
             "2016-09-11",
             77.6,
             0.41,
             4.186
            ],
            [
             "LA",
             "2016-09-11",
             82.6,
             1.748,
             2.852
            ],
            [
             "ME",
             "2016-09-11",
             68,
             0.44,
             4.25
            ],
            [
             "MD",
             "2016-09-11",
             78,
             0.025,
             5.26
            ],
            [
             "MA",
             "2016-09-11",
             67.33333333333333,
             0.25,
             8.709999999999999
            ],
            [
             "MI",
             "2016-09-11",
             70.11111111111111,
             1.836666666666667,
             4.723333333333333
            ],
            [
             "MN",
             "2016-09-11",
             66,
             1.7259999999999998,
             6.24
            ],
            [
             "MS",
             "2016-09-11",
             81.42857142857143,
             0.19571428571428573,
             3.392857142857143
            ],
            [
             "MO",
             "2016-09-11",
             76,
             2.545714285714286,
             7.317142857142857
            ],
            [
             "MT",
             "2016-09-11",
             55.36363636363637,
             0.40454545454545454,
             7.048181818181818
            ],
            [
             "NE",
             "2016-09-11",
             68.75,
             0.7175,
             7.4025
            ],
            [
             "NV",
             "2016-09-11",
             68.5,
             0,
             2.8033333333333332
            ],
            [
             "NH",
             "2016-09-11",
             65.5,
             0.2,
             14.045
            ],
            [
             "NJ",
             "2016-09-11",
             79,
             0.06,
             8.18
            ],
            [
             "NM",
             "2016-09-11",
             73,
             0.8666666666666667,
             7.95
            ],
            [
             "NY",
             "2016-09-11",
             73.375,
             0.635,
             6.07375
            ],
            [
             "NC",
             "2016-09-11",
             78.28571428571429,
             0,
             4.375714285714286
            ],
            [
             "ND",
             "2016-09-11",
             60.6,
             0.8119999999999999,
             5.502
            ],
            [
             "OH",
             "2016-09-11",
             74.71428571428571,
             1.6128571428571428,
             5.951428571428571
            ],
            [
             "OK",
             "2016-09-11",
             81,
             0.9475,
             11.175
            ],
            [
             "OR",
             "2016-09-11",
             62.375,
             0.22875,
             4.23375
            ],
            [
             "PA",
             "2016-09-11",
             77,
             0.7671428571428571,
             5.090000000000001
            ],
            [
             "RI",
             "2016-09-11",
             75,
             0.19,
             8.57
            ],
            [
             "SC",
             "2016-09-11",
             80.5,
             0.0175,
             2.8800000000000003
            ],
            [
             "SD",
             "2016-09-11",
             64.2,
             0.5900000000000001,
             5.973999999999999
            ],
            [
             "TN",
             "2016-09-11",
             78.25,
             0.30374999999999996,
             2.86
            ],
            [
             "TX",
             "2016-09-11",
             81.70833333333333,
             0.5945833333333334,
             8.530833333333334
            ],
            [
             "UT",
             "2016-09-11",
             68,
             0,
             3.6
            ],
            [
             "VT",
             "2016-09-11",
             73,
             0.57,
             4.7
            ],
            [
             "VA",
             "2016-09-11",
             78.85714285714286,
             0.20285714285714287,
             5.177142857142857
            ],
            [
             "WA",
             "2016-09-11",
             59.857142857142854,
             0.3157142857142857,
             4.1257142857142854
            ],
            [
             "WV",
             "2016-09-11",
             74,
             0.055,
             2.935
            ],
            [
             "WI",
             "2016-09-11",
             70.5,
             2.795,
             5.54
            ],
            [
             "WY",
             "2016-09-11",
             59.4,
             0.06999999999999999,
             6.784000000000001
            ]
           ],
           "geo": "geo",
           "hovertemplate": "<b>%{hovertext}</b><br><br>Date=%{customdata[1]}<br>Temperature (F)=%{z:.4f}<br>Precipitation (inches)=%{customdata[3]:.4f}<br>Wind Speed (mph)=%{customdata[4]:.4f}<extra></extra>",
           "hovertext": [
            "Alabama (AL)",
            "Alaska (AK)",
            "Arizona (AZ)",
            "Arkansas (AR)",
            "California (CA)",
            "Colorado (CO)",
            "Connecticut (CT)",
            "Delaware (DE)",
            "Florida (FL)",
            "Georgia (GA)",
            "Hawaii (HI)",
            "Idaho (ID)",
            "Illinois (IL)",
            "Indiana (IN)",
            "Iowa (IA)",
            "Kansas (KS)",
            "Kentucky (KY)",
            "Louisiana (LA)",
            "Maine (ME)",
            "Maryland (MD)",
            "Massachusetts (MA)",
            "Michigan (MI)",
            "Minnesota (MN)",
            "Mississippi (MS)",
            "Missouri (MO)",
            "Montana (MT)",
            "Nebraska (NE)",
            "Nevada (NV)",
            "New Hampshire (NH)",
            "New Jersey (NJ)",
            "New Mexico (NM)",
            "New York (NY)",
            "North Carolina (NC)",
            "North Dakota (ND)",
            "Ohio (OH)",
            "Oklahoma (OK)",
            "Oregon (OR)",
            "Pennsylvania (PA)",
            "Rhode Island (RI)",
            "South Carolina (SC)",
            "South Dakota (SD)",
            "Tennessee (TN)",
            "Texas (TX)",
            "Utah (UT)",
            "Vermont (VT)",
            "Virginia (VA)",
            "Washington (WA)",
            "West Virginia (WV)",
            "Wisconsin (WI)",
            "Wyoming (WY)"
           ],
           "locationmode": "USA-states",
           "locations": [
            "AL",
            "AK",
            "AZ",
            "AR",
            "CA",
            "CO",
            "CT",
            "DE",
            "FL",
            "GA",
            "HI",
            "ID",
            "IL",
            "IN",
            "IA",
            "KS",
            "KY",
            "LA",
            "ME",
            "MD",
            "MA",
            "MI",
            "MN",
            "MS",
            "MO",
            "MT",
            "NE",
            "NV",
            "NH",
            "NJ",
            "NM",
            "NY",
            "NC",
            "ND",
            "OH",
            "OK",
            "OR",
            "PA",
            "RI",
            "SC",
            "SD",
            "TN",
            "TX",
            "UT",
            "VT",
            "VA",
            "WA",
            "WV",
            "WI",
            "WY"
           ],
           "name": "",
           "type": "choropleth",
           "z": [
            81.25,
            51.21875,
            78.6,
            78.33333333333333,
            70.78947368421052,
            65.66666666666667,
            75.5,
            80,
            81.5,
            79.5,
            79.8,
            61,
            74.33333333333333,
            74.75,
            71.6,
            75,
            77.6,
            82.6,
            68,
            78,
            67.33333333333333,
            70.11111111111111,
            66,
            81.42857142857143,
            76,
            55.36363636363637,
            68.75,
            68.5,
            65.5,
            79,
            73,
            73.375,
            78.28571428571429,
            60.6,
            74.71428571428571,
            81,
            62.375,
            77,
            75,
            80.5,
            64.2,
            78.25,
            81.70833333333333,
            68,
            73,
            78.85714285714286,
            59.857142857142854,
            74,
            70.5,
            59.4
           ]
          }
         ],
         "name": "2016-09-11"
        },
        {
         "data": [
          {
           "coloraxis": "coloraxis",
           "customdata": [
            [
             "AL",
             "2016-09-18",
             81.75,
             1.1175000000000002,
             3.8525
            ],
            [
             "AK",
             "2016-09-18",
             50.09375,
             1.32875,
             6.5809375
            ],
            [
             "AZ",
             "2016-09-18",
             75.2,
             0.126,
             4.492
            ],
            [
             "AR",
             "2016-09-18",
             77.33333333333333,
             0.8233333333333334,
             1.6733333333333331
            ],
            [
             "CA",
             "2016-09-18",
             67.47368421052632,
             0.0005263157894736842,
             4.136842105263158
            ],
            [
             "CO",
             "2016-09-18",
             60.833333333333336,
             0.08166666666666667,
             4.501666666666667
            ],
            [
             "CT",
             "2016-09-18",
             67.5,
             0.04,
             5.074999999999999
            ],
            [
             "DE",
             "2016-09-18",
             72,
             0,
             5.6
            ],
            [
             "FL",
             "2016-09-18",
             82.58333333333333,
             1.1466666666666667,
             4.461666666666667
            ],
            [
             "GA",
             "2016-09-18",
             78.83333333333333,
             0.5499999999999999,
             3.8350000000000004
            ],
            [
             "HI",
             "2016-09-18",
             80,
             1.734,
             9.623999999999999
            ],
            [
             "ID",
             "2016-09-18",
             60.333333333333336,
             0.21333333333333335,
             3.8000000000000003
            ],
            [
             "IL",
             "2016-09-18",
             71.16666666666667,
             0.25166666666666665,
             5.1866666666666665
            ],
            [
             "IN",
             "2016-09-18",
             70.5,
             1.7125,
             4.3100000000000005
            ],
            [
             "IA",
             "2016-09-18",
             67,
             1.528,
             6.428
            ],
            [
             "KS",
             "2016-09-18",
             69.33333333333333,
             0.985,
             6.566666666666666
            ],
            [
             "KY",
             "2016-09-18",
             75.4,
             0.42800000000000005,
             2.65
            ],
            [
             "LA",
             "2016-09-18",
             82.4,
             0.954,
             3.832
            ],
            [
             "ME",
             "2016-09-18",
             61,
             0.26333333333333336,
             5.453333333333333
            ],
            [
             "MD",
             "2016-09-18",
             72.5,
             0,
             4.575
            ],
            [
             "MA",
             "2016-09-18",
             64,
             0.03333333333333333,
             8.299999999999999
            ],
            [
             "MI",
             "2016-09-18",
             64.33333333333333,
             0.8255555555555556,
             4.826666666666666
            ],
            [
             "MN",
             "2016-09-18",
             60.6,
             0.75,
             5.744
            ],
            [
             "MS",
             "2016-09-18",
             81.71428571428571,
             1.05,
             2.882857142857143
            ],
            [
             "MO",
             "2016-09-18",
             73.28571428571429,
             2.677142857142857,
             4.3100000000000005
            ],
            [
             "MT",
             "2016-09-18",
             53.54545454545455,
             0.10545454545454547,
             6.795454545454546
            ],
            [
             "NE",
             "2016-09-18",
             63.25,
             0.775,
             7.27625
            ],
            [
             "NV",
             "2016-09-18",
             64,
             0.075,
             3.8466666666666662
            ],
            [
             "NH",
             "2016-09-18",
             62,
             0.06,
             15.68
            ],
            [
             "NJ",
             "2016-09-18",
             70.5,
             0,
             5.49
            ],
            [
             "NM",
             "2016-09-18",
             69.33333333333333,
             0.63,
             4.773333333333333
            ],
            [
             "NY",
             "2016-09-18",
             65,
             0.9237500000000001,
             5.3462499999999995
            ],
            [
             "NC",
             "2016-09-18",
             76.71428571428571,
             0.20142857142857143,
             4.161428571428571
            ],
            [
             "ND",
             "2016-09-18",
             56.8,
             0.47000000000000003,
             7.328
            ],
            [
             "OH",
             "2016-09-18",
             68.57142857142857,
             1.0442857142857143,
             4.5685714285714285
            ],
            [
             "OK",
             "2016-09-18",
             75.25,
             0.695,
             6.045
            ],
            [
             "OR",
             "2016-09-18",
             61.25,
             0.32125000000000004,
             3.75625
            ],
            [
             "PA",
             "2016-09-18",
             69.14285714285714,
             0.6657142857142857,
             3.761428571428571
            ],
            [
             "RI",
             "2016-09-18",
             68,
             0.07,
             5.48
            ],
            [
             "SC",
             "2016-09-18",
             79,
             2.105,
             4.195
            ],
            [
             "SD",
             "2016-09-18",
             60.4,
             0.9179999999999999,
             7.603999999999999
            ],
            [
             "TN",
             "2016-09-18",
             77.625,
             0.8725,
             2.07
            ],
            [
             "TX",
             "2016-09-18",
             80.79166666666667,
             0.6879166666666666,
             4.696666666666666
            ],
            [
             "UT",
             "2016-09-18",
             65,
             0.26,
             3.38
            ],
            [
             "VT",
             "2016-09-18",
             64,
             0.16,
             6.78
            ],
            [
             "VA",
             "2016-09-18",
             74.42857142857143,
             0.0014285714285714286,
             5.292857142857143
            ],
            [
             "WA",
             "2016-09-18",
             60.142857142857146,
             0.2942857142857143,
             5.005714285714285
            ],
            [
             "WV",
             "2016-09-18",
             72.25,
             0.4525,
             2.97
            ],
            [
             "WI",
             "2016-09-18",
             67,
             0.76,
             5.7775
            ],
            [
             "WY",
             "2016-09-18",
             54.4,
             0.41200000000000003,
             7.24
            ]
           ],
           "geo": "geo",
           "hovertemplate": "<b>%{hovertext}</b><br><br>Date=%{customdata[1]}<br>Temperature (F)=%{z:.4f}<br>Precipitation (inches)=%{customdata[3]:.4f}<br>Wind Speed (mph)=%{customdata[4]:.4f}<extra></extra>",
           "hovertext": [
            "Alabama (AL)",
            "Alaska (AK)",
            "Arizona (AZ)",
            "Arkansas (AR)",
            "California (CA)",
            "Colorado (CO)",
            "Connecticut (CT)",
            "Delaware (DE)",
            "Florida (FL)",
            "Georgia (GA)",
            "Hawaii (HI)",
            "Idaho (ID)",
            "Illinois (IL)",
            "Indiana (IN)",
            "Iowa (IA)",
            "Kansas (KS)",
            "Kentucky (KY)",
            "Louisiana (LA)",
            "Maine (ME)",
            "Maryland (MD)",
            "Massachusetts (MA)",
            "Michigan (MI)",
            "Minnesota (MN)",
            "Mississippi (MS)",
            "Missouri (MO)",
            "Montana (MT)",
            "Nebraska (NE)",
            "Nevada (NV)",
            "New Hampshire (NH)",
            "New Jersey (NJ)",
            "New Mexico (NM)",
            "New York (NY)",
            "North Carolina (NC)",
            "North Dakota (ND)",
            "Ohio (OH)",
            "Oklahoma (OK)",
            "Oregon (OR)",
            "Pennsylvania (PA)",
            "Rhode Island (RI)",
            "South Carolina (SC)",
            "South Dakota (SD)",
            "Tennessee (TN)",
            "Texas (TX)",
            "Utah (UT)",
            "Vermont (VT)",
            "Virginia (VA)",
            "Washington (WA)",
            "West Virginia (WV)",
            "Wisconsin (WI)",
            "Wyoming (WY)"
           ],
           "locationmode": "USA-states",
           "locations": [
            "AL",
            "AK",
            "AZ",
            "AR",
            "CA",
            "CO",
            "CT",
            "DE",
            "FL",
            "GA",
            "HI",
            "ID",
            "IL",
            "IN",
            "IA",
            "KS",
            "KY",
            "LA",
            "ME",
            "MD",
            "MA",
            "MI",
            "MN",
            "MS",
            "MO",
            "MT",
            "NE",
            "NV",
            "NH",
            "NJ",
            "NM",
            "NY",
            "NC",
            "ND",
            "OH",
            "OK",
            "OR",
            "PA",
            "RI",
            "SC",
            "SD",
            "TN",
            "TX",
            "UT",
            "VT",
            "VA",
            "WA",
            "WV",
            "WI",
            "WY"
           ],
           "name": "",
           "type": "choropleth",
           "z": [
            81.75,
            50.09375,
            75.2,
            77.33333333333333,
            67.47368421052632,
            60.833333333333336,
            67.5,
            72,
            82.58333333333333,
            78.83333333333333,
            80,
            60.333333333333336,
            71.16666666666667,
            70.5,
            67,
            69.33333333333333,
            75.4,
            82.4,
            61,
            72.5,
            64,
            64.33333333333333,
            60.6,
            81.71428571428571,
            73.28571428571429,
            53.54545454545455,
            63.25,
            64,
            62,
            70.5,
            69.33333333333333,
            65,
            76.71428571428571,
            56.8,
            68.57142857142857,
            75.25,
            61.25,
            69.14285714285714,
            68,
            79,
            60.4,
            77.625,
            80.79166666666667,
            65,
            64,
            74.42857142857143,
            60.142857142857146,
            72.25,
            67,
            54.4
           ]
          }
         ],
         "name": "2016-09-18"
        },
        {
         "data": [
          {
           "coloraxis": "coloraxis",
           "customdata": [
            [
             "AL",
             "2016-09-25",
             82.25,
             0.02,
             2.1774999999999998
            ],
            [
             "AK",
             "2016-09-25",
             48.0625,
             1.6471875,
             6.715625
            ],
            [
             "AZ",
             "2016-09-25",
             73,
             0.10800000000000001,
             5.064
            ],
            [
             "AR",
             "2016-09-25",
             78.66666666666667,
             0.03666666666666667,
             2.23
            ],
            [
             "CA",
             "2016-09-25",
             70.6842105263158,
             0.017368421052631578,
             5.328947368421052
            ],
            [
             "CO",
             "2016-09-25",
             62.666666666666664,
             0.14333333333333334,
             4.903333333333333
            ],
            [
             "CT",
             "2016-09-25",
             68,
             1.125,
             3.4299999999999997
            ],
            [
             "DE",
             "2016-09-25",
             70,
             0.97,
             3.62
            ],
            [
             "FL",
             "2016-09-25",
             82.58333333333333,
             1.3425,
             2.2908333333333335
            ],
            [
             "GA",
             "2016-09-25",
             79.16666666666667,
             0.0033333333333333335,
             3.276666666666667
            ],
            [
             "HI",
             "2016-09-25",
             79.6,
             0.6260000000000001,
             9.872
            ],
            [
             "ID",
             "2016-09-25",
             59.333333333333336,
             0.5566666666666666,
             4.596666666666667
            ],
            [
             "IL",
             "2016-09-25",
             74.83333333333333,
             0.38000000000000006,
             5.166666666666667
            ],
            [
             "IN",
             "2016-09-25",
             73.25,
             0.045000000000000005,
             2.66
            ],
            [
             "IA",
             "2016-09-25",
             72.4,
             2.3259999999999996,
             7.465999999999999
            ],
            [
             "KS",
             "2016-09-25",
             75.33333333333333,
             1.2333333333333334,
             9.465
            ],
            [
             "KY",
             "2016-09-25",
             76.2,
             0,
             1.64
            ],
            [
             "LA",
             "2016-09-25",
             83,
             0.254,
             2.598
            ],
            [
             "ME",
             "2016-09-25",
             59.666666666666664,
             0.6566666666666666,
             5.18
            ],
            [
             "MD",
             "2016-09-25",
             71,
             1.395,
             3.8449999999999998
            ],
            [
             "MA",
             "2016-09-25",
             64,
             0.9266666666666666,
             4.673333333333333
            ],
            [
             "MI",
             "2016-09-25",
             63.55555555555556,
             0.24000000000000002,
             4.235555555555555
            ],
            [
             "MN",
             "2016-09-25",
             61.8,
             2.006,
             8.288
            ],
            [
             "MS",
             "2016-09-25",
             81.42857142857143,
             0.1357142857142857,
             2.16
            ],
            [
             "MO",
             "2016-09-25",
             76.57142857142857,
             0.3442857142857143,
             5.232857142857143
            ],
            [
             "MT",
             "2016-09-25",
             52.81818181818182,
             0.7545454545454546,
             7.023636363636364
            ],
            [
             "NE",
             "2016-09-25",
             69.375,
             0.46,
             8.60625
            ],
            [
             "NV",
             "2016-09-25",
             63.333333333333336,
             0.25833333333333336,
             6.023333333333333
            ],
            [
             "NH",
             "2016-09-25",
             62,
             1.08,
             18.31
            ],
            [
             "NJ",
             "2016-09-25",
             70,
             1.97,
             4.24
            ],
            [
             "NM",
             "2016-09-25",
             69.66666666666667,
             0.09333333333333334,
             7.166666666666667
            ],
            [
             "NY",
             "2016-09-25",
             65,
             0.42,
             3.66
            ],
            [
             "NC",
             "2016-09-25",
             75.57142857142857,
             1.45,
             5.172857142857143
            ],
            [
             "ND",
             "2016-09-25",
             58.6,
             1.02,
             10.395999999999999
            ],
            [
             "OH",
             "2016-09-25",
             70.42857142857143,
             0,
             2.8814285714285712
            ],
            [
             "OK",
             "2016-09-25",
             79,
             0.645,
             9.23
            ],
            [
             "OR",
             "2016-09-25",
             57.75,
             0.135,
             3.9574999999999996
            ],
            [
             "PA",
             "2016-09-25",
             68.71428571428571,
             0.5871428571428572,
             2.7199999999999998
            ],
            [
             "RI",
             "2016-09-25",
             68,
             1.19,
             4.78
            ],
            [
             "SC",
             "2016-09-25",
             78.5,
             0.645,
             4.0925
            ],
            [
             "SD",
             "2016-09-25",
             65.4,
             0.45199999999999996,
             9.846
            ],
            [
             "TN",
             "2016-09-25",
             77,
             0.01,
             2.065
            ],
            [
             "TX",
             "2016-09-25",
             81.125,
             1.0908333333333333,
             6.7475
            ],
            [
             "UT",
             "2016-09-25",
             64,
             1.61,
             5.31
            ],
            [
             "VT",
             "2016-09-25",
             64,
             0.51,
             4.44
            ],
            [
             "VA",
             "2016-09-25",
             73.42857142857143,
             2.7028571428571433,
             5.6899999999999995
            ],
            [
             "WA",
             "2016-09-25",
             56.57142857142857,
             0.19571428571428573,
             4.522857142857143
            ],
            [
             "WV",
             "2016-09-25",
             72,
             0.055,
             1.5975
            ],
            [
             "WI",
             "2016-09-25",
             68.25,
             3.0225,
             5.1625
            ],
            [
             "WY",
             "2016-09-25",
             56.8,
             1.014,
             6.516
            ]
           ],
           "geo": "geo",
           "hovertemplate": "<b>%{hovertext}</b><br><br>Date=%{customdata[1]}<br>Temperature (F)=%{z:.4f}<br>Precipitation (inches)=%{customdata[3]:.4f}<br>Wind Speed (mph)=%{customdata[4]:.4f}<extra></extra>",
           "hovertext": [
            "Alabama (AL)",
            "Alaska (AK)",
            "Arizona (AZ)",
            "Arkansas (AR)",
            "California (CA)",
            "Colorado (CO)",
            "Connecticut (CT)",
            "Delaware (DE)",
            "Florida (FL)",
            "Georgia (GA)",
            "Hawaii (HI)",
            "Idaho (ID)",
            "Illinois (IL)",
            "Indiana (IN)",
            "Iowa (IA)",
            "Kansas (KS)",
            "Kentucky (KY)",
            "Louisiana (LA)",
            "Maine (ME)",
            "Maryland (MD)",
            "Massachusetts (MA)",
            "Michigan (MI)",
            "Minnesota (MN)",
            "Mississippi (MS)",
            "Missouri (MO)",
            "Montana (MT)",
            "Nebraska (NE)",
            "Nevada (NV)",
            "New Hampshire (NH)",
            "New Jersey (NJ)",
            "New Mexico (NM)",
            "New York (NY)",
            "North Carolina (NC)",
            "North Dakota (ND)",
            "Ohio (OH)",
            "Oklahoma (OK)",
            "Oregon (OR)",
            "Pennsylvania (PA)",
            "Rhode Island (RI)",
            "South Carolina (SC)",
            "South Dakota (SD)",
            "Tennessee (TN)",
            "Texas (TX)",
            "Utah (UT)",
            "Vermont (VT)",
            "Virginia (VA)",
            "Washington (WA)",
            "West Virginia (WV)",
            "Wisconsin (WI)",
            "Wyoming (WY)"
           ],
           "locationmode": "USA-states",
           "locations": [
            "AL",
            "AK",
            "AZ",
            "AR",
            "CA",
            "CO",
            "CT",
            "DE",
            "FL",
            "GA",
            "HI",
            "ID",
            "IL",
            "IN",
            "IA",
            "KS",
            "KY",
            "LA",
            "ME",
            "MD",
            "MA",
            "MI",
            "MN",
            "MS",
            "MO",
            "MT",
            "NE",
            "NV",
            "NH",
            "NJ",
            "NM",
            "NY",
            "NC",
            "ND",
            "OH",
            "OK",
            "OR",
            "PA",
            "RI",
            "SC",
            "SD",
            "TN",
            "TX",
            "UT",
            "VT",
            "VA",
            "WA",
            "WV",
            "WI",
            "WY"
           ],
           "name": "",
           "type": "choropleth",
           "z": [
            82.25,
            48.0625,
            73,
            78.66666666666667,
            70.6842105263158,
            62.666666666666664,
            68,
            70,
            82.58333333333333,
            79.16666666666667,
            79.6,
            59.333333333333336,
            74.83333333333333,
            73.25,
            72.4,
            75.33333333333333,
            76.2,
            83,
            59.666666666666664,
            71,
            64,
            63.55555555555556,
            61.8,
            81.42857142857143,
            76.57142857142857,
            52.81818181818182,
            69.375,
            63.333333333333336,
            62,
            70,
            69.66666666666667,
            65,
            75.57142857142857,
            58.6,
            70.42857142857143,
            79,
            57.75,
            68.71428571428571,
            68,
            78.5,
            65.4,
            77,
            81.125,
            64,
            64,
            73.42857142857143,
            56.57142857142857,
            72,
            68.25,
            56.8
           ]
          }
         ],
         "name": "2016-09-25"
        },
        {
         "data": [
          {
           "coloraxis": "coloraxis",
           "customdata": [
            [
             "AL",
             "2016-10-02",
             69.75,
             0,
             1.9875
            ],
            [
             "AK",
             "2016-10-02",
             46.121212121212125,
             0.10393939393939393,
             6.904545454545454
            ],
            [
             "AZ",
             "2016-10-02",
             72.4,
             0.05800000000000001,
             5.45
            ],
            [
             "AR",
             "2016-10-02",
             67,
             0,
             1.0166666666666666
            ],
            [
             "CA",
             "2016-10-02",
             63.26315789473684,
             0.06526315789473684,
             5.923684210526315
            ],
            [
             "CO",
             "2016-10-02",
             61.333333333333336,
             0.011666666666666667,
             3.4333333333333336
            ],
            [
             "CT",
             "2016-10-02",
             56.5,
             0.03,
             7.699999999999999
            ],
            [
             "DE",
             "2016-10-02",
             64,
             0.05,
             8.3
            ],
            [
             "FL",
             "2016-10-02",
             79.16666666666667,
             0.2091666666666667,
             3.858333333333333
            ],
            [
             "GA",
             "2016-10-02",
             69.66666666666667,
             0,
             1.3583333333333334
            ],
            [
             "HI",
             "2016-10-02",
             79.6,
             0.426,
             13.030000000000001
            ],
            [
             "ID",
             "2016-10-02",
             59,
             0.15666666666666665,
             3.116666666666667
            ],
            [
             "IL",
             "2016-10-02",
             63,
             0.19666666666666666,
             3.7083333333333335
            ],
            [
             "IN",
             "2016-10-02",
             60.75,
             0.47000000000000003,
             3.0125
            ],
            [
             "IA",
             "2016-10-02",
             62,
             0.024,
             3.55
            ],
            [
             "KS",
             "2016-10-02",
             64.66666666666667,
             0.08,
             6.541666666666667
            ],
            [
             "KY",
             "2016-10-02",
             63.4,
             0.036000000000000004,
             3.55
            ],
            [
             "LA",
             "2016-10-02",
             72.8,
             0.008,
             2.55
            ],
            [
             "ME",
             "2016-10-02",
             54,
             0.15,
             2.216666666666667
            ],
            [
             "MD",
             "2016-10-02",
             68,
             0.35,
             5.574999999999999
            ],
            [
             "MA",
             "2016-10-02",
             55.333333333333336,
             0.2966666666666667,
             9.35
            ],
            [
             "MI",
             "2016-10-02",
             59.22222222222222,
             0.4222222222222222,
             3.5444444444444443
            ],
            [
             "MN",
             "2016-10-02",
             59.4,
             0,
             3.5100000000000002
            ],
            [
             "MS",
             "2016-10-02",
             70.57142857142857,
             0,
             1.457142857142857
            ],
            [
             "MO",
             "2016-10-02",
             62.714285714285715,
             0,
             3.207142857142857
            ],
            [
             "MT",
             "2016-10-02",
             54.36363636363637,
             0.21454545454545457,
             3.0954545454545452
            ],
            [
             "NE",
             "2016-10-02",
             62.75,
             0,
             6.20625
            ],
            [
             "NV",
             "2016-10-02",
             62.666666666666664,
             0.03666666666666667,
             9.083333333333334
            ],
            [
             "NH",
             "2016-10-02",
             57,
             0.055,
             8.8
            ],
            [
             "NJ",
             "2016-10-02",
             62,
             0.03,
             8.35
            ],
            [
             "NM",
             "2016-10-02",
             67.33333333333333,
             0,
             2.8000000000000003
            ],
            [
             "NY",
             "2016-10-02",
             58.75,
             0.30874999999999997,
             5.95625
            ],
            [
             "NC",
             "2016-10-02",
             69.28571428571429,
             0.08571428571428572,
             1.9714285714285715
            ],
            [
             "ND",
             "2016-10-02",
             63.2,
             0.01,
             7.45
            ],
            [
             "OH",
             "2016-10-02",
             61.142857142857146,
             0.15714285714285717,
             4.75
            ],
            [
             "OK",
             "2016-10-02",
             69.5,
             0,
             5.825
            ],
            [
             "OR",
             "2016-10-02",
             51.875,
             0.2475,
             5.14375
            ],
            [
             "PA",
             "2016-10-02",
             61.142857142857146,
             0.5871428571428571,
             4.085714285714286
            ],
            [
             "RI",
             "2016-10-02",
             58,
             0.55,
             9.7
            ],
            [
             "SC",
             "2016-10-02",
             69.75,
             0,
             1.1375
            ],
            [
             "SD",
             "2016-10-02",
             64.4,
             0,
             9.85
            ],
            [
             "TN",
             "2016-10-02",
             65,
             0.00125,
             1.70625
            ],
            [
             "TX",
             "2016-10-02",
             72.375,
             0,
             5.4312499999999995
            ],
            [
             "UT",
             "2016-10-02",
             69,
             0.01,
             11.15
            ],
            [
             "VT",
             "2016-10-02",
             58,
             0.01,
             6.25
            ],
            [
             "VA",
             "2016-10-02",
             70,
             0.11142857142857143,
             3.0714285714285716
            ],
            [
             "WA",
             "2016-10-02",
             53.857142857142854,
             0.18571428571428572,
             5.428571428571429
            ],
            [
             "WV",
             "2016-10-02",
             63,
             0.08,
             1.675
            ],
            [
             "WI",
             "2016-10-02",
             60.75,
             0.13,
             5.675
            ],
            [
             "WY",
             "2016-10-02",
             59.6,
             0.012,
             4.08
            ]
           ],
           "geo": "geo",
           "hovertemplate": "<b>%{hovertext}</b><br><br>Date=%{customdata[1]}<br>Temperature (F)=%{z:.4f}<br>Precipitation (inches)=%{customdata[3]:.4f}<br>Wind Speed (mph)=%{customdata[4]:.4f}<extra></extra>",
           "hovertext": [
            "Alabama (AL)",
            "Alaska (AK)",
            "Arizona (AZ)",
            "Arkansas (AR)",
            "California (CA)",
            "Colorado (CO)",
            "Connecticut (CT)",
            "Delaware (DE)",
            "Florida (FL)",
            "Georgia (GA)",
            "Hawaii (HI)",
            "Idaho (ID)",
            "Illinois (IL)",
            "Indiana (IN)",
            "Iowa (IA)",
            "Kansas (KS)",
            "Kentucky (KY)",
            "Louisiana (LA)",
            "Maine (ME)",
            "Maryland (MD)",
            "Massachusetts (MA)",
            "Michigan (MI)",
            "Minnesota (MN)",
            "Mississippi (MS)",
            "Missouri (MO)",
            "Montana (MT)",
            "Nebraska (NE)",
            "Nevada (NV)",
            "New Hampshire (NH)",
            "New Jersey (NJ)",
            "New Mexico (NM)",
            "New York (NY)",
            "North Carolina (NC)",
            "North Dakota (ND)",
            "Ohio (OH)",
            "Oklahoma (OK)",
            "Oregon (OR)",
            "Pennsylvania (PA)",
            "Rhode Island (RI)",
            "South Carolina (SC)",
            "South Dakota (SD)",
            "Tennessee (TN)",
            "Texas (TX)",
            "Utah (UT)",
            "Vermont (VT)",
            "Virginia (VA)",
            "Washington (WA)",
            "West Virginia (WV)",
            "Wisconsin (WI)",
            "Wyoming (WY)"
           ],
           "locationmode": "USA-states",
           "locations": [
            "AL",
            "AK",
            "AZ",
            "AR",
            "CA",
            "CO",
            "CT",
            "DE",
            "FL",
            "GA",
            "HI",
            "ID",
            "IL",
            "IN",
            "IA",
            "KS",
            "KY",
            "LA",
            "ME",
            "MD",
            "MA",
            "MI",
            "MN",
            "MS",
            "MO",
            "MT",
            "NE",
            "NV",
            "NH",
            "NJ",
            "NM",
            "NY",
            "NC",
            "ND",
            "OH",
            "OK",
            "OR",
            "PA",
            "RI",
            "SC",
            "SD",
            "TN",
            "TX",
            "UT",
            "VT",
            "VA",
            "WA",
            "WV",
            "WI",
            "WY"
           ],
           "name": "",
           "type": "choropleth",
           "z": [
            69.75,
            46.121212121212125,
            72.4,
            67,
            63.26315789473684,
            61.333333333333336,
            56.5,
            64,
            79.16666666666667,
            69.66666666666667,
            79.6,
            59,
            63,
            60.75,
            62,
            64.66666666666667,
            63.4,
            72.8,
            54,
            68,
            55.333333333333336,
            59.22222222222222,
            59.4,
            70.57142857142857,
            62.714285714285715,
            54.36363636363637,
            62.75,
            62.666666666666664,
            57,
            62,
            67.33333333333333,
            58.75,
            69.28571428571429,
            63.2,
            61.142857142857146,
            69.5,
            51.875,
            61.142857142857146,
            58,
            69.75,
            64.4,
            65,
            72.375,
            69,
            58,
            70,
            53.857142857142854,
            63,
            60.75,
            59.6
           ]
          }
         ],
         "name": "2016-10-02"
        },
        {
         "data": [
          {
           "coloraxis": "coloraxis",
           "customdata": [
            [
             "AL",
             "2016-10-09",
             74.5,
             0,
             7.49
            ],
            [
             "AK",
             "2016-10-09",
             44,
             0.13969696969696968,
             5.750606060606061
            ],
            [
             "AZ",
             "2016-10-09",
             68.4,
             0.002,
             4.0840000000000005
            ],
            [
             "AR",
             "2016-10-09",
             68.66666666666667,
             0.63,
             3.1199999999999997
            ],
            [
             "CA",
             "2016-10-09",
             64.52631578947368,
             0.009473684210526315,
             3.8736842105263154
            ],
            [
             "CO",
             "2016-10-09",
             50.166666666666664,
             0.12,
             4.751666666666666
            ],
            [
             "CT",
             "2016-10-09",
             60,
             0.7849999999999999,
             4.63
            ],
            [
             "DE",
             "2016-10-09",
             62,
             1.27,
             6.41
            ],
            [
             "FL",
             "2016-10-09",
             80.25,
             2.5275000000000003,
             9.3025
            ],
            [
             "GA",
             "2016-10-09",
             72.83333333333333,
             2.861666666666667,
             8.883333333333335
            ],
            [
             "HI",
             "2016-10-09",
             79,
             1.668,
             9.303999999999998
            ],
            [
             "ID",
             "2016-10-09",
             53.666666666666664,
             0.24333333333333332,
             5.510000000000001
            ],
            [
             "IL",
             "2016-10-09",
             62.666666666666664,
             1.09,
             5.505
            ],
            [
             "IN",
             "2016-10-09",
             64.5,
             0.034999999999999996,
             5.26
            ],
            [
             "IA",
             "2016-10-09",
             59,
             0.34600000000000003,
             7.436
            ],
            [
             "KS",
             "2016-10-09",
             61,
             0.425,
             8.106666666666667
            ],
            [
             "KY",
             "2016-10-09",
             67.2,
             0.004,
             4.244
            ],
            [
             "LA",
             "2016-10-09",
             76.2,
             0.036,
             5.982
            ],
            [
             "ME",
             "2016-10-09",
             53.333333333333336,
             0.5,
             3.66
            ],
            [
             "MD",
             "2016-10-09",
             64,
             1.765,
             7.305
            ],
            [
             "MA",
             "2016-10-09",
             58.333333333333336,
             0.9400000000000001,
             5.653333333333333
            ],
            [
             "MI",
             "2016-10-09",
             57.666666666666664,
             0.6499999999999999,
             4.901111111111111
            ],
            [
             "MN",
             "2016-10-09",
             51,
             0.968,
             8.864
            ],
            [
             "MS",
             "2016-10-09",
             73.28571428571429,
             0,
             5.659999999999999
            ],
            [
             "MO",
             "2016-10-09",
             64.42857142857143,
             0.7385714285714285,
             6.344285714285715
            ],
            [
             "MT",
             "2016-10-09",
             44.54545454545455,
             1.05,
             6.676363636363636
            ],
            [
             "NE",
             "2016-10-09",
             55.125,
             1.03875,
             7.4575000000000005
            ],
            [
             "NV",
             "2016-10-09",
             53.666666666666664,
             0,
             3.215
            ],
            [
             "NH",
             "2016-10-09",
             58.5,
             0.435,
             8.775
            ],
            [
             "NJ",
             "2016-10-09",
             62,
             1.3499999999999999,
             6.25
            ],
            [
             "NM",
             "2016-10-09",
             61.333333333333336,
             0.3433333333333333,
             6.926666666666667
            ],
            [
             "NY",
             "2016-10-09",
             59.5,
             0.40125,
             4.6725
            ],
            [
             "NC",
             "2016-10-09",
             67.85714285714286,
             3.7542857142857144,
             9.319999999999999
            ],
            [
             "ND",
             "2016-10-09",
             46.8,
             0.624,
             12.784
            ],
            [
             "OH",
             "2016-10-09",
             62,
             0.0071428571428571435,
             6.572857142857143
            ],
            [
             "OK",
             "2016-10-09",
             67,
             1.8424999999999998,
             10.407499999999999
            ],
            [
             "OR",
             "2016-10-09",
             55.875,
             0.9824999999999999,
             4.855
            ],
            [
             "PA",
             "2016-10-09",
             60.857142857142854,
             0.2214285714285714,
             4.908571428571428
            ],
            [
             "RI",
             "2016-10-09",
             59,
             1.67,
             5.45
            ],
            [
             "SC",
             "2016-10-09",
             70.75,
             3.9600000000000004,
             9.225
            ],
            [
             "SD",
             "2016-10-09",
             50.4,
             1.016,
             9.338
            ],
            [
             "TN",
             "2016-10-09",
             68.375,
             0.03375,
             4.54125
            ],
            [
             "TX",
             "2016-10-09",
             73.875,
             0.32958333333333334,
             8.00625
            ],
            [
             "UT",
             "2016-10-09",
             53,
             0.11,
             3.58
            ],
            [
             "VT",
             "2016-10-09",
             60,
             0.12,
             4.71
            ],
            [
             "VA",
             "2016-10-09",
             65,
             4.38,
             9.291428571428572
            ],
            [
             "WA",
             "2016-10-09",
             53.42857142857143,
             1.7085714285714284,
             4.748571428571429
            ],
            [
             "WV",
             "2016-10-09",
             60.5,
             0.9575,
             3.8575
            ],
            [
             "WI",
             "2016-10-09",
             57.75,
             0.22499999999999998,
             5.7700000000000005
            ],
            [
             "WY",
             "2016-10-09",
             46,
             0.22000000000000003,
             8.026
            ]
           ],
           "geo": "geo",
           "hovertemplate": "<b>%{hovertext}</b><br><br>Date=%{customdata[1]}<br>Temperature (F)=%{z:.4f}<br>Precipitation (inches)=%{customdata[3]:.4f}<br>Wind Speed (mph)=%{customdata[4]:.4f}<extra></extra>",
           "hovertext": [
            "Alabama (AL)",
            "Alaska (AK)",
            "Arizona (AZ)",
            "Arkansas (AR)",
            "California (CA)",
            "Colorado (CO)",
            "Connecticut (CT)",
            "Delaware (DE)",
            "Florida (FL)",
            "Georgia (GA)",
            "Hawaii (HI)",
            "Idaho (ID)",
            "Illinois (IL)",
            "Indiana (IN)",
            "Iowa (IA)",
            "Kansas (KS)",
            "Kentucky (KY)",
            "Louisiana (LA)",
            "Maine (ME)",
            "Maryland (MD)",
            "Massachusetts (MA)",
            "Michigan (MI)",
            "Minnesota (MN)",
            "Mississippi (MS)",
            "Missouri (MO)",
            "Montana (MT)",
            "Nebraska (NE)",
            "Nevada (NV)",
            "New Hampshire (NH)",
            "New Jersey (NJ)",
            "New Mexico (NM)",
            "New York (NY)",
            "North Carolina (NC)",
            "North Dakota (ND)",
            "Ohio (OH)",
            "Oklahoma (OK)",
            "Oregon (OR)",
            "Pennsylvania (PA)",
            "Rhode Island (RI)",
            "South Carolina (SC)",
            "South Dakota (SD)",
            "Tennessee (TN)",
            "Texas (TX)",
            "Utah (UT)",
            "Vermont (VT)",
            "Virginia (VA)",
            "Washington (WA)",
            "West Virginia (WV)",
            "Wisconsin (WI)",
            "Wyoming (WY)"
           ],
           "locationmode": "USA-states",
           "locations": [
            "AL",
            "AK",
            "AZ",
            "AR",
            "CA",
            "CO",
            "CT",
            "DE",
            "FL",
            "GA",
            "HI",
            "ID",
            "IL",
            "IN",
            "IA",
            "KS",
            "KY",
            "LA",
            "ME",
            "MD",
            "MA",
            "MI",
            "MN",
            "MS",
            "MO",
            "MT",
            "NE",
            "NV",
            "NH",
            "NJ",
            "NM",
            "NY",
            "NC",
            "ND",
            "OH",
            "OK",
            "OR",
            "PA",
            "RI",
            "SC",
            "SD",
            "TN",
            "TX",
            "UT",
            "VT",
            "VA",
            "WA",
            "WV",
            "WI",
            "WY"
           ],
           "name": "",
           "type": "choropleth",
           "z": [
            74.5,
            44,
            68.4,
            68.66666666666667,
            64.52631578947368,
            50.166666666666664,
            60,
            62,
            80.25,
            72.83333333333333,
            79,
            53.666666666666664,
            62.666666666666664,
            64.5,
            59,
            61,
            67.2,
            76.2,
            53.333333333333336,
            64,
            58.333333333333336,
            57.666666666666664,
            51,
            73.28571428571429,
            64.42857142857143,
            44.54545454545455,
            55.125,
            53.666666666666664,
            58.5,
            62,
            61.333333333333336,
            59.5,
            67.85714285714286,
            46.8,
            62,
            67,
            55.875,
            60.857142857142854,
            59,
            70.75,
            50.4,
            68.375,
            73.875,
            53,
            60,
            65,
            53.42857142857143,
            60.5,
            57.75,
            46
           ]
          }
         ],
         "name": "2016-10-09"
        },
        {
         "data": [
          {
           "coloraxis": "coloraxis",
           "customdata": [
            [
             "AL",
             "2016-10-16",
             70.25,
             0.03,
             3.4924999999999997
            ],
            [
             "AK",
             "2016-10-16",
             41.78787878787879,
             0.3515151515151515,
             7.131515151515152
            ],
            [
             "AZ",
             "2016-10-16",
             72.2,
             0,
             4.4719999999999995
            ],
            [
             "AR",
             "2016-10-16",
             67,
             1.0033333333333332,
             3.65
            ],
            [
             "CA",
             "2016-10-16",
             64.57894736842105,
             0.8457894736842105,
             5.843684210526316
            ],
            [
             "CO",
             "2016-10-16",
             58.166666666666664,
             0.03333333333333333,
             4.918333333333333
            ],
            [
             "CT",
             "2016-10-16",
             54,
             0,
             4.855
            ],
            [
             "DE",
             "2016-10-16",
             55,
             0,
             3.82
            ],
            [
             "FL",
             "2016-10-16",
             77.5,
             0.62,
             9.296666666666667
            ],
            [
             "GA",
             "2016-10-16",
             67.16666666666667,
             0.024999999999999998,
             3.8983333333333334
            ],
            [
             "HI",
             "2016-10-16",
             79.4,
             0.40800000000000003,
             11.969999999999999
            ],
            [
             "ID",
             "2016-10-16",
             53.666666666666664,
             0.46,
             6.830000000000001
            ],
            [
             "IL",
             "2016-10-16",
             60.333333333333336,
             0.48500000000000004,
             7.3500000000000005
            ],
            [
             "IN",
             "2016-10-16",
             59.75,
             0.58,
             6.952500000000001
            ],
            [
             "IA",
             "2016-10-16",
             56.2,
             0.63,
             8.932
            ],
            [
             "KS",
             "2016-10-16",
             62.5,
             0.22166666666666668,
             9.986666666666666
            ],
            [
             "KY",
             "2016-10-16",
             63.8,
             0.06200000000000001,
             4.762
            ],
            [
             "LA",
             "2016-10-16",
             75.2,
             0.162,
             3.85
            ],
            [
             "ME",
             "2016-10-16",
             46.666666666666664,
             0.29333333333333333,
             6.396666666666667
            ],
            [
             "MD",
             "2016-10-16",
             56,
             0,
             3.145
            ],
            [
             "MA",
             "2016-10-16",
             55,
             0,
             7.716666666666666
            ],
            [
             "MI",
             "2016-10-16",
             53.22222222222222,
             1.0122222222222221,
             5.582222222222223
            ],
            [
             "MN",
             "2016-10-16",
             50.8,
             0.286,
             9.306000000000001
            ],
            [
             "MS",
             "2016-10-16",
             70.71428571428571,
             0.08428571428571428,
             3.134285714285714
            ],
            [
             "MO",
             "2016-10-16",
             62.714285714285715,
             0.35285714285714287,
             8.854285714285714
            ],
            [
             "MT",
             "2016-10-16",
             41.90909090909091,
             0.4018181818181818,
             7.118181818181818
            ],
            [
             "NE",
             "2016-10-16",
             55.125,
             0.05875,
             7.751250000000001
            ],
            [
             "NV",
             "2016-10-16",
             62.333333333333336,
             0.3333333333333333,
             8.06
            ],
            [
             "NH",
             "2016-10-16",
             54.5,
             0.015,
             18.175
            ],
            [
             "NJ",
             "2016-10-16",
             55,
             0.005,
             4.96
            ],
            [
             "NM",
             "2016-10-16",
             64.66666666666667,
             0.06666666666666667,
             5.816666666666666
            ],
            [
             "NY",
             "2016-10-16",
             52.625,
             0.08875,
             5.7425
            ],
            [
             "NC",
             "2016-10-16",
             62,
             0,
             3.845714285714286
            ],
            [
             "ND",
             "2016-10-16",
             45.8,
             0.044,
             7.884
            ],
            [
             "OH",
             "2016-10-16",
             56.714285714285715,
             0.17285714285714285,
             6.42
            ],
            [
             "OK",
             "2016-10-16",
             67.5,
             0.16749999999999998,
             11.6
            ],
            [
             "OR",
             "2016-10-16",
             53,
             3.1637500000000003,
             6.91375
            ],
            [
             "PA",
             "2016-10-16",
             55.42857142857143,
             0.12714285714285717,
             4.01
            ],
            [
             "RI",
             "2016-10-16",
             53,
             0,
             5.17
            ],
            [
             "SC",
             "2016-10-16",
             65.5,
             0,
             3.8724999999999996
            ],
            [
             "SD",
             "2016-10-16",
             52,
             0.006,
             8.664
            ],
            [
             "TN",
             "2016-10-16",
             65.375,
             0.16,
             3.23375
            ],
            [
             "TX",
             "2016-10-16",
             73.95833333333333,
             0.2629166666666667,
             7.14375
            ],
            [
             "UT",
             "2016-10-16",
             61,
             0.01,
             4.58
            ],
            [
             "VT",
             "2016-10-16",
             51,
             0.13,
             7.84
            ],
            [
             "VA",
             "2016-10-16",
             58.42857142857143,
             0,
             3.7071428571428577
            ],
            [
             "WA",
             "2016-10-16",
             49.42857142857143,
             3.3528571428571428,
             6.452857142857143
            ],
            [
             "WV",
             "2016-10-16",
             58,
             0.0525,
             2.3825
            ],
            [
             "WI",
             "2016-10-16",
             56,
             1.155,
             7.46
            ],
            [
             "WY",
             "2016-10-16",
             51.2,
             0.06599999999999999,
             9.190000000000001
            ]
           ],
           "geo": "geo",
           "hovertemplate": "<b>%{hovertext}</b><br><br>Date=%{customdata[1]}<br>Temperature (F)=%{z:.4f}<br>Precipitation (inches)=%{customdata[3]:.4f}<br>Wind Speed (mph)=%{customdata[4]:.4f}<extra></extra>",
           "hovertext": [
            "Alabama (AL)",
            "Alaska (AK)",
            "Arizona (AZ)",
            "Arkansas (AR)",
            "California (CA)",
            "Colorado (CO)",
            "Connecticut (CT)",
            "Delaware (DE)",
            "Florida (FL)",
            "Georgia (GA)",
            "Hawaii (HI)",
            "Idaho (ID)",
            "Illinois (IL)",
            "Indiana (IN)",
            "Iowa (IA)",
            "Kansas (KS)",
            "Kentucky (KY)",
            "Louisiana (LA)",
            "Maine (ME)",
            "Maryland (MD)",
            "Massachusetts (MA)",
            "Michigan (MI)",
            "Minnesota (MN)",
            "Mississippi (MS)",
            "Missouri (MO)",
            "Montana (MT)",
            "Nebraska (NE)",
            "Nevada (NV)",
            "New Hampshire (NH)",
            "New Jersey (NJ)",
            "New Mexico (NM)",
            "New York (NY)",
            "North Carolina (NC)",
            "North Dakota (ND)",
            "Ohio (OH)",
            "Oklahoma (OK)",
            "Oregon (OR)",
            "Pennsylvania (PA)",
            "Rhode Island (RI)",
            "South Carolina (SC)",
            "South Dakota (SD)",
            "Tennessee (TN)",
            "Texas (TX)",
            "Utah (UT)",
            "Vermont (VT)",
            "Virginia (VA)",
            "Washington (WA)",
            "West Virginia (WV)",
            "Wisconsin (WI)",
            "Wyoming (WY)"
           ],
           "locationmode": "USA-states",
           "locations": [
            "AL",
            "AK",
            "AZ",
            "AR",
            "CA",
            "CO",
            "CT",
            "DE",
            "FL",
            "GA",
            "HI",
            "ID",
            "IL",
            "IN",
            "IA",
            "KS",
            "KY",
            "LA",
            "ME",
            "MD",
            "MA",
            "MI",
            "MN",
            "MS",
            "MO",
            "MT",
            "NE",
            "NV",
            "NH",
            "NJ",
            "NM",
            "NY",
            "NC",
            "ND",
            "OH",
            "OK",
            "OR",
            "PA",
            "RI",
            "SC",
            "SD",
            "TN",
            "TX",
            "UT",
            "VT",
            "VA",
            "WA",
            "WV",
            "WI",
            "WY"
           ],
           "name": "",
           "type": "choropleth",
           "z": [
            70.25,
            41.78787878787879,
            72.2,
            67,
            64.57894736842105,
            58.166666666666664,
            54,
            55,
            77.5,
            67.16666666666667,
            79.4,
            53.666666666666664,
            60.333333333333336,
            59.75,
            56.2,
            62.5,
            63.8,
            75.2,
            46.666666666666664,
            56,
            55,
            53.22222222222222,
            50.8,
            70.71428571428571,
            62.714285714285715,
            41.90909090909091,
            55.125,
            62.333333333333336,
            54.5,
            55,
            64.66666666666667,
            52.625,
            62,
            45.8,
            56.714285714285715,
            67.5,
            53,
            55.42857142857143,
            53,
            65.5,
            52,
            65.375,
            73.95833333333333,
            61,
            51,
            58.42857142857143,
            49.42857142857143,
            58,
            56,
            51.2
           ]
          }
         ],
         "name": "2016-10-16"
        },
        {
         "data": [
          {
           "coloraxis": "coloraxis",
           "customdata": [
            [
             "AL",
             "2016-10-23",
             69.5,
             0.1925,
             4.8425
            ],
            [
             "AK",
             "2016-10-23",
             35.93939393939394,
             0.776060606060606,
             7.118181818181818
            ],
            [
             "AZ",
             "2016-10-23",
             70.2,
             0,
             4.63
            ],
            [
             "AR",
             "2016-10-23",
             67.33333333333333,
             0.13333333333333333,
             3.4433333333333334
            ],
            [
             "CA",
             "2016-10-23",
             63.89473684210526,
             0.11578947368421054,
             3.941052631578947
            ],
            [
             "CO",
             "2016-10-23",
             50.833333333333336,
             0.045000000000000005,
             4.343333333333334
            ],
            [
             "CT",
             "2016-10-23",
             62,
             0.33,
             7.96
            ],
            [
             "DE",
             "2016-10-23",
             65,
             0.1,
             6.6
            ],
            [
             "FL",
             "2016-10-23",
             74.58333333333333,
             0.13583333333333333,
             7.1691666666666665
            ],
            [
             "GA",
             "2016-10-23",
             68,
             0,
             3.8000000000000003
            ],
            [
             "HI",
             "2016-10-23",
             79,
             0.86,
             12.624
            ],
            [
             "ID",
             "2016-10-23",
             49,
             0.36666666666666664,
             4.13
            ],
            [
             "IL",
             "2016-10-23",
             58.333333333333336,
             0.051666666666666666,
             8.026666666666666
            ],
            [
             "IN",
             "2016-10-23",
             59.75,
             0.875,
             9.004999999999999
            ],
            [
             "IA",
             "2016-10-23",
             55.4,
             0,
             6.909999999999999
            ],
            [
             "KS",
             "2016-10-23",
             60.333333333333336,
             0.013333333333333334,
             7.6066666666666665
            ],
            [
             "KY",
             "2016-10-23",
             65,
             1.142,
             6.606
            ],
            [
             "LA",
             "2016-10-23",
             71.6,
             0.192,
             4.548
            ],
            [
             "ME",
             "2016-10-23",
             52.333333333333336,
             2.33,
             6.1000000000000005
            ],
            [
             "MD",
             "2016-10-23",
             66,
             0.195,
             6.545
            ],
            [
             "MA",
             "2016-10-23",
             60,
             1.9233333333333331,
             9.653333333333334
            ],
            [
             "MI",
             "2016-10-23",
             52.55555555555556,
             0.5833333333333334,
             6.242222222222222
            ],
            [
             "MN",
             "2016-10-23",
             47,
             0.258,
             5.976
            ],
            [
             "MS",
             "2016-10-23",
             68.71428571428571,
             0.22999999999999998,
             4.894285714285714
            ],
            [
             "MO",
             "2016-10-23",
             62.285714285714285,
             1.1228571428571428,
             8.06
            ],
            [
             "MT",
             "2016-10-23",
             44.72727272727273,
             0.19636363636363638,
             5.858181818181818
            ],
            [
             "NE",
             "2016-10-23",
             54.125,
             0.15875,
             6.2575
            ],
            [
             "NV",
             "2016-10-23",
             54.333333333333336,
             0.034999999999999996,
             4.665
            ],
            [
             "NH",
             "2016-10-23",
             58,
             1.58,
             21.994999999999997
            ],
            [
             "NJ",
             "2016-10-23",
             65,
             0.7050000000000001,
             7.71
            ],
            [
             "NM",
             "2016-10-23",
             61,
             0,
             5.316666666666666
            ],
            [
             "NY",
             "2016-10-23",
             58.375,
             2.6799999999999997,
             8.25375
            ],
            [
             "NC",
             "2016-10-23",
             65.14285714285714,
             0.015714285714285715,
             5.312857142857142
            ],
            [
             "ND",
             "2016-10-23",
             44.6,
             0.066,
             5.747999999999999
            ],
            [
             "OH",
             "2016-10-23",
             59.714285714285715,
             2.422857142857143,
             10.082857142857142
            ],
            [
             "OK",
             "2016-10-23",
             66.25,
             0.1,
             9.2325
            ],
            [
             "OR",
             "2016-10-23",
             51.625,
             1.125,
             4.28625
            ],
            [
             "PA",
             "2016-10-23",
             62.142857142857146,
             0.9885714285714285,
             7.102857142857142
            ],
            [
             "RI",
             "2016-10-23",
             63,
             0.9,
             6.95
            ],
            [
             "SC",
             "2016-10-23",
             67.5,
             0,
             4.155
            ],
            [
             "SD",
             "2016-10-23",
             49.2,
             0.15,
             5.812
            ],
            [
             "TN",
             "2016-10-23",
             64.875,
             0.195,
             4.8462499999999995
            ],
            [
             "TX",
             "2016-10-23",
             71.29166666666667,
             0.22,
             8.047083333333333
            ],
            [
             "UT",
             "2016-10-23",
             52,
             0.36,
             2.07
            ],
            [
             "VT",
             "2016-10-23",
             54,
             1.69,
             7.38
            ],
            [
             "VA",
             "2016-10-23",
             66.14285714285714,
             0.11857142857142858,
             6.655714285714285
            ],
            [
             "WA",
             "2016-10-23",
             49.57142857142857,
             1.4114285714285715,
             4.392857142857143
            ],
            [
             "WV",
             "2016-10-23",
             61.25,
             1.855,
             5.3475
            ],
            [
             "WI",
             "2016-10-23",
             54.75,
             0.0175,
             6.0975
            ],
            [
             "WY",
             "2016-10-23",
             45.4,
             0.198,
             7.714
            ]
           ],
           "geo": "geo",
           "hovertemplate": "<b>%{hovertext}</b><br><br>Date=%{customdata[1]}<br>Temperature (F)=%{z:.4f}<br>Precipitation (inches)=%{customdata[3]:.4f}<br>Wind Speed (mph)=%{customdata[4]:.4f}<extra></extra>",
           "hovertext": [
            "Alabama (AL)",
            "Alaska (AK)",
            "Arizona (AZ)",
            "Arkansas (AR)",
            "California (CA)",
            "Colorado (CO)",
            "Connecticut (CT)",
            "Delaware (DE)",
            "Florida (FL)",
            "Georgia (GA)",
            "Hawaii (HI)",
            "Idaho (ID)",
            "Illinois (IL)",
            "Indiana (IN)",
            "Iowa (IA)",
            "Kansas (KS)",
            "Kentucky (KY)",
            "Louisiana (LA)",
            "Maine (ME)",
            "Maryland (MD)",
            "Massachusetts (MA)",
            "Michigan (MI)",
            "Minnesota (MN)",
            "Mississippi (MS)",
            "Missouri (MO)",
            "Montana (MT)",
            "Nebraska (NE)",
            "Nevada (NV)",
            "New Hampshire (NH)",
            "New Jersey (NJ)",
            "New Mexico (NM)",
            "New York (NY)",
            "North Carolina (NC)",
            "North Dakota (ND)",
            "Ohio (OH)",
            "Oklahoma (OK)",
            "Oregon (OR)",
            "Pennsylvania (PA)",
            "Rhode Island (RI)",
            "South Carolina (SC)",
            "South Dakota (SD)",
            "Tennessee (TN)",
            "Texas (TX)",
            "Utah (UT)",
            "Vermont (VT)",
            "Virginia (VA)",
            "Washington (WA)",
            "West Virginia (WV)",
            "Wisconsin (WI)",
            "Wyoming (WY)"
           ],
           "locationmode": "USA-states",
           "locations": [
            "AL",
            "AK",
            "AZ",
            "AR",
            "CA",
            "CO",
            "CT",
            "DE",
            "FL",
            "GA",
            "HI",
            "ID",
            "IL",
            "IN",
            "IA",
            "KS",
            "KY",
            "LA",
            "ME",
            "MD",
            "MA",
            "MI",
            "MN",
            "MS",
            "MO",
            "MT",
            "NE",
            "NV",
            "NH",
            "NJ",
            "NM",
            "NY",
            "NC",
            "ND",
            "OH",
            "OK",
            "OR",
            "PA",
            "RI",
            "SC",
            "SD",
            "TN",
            "TX",
            "UT",
            "VT",
            "VA",
            "WA",
            "WV",
            "WI",
            "WY"
           ],
           "name": "",
           "type": "choropleth",
           "z": [
            69.5,
            35.93939393939394,
            70.2,
            67.33333333333333,
            63.89473684210526,
            50.833333333333336,
            62,
            65,
            74.58333333333333,
            68,
            79,
            49,
            58.333333333333336,
            59.75,
            55.4,
            60.333333333333336,
            65,
            71.6,
            52.333333333333336,
            66,
            60,
            52.55555555555556,
            47,
            68.71428571428571,
            62.285714285714285,
            44.72727272727273,
            54.125,
            54.333333333333336,
            58,
            65,
            61,
            58.375,
            65.14285714285714,
            44.6,
            59.714285714285715,
            66.25,
            51.625,
            62.142857142857146,
            63,
            67.5,
            49.2,
            64.875,
            71.29166666666667,
            52,
            54,
            66.14285714285714,
            49.57142857142857,
            61.25,
            54.75,
            45.4
           ]
          }
         ],
         "name": "2016-10-23"
        },
        {
         "data": [
          {
           "coloraxis": "coloraxis",
           "customdata": [
            [
             "AL",
             "2016-10-30",
             69.75,
             0,
             2.3175
            ],
            [
             "AK",
             "2016-10-30",
             36.121212121212125,
             0.34,
             6.473939393939394
            ],
            [
             "AZ",
             "2016-10-30",
             71.8,
             0.126,
             3.5060000000000002
            ],
            [
             "AR",
             "2016-10-30",
             68.66666666666667,
             0.0033333333333333335,
             2.0399999999999996
            ],
            [
             "CA",
             "2016-10-30",
             63.473684210526315,
             1.176842105263158,
             5.011578947368421
            ],
            [
             "CO",
             "2016-10-30",
             56.666666666666664,
             0.07333333333333335,
             3.5033333333333334
            ],
            [
             "CT",
             "2016-10-30",
             47.5,
             2.065,
             8.11
            ],
            [
             "DE",
             "2016-10-30",
             52,
             0.8,
             7.71
            ],
            [
             "FL",
             "2016-10-30",
             73.66666666666667,
             0.44,
             8.730833333333333
            ],
            [
             "GA",
             "2016-10-30",
             67.5,
             0,
             2.606666666666667
            ],
            [
             "HI",
             "2016-10-30",
             77.2,
             0.812,
             11.928
            ],
            [
             "ID",
             "2016-10-30",
             54,
             1.16,
             4.056666666666667
            ],
            [
             "IL",
             "2016-10-30",
             54.333333333333336,
             0.9283333333333333,
             6.776666666666666
            ],
            [
             "IN",
             "2016-10-30",
             54.5,
             0.435,
             7.109999999999999
            ],
            [
             "IA",
             "2016-10-30",
             52.8,
             1.0539999999999998,
             6.942
            ],
            [
             "KS",
             "2016-10-30",
             63.666666666666664,
             0.2316666666666667,
             7.843333333333334
            ],
            [
             "KY",
             "2016-10-30",
             61,
             0.006,
             4.256
            ],
            [
             "LA",
             "2016-10-30",
             70.4,
             0.004,
             2.396
            ],
            [
             "ME",
             "2016-10-30",
             40.333333333333336,
             1.4266666666666667,
             7.34
            ],
            [
             "MD",
             "2016-10-30",
             54,
             0.1,
             5.955
            ],
            [
             "MA",
             "2016-10-30",
             50,
             0.85,
             10.876666666666667
            ],
            [
             "MI",
             "2016-10-30",
             43.888888888888886,
             0.76,
             6.207777777777777
            ],
            [
             "MN",
             "2016-10-30",
             44.6,
             0.8320000000000001,
             6.5840000000000005
            ],
            [
             "MS",
             "2016-10-30",
             68.71428571428571,
             0,
             1.7442857142857144
            ],
            [
             "MO",
             "2016-10-30",
             62.42857142857143,
             0.09,
             6.848571428571428
            ],
            [
             "MT",
             "2016-10-30",
             47.54545454545455,
             0.37454545454545457,
             4.114545454545454
            ],
            [
             "NE",
             "2016-10-30",
             57.125,
             0.005,
             7.1850000000000005
            ],
            [
             "NV",
             "2016-10-30",
             58.166666666666664,
             0.5816666666666667,
             7.128333333333334
            ],
            [
             "NH",
             "2016-10-30",
             51,
             1.045,
             24.54
            ],
            [
             "NJ",
             "2016-10-30",
             52,
             0.9400000000000001,
             8.68
            ],
            [
             "NM",
             "2016-10-30",
             64.66666666666667,
             0,
             4.6
            ],
            [
             "NY",
             "2016-10-30",
             44.5,
             1.11625,
             7.904999999999999
            ],
            [
             "NC",
             "2016-10-30",
             61.42857142857143,
             0.022857142857142857,
             3.907142857142857
            ],
            [
             "ND",
             "2016-10-30",
             46.2,
             0.27999999999999997,
             7.595999999999999
            ],
            [
             "OH",
             "2016-10-30",
             50.714285714285715,
             0.4828571428571428,
             7.24
            ],
            [
             "OK",
             "2016-10-30",
             68.5,
             0.2175,
             8.11
            ],
            [
             "OR",
             "2016-10-30",
             52.5,
             1.3775,
             4.115
            ],
            [
             "PA",
             "2016-10-30",
             51,
             0.9657142857142856,
             6.242857142857143
            ],
            [
             "RI",
             "2016-10-30",
             48,
             1.71,
             7.37
            ],
            [
             "SC",
             "2016-10-30",
             65.75,
             0,
             3.0625
            ],
            [
             "SD",
             "2016-10-30",
             51.8,
             0.27199999999999996,
             7.203999999999999
            ],
            [
             "TN",
             "2016-10-30",
             64.25,
             0.01125,
             2.69125
            ],
            [
             "TX",
             "2016-10-30",
             72.625,
             0.0016666666666666668,
             6.100833333333333
            ],
            [
             "UT",
             "2016-10-30",
             63,
             0.16,
             8.88
            ],
            [
             "VT",
             "2016-10-30",
             41,
             0.69,
             8.24
            ],
            [
             "VA",
             "2016-10-30",
             58.714285714285715,
             0.032857142857142856,
             5.388571428571429
            ],
            [
             "WA",
             "2016-10-30",
             50.42857142857143,
             1.8071428571428572,
             4.435714285714286
            ],
            [
             "WV",
             "2016-10-30",
             55.75,
             0.0925,
             4.09
            ],
            [
             "WI",
             "2016-10-30",
             48.25,
             1.8250000000000002,
             6.1425
            ],
            [
             "WY",
             "2016-10-30",
             53.2,
             0.13999999999999999,
             7.648000000000001
            ]
           ],
           "geo": "geo",
           "hovertemplate": "<b>%{hovertext}</b><br><br>Date=%{customdata[1]}<br>Temperature (F)=%{z:.4f}<br>Precipitation (inches)=%{customdata[3]:.4f}<br>Wind Speed (mph)=%{customdata[4]:.4f}<extra></extra>",
           "hovertext": [
            "Alabama (AL)",
            "Alaska (AK)",
            "Arizona (AZ)",
            "Arkansas (AR)",
            "California (CA)",
            "Colorado (CO)",
            "Connecticut (CT)",
            "Delaware (DE)",
            "Florida (FL)",
            "Georgia (GA)",
            "Hawaii (HI)",
            "Idaho (ID)",
            "Illinois (IL)",
            "Indiana (IN)",
            "Iowa (IA)",
            "Kansas (KS)",
            "Kentucky (KY)",
            "Louisiana (LA)",
            "Maine (ME)",
            "Maryland (MD)",
            "Massachusetts (MA)",
            "Michigan (MI)",
            "Minnesota (MN)",
            "Mississippi (MS)",
            "Missouri (MO)",
            "Montana (MT)",
            "Nebraska (NE)",
            "Nevada (NV)",
            "New Hampshire (NH)",
            "New Jersey (NJ)",
            "New Mexico (NM)",
            "New York (NY)",
            "North Carolina (NC)",
            "North Dakota (ND)",
            "Ohio (OH)",
            "Oklahoma (OK)",
            "Oregon (OR)",
            "Pennsylvania (PA)",
            "Rhode Island (RI)",
            "South Carolina (SC)",
            "South Dakota (SD)",
            "Tennessee (TN)",
            "Texas (TX)",
            "Utah (UT)",
            "Vermont (VT)",
            "Virginia (VA)",
            "Washington (WA)",
            "West Virginia (WV)",
            "Wisconsin (WI)",
            "Wyoming (WY)"
           ],
           "locationmode": "USA-states",
           "locations": [
            "AL",
            "AK",
            "AZ",
            "AR",
            "CA",
            "CO",
            "CT",
            "DE",
            "FL",
            "GA",
            "HI",
            "ID",
            "IL",
            "IN",
            "IA",
            "KS",
            "KY",
            "LA",
            "ME",
            "MD",
            "MA",
            "MI",
            "MN",
            "MS",
            "MO",
            "MT",
            "NE",
            "NV",
            "NH",
            "NJ",
            "NM",
            "NY",
            "NC",
            "ND",
            "OH",
            "OK",
            "OR",
            "PA",
            "RI",
            "SC",
            "SD",
            "TN",
            "TX",
            "UT",
            "VT",
            "VA",
            "WA",
            "WV",
            "WI",
            "WY"
           ],
           "name": "",
           "type": "choropleth",
           "z": [
            69.75,
            36.121212121212125,
            71.8,
            68.66666666666667,
            63.473684210526315,
            56.666666666666664,
            47.5,
            52,
            73.66666666666667,
            67.5,
            77.2,
            54,
            54.333333333333336,
            54.5,
            52.8,
            63.666666666666664,
            61,
            70.4,
            40.333333333333336,
            54,
            50,
            43.888888888888886,
            44.6,
            68.71428571428571,
            62.42857142857143,
            47.54545454545455,
            57.125,
            58.166666666666664,
            51,
            52,
            64.66666666666667,
            44.5,
            61.42857142857143,
            46.2,
            50.714285714285715,
            68.5,
            52.5,
            51,
            48,
            65.75,
            51.8,
            64.25,
            72.625,
            63,
            41,
            58.714285714285715,
            50.42857142857143,
            55.75,
            48.25,
            53.2
           ]
          }
         ],
         "name": "2016-10-30"
        },
        {
         "data": [
          {
           "coloraxis": "coloraxis",
           "customdata": [
            [
             "AL",
             "2016-11-06",
             68.75,
             0.0025,
             3.82
            ],
            [
             "AK",
             "2016-11-06",
             35.15151515151515,
             0.6039393939393939,
             5.8090909090909095
            ],
            [
             "AZ",
             "2016-11-06",
             63.4,
             0.364,
             3.8579999999999997
            ],
            [
             "AR",
             "2016-11-06",
             66,
             0,
             2.893333333333333
            ],
            [
             "CA",
             "2016-11-06",
             60.31578947368421,
             0.08105263157894738,
             2.4557894736842103
            ],
            [
             "CO",
             "2016-11-06",
             48.666666666666664,
             0.055,
             2.9950000000000006
            ],
            [
             "CT",
             "2016-11-06",
             52.5,
             0,
             5.68
            ],
            [
             "DE",
             "2016-11-06",
             50,
             0,
             5.65
            ],
            [
             "FL",
             "2016-11-06",
             74.33333333333333,
             0.2125,
             7.410833333333334
            ],
            [
             "GA",
             "2016-11-06",
             66.16666666666667,
             0.0016666666666666668,
             3.253333333333334
            ],
            [
             "HI",
             "2016-11-06",
             77.4,
             0.084,
             11.040000000000001
            ],
            [
             "ID",
             "2016-11-06",
             48.666666666666664,
             0.016666666666666666,
             3.8800000000000003
            ],
            [
             "IL",
             "2016-11-06",
             59.166666666666664,
             0.65,
             4.671666666666667
            ],
            [
             "IN",
             "2016-11-06",
             58,
             0.1825,
             5.015000000000001
            ],
            [
             "IA",
             "2016-11-06",
             55.8,
             0.354,
             5.106
            ],
            [
             "KS",
             "2016-11-06",
             59.666666666666664,
             0.10166666666666667,
             6.351666666666667
            ],
            [
             "KY",
             "2016-11-06",
             61,
             0.046,
             3.91
            ],
            [
             "LA",
             "2016-11-06",
             72.8,
             0.006,
             4.843999999999999
            ],
            [
             "ME",
             "2016-11-06",
             40,
             0.5566666666666666,
             4.62
            ],
            [
             "MD",
             "2016-11-06",
             55,
             0.115,
             3.9400000000000004
            ],
            [
             "MA",
             "2016-11-06",
             52,
             0.09333333333333334,
             4.573333333333333
            ],
            [
             "MI",
             "2016-11-06",
             51.22222222222222,
             0.5788888888888889,
             4.0344444444444445
            ],
            [
             "MN",
             "2016-11-06",
             50.4,
             0.036000000000000004,
             4.724
            ],
            [
             "MS",
             "2016-11-06",
             68.14285714285714,
             0.03571428571428571,
             4.2785714285714285
            ],
            [
             "MO",
             "2016-11-06",
             61.42857142857143,
             0.9314285714285714,
             5.815714285714286
            ],
            [
             "MT",
             "2016-11-06",
             46.27272727272727,
             0,
             6.739090909090908
            ],
            [
             "NE",
             "2016-11-06",
             53.875,
             0.00125,
             5.75125
            ],
            [
             "NV",
             "2016-11-06",
             51.333333333333336,
             0.016666666666666666,
             3.026666666666667
            ],
            [
             "NH",
             "2016-11-06",
             52,
             0.175,
             18.779999999999998
            ],
            [
             "NJ",
             "2016-11-06",
             55,
             0,
             6.955
            ],
            [
             "NM",
             "2016-11-06",
             57.666666666666664,
             0.9533333333333335,
             6.566666666666666
            ],
            [
             "NY",
             "2016-11-06",
             49.375,
             0.5,
             6.39125
            ],
            [
             "NC",
             "2016-11-06",
             60.857142857142854,
             0.05142857142857143,
             3.8485714285714283
            ],
            [
             "ND",
             "2016-11-06",
             50,
             0,
             5.587999999999999
            ],
            [
             "OH",
             "2016-11-06",
             56.285714285714285,
             0.16999999999999998,
             5.627142857142857
            ],
            [
             "OK",
             "2016-11-06",
             65.5,
             0.13249999999999998,
             7.359999999999999
            ],
            [
             "OR",
             "2016-11-06",
             52.25,
             0.69875,
             3.84875
            ],
            [
             "PA",
             "2016-11-06",
             52.285714285714285,
             0.1357142857142857,
             4.928571428571429
            ],
            [
             "RI",
             "2016-11-06",
             50,
             0.05,
             4.86
            ],
            [
             "SC",
             "2016-11-06",
             64,
             0,
             3.5775
            ],
            [
             "SD",
             "2016-11-06",
             53.6,
             0,
             5.351999999999999
            ],
            [
             "TN",
             "2016-11-06",
             63.75,
             0.0075,
             3.46875
            ],
            [
             "TX",
             "2016-11-06",
             70.95833333333333,
             1.0345833333333332,
             6.965416666666667
            ],
            [
             "UT",
             "2016-11-06",
             49,
             0,
             1.28
            ],
            [
             "VT",
             "2016-11-06",
             44,
             0.61,
             6.58
            ],
            [
             "VA",
             "2016-11-06",
             58.714285714285715,
             0.25999999999999995,
             4.927142857142857
            ],
            [
             "WA",
             "2016-11-06",
             50.57142857142857,
             1.6771428571428573,
             4.121428571428572
            ],
            [
             "WV",
             "2016-11-06",
             56.25,
             0.46,
             2.4125
            ],
            [
             "WI",
             "2016-11-06",
             54.75,
             0.19,
             3.745
            ],
            [
             "WY",
             "2016-11-06",
             45.4,
             0.012,
             4.396
            ]
           ],
           "geo": "geo",
           "hovertemplate": "<b>%{hovertext}</b><br><br>Date=%{customdata[1]}<br>Temperature (F)=%{z:.4f}<br>Precipitation (inches)=%{customdata[3]:.4f}<br>Wind Speed (mph)=%{customdata[4]:.4f}<extra></extra>",
           "hovertext": [
            "Alabama (AL)",
            "Alaska (AK)",
            "Arizona (AZ)",
            "Arkansas (AR)",
            "California (CA)",
            "Colorado (CO)",
            "Connecticut (CT)",
            "Delaware (DE)",
            "Florida (FL)",
            "Georgia (GA)",
            "Hawaii (HI)",
            "Idaho (ID)",
            "Illinois (IL)",
            "Indiana (IN)",
            "Iowa (IA)",
            "Kansas (KS)",
            "Kentucky (KY)",
            "Louisiana (LA)",
            "Maine (ME)",
            "Maryland (MD)",
            "Massachusetts (MA)",
            "Michigan (MI)",
            "Minnesota (MN)",
            "Mississippi (MS)",
            "Missouri (MO)",
            "Montana (MT)",
            "Nebraska (NE)",
            "Nevada (NV)",
            "New Hampshire (NH)",
            "New Jersey (NJ)",
            "New Mexico (NM)",
            "New York (NY)",
            "North Carolina (NC)",
            "North Dakota (ND)",
            "Ohio (OH)",
            "Oklahoma (OK)",
            "Oregon (OR)",
            "Pennsylvania (PA)",
            "Rhode Island (RI)",
            "South Carolina (SC)",
            "South Dakota (SD)",
            "Tennessee (TN)",
            "Texas (TX)",
            "Utah (UT)",
            "Vermont (VT)",
            "Virginia (VA)",
            "Washington (WA)",
            "West Virginia (WV)",
            "Wisconsin (WI)",
            "Wyoming (WY)"
           ],
           "locationmode": "USA-states",
           "locations": [
            "AL",
            "AK",
            "AZ",
            "AR",
            "CA",
            "CO",
            "CT",
            "DE",
            "FL",
            "GA",
            "HI",
            "ID",
            "IL",
            "IN",
            "IA",
            "KS",
            "KY",
            "LA",
            "ME",
            "MD",
            "MA",
            "MI",
            "MN",
            "MS",
            "MO",
            "MT",
            "NE",
            "NV",
            "NH",
            "NJ",
            "NM",
            "NY",
            "NC",
            "ND",
            "OH",
            "OK",
            "OR",
            "PA",
            "RI",
            "SC",
            "SD",
            "TN",
            "TX",
            "UT",
            "VT",
            "VA",
            "WA",
            "WV",
            "WI",
            "WY"
           ],
           "name": "",
           "type": "choropleth",
           "z": [
            68.75,
            35.15151515151515,
            63.4,
            66,
            60.31578947368421,
            48.666666666666664,
            52.5,
            50,
            74.33333333333333,
            66.16666666666667,
            77.4,
            48.666666666666664,
            59.166666666666664,
            58,
            55.8,
            59.666666666666664,
            61,
            72.8,
            40,
            55,
            52,
            51.22222222222222,
            50.4,
            68.14285714285714,
            61.42857142857143,
            46.27272727272727,
            53.875,
            51.333333333333336,
            52,
            55,
            57.666666666666664,
            49.375,
            60.857142857142854,
            50,
            56.285714285714285,
            65.5,
            52.25,
            52.285714285714285,
            50,
            64,
            53.6,
            63.75,
            70.95833333333333,
            49,
            44,
            58.714285714285715,
            50.57142857142857,
            56.25,
            54.75,
            45.4
           ]
          }
         ],
         "name": "2016-11-06"
        },
        {
         "data": [
          {
           "coloraxis": "coloraxis",
           "customdata": [
            [
             "AL",
             "2016-11-13",
             59.5,
             0.1275,
             4.7725
            ],
            [
             "AK",
             "2016-11-13",
             34.25,
             1.1953125,
             8.355625
            ],
            [
             "AZ",
             "2016-11-13",
             62,
             0,
             5.618
            ],
            [
             "AR",
             "2016-11-13",
             55.333333333333336,
             0.14,
             2.393333333333333
            ],
            [
             "CA",
             "2016-11-13",
             64.61111111111111,
             0.026666666666666665,
             2.2488888888888887
            ],
            [
             "CO",
             "2016-11-13",
             45.833333333333336,
             0,
             3.2583333333333333
            ],
            [
             "CT",
             "2016-11-13",
             46.5,
             0.005,
             5.505
            ],
            [
             "DE",
             "2016-11-13",
             48,
             0.36,
             5.82
            ],
            [
             "FL",
             "2016-11-13",
             69.5,
             0.030833333333333334,
             5.179166666666666
            ],
            [
             "GA",
             "2016-11-13",
             56.166666666666664,
             0.055,
             4.711666666666667
            ],
            [
             "HI",
             "2016-11-13",
             75,
             0.078,
             4.522
            ],
            [
             "ID",
             "2016-11-13",
             51,
             0.006666666666666667,
             3.0366666666666666
            ],
            [
             "IL",
             "2016-11-13",
             48.166666666666664,
             0.06,
             6.12
            ],
            [
             "IN",
             "2016-11-13",
             47.25,
             0.08,
             5.7225
            ],
            [
             "IA",
             "2016-11-13",
             46.6,
             0.002,
             7.279999999999999
            ],
            [
             "KS",
             "2016-11-13",
             49.5,
             0.15333333333333335,
             6.53
            ],
            [
             "KY",
             "2016-11-13",
             49.6,
             0.134,
             3.5740000000000003
            ],
            [
             "LA",
             "2016-11-13",
             63.4,
             0.8160000000000001,
             5.684
            ],
            [
             "ME",
             "2016-11-13",
             40.666666666666664,
             0.043333333333333335,
             6.036666666666666
            ],
            [
             "MD",
             "2016-11-13",
             48,
             0.12000000000000001,
             4.9
            ],
            [
             "MA",
             "2016-11-13",
             45,
             0.005,
             8.99
            ],
            [
             "MI",
             "2016-11-13",
             46.22222222222222,
             0.044444444444444446,
             7.492222222222223
            ],
            [
             "MN",
             "2016-11-13",
             46.4,
             0,
             8.808
            ],
            [
             "MS",
             "2016-11-13",
             58.42857142857143,
             0.7999999999999999,
             3.8185714285714285
            ],
            [
             "MO",
             "2016-11-13",
             49.857142857142854,
             0.14714285714285716,
             5.324285714285714
            ],
            [
             "MT",
             "2016-11-13",
             46.72727272727273,
             0.002727272727272727,
             5.949090909090909
            ],
            [
             "NE",
             "2016-11-13",
             47,
             0.09375,
             6.55375
            ],
            [
             "NV",
             "2016-11-13",
             54.666666666666664,
             0,
             3.0849999999999995
            ],
            [
             "NH",
             "2016-11-13",
             51.5,
             0.005,
             19.985
            ],
            [
             "NJ",
             "2016-11-13",
             49,
             0.135,
             6.91
            ],
            [
             "NM",
             "2016-11-13",
             50.666666666666664,
             0,
             5.1866666666666665
            ],
            [
             "NY",
             "2016-11-13",
             44.875,
             0.11875,
             7.3925
            ],
            [
             "NC",
             "2016-11-13",
             51,
             0.21,
             4.787142857142858
            ],
            [
             "ND",
             "2016-11-13",
             45,
             0,
             8.006
            ],
            [
             "OH",
             "2016-11-13",
             46.142857142857146,
             0.2785714285714286,
             7.105714285714286
            ],
            [
             "OK",
             "2016-11-13",
             54.25,
             0.645,
             5.835
            ],
            [
             "OR",
             "2016-11-13",
             52.75,
             0.32,
             2.955
            ],
            [
             "PA",
             "2016-11-13",
             46.857142857142854,
             0.2571428571428572,
             5.682857142857143
            ],
            [
             "RI",
             "2016-11-13",
             46,
             0,
             6
            ],
            [
             "SC",
             "2016-11-13",
             54,
             0.3625,
             3.99
            ],
            [
             "SD",
             "2016-11-13",
             47.6,
             0.004,
             7.218000000000001
            ],
            [
             "TN",
             "2016-11-13",
             52.125,
             0.0175,
             2.92875
            ],
            [
             "TX",
             "2016-11-13",
             62.125,
             0.8745833333333334,
             5.93625
            ],
            [
             "UT",
             "2016-11-13",
             53,
             0,
             1.3
            ],
            [
             "VT",
             "2016-11-13",
             41,
             0.09,
             6.51
            ],
            [
             "VA",
             "2016-11-13",
             50.57142857142857,
             0.07428571428571429,
             5.177142857142857
            ],
            [
             "WA",
             "2016-11-13",
             51.142857142857146,
             1.18,
             4.751428571428571
            ],
            [
             "WV",
             "2016-11-13",
             47,
             0.3325,
             3.39
            ],
            [
             "WI",
             "2016-11-13",
             48,
             0.0275,
             7.7375
            ],
            [
             "WY",
             "2016-11-13",
             46,
             0,
             4.864
            ]
           ],
           "geo": "geo",
           "hovertemplate": "<b>%{hovertext}</b><br><br>Date=%{customdata[1]}<br>Temperature (F)=%{z:.4f}<br>Precipitation (inches)=%{customdata[3]:.4f}<br>Wind Speed (mph)=%{customdata[4]:.4f}<extra></extra>",
           "hovertext": [
            "Alabama (AL)",
            "Alaska (AK)",
            "Arizona (AZ)",
            "Arkansas (AR)",
            "California (CA)",
            "Colorado (CO)",
            "Connecticut (CT)",
            "Delaware (DE)",
            "Florida (FL)",
            "Georgia (GA)",
            "Hawaii (HI)",
            "Idaho (ID)",
            "Illinois (IL)",
            "Indiana (IN)",
            "Iowa (IA)",
            "Kansas (KS)",
            "Kentucky (KY)",
            "Louisiana (LA)",
            "Maine (ME)",
            "Maryland (MD)",
            "Massachusetts (MA)",
            "Michigan (MI)",
            "Minnesota (MN)",
            "Mississippi (MS)",
            "Missouri (MO)",
            "Montana (MT)",
            "Nebraska (NE)",
            "Nevada (NV)",
            "New Hampshire (NH)",
            "New Jersey (NJ)",
            "New Mexico (NM)",
            "New York (NY)",
            "North Carolina (NC)",
            "North Dakota (ND)",
            "Ohio (OH)",
            "Oklahoma (OK)",
            "Oregon (OR)",
            "Pennsylvania (PA)",
            "Rhode Island (RI)",
            "South Carolina (SC)",
            "South Dakota (SD)",
            "Tennessee (TN)",
            "Texas (TX)",
            "Utah (UT)",
            "Vermont (VT)",
            "Virginia (VA)",
            "Washington (WA)",
            "West Virginia (WV)",
            "Wisconsin (WI)",
            "Wyoming (WY)"
           ],
           "locationmode": "USA-states",
           "locations": [
            "AL",
            "AK",
            "AZ",
            "AR",
            "CA",
            "CO",
            "CT",
            "DE",
            "FL",
            "GA",
            "HI",
            "ID",
            "IL",
            "IN",
            "IA",
            "KS",
            "KY",
            "LA",
            "ME",
            "MD",
            "MA",
            "MI",
            "MN",
            "MS",
            "MO",
            "MT",
            "NE",
            "NV",
            "NH",
            "NJ",
            "NM",
            "NY",
            "NC",
            "ND",
            "OH",
            "OK",
            "OR",
            "PA",
            "RI",
            "SC",
            "SD",
            "TN",
            "TX",
            "UT",
            "VT",
            "VA",
            "WA",
            "WV",
            "WI",
            "WY"
           ],
           "name": "",
           "type": "choropleth",
           "z": [
            59.5,
            34.25,
            62,
            55.333333333333336,
            64.61111111111111,
            45.833333333333336,
            46.5,
            48,
            69.5,
            56.166666666666664,
            75,
            51,
            48.166666666666664,
            47.25,
            46.6,
            49.5,
            49.6,
            63.4,
            40.666666666666664,
            48,
            45,
            46.22222222222222,
            46.4,
            58.42857142857143,
            49.857142857142854,
            46.72727272727273,
            47,
            54.666666666666664,
            51.5,
            49,
            50.666666666666664,
            44.875,
            51,
            45,
            46.142857142857146,
            54.25,
            52.75,
            46.857142857142854,
            46,
            54,
            47.6,
            52.125,
            62.125,
            53,
            41,
            50.57142857142857,
            51.142857142857146,
            47,
            48,
            46
           ]
          }
         ],
         "name": "2016-11-13"
        },
        {
         "data": [
          {
           "coloraxis": "coloraxis",
           "customdata": [
            [
             "AL",
             "2016-11-20",
             56.75,
             0.052500000000000005,
             3.925
            ],
            [
             "AK",
             "2016-11-20",
             26.46875,
             0.2459375,
             5.7784375
            ],
            [
             "AZ",
             "2016-11-20",
             58.4,
             0.006,
             4.54
            ],
            [
             "AR",
             "2016-11-20",
             55.666666666666664,
             0.11333333333333334,
             3.44
            ],
            [
             "CA",
             "2016-11-20",
             56.05555555555556,
             0.755,
             4.072777777777778
            ],
            [
             "CO",
             "2016-11-20",
             41.833333333333336,
             0.09333333333333334,
             4.166666666666667
            ],
            [
             "CT",
             "2016-11-20",
             48,
             1.355,
             6.595
            ],
            [
             "DE",
             "2016-11-20",
             49,
             0.08,
             7.14
            ],
            [
             "FL",
             "2016-11-20",
             65.75,
             0.057499999999999996,
             5.078333333333333
            ],
            [
             "GA",
             "2016-11-20",
             56,
             0,
             3.6933333333333334
            ],
            [
             "HI",
             "2016-11-20",
             77.6,
             0.592,
             12.956
            ],
            [
             "ID",
             "2016-11-20",
             42.666666666666664,
             0.17333333333333334,
             5.296666666666667
            ],
            [
             "IL",
             "2016-11-20",
             47.166666666666664,
             0.041666666666666664,
             8.786666666666667
            ],
            [
             "IN",
             "2016-11-20",
             47.75,
             0.645,
             7.2175
            ],
            [
             "IA",
             "2016-11-20",
             44,
             0.074,
             9.6
            ],
            [
             "KS",
             "2016-11-20",
             49.5,
             0.016666666666666666,
             8.653333333333334
            ],
            [
             "KY",
             "2016-11-20",
             51,
             0.202,
             5.968
            ],
            [
             "LA",
             "2016-11-20",
             60.4,
             0.15599999999999997,
             4.1240000000000006
            ],
            [
             "ME",
             "2016-11-20",
             45,
             1.4633333333333332,
             5.533333333333334
            ],
            [
             "MD",
             "2016-11-20",
             48.5,
             0.06999999999999999,
             6.16
            ],
            [
             "MA",
             "2016-11-20",
             48,
             1.365,
             8.705
            ],
            [
             "MI",
             "2016-11-20",
             43.888888888888886,
             0.2911111111111111,
             8.245555555555557
            ],
            [
             "MN",
             "2016-11-20",
             36.6,
             0.6900000000000001,
             8.224
            ],
            [
             "MS",
             "2016-11-20",
             57,
             0.27,
             3.87
            ],
            [
             "MO",
             "2016-11-20",
             51.142857142857146,
             0.054285714285714284,
             8.172857142857143
            ],
            [
             "MT",
             "2016-11-20",
             37.36363636363637,
             0.2081818181818182,
             4.757272727272727
            ],
            [
             "NE",
             "2016-11-20",
             41.25,
             0.20875,
             8.1625
            ],
            [
             "NV",
             "2016-11-20",
             45.833333333333336,
             0.065,
             6.035
            ],
            [
             "NH",
             "2016-11-20",
             53,
             0.415,
             10.4
            ],
            [
             "NJ",
             "2016-11-20",
             49,
             1.77,
             7.574999999999999
            ],
            [
             "NM",
             "2016-11-20",
             51.333333333333336,
             0,
             6.183333333333334
            ],
            [
             "NY",
             "2016-11-20",
             45.375,
             1.1925,
             6.44875
            ],
            [
             "NC",
             "2016-11-20",
             52,
             0.2414285714285714,
             4.411428571428571
            ],
            [
             "ND",
             "2016-11-20",
             35,
             0.052000000000000005,
             9.129999999999999
            ],
            [
             "OH",
             "2016-11-20",
             46.42857142857143,
             0.3,
             9.112857142857143
            ],
            [
             "OK",
             "2016-11-20",
             55.25,
             0,
             8.935
            ],
            [
             "OR",
             "2016-11-20",
             45.875,
             1.30125,
             5.45375
            ],
            [
             "PA",
             "2016-11-20",
             46.857142857142854,
             0.31,
             6.777142857142857
            ],
            [
             "RI",
             "2016-11-20",
             49,
             1.31,
             6.88
            ],
            [
             "SC",
             "2016-11-20",
             54,
             0,
             2.955
            ],
            [
             "SD",
             "2016-11-20",
             36.6,
             0.27599999999999997,
             9.588
            ],
            [
             "TN",
             "2016-11-20",
             51.375,
             0.22874999999999998,
             3.61125
            ],
            [
             "TX",
             "2016-11-20",
             61.083333333333336,
             0.21833333333333335,
             7.267083333333333
            ],
            [
             "UT",
             "2016-11-20",
             49,
             0.12,
             7.82
            ],
            [
             "VT",
             "2016-11-20",
             45,
             0.94,
             3.15
            ],
            [
             "VA",
             "2016-11-20",
             49.857142857142854,
             0.09,
             5.477142857142858
            ],
            [
             "WA",
             "2016-11-20",
             43.142857142857146,
             1.2757142857142856,
             5.368571428571428
            ],
            [
             "WV",
             "2016-11-20",
             45.5,
             0.1625,
             3.9325
            ],
            [
             "WI",
             "2016-11-20",
             44.25,
             0.0275,
             7.5525
            ],
            [
             "WY",
             "2016-11-20",
             37.8,
             0.51,
             8.946
            ]
           ],
           "geo": "geo",
           "hovertemplate": "<b>%{hovertext}</b><br><br>Date=%{customdata[1]}<br>Temperature (F)=%{z:.4f}<br>Precipitation (inches)=%{customdata[3]:.4f}<br>Wind Speed (mph)=%{customdata[4]:.4f}<extra></extra>",
           "hovertext": [
            "Alabama (AL)",
            "Alaska (AK)",
            "Arizona (AZ)",
            "Arkansas (AR)",
            "California (CA)",
            "Colorado (CO)",
            "Connecticut (CT)",
            "Delaware (DE)",
            "Florida (FL)",
            "Georgia (GA)",
            "Hawaii (HI)",
            "Idaho (ID)",
            "Illinois (IL)",
            "Indiana (IN)",
            "Iowa (IA)",
            "Kansas (KS)",
            "Kentucky (KY)",
            "Louisiana (LA)",
            "Maine (ME)",
            "Maryland (MD)",
            "Massachusetts (MA)",
            "Michigan (MI)",
            "Minnesota (MN)",
            "Mississippi (MS)",
            "Missouri (MO)",
            "Montana (MT)",
            "Nebraska (NE)",
            "Nevada (NV)",
            "New Hampshire (NH)",
            "New Jersey (NJ)",
            "New Mexico (NM)",
            "New York (NY)",
            "North Carolina (NC)",
            "North Dakota (ND)",
            "Ohio (OH)",
            "Oklahoma (OK)",
            "Oregon (OR)",
            "Pennsylvania (PA)",
            "Rhode Island (RI)",
            "South Carolina (SC)",
            "South Dakota (SD)",
            "Tennessee (TN)",
            "Texas (TX)",
            "Utah (UT)",
            "Vermont (VT)",
            "Virginia (VA)",
            "Washington (WA)",
            "West Virginia (WV)",
            "Wisconsin (WI)",
            "Wyoming (WY)"
           ],
           "locationmode": "USA-states",
           "locations": [
            "AL",
            "AK",
            "AZ",
            "AR",
            "CA",
            "CO",
            "CT",
            "DE",
            "FL",
            "GA",
            "HI",
            "ID",
            "IL",
            "IN",
            "IA",
            "KS",
            "KY",
            "LA",
            "ME",
            "MD",
            "MA",
            "MI",
            "MN",
            "MS",
            "MO",
            "MT",
            "NE",
            "NV",
            "NH",
            "NJ",
            "NM",
            "NY",
            "NC",
            "ND",
            "OH",
            "OK",
            "OR",
            "PA",
            "RI",
            "SC",
            "SD",
            "TN",
            "TX",
            "UT",
            "VT",
            "VA",
            "WA",
            "WV",
            "WI",
            "WY"
           ],
           "name": "",
           "type": "choropleth",
           "z": [
            56.75,
            26.46875,
            58.4,
            55.666666666666664,
            56.05555555555556,
            41.833333333333336,
            48,
            49,
            65.75,
            56,
            77.6,
            42.666666666666664,
            47.166666666666664,
            47.75,
            44,
            49.5,
            51,
            60.4,
            45,
            48.5,
            48,
            43.888888888888886,
            36.6,
            57,
            51.142857142857146,
            37.36363636363637,
            41.25,
            45.833333333333336,
            53,
            49,
            51.333333333333336,
            45.375,
            52,
            35,
            46.42857142857143,
            55.25,
            45.875,
            46.857142857142854,
            49,
            54,
            36.6,
            51.375,
            61.083333333333336,
            49,
            45,
            49.857142857142854,
            43.142857142857146,
            45.5,
            44.25,
            37.8
           ]
          }
         ],
         "name": "2016-11-20"
        },
        {
         "data": [
          {
           "coloraxis": "coloraxis",
           "customdata": [
            [
             "AL",
             "2016-11-27",
             53,
             0.005,
             3.76
            ],
            [
             "AK",
             "2016-11-27",
             21.53125,
             0.5003124999999999,
             6.02
            ],
            [
             "AZ",
             "2016-11-27",
             52.4,
             0.198,
             5.148
            ],
            [
             "AR",
             "2016-11-27",
             48.333333333333336,
             0.4833333333333334,
             4.13
            ],
            [
             "CA",
             "2016-11-27",
             51.5,
             0.7511111111111111,
             3.488888888888889
            ],
            [
             "CO",
             "2016-11-27",
             37.333333333333336,
             0.38166666666666665,
             5.528333333333333
            ],
            [
             "CT",
             "2016-11-27",
             39,
             0.11,
             8.344999999999999
            ],
            [
             "DE",
             "2016-11-27",
             43,
             0,
             8.75
            ],
            [
             "FL",
             "2016-11-27",
             65.66666666666667,
             0.008333333333333333,
             5.315833333333333
            ],
            [
             "GA",
             "2016-11-27",
             54.5,
             0.013333333333333334,
             3.5849999999999995
            ],
            [
             "HI",
             "2016-11-27",
             76.4,
             1.114,
             13.556000000000001
            ],
            [
             "ID",
             "2016-11-27",
             40,
             0.09999999999999999,
             6.55
            ],
            [
             "IL",
             "2016-11-27",
             38.833333333333336,
             0.7183333333333334,
             7.658333333333334
            ],
            [
             "IN",
             "2016-11-27",
             39.75,
             0.7125,
             4.5825
            ],
            [
             "IA",
             "2016-11-27",
             37.6,
             1.372,
             8.392
            ],
            [
             "KS",
             "2016-11-27",
             46,
             0.11,
             8.778333333333334
            ],
            [
             "KY",
             "2016-11-27",
             42.2,
             0.254,
             4.18
            ],
            [
             "LA",
             "2016-11-27",
             58,
             0.64,
             4.298
            ],
            [
             "ME",
             "2016-11-27",
             34,
             0.7733333333333334,
             6.896666666666667
            ],
            [
             "MD",
             "2016-11-27",
             41.5,
             0,
             6.18
            ],
            [
             "MA",
             "2016-11-27",
             36.5,
             0.14,
             10.5
            ],
            [
             "MI",
             "2016-11-27",
             33.77777777777778,
             0.6233333333333334,
             5.713333333333334
            ],
            [
             "MN",
             "2016-11-27",
             31.8,
             0.8140000000000001,
             6.76
            ],
            [
             "MS",
             "2016-11-27",
             52,
             0.11142857142857143,
             3.69
            ],
            [
             "MO",
             "2016-11-27",
             43.42857142857143,
             0.33571428571428574,
             7.927142857142857
            ],
            [
             "MT",
             "2016-11-27",
             35.90909090909091,
             0.014545454545454545,
             6.404545454545455
            ],
            [
             "NE",
             "2016-11-27",
             37.875,
             0.37625,
             7.0275
            ],
            [
             "NV",
             "2016-11-27",
             40,
             0.15,
             5.241666666666667
            ],
            [
             "NH",
             "2016-11-27",
             47.5,
             0.155,
             17.310000000000002
            ],
            [
             "NJ",
             "2016-11-27",
             42.5,
             0.030000000000000002,
             8.995000000000001
            ],
            [
             "NM",
             "2016-11-27",
             45.666666666666664,
             0.12333333333333334,
             8.023333333333333
            ],
            [
             "NY",
             "2016-11-27",
             36.625,
             0.38375,
             8.185
            ],
            [
             "NC",
             "2016-11-27",
             48.285714285714285,
             0.025714285714285714,
             3.551428571428571
            ],
            [
             "ND",
             "2016-11-27",
             33.8,
             0.302,
             6.954000000000001
            ],
            [
             "OH",
             "2016-11-27",
             36.714285714285715,
             0.25,
             7.087142857142857
            ],
            [
             "OK",
             "2016-11-27",
             50.25,
             0.1,
             9.4125
            ],
            [
             "OR",
             "2016-11-27",
             44.75,
             2.33,
             7.1049999999999995
            ],
            [
             "PA",
             "2016-11-27",
             39.57142857142857,
             0.15714285714285717,
             7.421428571428572
            ],
            [
             "RI",
             "2016-11-27",
             40,
             0.16,
             8.72
            ],
            [
             "SC",
             "2016-11-27",
             52.5,
             0,
             2.9250000000000003
            ],
            [
             "SD",
             "2016-11-27",
             34,
             0.5740000000000001,
             5.998
            ],
            [
             "TN",
             "2016-11-27",
             46,
             0.10750000000000001,
             3.04875
            ],
            [
             "TX",
             "2016-11-27",
             59.875,
             0.21833333333333335,
             7.4745833333333325
            ],
            [
             "UT",
             "2016-11-27",
             43,
             1.27,
             5.04
            ],
            [
             "VT",
             "2016-11-27",
             34,
             0.26,
             6.41
            ],
            [
             "VA",
             "2016-11-27",
             44.42857142857143,
             0.02428571428571429,
             5.051428571428572
            ],
            [
             "WA",
             "2016-11-27",
             42.714285714285715,
             2.1742857142857144,
             5.334285714285714
            ],
            [
             "WV",
             "2016-11-27",
             39.25,
             0.0625,
             3.31
            ],
            [
             "WI",
             "2016-11-27",
             37,
             0.6075,
             6.1025
            ],
            [
             "WY",
             "2016-11-27",
             33.4,
             0.27599999999999997,
             8.132000000000001
            ]
           ],
           "geo": "geo",
           "hovertemplate": "<b>%{hovertext}</b><br><br>Date=%{customdata[1]}<br>Temperature (F)=%{z:.4f}<br>Precipitation (inches)=%{customdata[3]:.4f}<br>Wind Speed (mph)=%{customdata[4]:.4f}<extra></extra>",
           "hovertext": [
            "Alabama (AL)",
            "Alaska (AK)",
            "Arizona (AZ)",
            "Arkansas (AR)",
            "California (CA)",
            "Colorado (CO)",
            "Connecticut (CT)",
            "Delaware (DE)",
            "Florida (FL)",
            "Georgia (GA)",
            "Hawaii (HI)",
            "Idaho (ID)",
            "Illinois (IL)",
            "Indiana (IN)",
            "Iowa (IA)",
            "Kansas (KS)",
            "Kentucky (KY)",
            "Louisiana (LA)",
            "Maine (ME)",
            "Maryland (MD)",
            "Massachusetts (MA)",
            "Michigan (MI)",
            "Minnesota (MN)",
            "Mississippi (MS)",
            "Missouri (MO)",
            "Montana (MT)",
            "Nebraska (NE)",
            "Nevada (NV)",
            "New Hampshire (NH)",
            "New Jersey (NJ)",
            "New Mexico (NM)",
            "New York (NY)",
            "North Carolina (NC)",
            "North Dakota (ND)",
            "Ohio (OH)",
            "Oklahoma (OK)",
            "Oregon (OR)",
            "Pennsylvania (PA)",
            "Rhode Island (RI)",
            "South Carolina (SC)",
            "South Dakota (SD)",
            "Tennessee (TN)",
            "Texas (TX)",
            "Utah (UT)",
            "Vermont (VT)",
            "Virginia (VA)",
            "Washington (WA)",
            "West Virginia (WV)",
            "Wisconsin (WI)",
            "Wyoming (WY)"
           ],
           "locationmode": "USA-states",
           "locations": [
            "AL",
            "AK",
            "AZ",
            "AR",
            "CA",
            "CO",
            "CT",
            "DE",
            "FL",
            "GA",
            "HI",
            "ID",
            "IL",
            "IN",
            "IA",
            "KS",
            "KY",
            "LA",
            "ME",
            "MD",
            "MA",
            "MI",
            "MN",
            "MS",
            "MO",
            "MT",
            "NE",
            "NV",
            "NH",
            "NJ",
            "NM",
            "NY",
            "NC",
            "ND",
            "OH",
            "OK",
            "OR",
            "PA",
            "RI",
            "SC",
            "SD",
            "TN",
            "TX",
            "UT",
            "VT",
            "VA",
            "WA",
            "WV",
            "WI",
            "WY"
           ],
           "name": "",
           "type": "choropleth",
           "z": [
            53,
            21.53125,
            52.4,
            48.333333333333336,
            51.5,
            37.333333333333336,
            39,
            43,
            65.66666666666667,
            54.5,
            76.4,
            40,
            38.833333333333336,
            39.75,
            37.6,
            46,
            42.2,
            58,
            34,
            41.5,
            36.5,
            33.77777777777778,
            31.8,
            52,
            43.42857142857143,
            35.90909090909091,
            37.875,
            40,
            47.5,
            42.5,
            45.666666666666664,
            36.625,
            48.285714285714285,
            33.8,
            36.714285714285715,
            50.25,
            44.75,
            39.57142857142857,
            40,
            52.5,
            34,
            46,
            59.875,
            43,
            34,
            44.42857142857143,
            42.714285714285715,
            39.25,
            37,
            33.4
           ]
          }
         ],
         "name": "2016-11-27"
        },
        {
         "data": [
          {
           "coloraxis": "coloraxis",
           "customdata": [
            [
             "AL",
             "2016-12-04",
             50.25,
             1.1275,
             4.765
            ],
            [
             "AK",
             "2016-12-04",
             18.794117647058822,
             0.5202941176470589,
             7.726764705882353
            ],
            [
             "AZ",
             "2016-12-04",
             44.4,
             0.032,
             3.7960000000000003
            ],
            [
             "AR",
             "2016-12-04",
             45.333333333333336,
             0.35666666666666663,
             2.5233333333333334
            ],
            [
             "CA",
             "2016-12-04",
             49.77777777777778,
             0.003333333333333333,
             4.501666666666667
            ],
            [
             "CO",
             "2016-12-04",
             24.333333333333332,
             0.02,
             2.2049999999999996
            ],
            [
             "CT",
             "2016-12-04",
             42,
             0.16999999999999998,
             8.785
            ],
            [
             "DE",
             "2016-12-04",
             46,
             0.03,
             10.3
            ],
            [
             "FL",
             "2016-12-04",
             68.5,
             0.3025,
             6.784166666666667
            ],
            [
             "GA",
             "2016-12-04",
             51,
             0.7133333333333334,
             5.505
            ],
            [
             "HI",
             "2016-12-04",
             74.2,
             2.324,
             5.182
            ],
            [
             "ID",
             "2016-12-04",
             34.333333333333336,
             0.13,
             7.366666666666667
            ],
            [
             "IL",
             "2016-12-04",
             35.833333333333336,
             0.47,
             5.989999999999999
            ],
            [
             "IN",
             "2016-12-04",
             36.75,
             0.3075,
             6.6274999999999995
            ],
            [
             "IA",
             "2016-12-04",
             34.4,
             0.42000000000000004,
             7.231999999999999
            ],
            [
             "KS",
             "2016-12-04",
             35.833333333333336,
             0.32833333333333337,
             3.9283333333333332
            ],
            [
             "KY",
             "2016-12-04",
             40,
             0.118,
             4.122
            ],
            [
             "LA",
             "2016-12-04",
             54.6,
             2.976,
             6.662000000000001
            ],
            [
             "ME",
             "2016-12-04",
             33.333333333333336,
             1.08,
             6.580000000000001
            ],
            [
             "MD",
             "2016-12-04",
             45.5,
             0.135,
             8.475
            ],
            [
             "MA",
             "2016-12-04",
             39.666666666666664,
             0.30666666666666664,
             12.156666666666666
            ],
            [
             "MI",
             "2016-12-04",
             35.111111111111114,
             0.3844444444444444,
             6.835555555555556
            ],
            [
             "MN",
             "2016-12-04",
             30,
             0.174,
             7.242
            ],
            [
             "MS",
             "2016-12-04",
             49.714285714285715,
             1.092857142857143,
             3.9971428571428573
            ],
            [
             "MO",
             "2016-12-04",
             37.142857142857146,
             0.35000000000000003,
             4.385714285714285
            ],
            [
             "MT",
             "2016-12-04",
             30.272727272727273,
             0.07,
             7.614545454545455
            ],
            [
             "NE",
             "2016-12-04",
             31.125,
             0.13625,
             5.61875
            ],
            [
             "NV",
             "2016-12-04",
             34.166666666666664,
             0.01,
             5.166666666666667
            ],
            [
             "NH",
             "2016-12-04",
             28,
             1.6,
             24.035
            ],
            [
             "NJ",
             "2016-12-04",
             46,
             0.11499999999999999,
             11.42
            ],
            [
             "NM",
             "2016-12-04",
             36.666666666666664,
             0.06333333333333334,
             5.69
            ],
            [
             "NY",
             "2016-12-04",
             39.75,
             0.30000000000000004,
             10.20375
            ],
            [
             "NC",
             "2016-12-04",
             47.57142857142857,
             0.5357142857142857,
             4.821428571428571
            ],
            [
             "ND",
             "2016-12-04",
             27,
             0.044000000000000004,
             7.122
            ],
            [
             "OH",
             "2016-12-04",
             36.42857142857143,
             0.1542857142857143,
             9.325714285714286
            ],
            [
             "OK",
             "2016-12-04",
             43,
             0.31,
             3.8925
            ],
            [
             "OR",
             "2016-12-04",
             39.75,
             0.50875,
             5.07
            ],
            [
             "PA",
             "2016-12-04",
             42.714285714285715,
             0.22999999999999998,
             9.67
            ],
            [
             "RI",
             "2016-12-04",
             43,
             0.19,
             9.05
            ],
            [
             "SC",
             "2016-12-04",
             49.25,
             0.52,
             4.6775
            ],
            [
             "SD",
             "2016-12-04",
             30.2,
             0.002,
             6.192
            ],
            [
             "TN",
             "2016-12-04",
             41.875,
             0.83375,
             3.3112500000000002
            ],
            [
             "TX",
             "2016-12-04",
             51.291666666666664,
             1.7641666666666664,
             7.965416666666666
            ],
            [
             "UT",
             "2016-12-04",
             32,
             0.02,
             5.32
            ],
            [
             "VT",
             "2016-12-04",
             39,
             0.44,
             8.32
            ],
            [
             "VA",
             "2016-12-04",
             44.857142857142854,
             0.16285714285714287,
             6.661428571428572
            ],
            [
             "WA",
             "2016-12-04",
             38.142857142857146,
             0.6571428571428571,
             6.501428571428571
            ],
            [
             "WV",
             "2016-12-04",
             37.5,
             0.09,
             5.295
            ],
            [
             "WI",
             "2016-12-04",
             34.75,
             0.36,
             6.3725000000000005
            ],
            [
             "WY",
             "2016-12-04",
             25.6,
             0.012,
             8.372
            ]
           ],
           "geo": "geo",
           "hovertemplate": "<b>%{hovertext}</b><br><br>Date=%{customdata[1]}<br>Temperature (F)=%{z:.4f}<br>Precipitation (inches)=%{customdata[3]:.4f}<br>Wind Speed (mph)=%{customdata[4]:.4f}<extra></extra>",
           "hovertext": [
            "Alabama (AL)",
            "Alaska (AK)",
            "Arizona (AZ)",
            "Arkansas (AR)",
            "California (CA)",
            "Colorado (CO)",
            "Connecticut (CT)",
            "Delaware (DE)",
            "Florida (FL)",
            "Georgia (GA)",
            "Hawaii (HI)",
            "Idaho (ID)",
            "Illinois (IL)",
            "Indiana (IN)",
            "Iowa (IA)",
            "Kansas (KS)",
            "Kentucky (KY)",
            "Louisiana (LA)",
            "Maine (ME)",
            "Maryland (MD)",
            "Massachusetts (MA)",
            "Michigan (MI)",
            "Minnesota (MN)",
            "Mississippi (MS)",
            "Missouri (MO)",
            "Montana (MT)",
            "Nebraska (NE)",
            "Nevada (NV)",
            "New Hampshire (NH)",
            "New Jersey (NJ)",
            "New Mexico (NM)",
            "New York (NY)",
            "North Carolina (NC)",
            "North Dakota (ND)",
            "Ohio (OH)",
            "Oklahoma (OK)",
            "Oregon (OR)",
            "Pennsylvania (PA)",
            "Rhode Island (RI)",
            "South Carolina (SC)",
            "South Dakota (SD)",
            "Tennessee (TN)",
            "Texas (TX)",
            "Utah (UT)",
            "Vermont (VT)",
            "Virginia (VA)",
            "Washington (WA)",
            "West Virginia (WV)",
            "Wisconsin (WI)",
            "Wyoming (WY)"
           ],
           "locationmode": "USA-states",
           "locations": [
            "AL",
            "AK",
            "AZ",
            "AR",
            "CA",
            "CO",
            "CT",
            "DE",
            "FL",
            "GA",
            "HI",
            "ID",
            "IL",
            "IN",
            "IA",
            "KS",
            "KY",
            "LA",
            "ME",
            "MD",
            "MA",
            "MI",
            "MN",
            "MS",
            "MO",
            "MT",
            "NE",
            "NV",
            "NH",
            "NJ",
            "NM",
            "NY",
            "NC",
            "ND",
            "OH",
            "OK",
            "OR",
            "PA",
            "RI",
            "SC",
            "SD",
            "TN",
            "TX",
            "UT",
            "VT",
            "VA",
            "WA",
            "WV",
            "WI",
            "WY"
           ],
           "name": "",
           "type": "choropleth",
           "z": [
            50.25,
            18.794117647058822,
            44.4,
            45.333333333333336,
            49.77777777777778,
            24.333333333333332,
            42,
            46,
            68.5,
            51,
            74.2,
            34.333333333333336,
            35.833333333333336,
            36.75,
            34.4,
            35.833333333333336,
            40,
            54.6,
            33.333333333333336,
            45.5,
            39.666666666666664,
            35.111111111111114,
            30,
            49.714285714285715,
            37.142857142857146,
            30.272727272727273,
            31.125,
            34.166666666666664,
            28,
            46,
            36.666666666666664,
            39.75,
            47.57142857142857,
            27,
            36.42857142857143,
            43,
            39.75,
            42.714285714285715,
            43,
            49.25,
            30.2,
            41.875,
            51.291666666666664,
            32,
            39,
            44.857142857142854,
            38.142857142857146,
            37.5,
            34.75,
            25.6
           ]
          }
         ],
         "name": "2016-12-04"
        },
        {
         "data": [
          {
           "coloraxis": "coloraxis",
           "customdata": [
            [
             "AL",
             "2016-12-11",
             46.5,
             1.315,
             6.2125
            ],
            [
             "AK",
             "2016-12-11",
             16.470588235294116,
             0.14205882352941177,
             6.406176470588235
            ],
            [
             "AZ",
             "2016-12-11",
             50.4,
             0,
             3.024
            ],
            [
             "AR",
             "2016-12-11",
             37.333333333333336,
             0.4333333333333333,
             3.9299999999999997
            ],
            [
             "CA",
             "2016-12-11",
             51.111111111111114,
             0.7988888888888889,
             3.6205555555555557
            ],
            [
             "CO",
             "2016-12-11",
             23.666666666666668,
             0.14,
             4.203333333333333
            ],
            [
             "CT",
             "2016-12-11",
             34,
             0.4,
             5.155
            ],
            [
             "DE",
             "2016-12-11",
             37,
             0.78,
             7.74
            ],
            [
             "FL",
             "2016-12-11",
             66.91666666666667,
             1.6441666666666668,
             7.700833333333333
            ],
            [
             "GA",
             "2016-12-11",
             48.666666666666664,
             2.155,
             4.625
            ],
            [
             "HI",
             "2016-12-11",
             73.8,
             1.6019999999999999,
             3.314
            ],
            [
             "ID",
             "2016-12-11",
             24,
             0.64,
             4.526666666666666
            ],
            [
             "IL",
             "2016-12-11",
             27.333333333333332,
             0.29333333333333333,
             8.461666666666666
            ],
            [
             "IN",
             "2016-12-11",
             29.5,
             0.7150000000000001,
             8.1675
            ],
            [
             "IA",
             "2016-12-11",
             22.2,
             0.152,
             10.498
            ],
            [
             "KS",
             "2016-12-11",
             27.5,
             0.028333333333333332,
             8.143333333333333
            ],
            [
             "KY",
             "2016-12-11",
             34.2,
             1,
             5.256
            ],
            [
             "LA",
             "2016-12-11",
             51.2,
             1.33,
             7.0840000000000005
            ],
            [
             "ME",
             "2016-12-11",
             20.666666666666668,
             0.10333333333333333,
             4.516666666666667
            ],
            [
             "MD",
             "2016-12-11",
             37,
             1.2650000000000001,
             6.48
            ],
            [
             "MA",
             "2016-12-11",
             30.333333333333332,
             0.2866666666666667,
             7.233333333333333
            ],
            [
             "MI",
             "2016-12-11",
             27.22222222222222,
             0.6411111111111111,
             7.737777777777778
            ],
            [
             "MN",
             "2016-12-11",
             16.6,
             0.522,
             9.85
            ],
            [
             "MS",
             "2016-12-11",
             45.714285714285715,
             1.1199999999999999,
             6.231428571428571
            ],
            [
             "MO",
             "2016-12-11",
             30.428571428571427,
             0.19571428571428573,
             7.615714285714286
            ],
            [
             "MT",
             "2016-12-11",
             7,
             0.18999999999999997,
             6.876363636363636
            ],
            [
             "NE",
             "2016-12-11",
             19.75,
             0.05625,
             9.12875
            ],
            [
             "NV",
             "2016-12-11",
             36.166666666666664,
             0.33,
             3.2716666666666665
            ],
            [
             "NH",
             "2016-12-11",
             17,
             0.8200000000000001,
             21.74
            ],
            [
             "NJ",
             "2016-12-11",
             37,
             0.8700000000000001,
             7.225
            ],
            [
             "NM",
             "2016-12-11",
             37,
             0,
             4.446666666666666
            ],
            [
             "NY",
             "2016-12-11",
             31.375,
             0.59875,
             7.21
            ],
            [
             "NC",
             "2016-12-11",
             42,
             1.1714285714285713,
             4.081428571428572
            ],
            [
             "ND",
             "2016-12-11",
             4.6,
             0.40599999999999997,
             13.069999999999999
            ],
            [
             "OH",
             "2016-12-11",
             29.285714285714285,
             0.9328571428571429,
             9.455714285714285
            ],
            [
             "OK",
             "2016-12-11",
             34.75,
             0,
             9.1675
            ],
            [
             "OR",
             "2016-12-11",
             32.375,
             1.53875,
             5.3325
            ],
            [
             "PA",
             "2016-12-11",
             34,
             0.8157142857142857,
             7.401428571428572
            ],
            [
             "RI",
             "2016-12-11",
             33,
             0.34,
             5.11
            ],
            [
             "SC",
             "2016-12-11",
             45.75,
             1.6275,
             3.515
            ],
            [
             "SD",
             "2016-12-11",
             10,
             0.22800000000000004,
             13.175999999999998
            ],
            [
             "TN",
             "2016-12-11",
             38.75,
             1.4575,
             4.80375
            ],
            [
             "TX",
             "2016-12-11",
             46.541666666666664,
             0.36375,
             8.21125
            ],
            [
             "UT",
             "2016-12-11",
             33,
             0.73,
             2.27
            ],
            [
             "VT",
             "2016-12-11",
             29,
             0.31,
             6.54
            ],
            [
             "VA",
             "2016-12-11",
             39.142857142857146,
             1.67,
             5.605714285714286
            ],
            [
             "WA",
             "2016-12-11",
             27.714285714285715,
             1.0857142857142859,
             6.515714285714286
            ],
            [
             "WV",
             "2016-12-11",
             34,
             0.6825,
             4.8875
            ],
            [
             "WI",
             "2016-12-11",
             25.25,
             0.46,
             8.3825
            ],
            [
             "WY",
             "2016-12-11",
             12.8,
             0.178,
             7.226000000000001
            ]
           ],
           "geo": "geo",
           "hovertemplate": "<b>%{hovertext}</b><br><br>Date=%{customdata[1]}<br>Temperature (F)=%{z:.4f}<br>Precipitation (inches)=%{customdata[3]:.4f}<br>Wind Speed (mph)=%{customdata[4]:.4f}<extra></extra>",
           "hovertext": [
            "Alabama (AL)",
            "Alaska (AK)",
            "Arizona (AZ)",
            "Arkansas (AR)",
            "California (CA)",
            "Colorado (CO)",
            "Connecticut (CT)",
            "Delaware (DE)",
            "Florida (FL)",
            "Georgia (GA)",
            "Hawaii (HI)",
            "Idaho (ID)",
            "Illinois (IL)",
            "Indiana (IN)",
            "Iowa (IA)",
            "Kansas (KS)",
            "Kentucky (KY)",
            "Louisiana (LA)",
            "Maine (ME)",
            "Maryland (MD)",
            "Massachusetts (MA)",
            "Michigan (MI)",
            "Minnesota (MN)",
            "Mississippi (MS)",
            "Missouri (MO)",
            "Montana (MT)",
            "Nebraska (NE)",
            "Nevada (NV)",
            "New Hampshire (NH)",
            "New Jersey (NJ)",
            "New Mexico (NM)",
            "New York (NY)",
            "North Carolina (NC)",
            "North Dakota (ND)",
            "Ohio (OH)",
            "Oklahoma (OK)",
            "Oregon (OR)",
            "Pennsylvania (PA)",
            "Rhode Island (RI)",
            "South Carolina (SC)",
            "South Dakota (SD)",
            "Tennessee (TN)",
            "Texas (TX)",
            "Utah (UT)",
            "Vermont (VT)",
            "Virginia (VA)",
            "Washington (WA)",
            "West Virginia (WV)",
            "Wisconsin (WI)",
            "Wyoming (WY)"
           ],
           "locationmode": "USA-states",
           "locations": [
            "AL",
            "AK",
            "AZ",
            "AR",
            "CA",
            "CO",
            "CT",
            "DE",
            "FL",
            "GA",
            "HI",
            "ID",
            "IL",
            "IN",
            "IA",
            "KS",
            "KY",
            "LA",
            "ME",
            "MD",
            "MA",
            "MI",
            "MN",
            "MS",
            "MO",
            "MT",
            "NE",
            "NV",
            "NH",
            "NJ",
            "NM",
            "NY",
            "NC",
            "ND",
            "OH",
            "OK",
            "OR",
            "PA",
            "RI",
            "SC",
            "SD",
            "TN",
            "TX",
            "UT",
            "VT",
            "VA",
            "WA",
            "WV",
            "WI",
            "WY"
           ],
           "name": "",
           "type": "choropleth",
           "z": [
            46.5,
            16.470588235294116,
            50.4,
            37.333333333333336,
            51.111111111111114,
            23.666666666666668,
            34,
            37,
            66.91666666666667,
            48.666666666666664,
            73.8,
            24,
            27.333333333333332,
            29.5,
            22.2,
            27.5,
            34.2,
            51.2,
            20.666666666666668,
            37,
            30.333333333333332,
            27.22222222222222,
            16.6,
            45.714285714285715,
            30.428571428571427,
            7,
            19.75,
            36.166666666666664,
            17,
            37,
            37,
            31.375,
            42,
            4.6,
            29.285714285714285,
            34.75,
            32.375,
            34,
            33,
            45.75,
            10,
            38.75,
            46.541666666666664,
            33,
            29,
            39.142857142857146,
            27.714285714285715,
            34,
            25.25,
            12.8
           ]
          }
         ],
         "name": "2016-12-11"
        },
        {
         "data": [
          {
           "coloraxis": "coloraxis",
           "customdata": [
            [
             "AL",
             "2016-12-18",
             53.25,
             1.6375,
             7.1674999999999995
            ],
            [
             "AK",
             "2016-12-18",
             23.970588235294116,
             0.6014705882352941,
             7.562647058823529
            ],
            [
             "AZ",
             "2016-12-18",
             52.4,
             0.096,
             5.648000000000001
            ],
            [
             "AR",
             "2016-12-18",
             37,
             0.049999999999999996,
             3.83
            ],
            [
             "CA",
             "2016-12-18",
             49.888888888888886,
             1.2855555555555556,
             4.986111111111111
            ],
            [
             "CO",
             "2016-12-18",
             24.166666666666668,
             0.365,
             4.166666666666667
            ],
            [
             "CT",
             "2016-12-18",
             32,
             1.435,
             6.67
            ],
            [
             "DE",
             "2016-12-18",
             35,
             1.09,
             6.87
            ],
            [
             "FL",
             "2016-12-18",
             70.91666666666667,
             0.33666666666666667,
             5.6475
            ],
            [
             "GA",
             "2016-12-18",
             53,
             0.5883333333333334,
             4.876666666666666
            ],
            [
             "HI",
             "2016-12-18",
             71.4,
             1.112,
             6.37
            ],
            [
             "ID",
             "2016-12-18",
             21.333333333333332,
             0.8233333333333333,
             4.33
            ],
            [
             "IL",
             "2016-12-18",
             14.166666666666666,
             0.16833333333333333,
             8.27
            ],
            [
             "IN",
             "2016-12-18",
             19.5,
             0.52,
             7.8825
            ],
            [
             "IA",
             "2016-12-18",
             7.6,
             0.162,
             8.43
            ],
            [
             "KS",
             "2016-12-18",
             19.333333333333332,
             0.10333333333333333,
             8.041666666666666
            ],
            [
             "KY",
             "2016-12-18",
             33.2,
             2.5780000000000003,
             7.101999999999999
            ],
            [
             "LA",
             "2016-12-18",
             59.6,
             1.152,
             7.714
            ],
            [
             "ME",
             "2016-12-18",
             14.333333333333334,
             1.1933333333333334,
             5.466666666666666
            ],
            [
             "MD",
             "2016-12-18",
             37,
             0.75,
             6.1899999999999995
            ],
            [
             "MA",
             "2016-12-18",
             28.666666666666668,
             1.14,
             10.893333333333333
            ],
            [
             "MI",
             "2016-12-18",
             15.333333333333334,
             0.5866666666666667,
             8.068888888888889
            ],
            [
             "MN",
             "2016-12-18",
             -2,
             0.26,
             9.106
            ],
            [
             "MS",
             "2016-12-18",
             52.285714285714285,
             1.6742857142857144,
             8.201428571428572
            ],
            [
             "MO",
             "2016-12-18",
             23.142857142857142,
             0.06714285714285714,
             7.462857142857142
            ],
            [
             "MT",
             "2016-12-18",
             2.1818181818181817,
             0.3018181818181818,
             7.587272727272728
            ],
            [
             "NE",
             "2016-12-18",
             11.875,
             0.10125,
             7.77375
            ],
            [
             "NV",
             "2016-12-18",
             37.166666666666664,
             0.38833333333333336,
             5.885000000000001
            ],
            [
             "NH",
             "2016-12-18",
             12,
             1.8599999999999999,
             27.39
            ],
            [
             "NJ",
             "2016-12-18",
             35,
             1.33,
             7.5600000000000005
            ],
            [
             "NM",
             "2016-12-18",
             39.333333333333336,
             0.08333333333333333,
             7.3566666666666665
            ],
            [
             "NY",
             "2016-12-18",
             26.5,
             1.50375,
             8.96625
            ],
            [
             "NC",
             "2016-12-18",
             43.42857142857143,
             0.6942857142857142,
             5.302857142857143
            ],
            [
             "ND",
             "2016-12-18",
             -2.8,
             0.046,
             9.618
            ],
            [
             "OH",
             "2016-12-18",
             21,
             1.1385714285714286,
             8.767142857142856
            ],
            [
             "OK",
             "2016-12-18",
             29.25,
             0.0125,
             9.985
            ],
            [
             "OR",
             "2016-12-18",
             27.75,
             0.895,
             4.04
            ],
            [
             "PA",
             "2016-12-18",
             29.142857142857142,
             1.3214285714285714,
             7.597142857142857
            ],
            [
             "RI",
             "2016-12-18",
             31,
             1.08,
             6.65
            ],
            [
             "SC",
             "2016-12-18",
             48.5,
             0.4575,
             4.535
            ],
            [
             "SD",
             "2016-12-18",
             0.2,
             0.38,
             9.138
            ],
            [
             "TN",
             "2016-12-18",
             39.5,
             2.00875,
             5.9174999999999995
            ],
            [
             "TX",
             "2016-12-18",
             50.125,
             0.06375,
             8.260833333333332
            ],
            [
             "UT",
             "2016-12-18",
             33,
             0.37,
             4.55
            ],
            [
             "VT",
             "2016-12-18",
             23,
             1.05,
             7.35
            ],
            [
             "VA",
             "2016-12-18",
             39.714285714285715,
             0.4114285714285714,
             6.061428571428571
            ],
            [
             "WA",
             "2016-12-18",
             21.714285714285715,
             0.19142857142857142,
             5.0928571428571425
            ],
            [
             "WV",
             "2016-12-18",
             35,
             1.97,
             6.092499999999999
            ],
            [
             "WI",
             "2016-12-18",
             9,
             0.48250000000000004,
             8.375
            ],
            [
             "WY",
             "2016-12-18",
             13.4,
             0.32999999999999996,
             9.18
            ]
           ],
           "geo": "geo",
           "hovertemplate": "<b>%{hovertext}</b><br><br>Date=%{customdata[1]}<br>Temperature (F)=%{z:.4f}<br>Precipitation (inches)=%{customdata[3]:.4f}<br>Wind Speed (mph)=%{customdata[4]:.4f}<extra></extra>",
           "hovertext": [
            "Alabama (AL)",
            "Alaska (AK)",
            "Arizona (AZ)",
            "Arkansas (AR)",
            "California (CA)",
            "Colorado (CO)",
            "Connecticut (CT)",
            "Delaware (DE)",
            "Florida (FL)",
            "Georgia (GA)",
            "Hawaii (HI)",
            "Idaho (ID)",
            "Illinois (IL)",
            "Indiana (IN)",
            "Iowa (IA)",
            "Kansas (KS)",
            "Kentucky (KY)",
            "Louisiana (LA)",
            "Maine (ME)",
            "Maryland (MD)",
            "Massachusetts (MA)",
            "Michigan (MI)",
            "Minnesota (MN)",
            "Mississippi (MS)",
            "Missouri (MO)",
            "Montana (MT)",
            "Nebraska (NE)",
            "Nevada (NV)",
            "New Hampshire (NH)",
            "New Jersey (NJ)",
            "New Mexico (NM)",
            "New York (NY)",
            "North Carolina (NC)",
            "North Dakota (ND)",
            "Ohio (OH)",
            "Oklahoma (OK)",
            "Oregon (OR)",
            "Pennsylvania (PA)",
            "Rhode Island (RI)",
            "South Carolina (SC)",
            "South Dakota (SD)",
            "Tennessee (TN)",
            "Texas (TX)",
            "Utah (UT)",
            "Vermont (VT)",
            "Virginia (VA)",
            "Washington (WA)",
            "West Virginia (WV)",
            "Wisconsin (WI)",
            "Wyoming (WY)"
           ],
           "locationmode": "USA-states",
           "locations": [
            "AL",
            "AK",
            "AZ",
            "AR",
            "CA",
            "CO",
            "CT",
            "DE",
            "FL",
            "GA",
            "HI",
            "ID",
            "IL",
            "IN",
            "IA",
            "KS",
            "KY",
            "LA",
            "ME",
            "MD",
            "MA",
            "MI",
            "MN",
            "MS",
            "MO",
            "MT",
            "NE",
            "NV",
            "NH",
            "NJ",
            "NM",
            "NY",
            "NC",
            "ND",
            "OH",
            "OK",
            "OR",
            "PA",
            "RI",
            "SC",
            "SD",
            "TN",
            "TX",
            "UT",
            "VT",
            "VA",
            "WA",
            "WV",
            "WI",
            "WY"
           ],
           "name": "",
           "type": "choropleth",
           "z": [
            53.25,
            23.970588235294116,
            52.4,
            37,
            49.888888888888886,
            24.166666666666668,
            32,
            35,
            70.91666666666667,
            53,
            71.4,
            21.333333333333332,
            14.166666666666666,
            19.5,
            7.6,
            19.333333333333332,
            33.2,
            59.6,
            14.333333333333334,
            37,
            28.666666666666668,
            15.333333333333334,
            -2,
            52.285714285714285,
            23.142857142857142,
            2.1818181818181817,
            11.875,
            37.166666666666664,
            12,
            35,
            39.333333333333336,
            26.5,
            43.42857142857143,
            -2.8,
            21,
            29.25,
            27.75,
            29.142857142857142,
            31,
            48.5,
            0.2,
            39.5,
            50.125,
            33,
            23,
            39.714285714285715,
            21.714285714285715,
            35,
            9,
            13.4
           ]
          }
         ],
         "name": "2016-12-18"
        },
        {
         "data": [
          {
           "coloraxis": "coloraxis",
           "customdata": [
            [
             "AL",
             "2016-12-25",
             51.75,
             0,
             5.365
            ],
            [
             "AK",
             "2016-12-25",
             26.08823529411765,
             0.5011764705882352,
             6.697647058823529
            ],
            [
             "AZ",
             "2016-12-25",
             47.8,
             1.0139999999999998,
             4.984
            ],
            [
             "AR",
             "2016-12-25",
             42,
             0.7766666666666667,
             3.2300000000000004
            ],
            [
             "CA",
             "2016-12-25",
             46.77777777777778,
             0.8811111111111111,
             4.41611111111111
            ],
            [
             "CO",
             "2016-12-25",
             29,
             0.32666666666666666,
             4.28
            ],
            [
             "CT",
             "2016-12-25",
             32.5,
             0.49,
             5.17
            ],
            [
             "DE",
             "2016-12-25",
             36,
             0.37,
             4.61
            ],
            [
             "FL",
             "2016-12-25",
             68.33333333333333,
             0.4841666666666667,
             6.416666666666667
            ],
            [
             "GA",
             "2016-12-25",
             52.166666666666664,
             0.38166666666666665,
             3.9250000000000003
            ],
            [
             "HI",
             "2016-12-25",
             72,
             0.488,
             9.424000000000001
            ],
            [
             "ID",
             "2016-12-25",
             23,
             0.45,
             6.79
            ],
            [
             "IL",
             "2016-12-25",
             28.833333333333332,
             0.22833333333333336,
             8.03
            ],
            [
             "IN",
             "2016-12-25",
             28.75,
             0.3075,
             6.7075
            ],
            [
             "IA",
             "2016-12-25",
             28.2,
             0.76,
             9.197999999999999
            ],
            [
             "KS",
             "2016-12-25",
             34.166666666666664,
             0.3,
             7.608333333333333
            ],
            [
             "KY",
             "2016-12-25",
             36.2,
             0.732,
             3.844
            ],
            [
             "LA",
             "2016-12-25",
             57.2,
             0.026000000000000002,
             6.106
            ],
            [
             "ME",
             "2016-12-25",
             22,
             0.14333333333333334,
             6.03
            ],
            [
             "MD",
             "2016-12-25",
             36.5,
             0.46,
             3.785
            ],
            [
             "MA",
             "2016-12-25",
             31.333333333333332,
             0.43333333333333335,
             8.96
            ],
            [
             "MI",
             "2016-12-25",
             27.11111111111111,
             0.3133333333333333,
             8.085555555555555
            ],
            [
             "MN",
             "2016-12-25",
             25.2,
             0.866,
             10.568000000000001
            ],
            [
             "MS",
             "2016-12-25",
             50.714285714285715,
             0.008571428571428572,
             5.72
            ],
            [
             "MO",
             "2016-12-25",
             34.857142857142854,
             0.3585714285714286,
             6.37
            ],
            [
             "MT",
             "2016-12-25",
             21.181818181818183,
             0.17545454545454545,
             9.677272727272728
            ],
            [
             "NE",
             "2016-12-25",
             30.625,
             0.61375,
             8.3725
            ],
            [
             "NV",
             "2016-12-25",
             32,
             0.525,
             4.121666666666666
            ],
            [
             "NH",
             "2016-12-25",
             17,
             0.34500000000000003,
             25.61
            ],
            [
             "NJ",
             "2016-12-25",
             36,
             0.5,
             6.125
            ],
            [
             "NM",
             "2016-12-25",
             39.333333333333336,
             0.18333333333333335,
             6.703333333333333
            ],
            [
             "NY",
             "2016-12-25",
             30.125,
             0.24625,
             6.57125
            ],
            [
             "NC",
             "2016-12-25",
             46.142857142857146,
             0.20142857142857143,
             4.767142857142858
            ],
            [
             "ND",
             "2016-12-25",
             21.6,
             0.5660000000000001,
             11.814
            ],
            [
             "OH",
             "2016-12-25",
             29.571428571428573,
             0.12571428571428572,
             7.32
            ],
            [
             "OK",
             "2016-12-25",
             39.75,
             0.14750000000000002,
             6.82
            ],
            [
             "OR",
             "2016-12-25",
             32.125,
             1.0975,
             3.72875
            ],
            [
             "PA",
             "2016-12-25",
             32,
             0.16857142857142857,
             4.88
            ],
            [
             "RI",
             "2016-12-25",
             33,
             0.42,
             5.18
            ],
            [
             "SC",
             "2016-12-25",
             50.25,
             0.075,
             4.7925
            ],
            [
             "SD",
             "2016-12-25",
             24.2,
             0.884,
             10.072
            ],
            [
             "TN",
             "2016-12-25",
             43,
             0.99375,
             3.39375
            ],
            [
             "TX",
             "2016-12-25",
             53.083333333333336,
             0.08041666666666666,
             7.453333333333333
            ],
            [
             "UT",
             "2016-12-25",
             30,
             0.86,
             2.65
            ],
            [
             "VT",
             "2016-12-25",
             28,
             0.13,
             8.88
            ],
            [
             "VA",
             "2016-12-25",
             40.142857142857146,
             0.4857142857142857,
             3.9957142857142856
            ],
            [
             "WA",
             "2016-12-25",
             30.714285714285715,
             1.2542857142857142,
             4.722857142857143
            ],
            [
             "WV",
             "2016-12-25",
             37.25,
             0.615,
             3.085
            ],
            [
             "WI",
             "2016-12-25",
             27.5,
             0.635,
             8.4925
            ],
            [
             "WY",
             "2016-12-25",
             25,
             0.284,
             9.626000000000001
            ]
           ],
           "geo": "geo",
           "hovertemplate": "<b>%{hovertext}</b><br><br>Date=%{customdata[1]}<br>Temperature (F)=%{z:.4f}<br>Precipitation (inches)=%{customdata[3]:.4f}<br>Wind Speed (mph)=%{customdata[4]:.4f}<extra></extra>",
           "hovertext": [
            "Alabama (AL)",
            "Alaska (AK)",
            "Arizona (AZ)",
            "Arkansas (AR)",
            "California (CA)",
            "Colorado (CO)",
            "Connecticut (CT)",
            "Delaware (DE)",
            "Florida (FL)",
            "Georgia (GA)",
            "Hawaii (HI)",
            "Idaho (ID)",
            "Illinois (IL)",
            "Indiana (IN)",
            "Iowa (IA)",
            "Kansas (KS)",
            "Kentucky (KY)",
            "Louisiana (LA)",
            "Maine (ME)",
            "Maryland (MD)",
            "Massachusetts (MA)",
            "Michigan (MI)",
            "Minnesota (MN)",
            "Mississippi (MS)",
            "Missouri (MO)",
            "Montana (MT)",
            "Nebraska (NE)",
            "Nevada (NV)",
            "New Hampshire (NH)",
            "New Jersey (NJ)",
            "New Mexico (NM)",
            "New York (NY)",
            "North Carolina (NC)",
            "North Dakota (ND)",
            "Ohio (OH)",
            "Oklahoma (OK)",
            "Oregon (OR)",
            "Pennsylvania (PA)",
            "Rhode Island (RI)",
            "South Carolina (SC)",
            "South Dakota (SD)",
            "Tennessee (TN)",
            "Texas (TX)",
            "Utah (UT)",
            "Vermont (VT)",
            "Virginia (VA)",
            "Washington (WA)",
            "West Virginia (WV)",
            "Wisconsin (WI)",
            "Wyoming (WY)"
           ],
           "locationmode": "USA-states",
           "locations": [
            "AL",
            "AK",
            "AZ",
            "AR",
            "CA",
            "CO",
            "CT",
            "DE",
            "FL",
            "GA",
            "HI",
            "ID",
            "IL",
            "IN",
            "IA",
            "KS",
            "KY",
            "LA",
            "ME",
            "MD",
            "MA",
            "MI",
            "MN",
            "MS",
            "MO",
            "MT",
            "NE",
            "NV",
            "NH",
            "NJ",
            "NM",
            "NY",
            "NC",
            "ND",
            "OH",
            "OK",
            "OR",
            "PA",
            "RI",
            "SC",
            "SD",
            "TN",
            "TX",
            "UT",
            "VT",
            "VA",
            "WA",
            "WV",
            "WI",
            "WY"
           ],
           "name": "",
           "type": "choropleth",
           "z": [
            51.75,
            26.08823529411765,
            47.8,
            42,
            46.77777777777778,
            29,
            32.5,
            36,
            68.33333333333333,
            52.166666666666664,
            72,
            23,
            28.833333333333332,
            28.75,
            28.2,
            34.166666666666664,
            36.2,
            57.2,
            22,
            36.5,
            31.333333333333332,
            27.11111111111111,
            25.2,
            50.714285714285715,
            34.857142857142854,
            21.181818181818183,
            30.625,
            32,
            17,
            36,
            39.333333333333336,
            30.125,
            46.142857142857146,
            21.6,
            29.571428571428573,
            39.75,
            32.125,
            32,
            33,
            50.25,
            24.2,
            43,
            53.083333333333336,
            30,
            28,
            40.142857142857146,
            30.714285714285715,
            37.25,
            27.5,
            25
           ]
          }
         ],
         "name": "2016-12-25"
        }
       ],
       "layout": {
        "coloraxis": {
         "cmax": 65,
         "cmin": 50,
         "colorbar": {
          "title": {
           "text": "Temperature (F)"
          }
         },
         "colorscale": [
          [
           0,
           "#0d0887"
          ],
          [
           0.1111111111111111,
           "#46039f"
          ],
          [
           0.2222222222222222,
           "#7201a8"
          ],
          [
           0.3333333333333333,
           "#9c179e"
          ],
          [
           0.4444444444444444,
           "#bd3786"
          ],
          [
           0.5555555555555556,
           "#d8576b"
          ],
          [
           0.6666666666666666,
           "#ed7953"
          ],
          [
           0.7777777777777778,
           "#fb9f3a"
          ],
          [
           0.8888888888888888,
           "#fdca26"
          ],
          [
           1,
           "#f0f921"
          ]
         ]
        },
        "geo": {
         "center": {},
         "domain": {
          "x": [
           0,
           1
          ],
          "y": [
           0,
           1
          ]
         },
         "scope": "usa"
        },
        "legend": {
         "tracegroupgap": 0
        },
        "sliders": [
         {
          "active": 0,
          "currentvalue": {
           "prefix": "Date="
          },
          "len": 0.9,
          "pad": {
           "b": 10,
           "t": 60
          },
          "steps": [
           {
            "args": [
             [
              "2016-01-03"
             ],
             {
              "frame": {
               "duration": 0,
               "redraw": true
              },
              "fromcurrent": true,
              "mode": "immediate",
              "transition": {
               "duration": 0,
               "easing": "linear"
              }
             }
            ],
            "label": "2016-01-03",
            "method": "animate"
           },
           {
            "args": [
             [
              "2016-01-10"
             ],
             {
              "frame": {
               "duration": 0,
               "redraw": true
              },
              "fromcurrent": true,
              "mode": "immediate",
              "transition": {
               "duration": 0,
               "easing": "linear"
              }
             }
            ],
            "label": "2016-01-10",
            "method": "animate"
           },
           {
            "args": [
             [
              "2016-01-17"
             ],
             {
              "frame": {
               "duration": 0,
               "redraw": true
              },
              "fromcurrent": true,
              "mode": "immediate",
              "transition": {
               "duration": 0,
               "easing": "linear"
              }
             }
            ],
            "label": "2016-01-17",
            "method": "animate"
           },
           {
            "args": [
             [
              "2016-01-24"
             ],
             {
              "frame": {
               "duration": 0,
               "redraw": true
              },
              "fromcurrent": true,
              "mode": "immediate",
              "transition": {
               "duration": 0,
               "easing": "linear"
              }
             }
            ],
            "label": "2016-01-24",
            "method": "animate"
           },
           {
            "args": [
             [
              "2016-01-31"
             ],
             {
              "frame": {
               "duration": 0,
               "redraw": true
              },
              "fromcurrent": true,
              "mode": "immediate",
              "transition": {
               "duration": 0,
               "easing": "linear"
              }
             }
            ],
            "label": "2016-01-31",
            "method": "animate"
           },
           {
            "args": [
             [
              "2016-02-07"
             ],
             {
              "frame": {
               "duration": 0,
               "redraw": true
              },
              "fromcurrent": true,
              "mode": "immediate",
              "transition": {
               "duration": 0,
               "easing": "linear"
              }
             }
            ],
            "label": "2016-02-07",
            "method": "animate"
           },
           {
            "args": [
             [
              "2016-02-14"
             ],
             {
              "frame": {
               "duration": 0,
               "redraw": true
              },
              "fromcurrent": true,
              "mode": "immediate",
              "transition": {
               "duration": 0,
               "easing": "linear"
              }
             }
            ],
            "label": "2016-02-14",
            "method": "animate"
           },
           {
            "args": [
             [
              "2016-02-21"
             ],
             {
              "frame": {
               "duration": 0,
               "redraw": true
              },
              "fromcurrent": true,
              "mode": "immediate",
              "transition": {
               "duration": 0,
               "easing": "linear"
              }
             }
            ],
            "label": "2016-02-21",
            "method": "animate"
           },
           {
            "args": [
             [
              "2016-02-28"
             ],
             {
              "frame": {
               "duration": 0,
               "redraw": true
              },
              "fromcurrent": true,
              "mode": "immediate",
              "transition": {
               "duration": 0,
               "easing": "linear"
              }
             }
            ],
            "label": "2016-02-28",
            "method": "animate"
           },
           {
            "args": [
             [
              "2016-03-06"
             ],
             {
              "frame": {
               "duration": 0,
               "redraw": true
              },
              "fromcurrent": true,
              "mode": "immediate",
              "transition": {
               "duration": 0,
               "easing": "linear"
              }
             }
            ],
            "label": "2016-03-06",
            "method": "animate"
           },
           {
            "args": [
             [
              "2016-03-13"
             ],
             {
              "frame": {
               "duration": 0,
               "redraw": true
              },
              "fromcurrent": true,
              "mode": "immediate",
              "transition": {
               "duration": 0,
               "easing": "linear"
              }
             }
            ],
            "label": "2016-03-13",
            "method": "animate"
           },
           {
            "args": [
             [
              "2016-03-20"
             ],
             {
              "frame": {
               "duration": 0,
               "redraw": true
              },
              "fromcurrent": true,
              "mode": "immediate",
              "transition": {
               "duration": 0,
               "easing": "linear"
              }
             }
            ],
            "label": "2016-03-20",
            "method": "animate"
           },
           {
            "args": [
             [
              "2016-03-27"
             ],
             {
              "frame": {
               "duration": 0,
               "redraw": true
              },
              "fromcurrent": true,
              "mode": "immediate",
              "transition": {
               "duration": 0,
               "easing": "linear"
              }
             }
            ],
            "label": "2016-03-27",
            "method": "animate"
           },
           {
            "args": [
             [
              "2016-04-03"
             ],
             {
              "frame": {
               "duration": 0,
               "redraw": true
              },
              "fromcurrent": true,
              "mode": "immediate",
              "transition": {
               "duration": 0,
               "easing": "linear"
              }
             }
            ],
            "label": "2016-04-03",
            "method": "animate"
           },
           {
            "args": [
             [
              "2016-04-10"
             ],
             {
              "frame": {
               "duration": 0,
               "redraw": true
              },
              "fromcurrent": true,
              "mode": "immediate",
              "transition": {
               "duration": 0,
               "easing": "linear"
              }
             }
            ],
            "label": "2016-04-10",
            "method": "animate"
           },
           {
            "args": [
             [
              "2016-04-17"
             ],
             {
              "frame": {
               "duration": 0,
               "redraw": true
              },
              "fromcurrent": true,
              "mode": "immediate",
              "transition": {
               "duration": 0,
               "easing": "linear"
              }
             }
            ],
            "label": "2016-04-17",
            "method": "animate"
           },
           {
            "args": [
             [
              "2016-04-24"
             ],
             {
              "frame": {
               "duration": 0,
               "redraw": true
              },
              "fromcurrent": true,
              "mode": "immediate",
              "transition": {
               "duration": 0,
               "easing": "linear"
              }
             }
            ],
            "label": "2016-04-24",
            "method": "animate"
           },
           {
            "args": [
             [
              "2016-05-01"
             ],
             {
              "frame": {
               "duration": 0,
               "redraw": true
              },
              "fromcurrent": true,
              "mode": "immediate",
              "transition": {
               "duration": 0,
               "easing": "linear"
              }
             }
            ],
            "label": "2016-05-01",
            "method": "animate"
           },
           {
            "args": [
             [
              "2016-05-08"
             ],
             {
              "frame": {
               "duration": 0,
               "redraw": true
              },
              "fromcurrent": true,
              "mode": "immediate",
              "transition": {
               "duration": 0,
               "easing": "linear"
              }
             }
            ],
            "label": "2016-05-08",
            "method": "animate"
           },
           {
            "args": [
             [
              "2016-05-15"
             ],
             {
              "frame": {
               "duration": 0,
               "redraw": true
              },
              "fromcurrent": true,
              "mode": "immediate",
              "transition": {
               "duration": 0,
               "easing": "linear"
              }
             }
            ],
            "label": "2016-05-15",
            "method": "animate"
           },
           {
            "args": [
             [
              "2016-05-22"
             ],
             {
              "frame": {
               "duration": 0,
               "redraw": true
              },
              "fromcurrent": true,
              "mode": "immediate",
              "transition": {
               "duration": 0,
               "easing": "linear"
              }
             }
            ],
            "label": "2016-05-22",
            "method": "animate"
           },
           {
            "args": [
             [
              "2016-05-29"
             ],
             {
              "frame": {
               "duration": 0,
               "redraw": true
              },
              "fromcurrent": true,
              "mode": "immediate",
              "transition": {
               "duration": 0,
               "easing": "linear"
              }
             }
            ],
            "label": "2016-05-29",
            "method": "animate"
           },
           {
            "args": [
             [
              "2016-06-05"
             ],
             {
              "frame": {
               "duration": 0,
               "redraw": true
              },
              "fromcurrent": true,
              "mode": "immediate",
              "transition": {
               "duration": 0,
               "easing": "linear"
              }
             }
            ],
            "label": "2016-06-05",
            "method": "animate"
           },
           {
            "args": [
             [
              "2016-06-12"
             ],
             {
              "frame": {
               "duration": 0,
               "redraw": true
              },
              "fromcurrent": true,
              "mode": "immediate",
              "transition": {
               "duration": 0,
               "easing": "linear"
              }
             }
            ],
            "label": "2016-06-12",
            "method": "animate"
           },
           {
            "args": [
             [
              "2016-06-19"
             ],
             {
              "frame": {
               "duration": 0,
               "redraw": true
              },
              "fromcurrent": true,
              "mode": "immediate",
              "transition": {
               "duration": 0,
               "easing": "linear"
              }
             }
            ],
            "label": "2016-06-19",
            "method": "animate"
           },
           {
            "args": [
             [
              "2016-06-26"
             ],
             {
              "frame": {
               "duration": 0,
               "redraw": true
              },
              "fromcurrent": true,
              "mode": "immediate",
              "transition": {
               "duration": 0,
               "easing": "linear"
              }
             }
            ],
            "label": "2016-06-26",
            "method": "animate"
           },
           {
            "args": [
             [
              "2016-07-03"
             ],
             {
              "frame": {
               "duration": 0,
               "redraw": true
              },
              "fromcurrent": true,
              "mode": "immediate",
              "transition": {
               "duration": 0,
               "easing": "linear"
              }
             }
            ],
            "label": "2016-07-03",
            "method": "animate"
           },
           {
            "args": [
             [
              "2016-07-10"
             ],
             {
              "frame": {
               "duration": 0,
               "redraw": true
              },
              "fromcurrent": true,
              "mode": "immediate",
              "transition": {
               "duration": 0,
               "easing": "linear"
              }
             }
            ],
            "label": "2016-07-10",
            "method": "animate"
           },
           {
            "args": [
             [
              "2016-07-17"
             ],
             {
              "frame": {
               "duration": 0,
               "redraw": true
              },
              "fromcurrent": true,
              "mode": "immediate",
              "transition": {
               "duration": 0,
               "easing": "linear"
              }
             }
            ],
            "label": "2016-07-17",
            "method": "animate"
           },
           {
            "args": [
             [
              "2016-07-24"
             ],
             {
              "frame": {
               "duration": 0,
               "redraw": true
              },
              "fromcurrent": true,
              "mode": "immediate",
              "transition": {
               "duration": 0,
               "easing": "linear"
              }
             }
            ],
            "label": "2016-07-24",
            "method": "animate"
           },
           {
            "args": [
             [
              "2016-07-31"
             ],
             {
              "frame": {
               "duration": 0,
               "redraw": true
              },
              "fromcurrent": true,
              "mode": "immediate",
              "transition": {
               "duration": 0,
               "easing": "linear"
              }
             }
            ],
            "label": "2016-07-31",
            "method": "animate"
           },
           {
            "args": [
             [
              "2016-08-07"
             ],
             {
              "frame": {
               "duration": 0,
               "redraw": true
              },
              "fromcurrent": true,
              "mode": "immediate",
              "transition": {
               "duration": 0,
               "easing": "linear"
              }
             }
            ],
            "label": "2016-08-07",
            "method": "animate"
           },
           {
            "args": [
             [
              "2016-08-14"
             ],
             {
              "frame": {
               "duration": 0,
               "redraw": true
              },
              "fromcurrent": true,
              "mode": "immediate",
              "transition": {
               "duration": 0,
               "easing": "linear"
              }
             }
            ],
            "label": "2016-08-14",
            "method": "animate"
           },
           {
            "args": [
             [
              "2016-08-21"
             ],
             {
              "frame": {
               "duration": 0,
               "redraw": true
              },
              "fromcurrent": true,
              "mode": "immediate",
              "transition": {
               "duration": 0,
               "easing": "linear"
              }
             }
            ],
            "label": "2016-08-21",
            "method": "animate"
           },
           {
            "args": [
             [
              "2016-08-28"
             ],
             {
              "frame": {
               "duration": 0,
               "redraw": true
              },
              "fromcurrent": true,
              "mode": "immediate",
              "transition": {
               "duration": 0,
               "easing": "linear"
              }
             }
            ],
            "label": "2016-08-28",
            "method": "animate"
           },
           {
            "args": [
             [
              "2016-09-04"
             ],
             {
              "frame": {
               "duration": 0,
               "redraw": true
              },
              "fromcurrent": true,
              "mode": "immediate",
              "transition": {
               "duration": 0,
               "easing": "linear"
              }
             }
            ],
            "label": "2016-09-04",
            "method": "animate"
           },
           {
            "args": [
             [
              "2016-09-11"
             ],
             {
              "frame": {
               "duration": 0,
               "redraw": true
              },
              "fromcurrent": true,
              "mode": "immediate",
              "transition": {
               "duration": 0,
               "easing": "linear"
              }
             }
            ],
            "label": "2016-09-11",
            "method": "animate"
           },
           {
            "args": [
             [
              "2016-09-18"
             ],
             {
              "frame": {
               "duration": 0,
               "redraw": true
              },
              "fromcurrent": true,
              "mode": "immediate",
              "transition": {
               "duration": 0,
               "easing": "linear"
              }
             }
            ],
            "label": "2016-09-18",
            "method": "animate"
           },
           {
            "args": [
             [
              "2016-09-25"
             ],
             {
              "frame": {
               "duration": 0,
               "redraw": true
              },
              "fromcurrent": true,
              "mode": "immediate",
              "transition": {
               "duration": 0,
               "easing": "linear"
              }
             }
            ],
            "label": "2016-09-25",
            "method": "animate"
           },
           {
            "args": [
             [
              "2016-10-02"
             ],
             {
              "frame": {
               "duration": 0,
               "redraw": true
              },
              "fromcurrent": true,
              "mode": "immediate",
              "transition": {
               "duration": 0,
               "easing": "linear"
              }
             }
            ],
            "label": "2016-10-02",
            "method": "animate"
           },
           {
            "args": [
             [
              "2016-10-09"
             ],
             {
              "frame": {
               "duration": 0,
               "redraw": true
              },
              "fromcurrent": true,
              "mode": "immediate",
              "transition": {
               "duration": 0,
               "easing": "linear"
              }
             }
            ],
            "label": "2016-10-09",
            "method": "animate"
           },
           {
            "args": [
             [
              "2016-10-16"
             ],
             {
              "frame": {
               "duration": 0,
               "redraw": true
              },
              "fromcurrent": true,
              "mode": "immediate",
              "transition": {
               "duration": 0,
               "easing": "linear"
              }
             }
            ],
            "label": "2016-10-16",
            "method": "animate"
           },
           {
            "args": [
             [
              "2016-10-23"
             ],
             {
              "frame": {
               "duration": 0,
               "redraw": true
              },
              "fromcurrent": true,
              "mode": "immediate",
              "transition": {
               "duration": 0,
               "easing": "linear"
              }
             }
            ],
            "label": "2016-10-23",
            "method": "animate"
           },
           {
            "args": [
             [
              "2016-10-30"
             ],
             {
              "frame": {
               "duration": 0,
               "redraw": true
              },
              "fromcurrent": true,
              "mode": "immediate",
              "transition": {
               "duration": 0,
               "easing": "linear"
              }
             }
            ],
            "label": "2016-10-30",
            "method": "animate"
           },
           {
            "args": [
             [
              "2016-11-06"
             ],
             {
              "frame": {
               "duration": 0,
               "redraw": true
              },
              "fromcurrent": true,
              "mode": "immediate",
              "transition": {
               "duration": 0,
               "easing": "linear"
              }
             }
            ],
            "label": "2016-11-06",
            "method": "animate"
           },
           {
            "args": [
             [
              "2016-11-13"
             ],
             {
              "frame": {
               "duration": 0,
               "redraw": true
              },
              "fromcurrent": true,
              "mode": "immediate",
              "transition": {
               "duration": 0,
               "easing": "linear"
              }
             }
            ],
            "label": "2016-11-13",
            "method": "animate"
           },
           {
            "args": [
             [
              "2016-11-20"
             ],
             {
              "frame": {
               "duration": 0,
               "redraw": true
              },
              "fromcurrent": true,
              "mode": "immediate",
              "transition": {
               "duration": 0,
               "easing": "linear"
              }
             }
            ],
            "label": "2016-11-20",
            "method": "animate"
           },
           {
            "args": [
             [
              "2016-11-27"
             ],
             {
              "frame": {
               "duration": 0,
               "redraw": true
              },
              "fromcurrent": true,
              "mode": "immediate",
              "transition": {
               "duration": 0,
               "easing": "linear"
              }
             }
            ],
            "label": "2016-11-27",
            "method": "animate"
           },
           {
            "args": [
             [
              "2016-12-04"
             ],
             {
              "frame": {
               "duration": 0,
               "redraw": true
              },
              "fromcurrent": true,
              "mode": "immediate",
              "transition": {
               "duration": 0,
               "easing": "linear"
              }
             }
            ],
            "label": "2016-12-04",
            "method": "animate"
           },
           {
            "args": [
             [
              "2016-12-11"
             ],
             {
              "frame": {
               "duration": 0,
               "redraw": true
              },
              "fromcurrent": true,
              "mode": "immediate",
              "transition": {
               "duration": 0,
               "easing": "linear"
              }
             }
            ],
            "label": "2016-12-11",
            "method": "animate"
           },
           {
            "args": [
             [
              "2016-12-18"
             ],
             {
              "frame": {
               "duration": 0,
               "redraw": true
              },
              "fromcurrent": true,
              "mode": "immediate",
              "transition": {
               "duration": 0,
               "easing": "linear"
              }
             }
            ],
            "label": "2016-12-18",
            "method": "animate"
           },
           {
            "args": [
             [
              "2016-12-25"
             ],
             {
              "frame": {
               "duration": 0,
               "redraw": true
              },
              "fromcurrent": true,
              "mode": "immediate",
              "transition": {
               "duration": 0,
               "easing": "linear"
              }
             }
            ],
            "label": "2016-12-25",
            "method": "animate"
           }
          ],
          "x": 0.1,
          "xanchor": "left",
          "y": 0,
          "yanchor": "top"
         }
        ],
        "template": {
         "data": {
          "bar": [
           {
            "error_x": {
             "color": "#2a3f5f"
            },
            "error_y": {
             "color": "#2a3f5f"
            },
            "marker": {
             "line": {
              "color": "#E5ECF6",
              "width": 0.5
             },
             "pattern": {
              "fillmode": "overlay",
              "size": 10,
              "solidity": 0.2
             }
            },
            "type": "bar"
           }
          ],
          "barpolar": [
           {
            "marker": {
             "line": {
              "color": "#E5ECF6",
              "width": 0.5
             },
             "pattern": {
              "fillmode": "overlay",
              "size": 10,
              "solidity": 0.2
             }
            },
            "type": "barpolar"
           }
          ],
          "carpet": [
           {
            "aaxis": {
             "endlinecolor": "#2a3f5f",
             "gridcolor": "white",
             "linecolor": "white",
             "minorgridcolor": "white",
             "startlinecolor": "#2a3f5f"
            },
            "baxis": {
             "endlinecolor": "#2a3f5f",
             "gridcolor": "white",
             "linecolor": "white",
             "minorgridcolor": "white",
             "startlinecolor": "#2a3f5f"
            },
            "type": "carpet"
           }
          ],
          "choropleth": [
           {
            "colorbar": {
             "outlinewidth": 0,
             "ticks": ""
            },
            "type": "choropleth"
           }
          ],
          "contour": [
           {
            "colorbar": {
             "outlinewidth": 0,
             "ticks": ""
            },
            "colorscale": [
             [
              0,
              "#0d0887"
             ],
             [
              0.1111111111111111,
              "#46039f"
             ],
             [
              0.2222222222222222,
              "#7201a8"
             ],
             [
              0.3333333333333333,
              "#9c179e"
             ],
             [
              0.4444444444444444,
              "#bd3786"
             ],
             [
              0.5555555555555556,
              "#d8576b"
             ],
             [
              0.6666666666666666,
              "#ed7953"
             ],
             [
              0.7777777777777778,
              "#fb9f3a"
             ],
             [
              0.8888888888888888,
              "#fdca26"
             ],
             [
              1,
              "#f0f921"
             ]
            ],
            "type": "contour"
           }
          ],
          "contourcarpet": [
           {
            "colorbar": {
             "outlinewidth": 0,
             "ticks": ""
            },
            "type": "contourcarpet"
           }
          ],
          "heatmap": [
           {
            "colorbar": {
             "outlinewidth": 0,
             "ticks": ""
            },
            "colorscale": [
             [
              0,
              "#0d0887"
             ],
             [
              0.1111111111111111,
              "#46039f"
             ],
             [
              0.2222222222222222,
              "#7201a8"
             ],
             [
              0.3333333333333333,
              "#9c179e"
             ],
             [
              0.4444444444444444,
              "#bd3786"
             ],
             [
              0.5555555555555556,
              "#d8576b"
             ],
             [
              0.6666666666666666,
              "#ed7953"
             ],
             [
              0.7777777777777778,
              "#fb9f3a"
             ],
             [
              0.8888888888888888,
              "#fdca26"
             ],
             [
              1,
              "#f0f921"
             ]
            ],
            "type": "heatmap"
           }
          ],
          "heatmapgl": [
           {
            "colorbar": {
             "outlinewidth": 0,
             "ticks": ""
            },
            "colorscale": [
             [
              0,
              "#0d0887"
             ],
             [
              0.1111111111111111,
              "#46039f"
             ],
             [
              0.2222222222222222,
              "#7201a8"
             ],
             [
              0.3333333333333333,
              "#9c179e"
             ],
             [
              0.4444444444444444,
              "#bd3786"
             ],
             [
              0.5555555555555556,
              "#d8576b"
             ],
             [
              0.6666666666666666,
              "#ed7953"
             ],
             [
              0.7777777777777778,
              "#fb9f3a"
             ],
             [
              0.8888888888888888,
              "#fdca26"
             ],
             [
              1,
              "#f0f921"
             ]
            ],
            "type": "heatmapgl"
           }
          ],
          "histogram": [
           {
            "marker": {
             "pattern": {
              "fillmode": "overlay",
              "size": 10,
              "solidity": 0.2
             }
            },
            "type": "histogram"
           }
          ],
          "histogram2d": [
           {
            "colorbar": {
             "outlinewidth": 0,
             "ticks": ""
            },
            "colorscale": [
             [
              0,
              "#0d0887"
             ],
             [
              0.1111111111111111,
              "#46039f"
             ],
             [
              0.2222222222222222,
              "#7201a8"
             ],
             [
              0.3333333333333333,
              "#9c179e"
             ],
             [
              0.4444444444444444,
              "#bd3786"
             ],
             [
              0.5555555555555556,
              "#d8576b"
             ],
             [
              0.6666666666666666,
              "#ed7953"
             ],
             [
              0.7777777777777778,
              "#fb9f3a"
             ],
             [
              0.8888888888888888,
              "#fdca26"
             ],
             [
              1,
              "#f0f921"
             ]
            ],
            "type": "histogram2d"
           }
          ],
          "histogram2dcontour": [
           {
            "colorbar": {
             "outlinewidth": 0,
             "ticks": ""
            },
            "colorscale": [
             [
              0,
              "#0d0887"
             ],
             [
              0.1111111111111111,
              "#46039f"
             ],
             [
              0.2222222222222222,
              "#7201a8"
             ],
             [
              0.3333333333333333,
              "#9c179e"
             ],
             [
              0.4444444444444444,
              "#bd3786"
             ],
             [
              0.5555555555555556,
              "#d8576b"
             ],
             [
              0.6666666666666666,
              "#ed7953"
             ],
             [
              0.7777777777777778,
              "#fb9f3a"
             ],
             [
              0.8888888888888888,
              "#fdca26"
             ],
             [
              1,
              "#f0f921"
             ]
            ],
            "type": "histogram2dcontour"
           }
          ],
          "mesh3d": [
           {
            "colorbar": {
             "outlinewidth": 0,
             "ticks": ""
            },
            "type": "mesh3d"
           }
          ],
          "parcoords": [
           {
            "line": {
             "colorbar": {
              "outlinewidth": 0,
              "ticks": ""
             }
            },
            "type": "parcoords"
           }
          ],
          "pie": [
           {
            "automargin": true,
            "type": "pie"
           }
          ],
          "scatter": [
           {
            "fillpattern": {
             "fillmode": "overlay",
             "size": 10,
             "solidity": 0.2
            },
            "type": "scatter"
           }
          ],
          "scatter3d": [
           {
            "line": {
             "colorbar": {
              "outlinewidth": 0,
              "ticks": ""
             }
            },
            "marker": {
             "colorbar": {
              "outlinewidth": 0,
              "ticks": ""
             }
            },
            "type": "scatter3d"
           }
          ],
          "scattercarpet": [
           {
            "marker": {
             "colorbar": {
              "outlinewidth": 0,
              "ticks": ""
             }
            },
            "type": "scattercarpet"
           }
          ],
          "scattergeo": [
           {
            "marker": {
             "colorbar": {
              "outlinewidth": 0,
              "ticks": ""
             }
            },
            "type": "scattergeo"
           }
          ],
          "scattergl": [
           {
            "marker": {
             "colorbar": {
              "outlinewidth": 0,
              "ticks": ""
             }
            },
            "type": "scattergl"
           }
          ],
          "scattermapbox": [
           {
            "marker": {
             "colorbar": {
              "outlinewidth": 0,
              "ticks": ""
             }
            },
            "type": "scattermapbox"
           }
          ],
          "scatterpolar": [
           {
            "marker": {
             "colorbar": {
              "outlinewidth": 0,
              "ticks": ""
             }
            },
            "type": "scatterpolar"
           }
          ],
          "scatterpolargl": [
           {
            "marker": {
             "colorbar": {
              "outlinewidth": 0,
              "ticks": ""
             }
            },
            "type": "scatterpolargl"
           }
          ],
          "scatterternary": [
           {
            "marker": {
             "colorbar": {
              "outlinewidth": 0,
              "ticks": ""
             }
            },
            "type": "scatterternary"
           }
          ],
          "surface": [
           {
            "colorbar": {
             "outlinewidth": 0,
             "ticks": ""
            },
            "colorscale": [
             [
              0,
              "#0d0887"
             ],
             [
              0.1111111111111111,
              "#46039f"
             ],
             [
              0.2222222222222222,
              "#7201a8"
             ],
             [
              0.3333333333333333,
              "#9c179e"
             ],
             [
              0.4444444444444444,
              "#bd3786"
             ],
             [
              0.5555555555555556,
              "#d8576b"
             ],
             [
              0.6666666666666666,
              "#ed7953"
             ],
             [
              0.7777777777777778,
              "#fb9f3a"
             ],
             [
              0.8888888888888888,
              "#fdca26"
             ],
             [
              1,
              "#f0f921"
             ]
            ],
            "type": "surface"
           }
          ],
          "table": [
           {
            "cells": {
             "fill": {
              "color": "#EBF0F8"
             },
             "line": {
              "color": "white"
             }
            },
            "header": {
             "fill": {
              "color": "#C8D4E3"
             },
             "line": {
              "color": "white"
             }
            },
            "type": "table"
           }
          ]
         },
         "layout": {
          "annotationdefaults": {
           "arrowcolor": "#2a3f5f",
           "arrowhead": 0,
           "arrowwidth": 1
          },
          "autotypenumbers": "strict",
          "coloraxis": {
           "colorbar": {
            "outlinewidth": 0,
            "ticks": ""
           }
          },
          "colorscale": {
           "diverging": [
            [
             0,
             "#8e0152"
            ],
            [
             0.1,
             "#c51b7d"
            ],
            [
             0.2,
             "#de77ae"
            ],
            [
             0.3,
             "#f1b6da"
            ],
            [
             0.4,
             "#fde0ef"
            ],
            [
             0.5,
             "#f7f7f7"
            ],
            [
             0.6,
             "#e6f5d0"
            ],
            [
             0.7,
             "#b8e186"
            ],
            [
             0.8,
             "#7fbc41"
            ],
            [
             0.9,
             "#4d9221"
            ],
            [
             1,
             "#276419"
            ]
           ],
           "sequential": [
            [
             0,
             "#0d0887"
            ],
            [
             0.1111111111111111,
             "#46039f"
            ],
            [
             0.2222222222222222,
             "#7201a8"
            ],
            [
             0.3333333333333333,
             "#9c179e"
            ],
            [
             0.4444444444444444,
             "#bd3786"
            ],
            [
             0.5555555555555556,
             "#d8576b"
            ],
            [
             0.6666666666666666,
             "#ed7953"
            ],
            [
             0.7777777777777778,
             "#fb9f3a"
            ],
            [
             0.8888888888888888,
             "#fdca26"
            ],
            [
             1,
             "#f0f921"
            ]
           ],
           "sequentialminus": [
            [
             0,
             "#0d0887"
            ],
            [
             0.1111111111111111,
             "#46039f"
            ],
            [
             0.2222222222222222,
             "#7201a8"
            ],
            [
             0.3333333333333333,
             "#9c179e"
            ],
            [
             0.4444444444444444,
             "#bd3786"
            ],
            [
             0.5555555555555556,
             "#d8576b"
            ],
            [
             0.6666666666666666,
             "#ed7953"
            ],
            [
             0.7777777777777778,
             "#fb9f3a"
            ],
            [
             0.8888888888888888,
             "#fdca26"
            ],
            [
             1,
             "#f0f921"
            ]
           ]
          },
          "colorway": [
           "#636efa",
           "#EF553B",
           "#00cc96",
           "#ab63fa",
           "#FFA15A",
           "#19d3f3",
           "#FF6692",
           "#B6E880",
           "#FF97FF",
           "#FECB52"
          ],
          "font": {
           "color": "#2a3f5f"
          },
          "geo": {
           "bgcolor": "white",
           "lakecolor": "white",
           "landcolor": "#E5ECF6",
           "showlakes": true,
           "showland": true,
           "subunitcolor": "white"
          },
          "hoverlabel": {
           "align": "left"
          },
          "hovermode": "closest",
          "mapbox": {
           "style": "light"
          },
          "paper_bgcolor": "white",
          "plot_bgcolor": "#E5ECF6",
          "polar": {
           "angularaxis": {
            "gridcolor": "white",
            "linecolor": "white",
            "ticks": ""
           },
           "bgcolor": "#E5ECF6",
           "radialaxis": {
            "gridcolor": "white",
            "linecolor": "white",
            "ticks": ""
           }
          },
          "scene": {
           "xaxis": {
            "backgroundcolor": "#E5ECF6",
            "gridcolor": "white",
            "gridwidth": 2,
            "linecolor": "white",
            "showbackground": true,
            "ticks": "",
            "zerolinecolor": "white"
           },
           "yaxis": {
            "backgroundcolor": "#E5ECF6",
            "gridcolor": "white",
            "gridwidth": 2,
            "linecolor": "white",
            "showbackground": true,
            "ticks": "",
            "zerolinecolor": "white"
           },
           "zaxis": {
            "backgroundcolor": "#E5ECF6",
            "gridcolor": "white",
            "gridwidth": 2,
            "linecolor": "white",
            "showbackground": true,
            "ticks": "",
            "zerolinecolor": "white"
           }
          },
          "shapedefaults": {
           "line": {
            "color": "#2a3f5f"
           }
          },
          "ternary": {
           "aaxis": {
            "gridcolor": "white",
            "linecolor": "white",
            "ticks": ""
           },
           "baxis": {
            "gridcolor": "white",
            "linecolor": "white",
            "ticks": ""
           },
           "bgcolor": "#E5ECF6",
           "caxis": {
            "gridcolor": "white",
            "linecolor": "white",
            "ticks": ""
           }
          },
          "title": {
           "x": 0.05
          },
          "xaxis": {
           "automargin": true,
           "gridcolor": "white",
           "linecolor": "white",
           "ticks": "",
           "title": {
            "standoff": 15
           },
           "zerolinecolor": "white",
           "zerolinewidth": 2
          },
          "yaxis": {
           "automargin": true,
           "gridcolor": "white",
           "linecolor": "white",
           "ticks": "",
           "title": {
            "standoff": 15
           },
           "zerolinecolor": "white",
           "zerolinewidth": 2
          }
         }
        },
        "title": {
         "text": "Temporal Weather Patterns Across the US"
        },
        "updatemenus": [
         {
          "buttons": [
           {
            "args": [
             null,
             {
              "frame": {
               "duration": 500,
               "redraw": true
              },
              "fromcurrent": true
             }
            ],
            "label": "Play",
            "method": "animate"
           },
           {
            "args": [
             [
              null
             ],
             {
              "frame": {
               "duration": 0,
               "redraw": true
              },
              "mode": "immediate",
              "transition": {
               "duration": 0
              }
             }
            ],
            "label": "Pause",
            "method": "animate"
           }
          ],
          "direction": "left",
          "pad": {
           "r": 10,
           "t": 87
          },
          "showactive": false,
          "type": "buttons",
          "x": 0.1,
          "xanchor": "right",
          "y": 0,
          "yanchor": "top"
         }
        ]
       }
      }
     },
     "metadata": {},
     "output_type": "display_data"
    }
   ],
   "source": [
    "fig = px.choropleth(\n",
    "    average_temperatures,\n",
    "    locations=\"Station.State\",          # DataFrame column with locations\n",
    "    locationmode=\"USA-states\",  # Set locations to USA states\n",
    "    color=\"Data.Temperature.Avg Temp\",        # DataFrame column with the color values\n",
    "    hover_name=\"State Full\",         # DataFrame column hover info\n",
    "    animation_frame=\"Date.Full\",     # DataFrame column defining the animation frame\n",
    "    range_color=[50, 65],       # Range of color scale\n",
    "    hover_data={\n",
    "        \"Station.State\": False,\n",
    "        \"Date.Full\": True,\n",
    "        \"Data.Temperature.Avg Temp\": \":.4f\",  # Format temperature with 2 decimal places\n",
    "        \"Data.Precipitation\": \":.4f\",         # Format precipitation with 2 decimal places\n",
    "        \"Data.Wind.Speed\": \":.4f\"             # Format wind speed with 2 decimal places\n",
    "    },\n",
    "    scope=\"usa\",                # Focus the map on the USA\n",
    "    title=\"Temporal Weather Patterns Across the US\",\n",
    "    labels={'Data.Temperature.Avg Temp': 'Temperature (F)', \n",
    "            'Station.State':'State',\n",
    "            'Date.Full': 'Date',\n",
    "            \"Data.Precipitation\":\"Precipitation (inches)\",\n",
    "            \"Data.Wind.Speed\":\"Wind Speed (mph)\"}  # Label for the colorbar\n",
    ")\n",
    "\n",
    "fig.update_layout(\n",
    "    updatemenus=[{\n",
    "        'buttons': [{\n",
    "            'args': [None, {'frame': {'duration': 500, 'redraw': True}, 'fromcurrent': True}],\n",
    "            'label': 'Play',\n",
    "            'method': 'animate'\n",
    "        }, {\n",
    "            'args': [[None], {'frame': {'duration': 0, 'redraw': True}, 'mode': 'immediate', 'transition': {'duration': 0}}],\n",
    "            'label': 'Pause',\n",
    "            'method': 'animate'\n",
    "        }],\n",
    "        'direction': 'left',\n",
    "        'pad': {'r': 10, 't': 87},\n",
    "        'showactive': False,\n",
    "        'type': 'buttons',\n",
    "        'x': 0.1,\n",
    "        'xanchor': 'right',\n",
    "        'y': 0,\n",
    "        'yanchor': 'top'\n",
    "    }]\n",
    ")\n",
    "\n",
    "# Show the plot\n",
    "fig.show()\n"
   ]
  },
  {
   "cell_type": "code",
   "execution_count": null,
   "metadata": {},
   "outputs": [],
   "source": []
  }
 ],
 "metadata": {
  "kernelspec": {
   "display_name": "Python 3",
   "language": "python",
   "name": "python3"
  },
  "language_info": {
   "codemirror_mode": {
    "name": "ipython",
    "version": 3
   },
   "file_extension": ".py",
   "mimetype": "text/x-python",
   "name": "python",
   "nbconvert_exporter": "python",
   "pygments_lexer": "ipython3",
   "version": "3.11.4"
  }
 },
 "nbformat": 4,
 "nbformat_minor": 2
}
