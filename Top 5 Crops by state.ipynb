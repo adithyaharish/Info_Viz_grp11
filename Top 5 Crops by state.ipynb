{
 "cells": [
  {
   "cell_type": "code",
   "execution_count": 11,
   "metadata": {},
   "outputs": [],
   "source": [
    "import pandas as pd\n",
    "import plotly.graph_objects as go\n",
    "from IPython.display import display\n",
    "from ipywidgets import Dropdown, Output, VBox\n",
    "import plotly.io as pio"
   ]
  },
  {
   "cell_type": "code",
   "execution_count": 10,
   "metadata": {},
   "outputs": [
    {
     "data": {
      "text/plain": [
       "Index(['Program', 'Year', 'Period', 'State', 'Commodity', 'Domain',\n",
       "       ' ACRES HARVESTED', ' ACRES PLANTED', ' PRODUCTION, MEASURED IN $'],\n",
       "      dtype='object')"
      ]
     },
     "execution_count": 10,
     "metadata": {},
     "output_type": "execute_result"
    }
   ],
   "source": [
    "df = pd.read_csv('Agriculture_final_2023.csv')\n",
    "df.columns"
   ]
  },
  {
   "cell_type": "code",
   "execution_count": 16,
   "metadata": {},
   "outputs": [
    {
     "data": {
      "application/vnd.jupyter.widget-view+json": {
       "model_id": "0064f4739d5846b7810feb470208c738",
       "version_major": 2,
       "version_minor": 0
      },
      "text/plain": [
       "VBox(children=(Dropdown(options=('ALABAMA', 'ALASKA', 'ARIZONA', 'ARKANSAS', 'CALIFORNIA', 'COLORADO', 'DELAWA…"
      ]
     },
     "metadata": {},
     "output_type": "display_data"
    }
   ],
   "source": [
    "# Set the default renderer for Plotly in Jupyter\n",
    "pio.renderers.default = \"notebook_connected\"\n",
    "# Initialize the output area for the plot\n",
    "plot_output = Output()\n",
    "\n",
    "# Function to update the plot based on the selected state\n",
    "def update_plot(state):\n",
    "    plot_output.clear_output(wait=True)  # Clear the previous plot if any\n",
    "    filtered_df = df[df['State'] == state]\n",
    "    top_crops = filtered_df.nlargest(5, ' PRODUCTION, MEASURED IN $')\n",
    "    fig = go.Figure(go.Pie(labels=top_crops['Commodity'], values=top_crops[' PRODUCTION, MEASURED IN $'], textinfo='label+percent'))\n",
    "    fig.update_layout(title_text=f\"Top 5 Crops by Production in {state}\")\n",
    "    with plot_output:\n",
    "        fig.show()\n",
    "\n",
    "# Dropdown to select the state\n",
    "state_dropdown = Dropdown(options=sorted(df['State'].unique()))\n",
    "\n",
    "# Function to handle dropdown changes\n",
    "def on_state_change(change):\n",
    "    if change['type'] == 'change' and change['name'] == 'value':\n",
    "        update_plot(change['new'])\n",
    "\n",
    "state_dropdown.observe(on_state_change, names='value')\n",
    "\n",
    "# Display the dropdown and output area\n",
    "display(VBox([state_dropdown, plot_output]))\n",
    "\n",
    "# Initialize the plot with the first state in the dropdown\n",
    "update_plot(state_dropdown.options[0])\n"
   ]
  },
  {
   "cell_type": "code",
   "execution_count": null,
   "metadata": {},
   "outputs": [],
   "source": []
  }
 ],
 "metadata": {
  "kernelspec": {
   "display_name": "Python 3",
   "language": "python",
   "name": "python3"
  },
  "language_info": {
   "codemirror_mode": {
    "name": "ipython",
    "version": 3
   },
   "file_extension": ".py",
   "mimetype": "text/x-python",
   "name": "python",
   "nbconvert_exporter": "python",
   "pygments_lexer": "ipython3",
   "version": "3.11.4"
  }
 },
 "nbformat": 4,
 "nbformat_minor": 2
}
