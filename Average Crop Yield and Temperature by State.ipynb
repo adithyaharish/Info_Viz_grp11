{
 "cells": [
  {
   "cell_type": "code",
   "execution_count": 1,
   "metadata": {},
   "outputs": [],
   "source": [
    "import pandas as pd\n",
    "import plotly.graph_objects as go\n",
    "from ipywidgets import widgets, Output\n",
    "from IPython.display import display"
   ]
  },
  {
   "cell_type": "code",
   "execution_count": 2,
   "metadata": {},
   "outputs": [
    {
     "data": {
      "text/plain": [
       "Index(['Program', 'Year', 'State', 'Commodity', ' ACRES HARVESTED',\n",
       "       ' ACRES PLANTED', ' PRODUCTION, MEASURED IN $'],\n",
       "      dtype='object')"
      ]
     },
     "execution_count": 2,
     "metadata": {},
     "output_type": "execute_result"
    }
   ],
   "source": [
    "df = pd.read_csv('Agriculture_final_2016.csv')\n",
    "df.columns"
   ]
  },
  {
   "cell_type": "code",
   "execution_count": 3,
   "metadata": {},
   "outputs": [
    {
     "data": {
      "text/plain": [
       "Commodity\n",
       "CORN         42\n",
       "WHEAT        42\n",
       "SOYBEANS     31\n",
       "OATS         29\n",
       "COTTON       17\n",
       "BARLEY       16\n",
       "SORGHUM      14\n",
       "BEANS        12\n",
       "PEANUTS      11\n",
       "SUNFLOWER     8\n",
       "CANOLA        8\n",
       "PEAS          7\n",
       "RICE          6\n",
       "SAFFLOWER     6\n",
       "LENTILS       4\n",
       "MILLET        3\n",
       "FLAXSEED      3\n",
       "RYE           2\n",
       "Name: count, dtype: int64"
      ]
     },
     "execution_count": 3,
     "metadata": {},
     "output_type": "execute_result"
    }
   ],
   "source": [
    "df['Commodity'].value_counts()"
   ]
  },
  {
   "cell_type": "code",
   "execution_count": 4,
   "metadata": {},
   "outputs": [
    {
     "data": {
      "text/plain": [
       "Index(['Data.Precipitation', 'Date.Full', 'Date.Month', 'Date.Week of',\n",
       "       'Date.Year', 'Station.City', 'Station.Code', 'Station.Location',\n",
       "       'Station.State', 'Data.Temperature.Avg Temp',\n",
       "       'Data.Temperature.Max Temp', 'Data.Temperature.Min Temp',\n",
       "       'Data.Wind.Direction', 'Data.Wind.Speed'],\n",
       "      dtype='object')"
      ]
     },
     "execution_count": 4,
     "metadata": {},
     "output_type": "execute_result"
    }
   ],
   "source": [
    "df1 = pd.read_csv('weather.csv')\n",
    "df1.columns"
   ]
  },
  {
   "cell_type": "code",
   "execution_count": 5,
   "metadata": {},
   "outputs": [
    {
     "data": {
      "text/html": [
       "<div>\n",
       "<style scoped>\n",
       "    .dataframe tbody tr th:only-of-type {\n",
       "        vertical-align: middle;\n",
       "    }\n",
       "\n",
       "    .dataframe tbody tr th {\n",
       "        vertical-align: top;\n",
       "    }\n",
       "\n",
       "    .dataframe thead th {\n",
       "        text-align: right;\n",
       "    }\n",
       "</style>\n",
       "<table border=\"1\" class=\"dataframe\">\n",
       "  <thead>\n",
       "    <tr style=\"text-align: right;\">\n",
       "      <th></th>\n",
       "      <th>Data.Precipitation</th>\n",
       "      <th>Date.Full</th>\n",
       "      <th>Date.Month</th>\n",
       "      <th>Date.Week of</th>\n",
       "      <th>Date.Year</th>\n",
       "      <th>Station.City</th>\n",
       "      <th>Station.Code</th>\n",
       "      <th>Station.Location</th>\n",
       "      <th>Station.State</th>\n",
       "      <th>Data.Temperature.Avg Temp</th>\n",
       "      <th>Data.Temperature.Max Temp</th>\n",
       "      <th>Data.Temperature.Min Temp</th>\n",
       "      <th>Data.Wind.Direction</th>\n",
       "      <th>Data.Wind.Speed</th>\n",
       "    </tr>\n",
       "  </thead>\n",
       "  <tbody>\n",
       "    <tr>\n",
       "      <th>0</th>\n",
       "      <td>0.00</td>\n",
       "      <td>2016-01-03</td>\n",
       "      <td>1</td>\n",
       "      <td>3</td>\n",
       "      <td>2016</td>\n",
       "      <td>Birmingham</td>\n",
       "      <td>BHM</td>\n",
       "      <td>Birmingham, AL</td>\n",
       "      <td>Alabama</td>\n",
       "      <td>39</td>\n",
       "      <td>46</td>\n",
       "      <td>32</td>\n",
       "      <td>33</td>\n",
       "      <td>4.33</td>\n",
       "    </tr>\n",
       "    <tr>\n",
       "      <th>1</th>\n",
       "      <td>0.00</td>\n",
       "      <td>2016-01-03</td>\n",
       "      <td>1</td>\n",
       "      <td>3</td>\n",
       "      <td>2016</td>\n",
       "      <td>Huntsville</td>\n",
       "      <td>HSV</td>\n",
       "      <td>Huntsville, AL</td>\n",
       "      <td>Alabama</td>\n",
       "      <td>39</td>\n",
       "      <td>47</td>\n",
       "      <td>31</td>\n",
       "      <td>32</td>\n",
       "      <td>3.86</td>\n",
       "    </tr>\n",
       "    <tr>\n",
       "      <th>2</th>\n",
       "      <td>0.16</td>\n",
       "      <td>2016-01-03</td>\n",
       "      <td>1</td>\n",
       "      <td>3</td>\n",
       "      <td>2016</td>\n",
       "      <td>Mobile</td>\n",
       "      <td>MOB</td>\n",
       "      <td>Mobile, AL</td>\n",
       "      <td>Alabama</td>\n",
       "      <td>46</td>\n",
       "      <td>51</td>\n",
       "      <td>41</td>\n",
       "      <td>35</td>\n",
       "      <td>9.73</td>\n",
       "    </tr>\n",
       "    <tr>\n",
       "      <th>3</th>\n",
       "      <td>0.00</td>\n",
       "      <td>2016-01-03</td>\n",
       "      <td>1</td>\n",
       "      <td>3</td>\n",
       "      <td>2016</td>\n",
       "      <td>Montgomery</td>\n",
       "      <td>MGM</td>\n",
       "      <td>Montgomery, AL</td>\n",
       "      <td>Alabama</td>\n",
       "      <td>45</td>\n",
       "      <td>52</td>\n",
       "      <td>38</td>\n",
       "      <td>32</td>\n",
       "      <td>6.86</td>\n",
       "    </tr>\n",
       "    <tr>\n",
       "      <th>4</th>\n",
       "      <td>0.01</td>\n",
       "      <td>2016-01-03</td>\n",
       "      <td>1</td>\n",
       "      <td>3</td>\n",
       "      <td>2016</td>\n",
       "      <td>Anchorage</td>\n",
       "      <td>ANC</td>\n",
       "      <td>Anchorage, AK</td>\n",
       "      <td>Alaska</td>\n",
       "      <td>34</td>\n",
       "      <td>38</td>\n",
       "      <td>29</td>\n",
       "      <td>19</td>\n",
       "      <td>7.80</td>\n",
       "    </tr>\n",
       "    <tr>\n",
       "      <th>...</th>\n",
       "      <td>...</td>\n",
       "      <td>...</td>\n",
       "      <td>...</td>\n",
       "      <td>...</td>\n",
       "      <td>...</td>\n",
       "      <td>...</td>\n",
       "      <td>...</td>\n",
       "      <td>...</td>\n",
       "      <td>...</td>\n",
       "      <td>...</td>\n",
       "      <td>...</td>\n",
       "      <td>...</td>\n",
       "      <td>...</td>\n",
       "      <td>...</td>\n",
       "    </tr>\n",
       "    <tr>\n",
       "      <th>16738</th>\n",
       "      <td>0.08</td>\n",
       "      <td>2017-01-01</td>\n",
       "      <td>1</td>\n",
       "      <td>1</td>\n",
       "      <td>2017</td>\n",
       "      <td>Casper</td>\n",
       "      <td>CPR</td>\n",
       "      <td>Casper, WY</td>\n",
       "      <td>Wyoming</td>\n",
       "      <td>23</td>\n",
       "      <td>32</td>\n",
       "      <td>15</td>\n",
       "      <td>23</td>\n",
       "      <td>19.98</td>\n",
       "    </tr>\n",
       "    <tr>\n",
       "      <th>16739</th>\n",
       "      <td>0.00</td>\n",
       "      <td>2017-01-01</td>\n",
       "      <td>1</td>\n",
       "      <td>1</td>\n",
       "      <td>2017</td>\n",
       "      <td>Cheyenne</td>\n",
       "      <td>CYS</td>\n",
       "      <td>Cheyenne, WY</td>\n",
       "      <td>Wyoming</td>\n",
       "      <td>32</td>\n",
       "      <td>42</td>\n",
       "      <td>21</td>\n",
       "      <td>26</td>\n",
       "      <td>15.16</td>\n",
       "    </tr>\n",
       "    <tr>\n",
       "      <th>16740</th>\n",
       "      <td>0.00</td>\n",
       "      <td>2017-01-01</td>\n",
       "      <td>1</td>\n",
       "      <td>1</td>\n",
       "      <td>2017</td>\n",
       "      <td>Lander</td>\n",
       "      <td>LND</td>\n",
       "      <td>Lander, WY</td>\n",
       "      <td>Wyoming</td>\n",
       "      <td>17</td>\n",
       "      <td>29</td>\n",
       "      <td>4</td>\n",
       "      <td>26</td>\n",
       "      <td>1.65</td>\n",
       "    </tr>\n",
       "    <tr>\n",
       "      <th>16741</th>\n",
       "      <td>0.06</td>\n",
       "      <td>2017-01-01</td>\n",
       "      <td>1</td>\n",
       "      <td>1</td>\n",
       "      <td>2017</td>\n",
       "      <td>Rawlins</td>\n",
       "      <td>RWL</td>\n",
       "      <td>Rawlins, WY</td>\n",
       "      <td>Wyoming</td>\n",
       "      <td>23</td>\n",
       "      <td>31</td>\n",
       "      <td>13</td>\n",
       "      <td>24</td>\n",
       "      <td>18.16</td>\n",
       "    </tr>\n",
       "    <tr>\n",
       "      <th>16742</th>\n",
       "      <td>0.10</td>\n",
       "      <td>2017-01-01</td>\n",
       "      <td>1</td>\n",
       "      <td>1</td>\n",
       "      <td>2017</td>\n",
       "      <td>Sheridan</td>\n",
       "      <td>SHR</td>\n",
       "      <td>Sheridan, WY</td>\n",
       "      <td>Wyoming</td>\n",
       "      <td>21</td>\n",
       "      <td>34</td>\n",
       "      <td>8</td>\n",
       "      <td>23</td>\n",
       "      <td>7.51</td>\n",
       "    </tr>\n",
       "  </tbody>\n",
       "</table>\n",
       "<p>16743 rows × 14 columns</p>\n",
       "</div>"
      ],
      "text/plain": [
       "       Data.Precipitation   Date.Full  Date.Month  Date.Week of  Date.Year  \\\n",
       "0                    0.00  2016-01-03           1             3       2016   \n",
       "1                    0.00  2016-01-03           1             3       2016   \n",
       "2                    0.16  2016-01-03           1             3       2016   \n",
       "3                    0.00  2016-01-03           1             3       2016   \n",
       "4                    0.01  2016-01-03           1             3       2016   \n",
       "...                   ...         ...         ...           ...        ...   \n",
       "16738                0.08  2017-01-01           1             1       2017   \n",
       "16739                0.00  2017-01-01           1             1       2017   \n",
       "16740                0.00  2017-01-01           1             1       2017   \n",
       "16741                0.06  2017-01-01           1             1       2017   \n",
       "16742                0.10  2017-01-01           1             1       2017   \n",
       "\n",
       "      Station.City Station.Code Station.Location Station.State  \\\n",
       "0       Birmingham          BHM   Birmingham, AL       Alabama   \n",
       "1       Huntsville          HSV   Huntsville, AL       Alabama   \n",
       "2           Mobile          MOB       Mobile, AL       Alabama   \n",
       "3       Montgomery          MGM   Montgomery, AL       Alabama   \n",
       "4        Anchorage          ANC    Anchorage, AK        Alaska   \n",
       "...            ...          ...              ...           ...   \n",
       "16738       Casper          CPR       Casper, WY       Wyoming   \n",
       "16739     Cheyenne          CYS     Cheyenne, WY       Wyoming   \n",
       "16740       Lander          LND       Lander, WY       Wyoming   \n",
       "16741      Rawlins          RWL      Rawlins, WY       Wyoming   \n",
       "16742     Sheridan          SHR     Sheridan, WY       Wyoming   \n",
       "\n",
       "       Data.Temperature.Avg Temp  Data.Temperature.Max Temp  \\\n",
       "0                             39                         46   \n",
       "1                             39                         47   \n",
       "2                             46                         51   \n",
       "3                             45                         52   \n",
       "4                             34                         38   \n",
       "...                          ...                        ...   \n",
       "16738                         23                         32   \n",
       "16739                         32                         42   \n",
       "16740                         17                         29   \n",
       "16741                         23                         31   \n",
       "16742                         21                         34   \n",
       "\n",
       "       Data.Temperature.Min Temp  Data.Wind.Direction  Data.Wind.Speed  \n",
       "0                             32                   33             4.33  \n",
       "1                             31                   32             3.86  \n",
       "2                             41                   35             9.73  \n",
       "3                             38                   32             6.86  \n",
       "4                             29                   19             7.80  \n",
       "...                          ...                  ...              ...  \n",
       "16738                         15                   23            19.98  \n",
       "16739                         21                   26            15.16  \n",
       "16740                          4                   26             1.65  \n",
       "16741                         13                   24            18.16  \n",
       "16742                          8                   23             7.51  \n",
       "\n",
       "[16743 rows x 14 columns]"
      ]
     },
     "execution_count": 5,
     "metadata": {},
     "output_type": "execute_result"
    }
   ],
   "source": [
    "df1"
   ]
  },
  {
   "cell_type": "code",
   "execution_count": 6,
   "metadata": {},
   "outputs": [],
   "source": [
    "df1['Station.State'] = df1['Station.State'].replace({'DE': 'Delaware', 'VA': 'Virginia'})"
   ]
  },
  {
   "cell_type": "code",
   "execution_count": 7,
   "metadata": {},
   "outputs": [
    {
     "name": "stdout",
     "output_type": "stream",
     "text": [
      "             State  Year  Average Temperature\n",
      "0          Alabama  2016            66.721154\n",
      "1           Alaska  2016            41.413056\n",
      "2          Arizona  2016            66.646154\n",
      "3         Arkansas  2016            62.583333\n",
      "4       California  2016            62.629969\n",
      "5         Colorado  2016            49.724359\n",
      "6      Connecticut  2016            53.711538\n",
      "7         Delaware  2016            56.365385\n",
      "8          Florida  2016            74.059295\n",
      "9          Georgia  2016            66.451923\n",
      "10          Hawaii  2016            76.438462\n",
      "11           Idaho  2016            52.307692\n",
      "12        Illinois  2016            53.740385\n",
      "13         Indiana  2016            54.293269\n",
      "14            Iowa  2016            51.188462\n",
      "15          Kansas  2016            57.259615\n",
      "16        Kentucky  2016            58.569231\n",
      "17       Louisiana  2016            69.601562\n",
      "18           Maine  2016            45.788462\n",
      "19        Maryland  2016            57.269231\n",
      "20   Massachusetts  2016            53.633333\n",
      "21        Michigan  2016            48.335470\n",
      "22       Minnesota  2016            45.153846\n",
      "23     Mississippi  2016            66.640110\n",
      "24        Missouri  2016            57.752747\n",
      "25         Montana  2016            46.110140\n",
      "26        Nebraska  2016            52.024038\n",
      "27          Nevada  2016            56.131410\n",
      "28   New Hampshire  2016            51.724490\n",
      "29      New Jersey  2016            56.384615\n",
      "30      New Mexico  2016            59.000000\n",
      "31        New York  2016            51.372596\n",
      "32  North Carolina  2016            62.019231\n",
      "33    North Dakota  2016            45.696154\n",
      "34            Ohio  2016            52.950549\n",
      "35        Oklahoma  2016            62.086538\n",
      "36          Oregon  2016            53.264423\n",
      "37    Pennsylvania  2016            54.236264\n",
      "38    Rhode Island  2016            53.346154\n",
      "39  South Carolina  2016            65.447115\n",
      "40    South Dakota  2016            48.896154\n",
      "41       Tennessee  2016            61.082524\n",
      "42           Texas  2016            68.371795\n",
      "43            Utah  2016            56.423077\n",
      "44         Vermont  2016            49.153846\n",
      "45        Virginia  2016            59.173077\n",
      "46      Washington  2016            51.774725\n",
      "47   West Virginia  2016            55.293269\n",
      "48       Wisconsin  2016            49.562500\n",
      "49         Wyoming  2016            46.938462\n"
     ]
    }
   ],
   "source": [
    "average_temperatures = df1[(df1['Date.Year'] == 2016) & (df1['Station.State'] != 'Puerto Rico')].groupby(['Station.State', 'Date.Year'])['Data.Temperature.Avg Temp'].mean().reset_index()\n",
    "\n",
    "# Rename columns for clarity\n",
    "average_temperatures.columns = ['State', 'Year', 'Average Temperature']\n",
    "\n",
    "print(average_temperatures)"
   ]
  },
  {
   "cell_type": "code",
   "execution_count": 28,
   "metadata": {},
   "outputs": [
    {
     "name": "stdout",
     "output_type": "stream",
     "text": [
      "             State  Year    Production\n",
      "0          ALABAMA  2016  7.224480e+08\n",
      "1           ALASKA  2016  1.482000e+06\n",
      "2          ARIZONA  2016  1.588800e+08\n",
      "3         ARKANSAS  2016  3.279877e+09\n",
      "4       CALIFORNIA  2016  1.068535e+09\n",
      "5         COLORADO  2016  1.037120e+09\n",
      "6         DELAWARE  2016  2.005010e+08\n",
      "7          FLORIDA  2016  2.131810e+08\n",
      "8          GEORGIA  2016  1.688037e+09\n",
      "9            IDAHO  2016  9.358890e+08\n",
      "10        ILLINOIS  2016  1.368658e+10\n",
      "11         INDIANA  2016  6.663627e+09\n",
      "12            IOWA  2016  1.434594e+10\n",
      "13          KANSAS  2016  6.263041e+09\n",
      "14        KENTUCKY  2016  1.855594e+09\n",
      "15       LOUISIANA  2016  1.325407e+09\n",
      "16           MAINE  2016  3.593000e+06\n",
      "17        MARYLAND  2016  5.194610e+08\n",
      "18        MICHIGAN  2016  2.422443e+09\n",
      "19       MINNESOTA  2016  9.069802e+09\n",
      "20     MISSISSIPPI  2016  2.020817e+09\n",
      "21        MISSOURI  2016  5.104477e+09\n",
      "22         MONTANA  2016  1.604812e+09\n",
      "23        NEBRASKA  2016  8.900241e+09\n",
      "24          NEVADA  2016  2.637000e+06\n",
      "25      NEW JERSEY  2016  7.956300e+07\n",
      "26      NEW MEXICO  2016  8.872400e+07\n",
      "27        NEW YORK  2016  4.559940e+08\n",
      "28  NORTH CAROLINA  2016  1.339588e+09\n",
      "29    NORTH DAKOTA  2016  6.783719e+09\n",
      "30            OHIO  2016  4.638306e+09\n",
      "31        OKLAHOMA  2016  1.067184e+09\n",
      "32          OREGON  2016  2.295890e+08\n",
      "33    PENNSYLVANIA  2016  8.095560e+08\n",
      "34  SOUTH CAROLINA  2016  4.504730e+08\n",
      "35    SOUTH DAKOTA  2016  5.571863e+09\n",
      "36       TENNESSEE  2016  1.521663e+09\n",
      "37           TEXAS  2016  5.348435e+09\n",
      "38            UTAH  2016  5.261500e+07\n",
      "39        VIRGINIA  2016  4.958800e+08\n",
      "40      WASHINGTON  2016  9.175970e+08\n",
      "41   WEST VIRGINIA  2016  3.342800e+07\n",
      "42       WISCONSIN  2016  2.965424e+09\n",
      "43         WYOMING  2016  1.138000e+08\n"
     ]
    }
   ],
   "source": [
    "sum_production = df.groupby(['State', 'Year'])[' PRODUCTION, MEASURED IN $'].sum().reset_index()\n",
    "mean_production = df.groupby(['State', 'Year'])[' PRODUCTION, MEASURED IN $'].mean().reset_index()\n",
    "\n",
    "# Rename columns for clarity\n",
    "sum_production.columns = ['State', 'Year', 'Production']\n",
    "mean_production.columns = ['State', 'Year', 'mean Production']\n",
    "\n",
    "print(sum_production)"
   ]
  },
  {
   "cell_type": "code",
   "execution_count": 9,
   "metadata": {},
   "outputs": [],
   "source": [
    "import plotly.express as px"
   ]
  },
  {
   "cell_type": "code",
   "execution_count": 34,
   "metadata": {},
   "outputs": [],
   "source": [
    "# Merge dataframes on the State column\n",
    "sum_production['State'] = sum_production['State'].str.title()\n",
    "combined_df = pd.merge(sum_production, average_temperatures, on='State')"
   ]
  },
  {
   "cell_type": "code",
   "execution_count": 35,
   "metadata": {},
   "outputs": [],
   "source": [
    "mean_production['State'] = mean_production['State'].str.title()"
   ]
  },
  {
   "cell_type": "code",
   "execution_count": 36,
   "metadata": {},
   "outputs": [],
   "source": [
    "combined_df = pd.merge(combined_df, mean_production, on='State')"
   ]
  },
  {
   "cell_type": "code",
   "execution_count": 37,
   "metadata": {},
   "outputs": [
    {
     "data": {
      "text/html": [
       "<div>\n",
       "<style scoped>\n",
       "    .dataframe tbody tr th:only-of-type {\n",
       "        vertical-align: middle;\n",
       "    }\n",
       "\n",
       "    .dataframe tbody tr th {\n",
       "        vertical-align: top;\n",
       "    }\n",
       "\n",
       "    .dataframe thead th {\n",
       "        text-align: right;\n",
       "    }\n",
       "</style>\n",
       "<table border=\"1\" class=\"dataframe\">\n",
       "  <thead>\n",
       "    <tr style=\"text-align: right;\">\n",
       "      <th></th>\n",
       "      <th>State</th>\n",
       "      <th>Year_x</th>\n",
       "      <th>Production</th>\n",
       "      <th>Year_y</th>\n",
       "      <th>Average Temperature</th>\n",
       "      <th>Year</th>\n",
       "      <th>mean Production</th>\n",
       "    </tr>\n",
       "  </thead>\n",
       "  <tbody>\n",
       "    <tr>\n",
       "      <th>0</th>\n",
       "      <td>Alabama</td>\n",
       "      <td>2016</td>\n",
       "      <td>7.224480e+08</td>\n",
       "      <td>2016</td>\n",
       "      <td>66.721154</td>\n",
       "      <td>2016</td>\n",
       "      <td>1.204080e+08</td>\n",
       "    </tr>\n",
       "    <tr>\n",
       "      <th>1</th>\n",
       "      <td>Alaska</td>\n",
       "      <td>2016</td>\n",
       "      <td>1.482000e+06</td>\n",
       "      <td>2016</td>\n",
       "      <td>41.413056</td>\n",
       "      <td>2016</td>\n",
       "      <td>7.410000e+05</td>\n",
       "    </tr>\n",
       "    <tr>\n",
       "      <th>2</th>\n",
       "      <td>Arizona</td>\n",
       "      <td>2016</td>\n",
       "      <td>1.588800e+08</td>\n",
       "      <td>2016</td>\n",
       "      <td>66.646154</td>\n",
       "      <td>2016</td>\n",
       "      <td>3.972000e+07</td>\n",
       "    </tr>\n",
       "    <tr>\n",
       "      <th>3</th>\n",
       "      <td>Arkansas</td>\n",
       "      <td>2016</td>\n",
       "      <td>3.279877e+09</td>\n",
       "      <td>2016</td>\n",
       "      <td>62.583333</td>\n",
       "      <td>2016</td>\n",
       "      <td>4.099846e+08</td>\n",
       "    </tr>\n",
       "    <tr>\n",
       "      <th>4</th>\n",
       "      <td>California</td>\n",
       "      <td>2016</td>\n",
       "      <td>1.068535e+09</td>\n",
       "      <td>2016</td>\n",
       "      <td>62.629969</td>\n",
       "      <td>2016</td>\n",
       "      <td>1.187261e+08</td>\n",
       "    </tr>\n",
       "    <tr>\n",
       "      <th>5</th>\n",
       "      <td>Colorado</td>\n",
       "      <td>2016</td>\n",
       "      <td>1.037120e+09</td>\n",
       "      <td>2016</td>\n",
       "      <td>49.724359</td>\n",
       "      <td>2016</td>\n",
       "      <td>1.296400e+08</td>\n",
       "    </tr>\n",
       "    <tr>\n",
       "      <th>6</th>\n",
       "      <td>Delaware</td>\n",
       "      <td>2016</td>\n",
       "      <td>2.005010e+08</td>\n",
       "      <td>2016</td>\n",
       "      <td>56.365385</td>\n",
       "      <td>2016</td>\n",
       "      <td>5.012525e+07</td>\n",
       "    </tr>\n",
       "    <tr>\n",
       "      <th>7</th>\n",
       "      <td>Florida</td>\n",
       "      <td>2016</td>\n",
       "      <td>2.131810e+08</td>\n",
       "      <td>2016</td>\n",
       "      <td>74.059295</td>\n",
       "      <td>2016</td>\n",
       "      <td>4.263620e+07</td>\n",
       "    </tr>\n",
       "    <tr>\n",
       "      <th>8</th>\n",
       "      <td>Georgia</td>\n",
       "      <td>2016</td>\n",
       "      <td>1.688037e+09</td>\n",
       "      <td>2016</td>\n",
       "      <td>66.451923</td>\n",
       "      <td>2016</td>\n",
       "      <td>2.110046e+08</td>\n",
       "    </tr>\n",
       "    <tr>\n",
       "      <th>9</th>\n",
       "      <td>Idaho</td>\n",
       "      <td>2016</td>\n",
       "      <td>9.358890e+08</td>\n",
       "      <td>2016</td>\n",
       "      <td>52.307692</td>\n",
       "      <td>2016</td>\n",
       "      <td>1.039877e+08</td>\n",
       "    </tr>\n",
       "    <tr>\n",
       "      <th>10</th>\n",
       "      <td>Illinois</td>\n",
       "      <td>2016</td>\n",
       "      <td>1.368658e+10</td>\n",
       "      <td>2016</td>\n",
       "      <td>53.740385</td>\n",
       "      <td>2016</td>\n",
       "      <td>2.737315e+09</td>\n",
       "    </tr>\n",
       "    <tr>\n",
       "      <th>11</th>\n",
       "      <td>Indiana</td>\n",
       "      <td>2016</td>\n",
       "      <td>6.663627e+09</td>\n",
       "      <td>2016</td>\n",
       "      <td>54.293269</td>\n",
       "      <td>2016</td>\n",
       "      <td>2.221209e+09</td>\n",
       "    </tr>\n",
       "    <tr>\n",
       "      <th>12</th>\n",
       "      <td>Iowa</td>\n",
       "      <td>2016</td>\n",
       "      <td>1.434594e+10</td>\n",
       "      <td>2016</td>\n",
       "      <td>51.188462</td>\n",
       "      <td>2016</td>\n",
       "      <td>2.869188e+09</td>\n",
       "    </tr>\n",
       "    <tr>\n",
       "      <th>13</th>\n",
       "      <td>Kansas</td>\n",
       "      <td>2016</td>\n",
       "      <td>6.263041e+09</td>\n",
       "      <td>2016</td>\n",
       "      <td>57.259615</td>\n",
       "      <td>2016</td>\n",
       "      <td>7.828801e+08</td>\n",
       "    </tr>\n",
       "    <tr>\n",
       "      <th>14</th>\n",
       "      <td>Kentucky</td>\n",
       "      <td>2016</td>\n",
       "      <td>1.855594e+09</td>\n",
       "      <td>2016</td>\n",
       "      <td>58.569231</td>\n",
       "      <td>2016</td>\n",
       "      <td>6.185313e+08</td>\n",
       "    </tr>\n",
       "    <tr>\n",
       "      <th>15</th>\n",
       "      <td>Louisiana</td>\n",
       "      <td>2016</td>\n",
       "      <td>1.325407e+09</td>\n",
       "      <td>2016</td>\n",
       "      <td>69.601562</td>\n",
       "      <td>2016</td>\n",
       "      <td>2.209012e+08</td>\n",
       "    </tr>\n",
       "    <tr>\n",
       "      <th>16</th>\n",
       "      <td>Maine</td>\n",
       "      <td>2016</td>\n",
       "      <td>3.593000e+06</td>\n",
       "      <td>2016</td>\n",
       "      <td>45.788462</td>\n",
       "      <td>2016</td>\n",
       "      <td>3.593000e+06</td>\n",
       "    </tr>\n",
       "    <tr>\n",
       "      <th>17</th>\n",
       "      <td>Maryland</td>\n",
       "      <td>2016</td>\n",
       "      <td>5.194610e+08</td>\n",
       "      <td>2016</td>\n",
       "      <td>57.269231</td>\n",
       "      <td>2016</td>\n",
       "      <td>1.298652e+08</td>\n",
       "    </tr>\n",
       "    <tr>\n",
       "      <th>18</th>\n",
       "      <td>Michigan</td>\n",
       "      <td>2016</td>\n",
       "      <td>2.422443e+09</td>\n",
       "      <td>2016</td>\n",
       "      <td>48.335470</td>\n",
       "      <td>2016</td>\n",
       "      <td>4.844886e+08</td>\n",
       "    </tr>\n",
       "    <tr>\n",
       "      <th>19</th>\n",
       "      <td>Minnesota</td>\n",
       "      <td>2016</td>\n",
       "      <td>9.069802e+09</td>\n",
       "      <td>2016</td>\n",
       "      <td>45.153846</td>\n",
       "      <td>2016</td>\n",
       "      <td>1.133725e+09</td>\n",
       "    </tr>\n",
       "    <tr>\n",
       "      <th>20</th>\n",
       "      <td>Mississippi</td>\n",
       "      <td>2016</td>\n",
       "      <td>2.020817e+09</td>\n",
       "      <td>2016</td>\n",
       "      <td>66.640110</td>\n",
       "      <td>2016</td>\n",
       "      <td>2.886881e+08</td>\n",
       "    </tr>\n",
       "    <tr>\n",
       "      <th>21</th>\n",
       "      <td>Missouri</td>\n",
       "      <td>2016</td>\n",
       "      <td>5.104477e+09</td>\n",
       "      <td>2016</td>\n",
       "      <td>57.752747</td>\n",
       "      <td>2016</td>\n",
       "      <td>7.292110e+08</td>\n",
       "    </tr>\n",
       "    <tr>\n",
       "      <th>22</th>\n",
       "      <td>Montana</td>\n",
       "      <td>2016</td>\n",
       "      <td>1.604812e+09</td>\n",
       "      <td>2016</td>\n",
       "      <td>46.110140</td>\n",
       "      <td>2016</td>\n",
       "      <td>1.604812e+08</td>\n",
       "    </tr>\n",
       "    <tr>\n",
       "      <th>23</th>\n",
       "      <td>Nebraska</td>\n",
       "      <td>2016</td>\n",
       "      <td>8.900241e+09</td>\n",
       "      <td>2016</td>\n",
       "      <td>52.024038</td>\n",
       "      <td>2016</td>\n",
       "      <td>9.889157e+08</td>\n",
       "    </tr>\n",
       "    <tr>\n",
       "      <th>24</th>\n",
       "      <td>Nevada</td>\n",
       "      <td>2016</td>\n",
       "      <td>2.637000e+06</td>\n",
       "      <td>2016</td>\n",
       "      <td>56.131410</td>\n",
       "      <td>2016</td>\n",
       "      <td>2.637000e+06</td>\n",
       "    </tr>\n",
       "    <tr>\n",
       "      <th>25</th>\n",
       "      <td>New Jersey</td>\n",
       "      <td>2016</td>\n",
       "      <td>7.956300e+07</td>\n",
       "      <td>2016</td>\n",
       "      <td>56.384615</td>\n",
       "      <td>2016</td>\n",
       "      <td>2.652100e+07</td>\n",
       "    </tr>\n",
       "    <tr>\n",
       "      <th>26</th>\n",
       "      <td>New Mexico</td>\n",
       "      <td>2016</td>\n",
       "      <td>8.872400e+07</td>\n",
       "      <td>2016</td>\n",
       "      <td>59.000000</td>\n",
       "      <td>2016</td>\n",
       "      <td>1.478733e+07</td>\n",
       "    </tr>\n",
       "    <tr>\n",
       "      <th>27</th>\n",
       "      <td>New York</td>\n",
       "      <td>2016</td>\n",
       "      <td>4.559940e+08</td>\n",
       "      <td>2016</td>\n",
       "      <td>51.372596</td>\n",
       "      <td>2016</td>\n",
       "      <td>1.139985e+08</td>\n",
       "    </tr>\n",
       "    <tr>\n",
       "      <th>28</th>\n",
       "      <td>North Carolina</td>\n",
       "      <td>2016</td>\n",
       "      <td>1.339588e+09</td>\n",
       "      <td>2016</td>\n",
       "      <td>62.019231</td>\n",
       "      <td>2016</td>\n",
       "      <td>1.913697e+08</td>\n",
       "    </tr>\n",
       "    <tr>\n",
       "      <th>29</th>\n",
       "      <td>North Dakota</td>\n",
       "      <td>2016</td>\n",
       "      <td>6.783719e+09</td>\n",
       "      <td>2016</td>\n",
       "      <td>45.696154</td>\n",
       "      <td>2016</td>\n",
       "      <td>5.653099e+08</td>\n",
       "    </tr>\n",
       "    <tr>\n",
       "      <th>30</th>\n",
       "      <td>Ohio</td>\n",
       "      <td>2016</td>\n",
       "      <td>4.638306e+09</td>\n",
       "      <td>2016</td>\n",
       "      <td>52.950549</td>\n",
       "      <td>2016</td>\n",
       "      <td>1.159576e+09</td>\n",
       "    </tr>\n",
       "    <tr>\n",
       "      <th>31</th>\n",
       "      <td>Oklahoma</td>\n",
       "      <td>2016</td>\n",
       "      <td>1.067184e+09</td>\n",
       "      <td>2016</td>\n",
       "      <td>62.086538</td>\n",
       "      <td>2016</td>\n",
       "      <td>1.185760e+08</td>\n",
       "    </tr>\n",
       "    <tr>\n",
       "      <th>32</th>\n",
       "      <td>Oregon</td>\n",
       "      <td>2016</td>\n",
       "      <td>2.295890e+08</td>\n",
       "      <td>2016</td>\n",
       "      <td>53.264423</td>\n",
       "      <td>2016</td>\n",
       "      <td>3.826483e+07</td>\n",
       "    </tr>\n",
       "    <tr>\n",
       "      <th>33</th>\n",
       "      <td>Pennsylvania</td>\n",
       "      <td>2016</td>\n",
       "      <td>8.095560e+08</td>\n",
       "      <td>2016</td>\n",
       "      <td>54.236264</td>\n",
       "      <td>2016</td>\n",
       "      <td>1.619112e+08</td>\n",
       "    </tr>\n",
       "    <tr>\n",
       "      <th>34</th>\n",
       "      <td>South Carolina</td>\n",
       "      <td>2016</td>\n",
       "      <td>4.504730e+08</td>\n",
       "      <td>2016</td>\n",
       "      <td>65.447115</td>\n",
       "      <td>2016</td>\n",
       "      <td>7.507883e+07</td>\n",
       "    </tr>\n",
       "    <tr>\n",
       "      <th>35</th>\n",
       "      <td>South Dakota</td>\n",
       "      <td>2016</td>\n",
       "      <td>5.571863e+09</td>\n",
       "      <td>2016</td>\n",
       "      <td>48.896154</td>\n",
       "      <td>2016</td>\n",
       "      <td>5.571863e+08</td>\n",
       "    </tr>\n",
       "    <tr>\n",
       "      <th>36</th>\n",
       "      <td>Tennessee</td>\n",
       "      <td>2016</td>\n",
       "      <td>1.521663e+09</td>\n",
       "      <td>2016</td>\n",
       "      <td>61.082524</td>\n",
       "      <td>2016</td>\n",
       "      <td>3.804158e+08</td>\n",
       "    </tr>\n",
       "    <tr>\n",
       "      <th>37</th>\n",
       "      <td>Texas</td>\n",
       "      <td>2016</td>\n",
       "      <td>5.348435e+09</td>\n",
       "      <td>2016</td>\n",
       "      <td>68.371795</td>\n",
       "      <td>2016</td>\n",
       "      <td>5.348435e+08</td>\n",
       "    </tr>\n",
       "    <tr>\n",
       "      <th>38</th>\n",
       "      <td>Utah</td>\n",
       "      <td>2016</td>\n",
       "      <td>5.261500e+07</td>\n",
       "      <td>2016</td>\n",
       "      <td>56.423077</td>\n",
       "      <td>2016</td>\n",
       "      <td>1.315375e+07</td>\n",
       "    </tr>\n",
       "    <tr>\n",
       "      <th>39</th>\n",
       "      <td>Virginia</td>\n",
       "      <td>2016</td>\n",
       "      <td>4.958800e+08</td>\n",
       "      <td>2016</td>\n",
       "      <td>59.173077</td>\n",
       "      <td>2016</td>\n",
       "      <td>8.264667e+07</td>\n",
       "    </tr>\n",
       "    <tr>\n",
       "      <th>40</th>\n",
       "      <td>Washington</td>\n",
       "      <td>2016</td>\n",
       "      <td>9.175970e+08</td>\n",
       "      <td>2016</td>\n",
       "      <td>51.774725</td>\n",
       "      <td>2016</td>\n",
       "      <td>1.146996e+08</td>\n",
       "    </tr>\n",
       "    <tr>\n",
       "      <th>41</th>\n",
       "      <td>West Virginia</td>\n",
       "      <td>2016</td>\n",
       "      <td>3.342800e+07</td>\n",
       "      <td>2016</td>\n",
       "      <td>55.293269</td>\n",
       "      <td>2016</td>\n",
       "      <td>1.114267e+07</td>\n",
       "    </tr>\n",
       "    <tr>\n",
       "      <th>42</th>\n",
       "      <td>Wisconsin</td>\n",
       "      <td>2016</td>\n",
       "      <td>2.965424e+09</td>\n",
       "      <td>2016</td>\n",
       "      <td>49.562500</td>\n",
       "      <td>2016</td>\n",
       "      <td>7.413560e+08</td>\n",
       "    </tr>\n",
       "    <tr>\n",
       "      <th>43</th>\n",
       "      <td>Wyoming</td>\n",
       "      <td>2016</td>\n",
       "      <td>1.138000e+08</td>\n",
       "      <td>2016</td>\n",
       "      <td>46.938462</td>\n",
       "      <td>2016</td>\n",
       "      <td>2.276000e+07</td>\n",
       "    </tr>\n",
       "  </tbody>\n",
       "</table>\n",
       "</div>"
      ],
      "text/plain": [
       "             State  Year_x    Production  Year_y  Average Temperature  Year  \\\n",
       "0          Alabama    2016  7.224480e+08    2016            66.721154  2016   \n",
       "1           Alaska    2016  1.482000e+06    2016            41.413056  2016   \n",
       "2          Arizona    2016  1.588800e+08    2016            66.646154  2016   \n",
       "3         Arkansas    2016  3.279877e+09    2016            62.583333  2016   \n",
       "4       California    2016  1.068535e+09    2016            62.629969  2016   \n",
       "5         Colorado    2016  1.037120e+09    2016            49.724359  2016   \n",
       "6         Delaware    2016  2.005010e+08    2016            56.365385  2016   \n",
       "7          Florida    2016  2.131810e+08    2016            74.059295  2016   \n",
       "8          Georgia    2016  1.688037e+09    2016            66.451923  2016   \n",
       "9            Idaho    2016  9.358890e+08    2016            52.307692  2016   \n",
       "10        Illinois    2016  1.368658e+10    2016            53.740385  2016   \n",
       "11         Indiana    2016  6.663627e+09    2016            54.293269  2016   \n",
       "12            Iowa    2016  1.434594e+10    2016            51.188462  2016   \n",
       "13          Kansas    2016  6.263041e+09    2016            57.259615  2016   \n",
       "14        Kentucky    2016  1.855594e+09    2016            58.569231  2016   \n",
       "15       Louisiana    2016  1.325407e+09    2016            69.601562  2016   \n",
       "16           Maine    2016  3.593000e+06    2016            45.788462  2016   \n",
       "17        Maryland    2016  5.194610e+08    2016            57.269231  2016   \n",
       "18        Michigan    2016  2.422443e+09    2016            48.335470  2016   \n",
       "19       Minnesota    2016  9.069802e+09    2016            45.153846  2016   \n",
       "20     Mississippi    2016  2.020817e+09    2016            66.640110  2016   \n",
       "21        Missouri    2016  5.104477e+09    2016            57.752747  2016   \n",
       "22         Montana    2016  1.604812e+09    2016            46.110140  2016   \n",
       "23        Nebraska    2016  8.900241e+09    2016            52.024038  2016   \n",
       "24          Nevada    2016  2.637000e+06    2016            56.131410  2016   \n",
       "25      New Jersey    2016  7.956300e+07    2016            56.384615  2016   \n",
       "26      New Mexico    2016  8.872400e+07    2016            59.000000  2016   \n",
       "27        New York    2016  4.559940e+08    2016            51.372596  2016   \n",
       "28  North Carolina    2016  1.339588e+09    2016            62.019231  2016   \n",
       "29    North Dakota    2016  6.783719e+09    2016            45.696154  2016   \n",
       "30            Ohio    2016  4.638306e+09    2016            52.950549  2016   \n",
       "31        Oklahoma    2016  1.067184e+09    2016            62.086538  2016   \n",
       "32          Oregon    2016  2.295890e+08    2016            53.264423  2016   \n",
       "33    Pennsylvania    2016  8.095560e+08    2016            54.236264  2016   \n",
       "34  South Carolina    2016  4.504730e+08    2016            65.447115  2016   \n",
       "35    South Dakota    2016  5.571863e+09    2016            48.896154  2016   \n",
       "36       Tennessee    2016  1.521663e+09    2016            61.082524  2016   \n",
       "37           Texas    2016  5.348435e+09    2016            68.371795  2016   \n",
       "38            Utah    2016  5.261500e+07    2016            56.423077  2016   \n",
       "39        Virginia    2016  4.958800e+08    2016            59.173077  2016   \n",
       "40      Washington    2016  9.175970e+08    2016            51.774725  2016   \n",
       "41   West Virginia    2016  3.342800e+07    2016            55.293269  2016   \n",
       "42       Wisconsin    2016  2.965424e+09    2016            49.562500  2016   \n",
       "43         Wyoming    2016  1.138000e+08    2016            46.938462  2016   \n",
       "\n",
       "    mean Production  \n",
       "0      1.204080e+08  \n",
       "1      7.410000e+05  \n",
       "2      3.972000e+07  \n",
       "3      4.099846e+08  \n",
       "4      1.187261e+08  \n",
       "5      1.296400e+08  \n",
       "6      5.012525e+07  \n",
       "7      4.263620e+07  \n",
       "8      2.110046e+08  \n",
       "9      1.039877e+08  \n",
       "10     2.737315e+09  \n",
       "11     2.221209e+09  \n",
       "12     2.869188e+09  \n",
       "13     7.828801e+08  \n",
       "14     6.185313e+08  \n",
       "15     2.209012e+08  \n",
       "16     3.593000e+06  \n",
       "17     1.298652e+08  \n",
       "18     4.844886e+08  \n",
       "19     1.133725e+09  \n",
       "20     2.886881e+08  \n",
       "21     7.292110e+08  \n",
       "22     1.604812e+08  \n",
       "23     9.889157e+08  \n",
       "24     2.637000e+06  \n",
       "25     2.652100e+07  \n",
       "26     1.478733e+07  \n",
       "27     1.139985e+08  \n",
       "28     1.913697e+08  \n",
       "29     5.653099e+08  \n",
       "30     1.159576e+09  \n",
       "31     1.185760e+08  \n",
       "32     3.826483e+07  \n",
       "33     1.619112e+08  \n",
       "34     7.507883e+07  \n",
       "35     5.571863e+08  \n",
       "36     3.804158e+08  \n",
       "37     5.348435e+08  \n",
       "38     1.315375e+07  \n",
       "39     8.264667e+07  \n",
       "40     1.146996e+08  \n",
       "41     1.114267e+07  \n",
       "42     7.413560e+08  \n",
       "43     2.276000e+07  "
      ]
     },
     "execution_count": 37,
     "metadata": {},
     "output_type": "execute_result"
    }
   ],
   "source": [
    "combined_df"
   ]
  },
  {
   "cell_type": "code",
   "execution_count": 38,
   "metadata": {},
   "outputs": [
    {
     "name": "stdout",
     "output_type": "stream",
     "text": [
      "        State  Year_x    Production  Year_y  Average Temperature  Year  \\\n",
      "0     Alabama    2016  7.224480e+08    2016            66.721154  2016   \n",
      "1      Alaska    2016  1.482000e+06    2016            41.413056  2016   \n",
      "2     Arizona    2016  1.588800e+08    2016            66.646154  2016   \n",
      "3    Arkansas    2016  3.279877e+09    2016            62.583333  2016   \n",
      "4  California    2016  1.068535e+09    2016            62.629969  2016   \n",
      "\n",
      "   mean Production  \n",
      "0     1.204080e+08  \n",
      "1     7.410000e+05  \n",
      "2     3.972000e+07  \n",
      "3     4.099846e+08  \n",
      "4     1.187261e+08  \n",
      "State                  0\n",
      "Production             0\n",
      "Average Temperature    0\n",
      "mean Production        0\n",
      "dtype: int64\n"
     ]
    }
   ],
   "source": [
    "# Check the first few rows of the DataFrame\n",
    "print(combined_df.head())\n",
    "\n",
    "# Check for any NaN values in the columns used\n",
    "print(combined_df[['State', 'Production', 'Average Temperature', 'mean Production']].isnull().sum())\n"
   ]
  },
  {
   "cell_type": "code",
   "execution_count": 39,
   "metadata": {},
   "outputs": [],
   "source": [
    "# Map of state names to abbreviations if using abbreviations\n",
    "state_abbrev = {\n",
    "    'Alabama': 'AL', 'Alaska': 'AK', 'Arizona': 'AZ', 'Arkansas': 'AR', 'California': 'CA',\n",
    "    'Colorado': 'CO', 'Connecticut': 'CT', 'Delaware': 'DE', 'Florida': 'FL',\n",
    "    'Georgia': 'GA', 'Hawaii': 'HI', 'Idaho': 'ID', 'Illinois': 'IL',\n",
    "    'Indiana': 'IN', 'Iowa': 'IA', 'Kansas': 'KS', 'Kentucky': 'KY',\n",
    "    'Louisiana': 'LA', 'Maine': 'ME', 'Maryland': 'MD', 'Massachusetts': 'MA',\n",
    "    'Michigan': 'MI', 'Minnesota': 'MN', 'Mississippi': 'MS', 'Missouri': 'MO',\n",
    "    'Montana': 'MT', 'Nebraska': 'NE', 'Nevada': 'NV', 'New Hampshire': 'NH',\n",
    "    'New Jersey': 'NJ', 'New Mexico': 'NM', 'New York': 'NY', 'North Carolina': 'NC',\n",
    "    'North Dakota': 'ND', 'Ohio': 'OH', 'Oklahoma': 'OK', 'Oregon': 'OR',\n",
    "    'Pennsylvania': 'PA', 'Rhode Island': 'RI', 'South Carolina': 'SC',\n",
    "    'South Dakota': 'SD', 'Tennessee': 'TN', 'Texas': 'TX', 'Utah': 'UT',\n",
    "    'Vermont': 'VT', 'Virginia': 'VA', 'Washington': 'WA', 'West Virginia': 'WV',\n",
    "    'Wisconsin': 'WI', 'Wyoming': 'WY'\n",
    "}\n",
    "combined_df['State'] = combined_df['State'].map(state_abbrev)\n"
   ]
  },
  {
   "cell_type": "code",
   "execution_count": 40,
   "metadata": {},
   "outputs": [
    {
     "data": {
      "application/vnd.plotly.v1+json": {
       "config": {
        "plotlyServerURL": "https://plot.ly"
       },
       "data": [
        {
         "coloraxis": "coloraxis",
         "customdata": [
          [
           722448000,
           66.72115384615384
          ],
          [
           1482000,
           41.41305637982196
          ],
          [
           158880000,
           66.64615384615385
          ],
          [
           3279877000,
           62.583333333333336
          ],
          [
           1068535000,
           62.62996941896024
          ],
          [
           1037120000,
           49.72435897435897
          ],
          [
           200501000,
           56.36538461538461
          ],
          [
           213181000,
           74.05929487179488
          ],
          [
           1688037000,
           66.45192307692308
          ],
          [
           935889000,
           52.30769230769231
          ],
          [
           13686577000,
           53.74038461538461
          ],
          [
           6663627000,
           54.29326923076923
          ],
          [
           14345938000,
           51.18846153846154
          ],
          [
           6263041000,
           57.25961538461539
          ],
          [
           1855594000,
           58.56923076923077
          ],
          [
           1325407000,
           69.6015625
          ],
          [
           3593000,
           45.78846153846154
          ],
          [
           519461000,
           57.26923076923077
          ],
          [
           2422443000,
           48.335470085470085
          ],
          [
           9069802000,
           45.15384615384615
          ],
          [
           2020817000,
           66.64010989010988
          ],
          [
           5104477000,
           57.752747252747255
          ],
          [
           1604812000,
           46.11013986013986
          ],
          [
           8900241000,
           52.02403846153846
          ],
          [
           2637000,
           56.131410256410255
          ],
          [
           79563000,
           56.38461538461539
          ],
          [
           88724000,
           59
          ],
          [
           455994000,
           51.37259615384615
          ],
          [
           1339588000,
           62.01923076923077
          ],
          [
           6783719000,
           45.69615384615385
          ],
          [
           4638306000,
           52.95054945054945
          ],
          [
           1067184000,
           62.08653846153846
          ],
          [
           229589000,
           53.26442307692308
          ],
          [
           809556000,
           54.23626373626374
          ],
          [
           450473000,
           65.44711538461539
          ],
          [
           5571863000,
           48.896153846153844
          ],
          [
           1521663000,
           61.08252427184466
          ],
          [
           5348435000,
           68.37179487179488
          ],
          [
           52615000,
           56.42307692307692
          ],
          [
           495880000,
           59.17307692307692
          ],
          [
           917597000,
           51.77472527472528
          ],
          [
           33428000,
           55.29326923076923
          ],
          [
           2965424000,
           49.5625
          ],
          [
           113800000,
           46.93846153846154
          ]
         ],
         "geo": "geo",
         "hovertemplate": "<b>%{hovertext}</b><br><br>State=%{location}<br>Total Crop Yield=%{z}<br>Average Temperature=%{customdata[1]}<extra></extra>",
         "hovertext": [
          "AL",
          "AK",
          "AZ",
          "AR",
          "CA",
          "CO",
          "DE",
          "FL",
          "GA",
          "ID",
          "IL",
          "IN",
          "IA",
          "KS",
          "KY",
          "LA",
          "ME",
          "MD",
          "MI",
          "MN",
          "MS",
          "MO",
          "MT",
          "NE",
          "NV",
          "NJ",
          "NM",
          "NY",
          "NC",
          "ND",
          "OH",
          "OK",
          "OR",
          "PA",
          "SC",
          "SD",
          "TN",
          "TX",
          "UT",
          "VA",
          "WA",
          "WV",
          "WI",
          "WY"
         ],
         "locationmode": "USA-states",
         "locations": [
          "AL",
          "AK",
          "AZ",
          "AR",
          "CA",
          "CO",
          "DE",
          "FL",
          "GA",
          "ID",
          "IL",
          "IN",
          "IA",
          "KS",
          "KY",
          "LA",
          "ME",
          "MD",
          "MI",
          "MN",
          "MS",
          "MO",
          "MT",
          "NE",
          "NV",
          "NJ",
          "NM",
          "NY",
          "NC",
          "ND",
          "OH",
          "OK",
          "OR",
          "PA",
          "SC",
          "SD",
          "TN",
          "TX",
          "UT",
          "VA",
          "WA",
          "WV",
          "WI",
          "WY"
         ],
         "name": "",
         "type": "choropleth",
         "z": [
          722448000,
          1482000,
          158880000,
          3279877000,
          1068535000,
          1037120000,
          200501000,
          213181000,
          1688037000,
          935889000,
          13686577000,
          6663627000,
          14345938000,
          6263041000,
          1855594000,
          1325407000,
          3593000,
          519461000,
          2422443000,
          9069802000,
          2020817000,
          5104477000,
          1604812000,
          8900241000,
          2637000,
          79563000,
          88724000,
          455994000,
          1339588000,
          6783719000,
          4638306000,
          1067184000,
          229589000,
          809556000,
          450473000,
          5571863000,
          1521663000,
          5348435000,
          52615000,
          495880000,
          917597000,
          33428000,
          2965424000,
          113800000
         ]
        }
       ],
       "layout": {
        "coloraxis": {
         "colorbar": {
          "title": {
           "text": "Total Crop Yield"
          }
         },
         "colorscale": [
          [
           0,
           "#0d0887"
          ],
          [
           0.1111111111111111,
           "#46039f"
          ],
          [
           0.2222222222222222,
           "#7201a8"
          ],
          [
           0.3333333333333333,
           "#9c179e"
          ],
          [
           0.4444444444444444,
           "#bd3786"
          ],
          [
           0.5555555555555556,
           "#d8576b"
          ],
          [
           0.6666666666666666,
           "#ed7953"
          ],
          [
           0.7777777777777778,
           "#fb9f3a"
          ],
          [
           0.8888888888888888,
           "#fdca26"
          ],
          [
           1,
           "#f0f921"
          ]
         ]
        },
        "geo": {
         "center": {},
         "domain": {
          "x": [
           0,
           1
          ],
          "y": [
           0,
           1
          ]
         },
         "scope": "usa"
        },
        "legend": {
         "tracegroupgap": 0
        },
        "template": {
         "data": {
          "bar": [
           {
            "error_x": {
             "color": "#2a3f5f"
            },
            "error_y": {
             "color": "#2a3f5f"
            },
            "marker": {
             "line": {
              "color": "#E5ECF6",
              "width": 0.5
             },
             "pattern": {
              "fillmode": "overlay",
              "size": 10,
              "solidity": 0.2
             }
            },
            "type": "bar"
           }
          ],
          "barpolar": [
           {
            "marker": {
             "line": {
              "color": "#E5ECF6",
              "width": 0.5
             },
             "pattern": {
              "fillmode": "overlay",
              "size": 10,
              "solidity": 0.2
             }
            },
            "type": "barpolar"
           }
          ],
          "carpet": [
           {
            "aaxis": {
             "endlinecolor": "#2a3f5f",
             "gridcolor": "white",
             "linecolor": "white",
             "minorgridcolor": "white",
             "startlinecolor": "#2a3f5f"
            },
            "baxis": {
             "endlinecolor": "#2a3f5f",
             "gridcolor": "white",
             "linecolor": "white",
             "minorgridcolor": "white",
             "startlinecolor": "#2a3f5f"
            },
            "type": "carpet"
           }
          ],
          "choropleth": [
           {
            "colorbar": {
             "outlinewidth": 0,
             "ticks": ""
            },
            "type": "choropleth"
           }
          ],
          "contour": [
           {
            "colorbar": {
             "outlinewidth": 0,
             "ticks": ""
            },
            "colorscale": [
             [
              0,
              "#0d0887"
             ],
             [
              0.1111111111111111,
              "#46039f"
             ],
             [
              0.2222222222222222,
              "#7201a8"
             ],
             [
              0.3333333333333333,
              "#9c179e"
             ],
             [
              0.4444444444444444,
              "#bd3786"
             ],
             [
              0.5555555555555556,
              "#d8576b"
             ],
             [
              0.6666666666666666,
              "#ed7953"
             ],
             [
              0.7777777777777778,
              "#fb9f3a"
             ],
             [
              0.8888888888888888,
              "#fdca26"
             ],
             [
              1,
              "#f0f921"
             ]
            ],
            "type": "contour"
           }
          ],
          "contourcarpet": [
           {
            "colorbar": {
             "outlinewidth": 0,
             "ticks": ""
            },
            "type": "contourcarpet"
           }
          ],
          "heatmap": [
           {
            "colorbar": {
             "outlinewidth": 0,
             "ticks": ""
            },
            "colorscale": [
             [
              0,
              "#0d0887"
             ],
             [
              0.1111111111111111,
              "#46039f"
             ],
             [
              0.2222222222222222,
              "#7201a8"
             ],
             [
              0.3333333333333333,
              "#9c179e"
             ],
             [
              0.4444444444444444,
              "#bd3786"
             ],
             [
              0.5555555555555556,
              "#d8576b"
             ],
             [
              0.6666666666666666,
              "#ed7953"
             ],
             [
              0.7777777777777778,
              "#fb9f3a"
             ],
             [
              0.8888888888888888,
              "#fdca26"
             ],
             [
              1,
              "#f0f921"
             ]
            ],
            "type": "heatmap"
           }
          ],
          "heatmapgl": [
           {
            "colorbar": {
             "outlinewidth": 0,
             "ticks": ""
            },
            "colorscale": [
             [
              0,
              "#0d0887"
             ],
             [
              0.1111111111111111,
              "#46039f"
             ],
             [
              0.2222222222222222,
              "#7201a8"
             ],
             [
              0.3333333333333333,
              "#9c179e"
             ],
             [
              0.4444444444444444,
              "#bd3786"
             ],
             [
              0.5555555555555556,
              "#d8576b"
             ],
             [
              0.6666666666666666,
              "#ed7953"
             ],
             [
              0.7777777777777778,
              "#fb9f3a"
             ],
             [
              0.8888888888888888,
              "#fdca26"
             ],
             [
              1,
              "#f0f921"
             ]
            ],
            "type": "heatmapgl"
           }
          ],
          "histogram": [
           {
            "marker": {
             "pattern": {
              "fillmode": "overlay",
              "size": 10,
              "solidity": 0.2
             }
            },
            "type": "histogram"
           }
          ],
          "histogram2d": [
           {
            "colorbar": {
             "outlinewidth": 0,
             "ticks": ""
            },
            "colorscale": [
             [
              0,
              "#0d0887"
             ],
             [
              0.1111111111111111,
              "#46039f"
             ],
             [
              0.2222222222222222,
              "#7201a8"
             ],
             [
              0.3333333333333333,
              "#9c179e"
             ],
             [
              0.4444444444444444,
              "#bd3786"
             ],
             [
              0.5555555555555556,
              "#d8576b"
             ],
             [
              0.6666666666666666,
              "#ed7953"
             ],
             [
              0.7777777777777778,
              "#fb9f3a"
             ],
             [
              0.8888888888888888,
              "#fdca26"
             ],
             [
              1,
              "#f0f921"
             ]
            ],
            "type": "histogram2d"
           }
          ],
          "histogram2dcontour": [
           {
            "colorbar": {
             "outlinewidth": 0,
             "ticks": ""
            },
            "colorscale": [
             [
              0,
              "#0d0887"
             ],
             [
              0.1111111111111111,
              "#46039f"
             ],
             [
              0.2222222222222222,
              "#7201a8"
             ],
             [
              0.3333333333333333,
              "#9c179e"
             ],
             [
              0.4444444444444444,
              "#bd3786"
             ],
             [
              0.5555555555555556,
              "#d8576b"
             ],
             [
              0.6666666666666666,
              "#ed7953"
             ],
             [
              0.7777777777777778,
              "#fb9f3a"
             ],
             [
              0.8888888888888888,
              "#fdca26"
             ],
             [
              1,
              "#f0f921"
             ]
            ],
            "type": "histogram2dcontour"
           }
          ],
          "mesh3d": [
           {
            "colorbar": {
             "outlinewidth": 0,
             "ticks": ""
            },
            "type": "mesh3d"
           }
          ],
          "parcoords": [
           {
            "line": {
             "colorbar": {
              "outlinewidth": 0,
              "ticks": ""
             }
            },
            "type": "parcoords"
           }
          ],
          "pie": [
           {
            "automargin": true,
            "type": "pie"
           }
          ],
          "scatter": [
           {
            "fillpattern": {
             "fillmode": "overlay",
             "size": 10,
             "solidity": 0.2
            },
            "type": "scatter"
           }
          ],
          "scatter3d": [
           {
            "line": {
             "colorbar": {
              "outlinewidth": 0,
              "ticks": ""
             }
            },
            "marker": {
             "colorbar": {
              "outlinewidth": 0,
              "ticks": ""
             }
            },
            "type": "scatter3d"
           }
          ],
          "scattercarpet": [
           {
            "marker": {
             "colorbar": {
              "outlinewidth": 0,
              "ticks": ""
             }
            },
            "type": "scattercarpet"
           }
          ],
          "scattergeo": [
           {
            "marker": {
             "colorbar": {
              "outlinewidth": 0,
              "ticks": ""
             }
            },
            "type": "scattergeo"
           }
          ],
          "scattergl": [
           {
            "marker": {
             "colorbar": {
              "outlinewidth": 0,
              "ticks": ""
             }
            },
            "type": "scattergl"
           }
          ],
          "scattermapbox": [
           {
            "marker": {
             "colorbar": {
              "outlinewidth": 0,
              "ticks": ""
             }
            },
            "type": "scattermapbox"
           }
          ],
          "scatterpolar": [
           {
            "marker": {
             "colorbar": {
              "outlinewidth": 0,
              "ticks": ""
             }
            },
            "type": "scatterpolar"
           }
          ],
          "scatterpolargl": [
           {
            "marker": {
             "colorbar": {
              "outlinewidth": 0,
              "ticks": ""
             }
            },
            "type": "scatterpolargl"
           }
          ],
          "scatterternary": [
           {
            "marker": {
             "colorbar": {
              "outlinewidth": 0,
              "ticks": ""
             }
            },
            "type": "scatterternary"
           }
          ],
          "surface": [
           {
            "colorbar": {
             "outlinewidth": 0,
             "ticks": ""
            },
            "colorscale": [
             [
              0,
              "#0d0887"
             ],
             [
              0.1111111111111111,
              "#46039f"
             ],
             [
              0.2222222222222222,
              "#7201a8"
             ],
             [
              0.3333333333333333,
              "#9c179e"
             ],
             [
              0.4444444444444444,
              "#bd3786"
             ],
             [
              0.5555555555555556,
              "#d8576b"
             ],
             [
              0.6666666666666666,
              "#ed7953"
             ],
             [
              0.7777777777777778,
              "#fb9f3a"
             ],
             [
              0.8888888888888888,
              "#fdca26"
             ],
             [
              1,
              "#f0f921"
             ]
            ],
            "type": "surface"
           }
          ],
          "table": [
           {
            "cells": {
             "fill": {
              "color": "#EBF0F8"
             },
             "line": {
              "color": "white"
             }
            },
            "header": {
             "fill": {
              "color": "#C8D4E3"
             },
             "line": {
              "color": "white"
             }
            },
            "type": "table"
           }
          ]
         },
         "layout": {
          "annotationdefaults": {
           "arrowcolor": "#2a3f5f",
           "arrowhead": 0,
           "arrowwidth": 1
          },
          "autotypenumbers": "strict",
          "coloraxis": {
           "colorbar": {
            "outlinewidth": 0,
            "ticks": ""
           }
          },
          "colorscale": {
           "diverging": [
            [
             0,
             "#8e0152"
            ],
            [
             0.1,
             "#c51b7d"
            ],
            [
             0.2,
             "#de77ae"
            ],
            [
             0.3,
             "#f1b6da"
            ],
            [
             0.4,
             "#fde0ef"
            ],
            [
             0.5,
             "#f7f7f7"
            ],
            [
             0.6,
             "#e6f5d0"
            ],
            [
             0.7,
             "#b8e186"
            ],
            [
             0.8,
             "#7fbc41"
            ],
            [
             0.9,
             "#4d9221"
            ],
            [
             1,
             "#276419"
            ]
           ],
           "sequential": [
            [
             0,
             "#0d0887"
            ],
            [
             0.1111111111111111,
             "#46039f"
            ],
            [
             0.2222222222222222,
             "#7201a8"
            ],
            [
             0.3333333333333333,
             "#9c179e"
            ],
            [
             0.4444444444444444,
             "#bd3786"
            ],
            [
             0.5555555555555556,
             "#d8576b"
            ],
            [
             0.6666666666666666,
             "#ed7953"
            ],
            [
             0.7777777777777778,
             "#fb9f3a"
            ],
            [
             0.8888888888888888,
             "#fdca26"
            ],
            [
             1,
             "#f0f921"
            ]
           ],
           "sequentialminus": [
            [
             0,
             "#0d0887"
            ],
            [
             0.1111111111111111,
             "#46039f"
            ],
            [
             0.2222222222222222,
             "#7201a8"
            ],
            [
             0.3333333333333333,
             "#9c179e"
            ],
            [
             0.4444444444444444,
             "#bd3786"
            ],
            [
             0.5555555555555556,
             "#d8576b"
            ],
            [
             0.6666666666666666,
             "#ed7953"
            ],
            [
             0.7777777777777778,
             "#fb9f3a"
            ],
            [
             0.8888888888888888,
             "#fdca26"
            ],
            [
             1,
             "#f0f921"
            ]
           ]
          },
          "colorway": [
           "#636efa",
           "#EF553B",
           "#00cc96",
           "#ab63fa",
           "#FFA15A",
           "#19d3f3",
           "#FF6692",
           "#B6E880",
           "#FF97FF",
           "#FECB52"
          ],
          "font": {
           "color": "#2a3f5f"
          },
          "geo": {
           "bgcolor": "white",
           "lakecolor": "white",
           "landcolor": "#E5ECF6",
           "showlakes": true,
           "showland": true,
           "subunitcolor": "white"
          },
          "hoverlabel": {
           "align": "left"
          },
          "hovermode": "closest",
          "mapbox": {
           "style": "light"
          },
          "paper_bgcolor": "white",
          "plot_bgcolor": "#E5ECF6",
          "polar": {
           "angularaxis": {
            "gridcolor": "white",
            "linecolor": "white",
            "ticks": ""
           },
           "bgcolor": "#E5ECF6",
           "radialaxis": {
            "gridcolor": "white",
            "linecolor": "white",
            "ticks": ""
           }
          },
          "scene": {
           "xaxis": {
            "backgroundcolor": "#E5ECF6",
            "gridcolor": "white",
            "gridwidth": 2,
            "linecolor": "white",
            "showbackground": true,
            "ticks": "",
            "zerolinecolor": "white"
           },
           "yaxis": {
            "backgroundcolor": "#E5ECF6",
            "gridcolor": "white",
            "gridwidth": 2,
            "linecolor": "white",
            "showbackground": true,
            "ticks": "",
            "zerolinecolor": "white"
           },
           "zaxis": {
            "backgroundcolor": "#E5ECF6",
            "gridcolor": "white",
            "gridwidth": 2,
            "linecolor": "white",
            "showbackground": true,
            "ticks": "",
            "zerolinecolor": "white"
           }
          },
          "shapedefaults": {
           "line": {
            "color": "#2a3f5f"
           }
          },
          "ternary": {
           "aaxis": {
            "gridcolor": "white",
            "linecolor": "white",
            "ticks": ""
           },
           "baxis": {
            "gridcolor": "white",
            "linecolor": "white",
            "ticks": ""
           },
           "bgcolor": "#E5ECF6",
           "caxis": {
            "gridcolor": "white",
            "linecolor": "white",
            "ticks": ""
           }
          },
          "title": {
           "x": 0.05
          },
          "xaxis": {
           "automargin": true,
           "gridcolor": "white",
           "linecolor": "white",
           "ticks": "",
           "title": {
            "standoff": 15
           },
           "zerolinecolor": "white",
           "zerolinewidth": 2
          },
          "yaxis": {
           "automargin": true,
           "gridcolor": "white",
           "linecolor": "white",
           "ticks": "",
           "title": {
            "standoff": 15
           },
           "zerolinecolor": "white",
           "zerolinewidth": 2
          }
         }
        },
        "title": {
         "text": "Average Crop Yield and Temperature by State"
        }
       }
      }
     },
     "metadata": {},
     "output_type": "display_data"
    }
   ],
   "source": [
    "# Assume we have 'Yield' in df and 'AvgTemp' in df1 as the columns after merging\n",
    "# Create a choropleth map\n",
    "fig = px.choropleth(combined_df,\n",
    "                    locations=\"State\",  # This uses the 'State' column for locations\n",
    "                    locationmode='USA-states',  # Maps to the geographical outlines of US states\n",
    "                    scope=\"usa\",  # Limits the map scope to the USA\n",
    "                    color=\"Production\",  # Feature that will determine the color scale\n",
    "                    hover_name=\"State\",  # Feature to display in hover information\n",
    "                    hover_data=[\"Production\", \"Average Temperature\"],  # Additional data to show on hover\n",
    "                    title=\"Average Crop Yield and Temperature by State\",\n",
    "                    #template=\"plotly_dark\",  # Optional: chooses a theme for the map\n",
    "                    labels={\"Production\": \"Total Crop Yield\", \"Average Temperature\": \"Average Temperature\"}  # Renaming labels for clarity\n",
    "                   )\n",
    "\n",
    "# Show the plot\n",
    "fig.show()"
   ]
  },
  {
   "cell_type": "code",
   "execution_count": 41,
   "metadata": {},
   "outputs": [],
   "source": [
    "import plotly.graph_objects as go\n",
    "from plotly.subplots import make_subplots"
   ]
  },
  {
   "cell_type": "code",
   "execution_count": 46,
   "metadata": {},
   "outputs": [],
   "source": [
    "state_names = {\n",
    "    'AL': 'Alabama',\n",
    "    'AK': 'Alaska',\n",
    "    'AZ': 'Arizona',\n",
    "    'AR': 'Arkansas',\n",
    "    'CA': 'California',\n",
    "    'CO': 'Colorado',\n",
    "    'CT': 'Connecticut',\n",
    "    'DE': 'Delaware',\n",
    "    'FL': 'Florida',\n",
    "    'GA': 'Georgia',\n",
    "    'HI': 'Hawaii',\n",
    "    'ID': 'Idaho',\n",
    "    'IL': 'Illinois',\n",
    "    'IN': 'Indiana',\n",
    "    'IA': 'Iowa',\n",
    "    'KS': 'Kansas',\n",
    "    'KY': 'Kentucky',\n",
    "    'LA': 'Louisiana',\n",
    "    'ME': 'Maine',\n",
    "    'MD': 'Maryland',\n",
    "    'MA': 'Massachusetts',\n",
    "    'MI': 'Michigan',\n",
    "    'MN': 'Minnesota',\n",
    "    'MS': 'Mississippi',\n",
    "    'MO': 'Missouri',\n",
    "    'MT': 'Montana',\n",
    "    'NE': 'Nebraska',\n",
    "    'NV': 'Nevada',\n",
    "    'NH': 'New Hampshire',\n",
    "    'NJ': 'New Jersey',\n",
    "    'NM': 'New Mexico',\n",
    "    'NY': 'New York',\n",
    "    'NC': 'North Carolina',\n",
    "    'ND': 'North Dakota',\n",
    "    'OH': 'Ohio',\n",
    "    'OK': 'Oklahoma',\n",
    "    'OR': 'Oregon',\n",
    "    'PA': 'Pennsylvania',\n",
    "    'RI': 'Rhode Island',\n",
    "    'SC': 'South Carolina',\n",
    "    'SD': 'South Dakota',\n",
    "    'TN': 'Tennessee',\n",
    "    'TX': 'Texas',\n",
    "    'UT': 'Utah',\n",
    "    'VT': 'Vermont',\n",
    "    'VA': 'Virginia',\n",
    "    'WA': 'Washington',\n",
    "    'WV': 'West Virginia',\n",
    "    'WI': 'Wisconsin',\n",
    "    'WY': 'Wyoming',\n",
    "    'DC': 'District of Columbia',\n",
    "    'AS': 'American Samoa',\n",
    "    'GU': 'Guam',\n",
    "    'MP': 'Northern Mariana Islands',\n",
    "    'PR': 'Puerto Rico',\n",
    "    'UM': 'United States Minor Outlying Islands',\n",
    "    'VI': 'Virgin Islands'\n",
    "}\n",
    "# Create a new column 'State Full' combining initials and full names\n",
    "combined_df['State Full'] = combined_df['State'].map(state_names).fillna('Unknown State') + \" (\" + combined_df['State'] + \")\""
   ]
  },
  {
   "cell_type": "code",
   "execution_count": 55,
   "metadata": {},
   "outputs": [
    {
     "data": {
      "text/plain": [
       "Index(['State', 'Year_x', 'Production', 'Year_y', 'Average Temperature',\n",
       "       'Year', 'mean Production', 'State Full'],\n",
       "      dtype='object')"
      ]
     },
     "execution_count": 55,
     "metadata": {},
     "output_type": "execute_result"
    }
   ],
   "source": [
    "combined_df.columns"
   ]
  },
  {
   "cell_type": "code",
   "execution_count": 52,
   "metadata": {},
   "outputs": [
    {
     "data": {
      "text/html": [
       "<div>\n",
       "<style scoped>\n",
       "    .dataframe tbody tr th:only-of-type {\n",
       "        vertical-align: middle;\n",
       "    }\n",
       "\n",
       "    .dataframe tbody tr th {\n",
       "        vertical-align: top;\n",
       "    }\n",
       "\n",
       "    .dataframe thead th {\n",
       "        text-align: right;\n",
       "    }\n",
       "</style>\n",
       "<table border=\"1\" class=\"dataframe\">\n",
       "  <thead>\n",
       "    <tr style=\"text-align: right;\">\n",
       "      <th></th>\n",
       "      <th>State</th>\n",
       "      <th>Year_x</th>\n",
       "      <th>Production</th>\n",
       "      <th>Year_y</th>\n",
       "      <th>Average Temperature</th>\n",
       "      <th>Year</th>\n",
       "      <th>mean Production</th>\n",
       "      <th>State Full</th>\n",
       "    </tr>\n",
       "  </thead>\n",
       "  <tbody>\n",
       "    <tr>\n",
       "      <th>0</th>\n",
       "      <td>AL</td>\n",
       "      <td>2016</td>\n",
       "      <td>7.224480e+08</td>\n",
       "      <td>2016</td>\n",
       "      <td>66.721154</td>\n",
       "      <td>2016</td>\n",
       "      <td>1.204080e+08</td>\n",
       "      <td>Alabama (AL)</td>\n",
       "    </tr>\n",
       "    <tr>\n",
       "      <th>1</th>\n",
       "      <td>AK</td>\n",
       "      <td>2016</td>\n",
       "      <td>1.482000e+06</td>\n",
       "      <td>2016</td>\n",
       "      <td>41.413056</td>\n",
       "      <td>2016</td>\n",
       "      <td>7.410000e+05</td>\n",
       "      <td>Alaska (AK)</td>\n",
       "    </tr>\n",
       "    <tr>\n",
       "      <th>2</th>\n",
       "      <td>AZ</td>\n",
       "      <td>2016</td>\n",
       "      <td>1.588800e+08</td>\n",
       "      <td>2016</td>\n",
       "      <td>66.646154</td>\n",
       "      <td>2016</td>\n",
       "      <td>3.972000e+07</td>\n",
       "      <td>Arizona (AZ)</td>\n",
       "    </tr>\n",
       "    <tr>\n",
       "      <th>3</th>\n",
       "      <td>AR</td>\n",
       "      <td>2016</td>\n",
       "      <td>3.279877e+09</td>\n",
       "      <td>2016</td>\n",
       "      <td>62.583333</td>\n",
       "      <td>2016</td>\n",
       "      <td>4.099846e+08</td>\n",
       "      <td>Arkansas (AR)</td>\n",
       "    </tr>\n",
       "    <tr>\n",
       "      <th>4</th>\n",
       "      <td>CA</td>\n",
       "      <td>2016</td>\n",
       "      <td>1.068535e+09</td>\n",
       "      <td>2016</td>\n",
       "      <td>62.629969</td>\n",
       "      <td>2016</td>\n",
       "      <td>1.187261e+08</td>\n",
       "      <td>California (CA)</td>\n",
       "    </tr>\n",
       "    <tr>\n",
       "      <th>5</th>\n",
       "      <td>CO</td>\n",
       "      <td>2016</td>\n",
       "      <td>1.037120e+09</td>\n",
       "      <td>2016</td>\n",
       "      <td>49.724359</td>\n",
       "      <td>2016</td>\n",
       "      <td>1.296400e+08</td>\n",
       "      <td>Colorado (CO)</td>\n",
       "    </tr>\n",
       "    <tr>\n",
       "      <th>6</th>\n",
       "      <td>DE</td>\n",
       "      <td>2016</td>\n",
       "      <td>2.005010e+08</td>\n",
       "      <td>2016</td>\n",
       "      <td>56.365385</td>\n",
       "      <td>2016</td>\n",
       "      <td>5.012525e+07</td>\n",
       "      <td>Delaware (DE)</td>\n",
       "    </tr>\n",
       "    <tr>\n",
       "      <th>7</th>\n",
       "      <td>FL</td>\n",
       "      <td>2016</td>\n",
       "      <td>2.131810e+08</td>\n",
       "      <td>2016</td>\n",
       "      <td>74.059295</td>\n",
       "      <td>2016</td>\n",
       "      <td>4.263620e+07</td>\n",
       "      <td>Florida (FL)</td>\n",
       "    </tr>\n",
       "    <tr>\n",
       "      <th>8</th>\n",
       "      <td>GA</td>\n",
       "      <td>2016</td>\n",
       "      <td>1.688037e+09</td>\n",
       "      <td>2016</td>\n",
       "      <td>66.451923</td>\n",
       "      <td>2016</td>\n",
       "      <td>2.110046e+08</td>\n",
       "      <td>Georgia (GA)</td>\n",
       "    </tr>\n",
       "    <tr>\n",
       "      <th>9</th>\n",
       "      <td>ID</td>\n",
       "      <td>2016</td>\n",
       "      <td>9.358890e+08</td>\n",
       "      <td>2016</td>\n",
       "      <td>52.307692</td>\n",
       "      <td>2016</td>\n",
       "      <td>1.039877e+08</td>\n",
       "      <td>Idaho (ID)</td>\n",
       "    </tr>\n",
       "    <tr>\n",
       "      <th>10</th>\n",
       "      <td>IL</td>\n",
       "      <td>2016</td>\n",
       "      <td>1.368658e+10</td>\n",
       "      <td>2016</td>\n",
       "      <td>53.740385</td>\n",
       "      <td>2016</td>\n",
       "      <td>2.737315e+09</td>\n",
       "      <td>Illinois (IL)</td>\n",
       "    </tr>\n",
       "    <tr>\n",
       "      <th>11</th>\n",
       "      <td>IN</td>\n",
       "      <td>2016</td>\n",
       "      <td>6.663627e+09</td>\n",
       "      <td>2016</td>\n",
       "      <td>54.293269</td>\n",
       "      <td>2016</td>\n",
       "      <td>2.221209e+09</td>\n",
       "      <td>Indiana (IN)</td>\n",
       "    </tr>\n",
       "    <tr>\n",
       "      <th>12</th>\n",
       "      <td>IA</td>\n",
       "      <td>2016</td>\n",
       "      <td>1.434594e+10</td>\n",
       "      <td>2016</td>\n",
       "      <td>51.188462</td>\n",
       "      <td>2016</td>\n",
       "      <td>2.869188e+09</td>\n",
       "      <td>Iowa (IA)</td>\n",
       "    </tr>\n",
       "    <tr>\n",
       "      <th>13</th>\n",
       "      <td>KS</td>\n",
       "      <td>2016</td>\n",
       "      <td>6.263041e+09</td>\n",
       "      <td>2016</td>\n",
       "      <td>57.259615</td>\n",
       "      <td>2016</td>\n",
       "      <td>7.828801e+08</td>\n",
       "      <td>Kansas (KS)</td>\n",
       "    </tr>\n",
       "    <tr>\n",
       "      <th>14</th>\n",
       "      <td>KY</td>\n",
       "      <td>2016</td>\n",
       "      <td>1.855594e+09</td>\n",
       "      <td>2016</td>\n",
       "      <td>58.569231</td>\n",
       "      <td>2016</td>\n",
       "      <td>6.185313e+08</td>\n",
       "      <td>Kentucky (KY)</td>\n",
       "    </tr>\n",
       "    <tr>\n",
       "      <th>15</th>\n",
       "      <td>LA</td>\n",
       "      <td>2016</td>\n",
       "      <td>1.325407e+09</td>\n",
       "      <td>2016</td>\n",
       "      <td>69.601562</td>\n",
       "      <td>2016</td>\n",
       "      <td>2.209012e+08</td>\n",
       "      <td>Louisiana (LA)</td>\n",
       "    </tr>\n",
       "    <tr>\n",
       "      <th>16</th>\n",
       "      <td>ME</td>\n",
       "      <td>2016</td>\n",
       "      <td>3.593000e+06</td>\n",
       "      <td>2016</td>\n",
       "      <td>45.788462</td>\n",
       "      <td>2016</td>\n",
       "      <td>3.593000e+06</td>\n",
       "      <td>Maine (ME)</td>\n",
       "    </tr>\n",
       "    <tr>\n",
       "      <th>17</th>\n",
       "      <td>MD</td>\n",
       "      <td>2016</td>\n",
       "      <td>5.194610e+08</td>\n",
       "      <td>2016</td>\n",
       "      <td>57.269231</td>\n",
       "      <td>2016</td>\n",
       "      <td>1.298652e+08</td>\n",
       "      <td>Maryland (MD)</td>\n",
       "    </tr>\n",
       "    <tr>\n",
       "      <th>18</th>\n",
       "      <td>MI</td>\n",
       "      <td>2016</td>\n",
       "      <td>2.422443e+09</td>\n",
       "      <td>2016</td>\n",
       "      <td>48.335470</td>\n",
       "      <td>2016</td>\n",
       "      <td>4.844886e+08</td>\n",
       "      <td>Michigan (MI)</td>\n",
       "    </tr>\n",
       "    <tr>\n",
       "      <th>19</th>\n",
       "      <td>MN</td>\n",
       "      <td>2016</td>\n",
       "      <td>9.069802e+09</td>\n",
       "      <td>2016</td>\n",
       "      <td>45.153846</td>\n",
       "      <td>2016</td>\n",
       "      <td>1.133725e+09</td>\n",
       "      <td>Minnesota (MN)</td>\n",
       "    </tr>\n",
       "    <tr>\n",
       "      <th>20</th>\n",
       "      <td>MS</td>\n",
       "      <td>2016</td>\n",
       "      <td>2.020817e+09</td>\n",
       "      <td>2016</td>\n",
       "      <td>66.640110</td>\n",
       "      <td>2016</td>\n",
       "      <td>2.886881e+08</td>\n",
       "      <td>Mississippi (MS)</td>\n",
       "    </tr>\n",
       "    <tr>\n",
       "      <th>21</th>\n",
       "      <td>MO</td>\n",
       "      <td>2016</td>\n",
       "      <td>5.104477e+09</td>\n",
       "      <td>2016</td>\n",
       "      <td>57.752747</td>\n",
       "      <td>2016</td>\n",
       "      <td>7.292110e+08</td>\n",
       "      <td>Missouri (MO)</td>\n",
       "    </tr>\n",
       "    <tr>\n",
       "      <th>22</th>\n",
       "      <td>MT</td>\n",
       "      <td>2016</td>\n",
       "      <td>1.604812e+09</td>\n",
       "      <td>2016</td>\n",
       "      <td>46.110140</td>\n",
       "      <td>2016</td>\n",
       "      <td>1.604812e+08</td>\n",
       "      <td>Montana (MT)</td>\n",
       "    </tr>\n",
       "    <tr>\n",
       "      <th>23</th>\n",
       "      <td>NE</td>\n",
       "      <td>2016</td>\n",
       "      <td>8.900241e+09</td>\n",
       "      <td>2016</td>\n",
       "      <td>52.024038</td>\n",
       "      <td>2016</td>\n",
       "      <td>9.889157e+08</td>\n",
       "      <td>Nebraska (NE)</td>\n",
       "    </tr>\n",
       "    <tr>\n",
       "      <th>24</th>\n",
       "      <td>NV</td>\n",
       "      <td>2016</td>\n",
       "      <td>2.637000e+06</td>\n",
       "      <td>2016</td>\n",
       "      <td>56.131410</td>\n",
       "      <td>2016</td>\n",
       "      <td>2.637000e+06</td>\n",
       "      <td>Nevada (NV)</td>\n",
       "    </tr>\n",
       "    <tr>\n",
       "      <th>25</th>\n",
       "      <td>NJ</td>\n",
       "      <td>2016</td>\n",
       "      <td>7.956300e+07</td>\n",
       "      <td>2016</td>\n",
       "      <td>56.384615</td>\n",
       "      <td>2016</td>\n",
       "      <td>2.652100e+07</td>\n",
       "      <td>New Jersey (NJ)</td>\n",
       "    </tr>\n",
       "    <tr>\n",
       "      <th>26</th>\n",
       "      <td>NM</td>\n",
       "      <td>2016</td>\n",
       "      <td>8.872400e+07</td>\n",
       "      <td>2016</td>\n",
       "      <td>59.000000</td>\n",
       "      <td>2016</td>\n",
       "      <td>1.478733e+07</td>\n",
       "      <td>New Mexico (NM)</td>\n",
       "    </tr>\n",
       "    <tr>\n",
       "      <th>27</th>\n",
       "      <td>NY</td>\n",
       "      <td>2016</td>\n",
       "      <td>4.559940e+08</td>\n",
       "      <td>2016</td>\n",
       "      <td>51.372596</td>\n",
       "      <td>2016</td>\n",
       "      <td>1.139985e+08</td>\n",
       "      <td>New York (NY)</td>\n",
       "    </tr>\n",
       "    <tr>\n",
       "      <th>28</th>\n",
       "      <td>NC</td>\n",
       "      <td>2016</td>\n",
       "      <td>1.339588e+09</td>\n",
       "      <td>2016</td>\n",
       "      <td>62.019231</td>\n",
       "      <td>2016</td>\n",
       "      <td>1.913697e+08</td>\n",
       "      <td>North Carolina (NC)</td>\n",
       "    </tr>\n",
       "    <tr>\n",
       "      <th>29</th>\n",
       "      <td>ND</td>\n",
       "      <td>2016</td>\n",
       "      <td>6.783719e+09</td>\n",
       "      <td>2016</td>\n",
       "      <td>45.696154</td>\n",
       "      <td>2016</td>\n",
       "      <td>5.653099e+08</td>\n",
       "      <td>North Dakota (ND)</td>\n",
       "    </tr>\n",
       "    <tr>\n",
       "      <th>30</th>\n",
       "      <td>OH</td>\n",
       "      <td>2016</td>\n",
       "      <td>4.638306e+09</td>\n",
       "      <td>2016</td>\n",
       "      <td>52.950549</td>\n",
       "      <td>2016</td>\n",
       "      <td>1.159576e+09</td>\n",
       "      <td>Ohio (OH)</td>\n",
       "    </tr>\n",
       "    <tr>\n",
       "      <th>31</th>\n",
       "      <td>OK</td>\n",
       "      <td>2016</td>\n",
       "      <td>1.067184e+09</td>\n",
       "      <td>2016</td>\n",
       "      <td>62.086538</td>\n",
       "      <td>2016</td>\n",
       "      <td>1.185760e+08</td>\n",
       "      <td>Oklahoma (OK)</td>\n",
       "    </tr>\n",
       "    <tr>\n",
       "      <th>32</th>\n",
       "      <td>OR</td>\n",
       "      <td>2016</td>\n",
       "      <td>2.295890e+08</td>\n",
       "      <td>2016</td>\n",
       "      <td>53.264423</td>\n",
       "      <td>2016</td>\n",
       "      <td>3.826483e+07</td>\n",
       "      <td>Oregon (OR)</td>\n",
       "    </tr>\n",
       "    <tr>\n",
       "      <th>33</th>\n",
       "      <td>PA</td>\n",
       "      <td>2016</td>\n",
       "      <td>8.095560e+08</td>\n",
       "      <td>2016</td>\n",
       "      <td>54.236264</td>\n",
       "      <td>2016</td>\n",
       "      <td>1.619112e+08</td>\n",
       "      <td>Pennsylvania (PA)</td>\n",
       "    </tr>\n",
       "    <tr>\n",
       "      <th>34</th>\n",
       "      <td>SC</td>\n",
       "      <td>2016</td>\n",
       "      <td>4.504730e+08</td>\n",
       "      <td>2016</td>\n",
       "      <td>65.447115</td>\n",
       "      <td>2016</td>\n",
       "      <td>7.507883e+07</td>\n",
       "      <td>South Carolina (SC)</td>\n",
       "    </tr>\n",
       "    <tr>\n",
       "      <th>35</th>\n",
       "      <td>SD</td>\n",
       "      <td>2016</td>\n",
       "      <td>5.571863e+09</td>\n",
       "      <td>2016</td>\n",
       "      <td>48.896154</td>\n",
       "      <td>2016</td>\n",
       "      <td>5.571863e+08</td>\n",
       "      <td>South Dakota (SD)</td>\n",
       "    </tr>\n",
       "    <tr>\n",
       "      <th>36</th>\n",
       "      <td>TN</td>\n",
       "      <td>2016</td>\n",
       "      <td>1.521663e+09</td>\n",
       "      <td>2016</td>\n",
       "      <td>61.082524</td>\n",
       "      <td>2016</td>\n",
       "      <td>3.804158e+08</td>\n",
       "      <td>Tennessee (TN)</td>\n",
       "    </tr>\n",
       "    <tr>\n",
       "      <th>37</th>\n",
       "      <td>TX</td>\n",
       "      <td>2016</td>\n",
       "      <td>5.348435e+09</td>\n",
       "      <td>2016</td>\n",
       "      <td>68.371795</td>\n",
       "      <td>2016</td>\n",
       "      <td>5.348435e+08</td>\n",
       "      <td>Texas (TX)</td>\n",
       "    </tr>\n",
       "    <tr>\n",
       "      <th>38</th>\n",
       "      <td>UT</td>\n",
       "      <td>2016</td>\n",
       "      <td>5.261500e+07</td>\n",
       "      <td>2016</td>\n",
       "      <td>56.423077</td>\n",
       "      <td>2016</td>\n",
       "      <td>1.315375e+07</td>\n",
       "      <td>Utah (UT)</td>\n",
       "    </tr>\n",
       "    <tr>\n",
       "      <th>39</th>\n",
       "      <td>VA</td>\n",
       "      <td>2016</td>\n",
       "      <td>4.958800e+08</td>\n",
       "      <td>2016</td>\n",
       "      <td>59.173077</td>\n",
       "      <td>2016</td>\n",
       "      <td>8.264667e+07</td>\n",
       "      <td>Virginia (VA)</td>\n",
       "    </tr>\n",
       "    <tr>\n",
       "      <th>40</th>\n",
       "      <td>WA</td>\n",
       "      <td>2016</td>\n",
       "      <td>9.175970e+08</td>\n",
       "      <td>2016</td>\n",
       "      <td>51.774725</td>\n",
       "      <td>2016</td>\n",
       "      <td>1.146996e+08</td>\n",
       "      <td>Washington (WA)</td>\n",
       "    </tr>\n",
       "    <tr>\n",
       "      <th>41</th>\n",
       "      <td>WV</td>\n",
       "      <td>2016</td>\n",
       "      <td>3.342800e+07</td>\n",
       "      <td>2016</td>\n",
       "      <td>55.293269</td>\n",
       "      <td>2016</td>\n",
       "      <td>1.114267e+07</td>\n",
       "      <td>West Virginia (WV)</td>\n",
       "    </tr>\n",
       "    <tr>\n",
       "      <th>42</th>\n",
       "      <td>WI</td>\n",
       "      <td>2016</td>\n",
       "      <td>2.965424e+09</td>\n",
       "      <td>2016</td>\n",
       "      <td>49.562500</td>\n",
       "      <td>2016</td>\n",
       "      <td>7.413560e+08</td>\n",
       "      <td>Wisconsin (WI)</td>\n",
       "    </tr>\n",
       "    <tr>\n",
       "      <th>43</th>\n",
       "      <td>WY</td>\n",
       "      <td>2016</td>\n",
       "      <td>1.138000e+08</td>\n",
       "      <td>2016</td>\n",
       "      <td>46.938462</td>\n",
       "      <td>2016</td>\n",
       "      <td>2.276000e+07</td>\n",
       "      <td>Wyoming (WY)</td>\n",
       "    </tr>\n",
       "  </tbody>\n",
       "</table>\n",
       "</div>"
      ],
      "text/plain": [
       "   State  Year_x    Production  Year_y  Average Temperature  Year  \\\n",
       "0     AL    2016  7.224480e+08    2016            66.721154  2016   \n",
       "1     AK    2016  1.482000e+06    2016            41.413056  2016   \n",
       "2     AZ    2016  1.588800e+08    2016            66.646154  2016   \n",
       "3     AR    2016  3.279877e+09    2016            62.583333  2016   \n",
       "4     CA    2016  1.068535e+09    2016            62.629969  2016   \n",
       "5     CO    2016  1.037120e+09    2016            49.724359  2016   \n",
       "6     DE    2016  2.005010e+08    2016            56.365385  2016   \n",
       "7     FL    2016  2.131810e+08    2016            74.059295  2016   \n",
       "8     GA    2016  1.688037e+09    2016            66.451923  2016   \n",
       "9     ID    2016  9.358890e+08    2016            52.307692  2016   \n",
       "10    IL    2016  1.368658e+10    2016            53.740385  2016   \n",
       "11    IN    2016  6.663627e+09    2016            54.293269  2016   \n",
       "12    IA    2016  1.434594e+10    2016            51.188462  2016   \n",
       "13    KS    2016  6.263041e+09    2016            57.259615  2016   \n",
       "14    KY    2016  1.855594e+09    2016            58.569231  2016   \n",
       "15    LA    2016  1.325407e+09    2016            69.601562  2016   \n",
       "16    ME    2016  3.593000e+06    2016            45.788462  2016   \n",
       "17    MD    2016  5.194610e+08    2016            57.269231  2016   \n",
       "18    MI    2016  2.422443e+09    2016            48.335470  2016   \n",
       "19    MN    2016  9.069802e+09    2016            45.153846  2016   \n",
       "20    MS    2016  2.020817e+09    2016            66.640110  2016   \n",
       "21    MO    2016  5.104477e+09    2016            57.752747  2016   \n",
       "22    MT    2016  1.604812e+09    2016            46.110140  2016   \n",
       "23    NE    2016  8.900241e+09    2016            52.024038  2016   \n",
       "24    NV    2016  2.637000e+06    2016            56.131410  2016   \n",
       "25    NJ    2016  7.956300e+07    2016            56.384615  2016   \n",
       "26    NM    2016  8.872400e+07    2016            59.000000  2016   \n",
       "27    NY    2016  4.559940e+08    2016            51.372596  2016   \n",
       "28    NC    2016  1.339588e+09    2016            62.019231  2016   \n",
       "29    ND    2016  6.783719e+09    2016            45.696154  2016   \n",
       "30    OH    2016  4.638306e+09    2016            52.950549  2016   \n",
       "31    OK    2016  1.067184e+09    2016            62.086538  2016   \n",
       "32    OR    2016  2.295890e+08    2016            53.264423  2016   \n",
       "33    PA    2016  8.095560e+08    2016            54.236264  2016   \n",
       "34    SC    2016  4.504730e+08    2016            65.447115  2016   \n",
       "35    SD    2016  5.571863e+09    2016            48.896154  2016   \n",
       "36    TN    2016  1.521663e+09    2016            61.082524  2016   \n",
       "37    TX    2016  5.348435e+09    2016            68.371795  2016   \n",
       "38    UT    2016  5.261500e+07    2016            56.423077  2016   \n",
       "39    VA    2016  4.958800e+08    2016            59.173077  2016   \n",
       "40    WA    2016  9.175970e+08    2016            51.774725  2016   \n",
       "41    WV    2016  3.342800e+07    2016            55.293269  2016   \n",
       "42    WI    2016  2.965424e+09    2016            49.562500  2016   \n",
       "43    WY    2016  1.138000e+08    2016            46.938462  2016   \n",
       "\n",
       "    mean Production           State Full  \n",
       "0      1.204080e+08         Alabama (AL)  \n",
       "1      7.410000e+05          Alaska (AK)  \n",
       "2      3.972000e+07         Arizona (AZ)  \n",
       "3      4.099846e+08        Arkansas (AR)  \n",
       "4      1.187261e+08      California (CA)  \n",
       "5      1.296400e+08        Colorado (CO)  \n",
       "6      5.012525e+07        Delaware (DE)  \n",
       "7      4.263620e+07         Florida (FL)  \n",
       "8      2.110046e+08         Georgia (GA)  \n",
       "9      1.039877e+08           Idaho (ID)  \n",
       "10     2.737315e+09        Illinois (IL)  \n",
       "11     2.221209e+09         Indiana (IN)  \n",
       "12     2.869188e+09            Iowa (IA)  \n",
       "13     7.828801e+08          Kansas (KS)  \n",
       "14     6.185313e+08        Kentucky (KY)  \n",
       "15     2.209012e+08       Louisiana (LA)  \n",
       "16     3.593000e+06           Maine (ME)  \n",
       "17     1.298652e+08        Maryland (MD)  \n",
       "18     4.844886e+08        Michigan (MI)  \n",
       "19     1.133725e+09       Minnesota (MN)  \n",
       "20     2.886881e+08     Mississippi (MS)  \n",
       "21     7.292110e+08        Missouri (MO)  \n",
       "22     1.604812e+08         Montana (MT)  \n",
       "23     9.889157e+08        Nebraska (NE)  \n",
       "24     2.637000e+06          Nevada (NV)  \n",
       "25     2.652100e+07      New Jersey (NJ)  \n",
       "26     1.478733e+07      New Mexico (NM)  \n",
       "27     1.139985e+08        New York (NY)  \n",
       "28     1.913697e+08  North Carolina (NC)  \n",
       "29     5.653099e+08    North Dakota (ND)  \n",
       "30     1.159576e+09            Ohio (OH)  \n",
       "31     1.185760e+08        Oklahoma (OK)  \n",
       "32     3.826483e+07          Oregon (OR)  \n",
       "33     1.619112e+08    Pennsylvania (PA)  \n",
       "34     7.507883e+07  South Carolina (SC)  \n",
       "35     5.571863e+08    South Dakota (SD)  \n",
       "36     3.804158e+08       Tennessee (TN)  \n",
       "37     5.348435e+08           Texas (TX)  \n",
       "38     1.315375e+07            Utah (UT)  \n",
       "39     8.264667e+07        Virginia (VA)  \n",
       "40     1.146996e+08      Washington (WA)  \n",
       "41     1.114267e+07   West Virginia (WV)  \n",
       "42     7.413560e+08       Wisconsin (WI)  \n",
       "43     2.276000e+07         Wyoming (WY)  "
      ]
     },
     "execution_count": 52,
     "metadata": {},
     "output_type": "execute_result"
    }
   ],
   "source": [
    "combined_df"
   ]
  },
  {
   "cell_type": "code",
   "execution_count": 62,
   "metadata": {},
   "outputs": [
    {
     "data": {
      "application/vnd.plotly.v1+json": {
       "config": {
        "plotlyServerURL": "https://plot.ly"
       },
       "data": [
        {
         "colorbar": {
          "len": 0.7,
          "title": {
           "text": "Crop Yield ($)"
          },
          "x": 0.45
         },
         "colorscale": [
          [
           0,
           "#440154"
          ],
          [
           0.1111111111111111,
           "#482878"
          ],
          [
           0.2222222222222222,
           "#3e4989"
          ],
          [
           0.3333333333333333,
           "#31688e"
          ],
          [
           0.4444444444444444,
           "#26828e"
          ],
          [
           0.5555555555555556,
           "#1f9e89"
          ],
          [
           0.6666666666666666,
           "#35b779"
          ],
          [
           0.7777777777777778,
           "#6ece58"
          ],
          [
           0.8888888888888888,
           "#b5de2b"
          ],
          [
           1,
           "#fde725"
          ]
         ],
         "customdata": [
          [
           120408000,
           66.72115384615384,
           "Alabama (AL)"
          ],
          [
           741000,
           41.41305637982196,
           "Alaska (AK)"
          ],
          [
           39720000,
           66.64615384615385,
           "Arizona (AZ)"
          ],
          [
           409984625,
           62.583333333333336,
           "Arkansas (AR)"
          ],
          [
           118726111.1111111,
           62.62996941896024,
           "California (CA)"
          ],
          [
           129640000,
           49.72435897435897,
           "Colorado (CO)"
          ],
          [
           50125250,
           56.36538461538461,
           "Delaware (DE)"
          ],
          [
           42636200,
           74.05929487179488,
           "Florida (FL)"
          ],
          [
           211004625,
           66.45192307692308,
           "Georgia (GA)"
          ],
          [
           103987666.66666667,
           52.30769230769231,
           "Idaho (ID)"
          ],
          [
           2737315400,
           53.74038461538461,
           "Illinois (IL)"
          ],
          [
           2221209000,
           54.29326923076923,
           "Indiana (IN)"
          ],
          [
           2869187600,
           51.18846153846154,
           "Iowa (IA)"
          ],
          [
           782880125,
           57.25961538461539,
           "Kansas (KS)"
          ],
          [
           618531333.3333334,
           58.56923076923077,
           "Kentucky (KY)"
          ],
          [
           220901166.66666666,
           69.6015625,
           "Louisiana (LA)"
          ],
          [
           3593000,
           45.78846153846154,
           "Maine (ME)"
          ],
          [
           129865250,
           57.26923076923077,
           "Maryland (MD)"
          ],
          [
           484488600,
           48.335470085470085,
           "Michigan (MI)"
          ],
          [
           1133725250,
           45.15384615384615,
           "Minnesota (MN)"
          ],
          [
           288688142.85714287,
           66.64010989010988,
           "Mississippi (MS)"
          ],
          [
           729211000,
           57.752747252747255,
           "Missouri (MO)"
          ],
          [
           160481200,
           46.11013986013986,
           "Montana (MT)"
          ],
          [
           988915666.6666666,
           52.02403846153846,
           "Nebraska (NE)"
          ],
          [
           2637000,
           56.131410256410255,
           "Nevada (NV)"
          ],
          [
           26521000,
           56.38461538461539,
           "New Jersey (NJ)"
          ],
          [
           14787333.333333334,
           59,
           "New Mexico (NM)"
          ],
          [
           113998500,
           51.37259615384615,
           "New York (NY)"
          ],
          [
           191369714.2857143,
           62.01923076923077,
           "North Carolina (NC)"
          ],
          [
           565309916.6666666,
           45.69615384615385,
           "North Dakota (ND)"
          ],
          [
           1159576500,
           52.95054945054945,
           "Ohio (OH)"
          ],
          [
           118576000,
           62.08653846153846,
           "Oklahoma (OK)"
          ],
          [
           38264833.333333336,
           53.26442307692308,
           "Oregon (OR)"
          ],
          [
           161911200,
           54.23626373626374,
           "Pennsylvania (PA)"
          ],
          [
           75078833.33333333,
           65.44711538461539,
           "South Carolina (SC)"
          ],
          [
           557186300,
           48.896153846153844,
           "South Dakota (SD)"
          ],
          [
           380415750,
           61.08252427184466,
           "Tennessee (TN)"
          ],
          [
           534843500,
           68.37179487179488,
           "Texas (TX)"
          ],
          [
           13153750,
           56.42307692307692,
           "Utah (UT)"
          ],
          [
           82646666.66666667,
           59.17307692307692,
           "Virginia (VA)"
          ],
          [
           114699625,
           51.77472527472528,
           "Washington (WA)"
          ],
          [
           11142666.666666666,
           55.29326923076923,
           "West Virginia (WV)"
          ],
          [
           741356000,
           49.5625,
           "Wisconsin (WI)"
          ],
          [
           22760000,
           46.93846153846154,
           "Wyoming (WY)"
          ]
         ],
         "geo": "geo",
         "hoverinfo": "none",
         "hovertemplate": "<b>State:</b> %{customdata[2]}<br><b>Total Production:</b> $%{z:,}<br><b>Average Production:</b> $%{customdata[0]:,}<br><b>Average Temperature:</b> %{customdata[1]:.1f}°F<br><extra></extra>",
         "locationmode": "USA-states",
         "locations": [
          "AL",
          "AK",
          "AZ",
          "AR",
          "CA",
          "CO",
          "DE",
          "FL",
          "GA",
          "ID",
          "IL",
          "IN",
          "IA",
          "KS",
          "KY",
          "LA",
          "ME",
          "MD",
          "MI",
          "MN",
          "MS",
          "MO",
          "MT",
          "NE",
          "NV",
          "NJ",
          "NM",
          "NY",
          "NC",
          "ND",
          "OH",
          "OK",
          "OR",
          "PA",
          "SC",
          "SD",
          "TN",
          "TX",
          "UT",
          "VA",
          "WA",
          "WV",
          "WI",
          "WY"
         ],
         "type": "choropleth",
         "z": [
          722448000,
          1482000,
          158880000,
          3279877000,
          1068535000,
          1037120000,
          200501000,
          213181000,
          1688037000,
          935889000,
          13686577000,
          6663627000,
          14345938000,
          6263041000,
          1855594000,
          1325407000,
          3593000,
          519461000,
          2422443000,
          9069802000,
          2020817000,
          5104477000,
          1604812000,
          8900241000,
          2637000,
          79563000,
          88724000,
          455994000,
          1339588000,
          6783719000,
          4638306000,
          1067184000,
          229589000,
          809556000,
          450473000,
          5571863000,
          1521663000,
          5348435000,
          52615000,
          495880000,
          917597000,
          33428000,
          2965424000,
          113800000
         ]
        },
        {
         "colorbar": {
          "len": 0.7,
          "title": {
           "text": "Degrees F"
          },
          "x": 1
         },
         "colorscale": [
          [
           0,
           "#00224e"
          ],
          [
           0.1111111111111111,
           "#123570"
          ],
          [
           0.2222222222222222,
           "#3b496c"
          ],
          [
           0.3333333333333333,
           "#575d6d"
          ],
          [
           0.4444444444444444,
           "#707173"
          ],
          [
           0.5555555555555556,
           "#8a8678"
          ],
          [
           0.6666666666666666,
           "#a59c74"
          ],
          [
           0.7777777777777778,
           "#c3b369"
          ],
          [
           0.8888888888888888,
           "#e1cc55"
          ],
          [
           1,
           "#fee838"
          ]
         ],
         "customdata": [
          [
           722448000,
           120408000,
           "Alabama (AL)"
          ],
          [
           1482000,
           741000,
           "Alaska (AK)"
          ],
          [
           158880000,
           39720000,
           "Arizona (AZ)"
          ],
          [
           3279877000,
           409984625,
           "Arkansas (AR)"
          ],
          [
           1068535000,
           118726111.1111111,
           "California (CA)"
          ],
          [
           1037120000,
           129640000,
           "Colorado (CO)"
          ],
          [
           200501000,
           50125250,
           "Delaware (DE)"
          ],
          [
           213181000,
           42636200,
           "Florida (FL)"
          ],
          [
           1688037000,
           211004625,
           "Georgia (GA)"
          ],
          [
           935889000,
           103987666.66666667,
           "Idaho (ID)"
          ],
          [
           13686577000,
           2737315400,
           "Illinois (IL)"
          ],
          [
           6663627000,
           2221209000,
           "Indiana (IN)"
          ],
          [
           14345938000,
           2869187600,
           "Iowa (IA)"
          ],
          [
           6263041000,
           782880125,
           "Kansas (KS)"
          ],
          [
           1855594000,
           618531333.3333334,
           "Kentucky (KY)"
          ],
          [
           1325407000,
           220901166.66666666,
           "Louisiana (LA)"
          ],
          [
           3593000,
           3593000,
           "Maine (ME)"
          ],
          [
           519461000,
           129865250,
           "Maryland (MD)"
          ],
          [
           2422443000,
           484488600,
           "Michigan (MI)"
          ],
          [
           9069802000,
           1133725250,
           "Minnesota (MN)"
          ],
          [
           2020817000,
           288688142.85714287,
           "Mississippi (MS)"
          ],
          [
           5104477000,
           729211000,
           "Missouri (MO)"
          ],
          [
           1604812000,
           160481200,
           "Montana (MT)"
          ],
          [
           8900241000,
           988915666.6666666,
           "Nebraska (NE)"
          ],
          [
           2637000,
           2637000,
           "Nevada (NV)"
          ],
          [
           79563000,
           26521000,
           "New Jersey (NJ)"
          ],
          [
           88724000,
           14787333.333333334,
           "New Mexico (NM)"
          ],
          [
           455994000,
           113998500,
           "New York (NY)"
          ],
          [
           1339588000,
           191369714.2857143,
           "North Carolina (NC)"
          ],
          [
           6783719000,
           565309916.6666666,
           "North Dakota (ND)"
          ],
          [
           4638306000,
           1159576500,
           "Ohio (OH)"
          ],
          [
           1067184000,
           118576000,
           "Oklahoma (OK)"
          ],
          [
           229589000,
           38264833.333333336,
           "Oregon (OR)"
          ],
          [
           809556000,
           161911200,
           "Pennsylvania (PA)"
          ],
          [
           450473000,
           75078833.33333333,
           "South Carolina (SC)"
          ],
          [
           5571863000,
           557186300,
           "South Dakota (SD)"
          ],
          [
           1521663000,
           380415750,
           "Tennessee (TN)"
          ],
          [
           5348435000,
           534843500,
           "Texas (TX)"
          ],
          [
           52615000,
           13153750,
           "Utah (UT)"
          ],
          [
           495880000,
           82646666.66666667,
           "Virginia (VA)"
          ],
          [
           917597000,
           114699625,
           "Washington (WA)"
          ],
          [
           33428000,
           11142666.666666666,
           "West Virginia (WV)"
          ],
          [
           2965424000,
           741356000,
           "Wisconsin (WI)"
          ],
          [
           113800000,
           22760000,
           "Wyoming (WY)"
          ]
         ],
         "geo": "geo2",
         "hoverinfo": "none",
         "hovertemplate": "<b>State:</b> %{customdata[2]}<br><b>Average Temperature:</b> %{z:.1f}°F<br><b>Total Production:</b> $%{customdata[0]:,}<br><b>Average Production:</b> $%{customdata[1]:,}<br><extra></extra>",
         "locationmode": "USA-states",
         "locations": [
          "AL",
          "AK",
          "AZ",
          "AR",
          "CA",
          "CO",
          "DE",
          "FL",
          "GA",
          "ID",
          "IL",
          "IN",
          "IA",
          "KS",
          "KY",
          "LA",
          "ME",
          "MD",
          "MI",
          "MN",
          "MS",
          "MO",
          "MT",
          "NE",
          "NV",
          "NJ",
          "NM",
          "NY",
          "NC",
          "ND",
          "OH",
          "OK",
          "OR",
          "PA",
          "SC",
          "SD",
          "TN",
          "TX",
          "UT",
          "VA",
          "WA",
          "WV",
          "WI",
          "WY"
         ],
         "type": "choropleth",
         "z": [
          66.72115384615384,
          41.41305637982196,
          66.64615384615385,
          62.583333333333336,
          62.62996941896024,
          49.72435897435897,
          56.36538461538461,
          74.05929487179488,
          66.45192307692308,
          52.30769230769231,
          53.74038461538461,
          54.29326923076923,
          51.18846153846154,
          57.25961538461539,
          58.56923076923077,
          69.6015625,
          45.78846153846154,
          57.26923076923077,
          48.335470085470085,
          45.15384615384615,
          66.64010989010988,
          57.752747252747255,
          46.11013986013986,
          52.02403846153846,
          56.131410256410255,
          56.38461538461539,
          59,
          51.37259615384615,
          62.01923076923077,
          45.69615384615385,
          52.95054945054945,
          62.08653846153846,
          53.26442307692308,
          54.23626373626374,
          65.44711538461539,
          48.896153846153844,
          61.08252427184466,
          68.37179487179488,
          56.42307692307692,
          59.17307692307692,
          51.77472527472528,
          55.29326923076923,
          49.5625,
          46.93846153846154
         ]
        }
       ],
       "layout": {
        "annotations": [
         {
          "font": {
           "size": 16
          },
          "showarrow": false,
          "text": "Total Crop Yield by State",
          "x": 0.2375,
          "xanchor": "center",
          "xref": "paper",
          "y": 1,
          "yanchor": "bottom",
          "yref": "paper"
         },
         {
          "font": {
           "size": 16
          },
          "showarrow": false,
          "text": "Average Temperature by State",
          "x": 0.7625,
          "xanchor": "center",
          "xref": "paper",
          "y": 1,
          "yanchor": "bottom",
          "yref": "paper"
         }
        ],
        "autosize": false,
        "geo": {
         "domain": {
          "x": [
           0,
           0.475
          ],
          "y": [
           0,
           1
          ]
         },
         "scope": "usa",
         "visible": true
        },
        "geo2": {
         "domain": {
          "x": [
           0.525,
           1
          ],
          "y": [
           0,
           1
          ]
         },
         "scope": "usa",
         "visible": true
        },
        "height": 600,
        "legend": {
         "orientation": "h",
         "x": 0.5,
         "xanchor": "center",
         "y": -0.1
        },
        "template": {
         "data": {
          "bar": [
           {
            "error_x": {
             "color": "#2a3f5f"
            },
            "error_y": {
             "color": "#2a3f5f"
            },
            "marker": {
             "line": {
              "color": "#E5ECF6",
              "width": 0.5
             },
             "pattern": {
              "fillmode": "overlay",
              "size": 10,
              "solidity": 0.2
             }
            },
            "type": "bar"
           }
          ],
          "barpolar": [
           {
            "marker": {
             "line": {
              "color": "#E5ECF6",
              "width": 0.5
             },
             "pattern": {
              "fillmode": "overlay",
              "size": 10,
              "solidity": 0.2
             }
            },
            "type": "barpolar"
           }
          ],
          "carpet": [
           {
            "aaxis": {
             "endlinecolor": "#2a3f5f",
             "gridcolor": "white",
             "linecolor": "white",
             "minorgridcolor": "white",
             "startlinecolor": "#2a3f5f"
            },
            "baxis": {
             "endlinecolor": "#2a3f5f",
             "gridcolor": "white",
             "linecolor": "white",
             "minorgridcolor": "white",
             "startlinecolor": "#2a3f5f"
            },
            "type": "carpet"
           }
          ],
          "choropleth": [
           {
            "colorbar": {
             "outlinewidth": 0,
             "ticks": ""
            },
            "type": "choropleth"
           }
          ],
          "contour": [
           {
            "colorbar": {
             "outlinewidth": 0,
             "ticks": ""
            },
            "colorscale": [
             [
              0,
              "#0d0887"
             ],
             [
              0.1111111111111111,
              "#46039f"
             ],
             [
              0.2222222222222222,
              "#7201a8"
             ],
             [
              0.3333333333333333,
              "#9c179e"
             ],
             [
              0.4444444444444444,
              "#bd3786"
             ],
             [
              0.5555555555555556,
              "#d8576b"
             ],
             [
              0.6666666666666666,
              "#ed7953"
             ],
             [
              0.7777777777777778,
              "#fb9f3a"
             ],
             [
              0.8888888888888888,
              "#fdca26"
             ],
             [
              1,
              "#f0f921"
             ]
            ],
            "type": "contour"
           }
          ],
          "contourcarpet": [
           {
            "colorbar": {
             "outlinewidth": 0,
             "ticks": ""
            },
            "type": "contourcarpet"
           }
          ],
          "heatmap": [
           {
            "colorbar": {
             "outlinewidth": 0,
             "ticks": ""
            },
            "colorscale": [
             [
              0,
              "#0d0887"
             ],
             [
              0.1111111111111111,
              "#46039f"
             ],
             [
              0.2222222222222222,
              "#7201a8"
             ],
             [
              0.3333333333333333,
              "#9c179e"
             ],
             [
              0.4444444444444444,
              "#bd3786"
             ],
             [
              0.5555555555555556,
              "#d8576b"
             ],
             [
              0.6666666666666666,
              "#ed7953"
             ],
             [
              0.7777777777777778,
              "#fb9f3a"
             ],
             [
              0.8888888888888888,
              "#fdca26"
             ],
             [
              1,
              "#f0f921"
             ]
            ],
            "type": "heatmap"
           }
          ],
          "heatmapgl": [
           {
            "colorbar": {
             "outlinewidth": 0,
             "ticks": ""
            },
            "colorscale": [
             [
              0,
              "#0d0887"
             ],
             [
              0.1111111111111111,
              "#46039f"
             ],
             [
              0.2222222222222222,
              "#7201a8"
             ],
             [
              0.3333333333333333,
              "#9c179e"
             ],
             [
              0.4444444444444444,
              "#bd3786"
             ],
             [
              0.5555555555555556,
              "#d8576b"
             ],
             [
              0.6666666666666666,
              "#ed7953"
             ],
             [
              0.7777777777777778,
              "#fb9f3a"
             ],
             [
              0.8888888888888888,
              "#fdca26"
             ],
             [
              1,
              "#f0f921"
             ]
            ],
            "type": "heatmapgl"
           }
          ],
          "histogram": [
           {
            "marker": {
             "pattern": {
              "fillmode": "overlay",
              "size": 10,
              "solidity": 0.2
             }
            },
            "type": "histogram"
           }
          ],
          "histogram2d": [
           {
            "colorbar": {
             "outlinewidth": 0,
             "ticks": ""
            },
            "colorscale": [
             [
              0,
              "#0d0887"
             ],
             [
              0.1111111111111111,
              "#46039f"
             ],
             [
              0.2222222222222222,
              "#7201a8"
             ],
             [
              0.3333333333333333,
              "#9c179e"
             ],
             [
              0.4444444444444444,
              "#bd3786"
             ],
             [
              0.5555555555555556,
              "#d8576b"
             ],
             [
              0.6666666666666666,
              "#ed7953"
             ],
             [
              0.7777777777777778,
              "#fb9f3a"
             ],
             [
              0.8888888888888888,
              "#fdca26"
             ],
             [
              1,
              "#f0f921"
             ]
            ],
            "type": "histogram2d"
           }
          ],
          "histogram2dcontour": [
           {
            "colorbar": {
             "outlinewidth": 0,
             "ticks": ""
            },
            "colorscale": [
             [
              0,
              "#0d0887"
             ],
             [
              0.1111111111111111,
              "#46039f"
             ],
             [
              0.2222222222222222,
              "#7201a8"
             ],
             [
              0.3333333333333333,
              "#9c179e"
             ],
             [
              0.4444444444444444,
              "#bd3786"
             ],
             [
              0.5555555555555556,
              "#d8576b"
             ],
             [
              0.6666666666666666,
              "#ed7953"
             ],
             [
              0.7777777777777778,
              "#fb9f3a"
             ],
             [
              0.8888888888888888,
              "#fdca26"
             ],
             [
              1,
              "#f0f921"
             ]
            ],
            "type": "histogram2dcontour"
           }
          ],
          "mesh3d": [
           {
            "colorbar": {
             "outlinewidth": 0,
             "ticks": ""
            },
            "type": "mesh3d"
           }
          ],
          "parcoords": [
           {
            "line": {
             "colorbar": {
              "outlinewidth": 0,
              "ticks": ""
             }
            },
            "type": "parcoords"
           }
          ],
          "pie": [
           {
            "automargin": true,
            "type": "pie"
           }
          ],
          "scatter": [
           {
            "fillpattern": {
             "fillmode": "overlay",
             "size": 10,
             "solidity": 0.2
            },
            "type": "scatter"
           }
          ],
          "scatter3d": [
           {
            "line": {
             "colorbar": {
              "outlinewidth": 0,
              "ticks": ""
             }
            },
            "marker": {
             "colorbar": {
              "outlinewidth": 0,
              "ticks": ""
             }
            },
            "type": "scatter3d"
           }
          ],
          "scattercarpet": [
           {
            "marker": {
             "colorbar": {
              "outlinewidth": 0,
              "ticks": ""
             }
            },
            "type": "scattercarpet"
           }
          ],
          "scattergeo": [
           {
            "marker": {
             "colorbar": {
              "outlinewidth": 0,
              "ticks": ""
             }
            },
            "type": "scattergeo"
           }
          ],
          "scattergl": [
           {
            "marker": {
             "colorbar": {
              "outlinewidth": 0,
              "ticks": ""
             }
            },
            "type": "scattergl"
           }
          ],
          "scattermapbox": [
           {
            "marker": {
             "colorbar": {
              "outlinewidth": 0,
              "ticks": ""
             }
            },
            "type": "scattermapbox"
           }
          ],
          "scatterpolar": [
           {
            "marker": {
             "colorbar": {
              "outlinewidth": 0,
              "ticks": ""
             }
            },
            "type": "scatterpolar"
           }
          ],
          "scatterpolargl": [
           {
            "marker": {
             "colorbar": {
              "outlinewidth": 0,
              "ticks": ""
             }
            },
            "type": "scatterpolargl"
           }
          ],
          "scatterternary": [
           {
            "marker": {
             "colorbar": {
              "outlinewidth": 0,
              "ticks": ""
             }
            },
            "type": "scatterternary"
           }
          ],
          "surface": [
           {
            "colorbar": {
             "outlinewidth": 0,
             "ticks": ""
            },
            "colorscale": [
             [
              0,
              "#0d0887"
             ],
             [
              0.1111111111111111,
              "#46039f"
             ],
             [
              0.2222222222222222,
              "#7201a8"
             ],
             [
              0.3333333333333333,
              "#9c179e"
             ],
             [
              0.4444444444444444,
              "#bd3786"
             ],
             [
              0.5555555555555556,
              "#d8576b"
             ],
             [
              0.6666666666666666,
              "#ed7953"
             ],
             [
              0.7777777777777778,
              "#fb9f3a"
             ],
             [
              0.8888888888888888,
              "#fdca26"
             ],
             [
              1,
              "#f0f921"
             ]
            ],
            "type": "surface"
           }
          ],
          "table": [
           {
            "cells": {
             "fill": {
              "color": "#EBF0F8"
             },
             "line": {
              "color": "white"
             }
            },
            "header": {
             "fill": {
              "color": "#C8D4E3"
             },
             "line": {
              "color": "white"
             }
            },
            "type": "table"
           }
          ]
         },
         "layout": {
          "annotationdefaults": {
           "arrowcolor": "#2a3f5f",
           "arrowhead": 0,
           "arrowwidth": 1
          },
          "autotypenumbers": "strict",
          "coloraxis": {
           "colorbar": {
            "outlinewidth": 0,
            "ticks": ""
           }
          },
          "colorscale": {
           "diverging": [
            [
             0,
             "#8e0152"
            ],
            [
             0.1,
             "#c51b7d"
            ],
            [
             0.2,
             "#de77ae"
            ],
            [
             0.3,
             "#f1b6da"
            ],
            [
             0.4,
             "#fde0ef"
            ],
            [
             0.5,
             "#f7f7f7"
            ],
            [
             0.6,
             "#e6f5d0"
            ],
            [
             0.7,
             "#b8e186"
            ],
            [
             0.8,
             "#7fbc41"
            ],
            [
             0.9,
             "#4d9221"
            ],
            [
             1,
             "#276419"
            ]
           ],
           "sequential": [
            [
             0,
             "#0d0887"
            ],
            [
             0.1111111111111111,
             "#46039f"
            ],
            [
             0.2222222222222222,
             "#7201a8"
            ],
            [
             0.3333333333333333,
             "#9c179e"
            ],
            [
             0.4444444444444444,
             "#bd3786"
            ],
            [
             0.5555555555555556,
             "#d8576b"
            ],
            [
             0.6666666666666666,
             "#ed7953"
            ],
            [
             0.7777777777777778,
             "#fb9f3a"
            ],
            [
             0.8888888888888888,
             "#fdca26"
            ],
            [
             1,
             "#f0f921"
            ]
           ],
           "sequentialminus": [
            [
             0,
             "#0d0887"
            ],
            [
             0.1111111111111111,
             "#46039f"
            ],
            [
             0.2222222222222222,
             "#7201a8"
            ],
            [
             0.3333333333333333,
             "#9c179e"
            ],
            [
             0.4444444444444444,
             "#bd3786"
            ],
            [
             0.5555555555555556,
             "#d8576b"
            ],
            [
             0.6666666666666666,
             "#ed7953"
            ],
            [
             0.7777777777777778,
             "#fb9f3a"
            ],
            [
             0.8888888888888888,
             "#fdca26"
            ],
            [
             1,
             "#f0f921"
            ]
           ]
          },
          "colorway": [
           "#636efa",
           "#EF553B",
           "#00cc96",
           "#ab63fa",
           "#FFA15A",
           "#19d3f3",
           "#FF6692",
           "#B6E880",
           "#FF97FF",
           "#FECB52"
          ],
          "font": {
           "color": "#2a3f5f"
          },
          "geo": {
           "bgcolor": "white",
           "lakecolor": "white",
           "landcolor": "#E5ECF6",
           "showlakes": true,
           "showland": true,
           "subunitcolor": "white"
          },
          "hoverlabel": {
           "align": "left"
          },
          "hovermode": "closest",
          "mapbox": {
           "style": "light"
          },
          "paper_bgcolor": "white",
          "plot_bgcolor": "#E5ECF6",
          "polar": {
           "angularaxis": {
            "gridcolor": "white",
            "linecolor": "white",
            "ticks": ""
           },
           "bgcolor": "#E5ECF6",
           "radialaxis": {
            "gridcolor": "white",
            "linecolor": "white",
            "ticks": ""
           }
          },
          "scene": {
           "xaxis": {
            "backgroundcolor": "#E5ECF6",
            "gridcolor": "white",
            "gridwidth": 2,
            "linecolor": "white",
            "showbackground": true,
            "ticks": "",
            "zerolinecolor": "white"
           },
           "yaxis": {
            "backgroundcolor": "#E5ECF6",
            "gridcolor": "white",
            "gridwidth": 2,
            "linecolor": "white",
            "showbackground": true,
            "ticks": "",
            "zerolinecolor": "white"
           },
           "zaxis": {
            "backgroundcolor": "#E5ECF6",
            "gridcolor": "white",
            "gridwidth": 2,
            "linecolor": "white",
            "showbackground": true,
            "ticks": "",
            "zerolinecolor": "white"
           }
          },
          "shapedefaults": {
           "line": {
            "color": "#2a3f5f"
           }
          },
          "ternary": {
           "aaxis": {
            "gridcolor": "white",
            "linecolor": "white",
            "ticks": ""
           },
           "baxis": {
            "gridcolor": "white",
            "linecolor": "white",
            "ticks": ""
           },
           "bgcolor": "#E5ECF6",
           "caxis": {
            "gridcolor": "white",
            "linecolor": "white",
            "ticks": ""
           }
          },
          "title": {
           "x": 0.05
          },
          "xaxis": {
           "automargin": true,
           "gridcolor": "white",
           "linecolor": "white",
           "ticks": "",
           "title": {
            "standoff": 15
           },
           "zerolinecolor": "white",
           "zerolinewidth": 2
          },
          "yaxis": {
           "automargin": true,
           "gridcolor": "white",
           "linecolor": "white",
           "ticks": "",
           "title": {
            "standoff": 15
           },
           "zerolinecolor": "white",
           "zerolinewidth": 2
          }
         }
        },
        "title": {
         "text": "Average Crop Yield and Temperature by State"
        },
        "width": 1200
       }
      }
     },
     "metadata": {},
     "output_type": "display_data"
    }
   ],
   "source": [
    "fig = make_subplots(\n",
    "    rows=1, cols=2,\n",
    "    subplot_titles=(\"Total Crop Yield by State\", \"Average Temperature by State\"),\n",
    "    specs=[[{\"type\": \"choropleth\"}, {\"type\": \"choropleth\"}]],\n",
    "    column_widths=[0.5, 0.5],\n",
    "    horizontal_spacing=0.05  # Increase spacing if needed\n",
    ")\n",
    "\n",
    "# First subplot for Crop Yield\n",
    "fig.add_trace(\n",
    "    go.Choropleth(\n",
    "        locations=combined_df['State'],\n",
    "        z=combined_df['Production'],\n",
    "        locationmode='USA-states',\n",
    "        colorscale='Viridis',\n",
    "        colorbar_title=\"Crop Yield ($)\",\n",
    "        hoverinfo=\"none\",  # Disable default hoverinfo\n",
    "        hovertemplate=(\n",
    "            \"<b>State:</b> %{customdata[2]}<br>\" +\n",
    "            \"<b>Total Production:</b> $%{z:,}<br>\" +\n",
    "            \"<b>Average Production:</b> $%{customdata[0]:,}<br>\" +\n",
    "            \"<b>Average Temperature:</b> %{customdata[1]:.1f}°F<br>\" +\n",
    "            \"<extra></extra>\"  # Hides the trace information on hover\n",
    "        ),\n",
    "        customdata=combined_df[['mean Production', 'Average Temperature', 'State Full']],\n",
    "        colorbar=dict(x=0.45, len=0.7)  # Adjust this value to move the colorbar position\n",
    "    ),\n",
    "    row=1, col=1\n",
    ")\n",
    "\n",
    "# Second subplot for Average Temperature\n",
    "fig.add_trace(\n",
    "    go.Choropleth(\n",
    "        locations=combined_df['State'],\n",
    "        z=combined_df['Average Temperature'],\n",
    "        locationmode='USA-states',\n",
    "        colorscale='Cividis',\n",
    "        colorbar_title=\"Degrees F\",\n",
    "        hoverinfo=\"none\",  # Disable default hoverinfo\n",
    "        hovertemplate=(\n",
    "            \"<b>State:</b> %{customdata[2]}<br>\" +\n",
    "            \"<b>Average Temperature:</b> %{z:.1f}°F<br>\" +\n",
    "            \"<b>Total Production:</b> $%{customdata[0]:,}<br>\" +\n",
    "            \"<b>Average Production:</b> $%{customdata[1]:,}<br>\" +\n",
    "            \"<extra></extra>\"  # Hides the trace information on hover\n",
    "        ),\n",
    "        customdata=combined_df[['Production', 'mean Production', 'State Full']],\n",
    "        colorbar=dict(x=1, len=0.7)  # Adjust this value to position the colorbar at the edge\n",
    "    ),\n",
    "    row=1, col=2\n",
    ")\n",
    "\n",
    "fig.update_layout(\n",
    "    title_text='Average Crop Yield and Temperature by State',\n",
    "    autosize=False,\n",
    "    width=1200,\n",
    "    height=600,\n",
    "    legend=dict(\n",
    "        x=0.5,\n",
    "        y=-0.1,\n",
    "        xanchor='center',\n",
    "        orientation='h'\n",
    "    )\n",
    ")\n",
    "\n",
    "# Set individual geo settings for each subplot\n",
    "fig.update_geos(\n",
    "    visible=True,\n",
    "    scope='usa',\n",
    "    row=1, col=1\n",
    ")\n",
    "fig.update_geos(\n",
    "    visible=True,\n",
    "    scope='usa',\n",
    "    row=1, col=2\n",
    ")\n",
    "\n",
    "# Show the plot\n",
    "fig.show()\n"
   ]
  },
  {
   "cell_type": "code",
   "execution_count": null,
   "metadata": {},
   "outputs": [],
   "source": []
  }
 ],
 "metadata": {
  "kernelspec": {
   "display_name": "Python 3",
   "language": "python",
   "name": "python3"
  },
  "language_info": {
   "codemirror_mode": {
    "name": "ipython",
    "version": 3
   },
   "file_extension": ".py",
   "mimetype": "text/x-python",
   "name": "python",
   "nbconvert_exporter": "python",
   "pygments_lexer": "ipython3",
   "version": "3.11.4"
  }
 },
 "nbformat": 4,
 "nbformat_minor": 2
}
