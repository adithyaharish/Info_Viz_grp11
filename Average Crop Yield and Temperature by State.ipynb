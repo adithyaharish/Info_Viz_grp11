{
 "cells": [
  {
   "cell_type": "code",
   "execution_count": 4,
   "metadata": {},
   "outputs": [],
   "source": [
    "import pandas as pd\n",
    "import plotly.graph_objects as go\n",
    "from ipywidgets import widgets, Output\n",
    "from IPython.display import display"
   ]
  },
  {
   "cell_type": "code",
   "execution_count": 5,
   "metadata": {},
   "outputs": [
    {
     "data": {
      "text/plain": [
       "Index(['Program', 'Year', 'State', 'Commodity', ' ACRES HARVESTED',\n",
       "       ' ACRES PLANTED', ' PRODUCTION, MEASURED IN $'],\n",
       "      dtype='object')"
      ]
     },
     "execution_count": 5,
     "metadata": {},
     "output_type": "execute_result"
    }
   ],
   "source": [
    "df = pd.read_csv('Agriculture_final_2016.csv')\n",
    "df.columns"
   ]
  },
  {
   "cell_type": "code",
   "execution_count": 6,
   "metadata": {},
   "outputs": [
    {
     "data": {
      "text/plain": [
       "Commodity\n",
       "CORN         42\n",
       "WHEAT        42\n",
       "SOYBEANS     31\n",
       "OATS         29\n",
       "COTTON       17\n",
       "BARLEY       16\n",
       "SORGHUM      14\n",
       "BEANS        12\n",
       "PEANUTS      11\n",
       "SUNFLOWER     8\n",
       "CANOLA        8\n",
       "PEAS          7\n",
       "RICE          6\n",
       "SAFFLOWER     6\n",
       "LENTILS       4\n",
       "MILLET        3\n",
       "FLAXSEED      3\n",
       "RYE           2\n",
       "Name: count, dtype: int64"
      ]
     },
     "execution_count": 6,
     "metadata": {},
     "output_type": "execute_result"
    }
   ],
   "source": [
    "df['Commodity'].value_counts()"
   ]
  },
  {
   "cell_type": "code",
   "execution_count": 7,
   "metadata": {},
   "outputs": [
    {
     "data": {
      "text/plain": [
       "Index(['Data.Precipitation', 'Date.Full', 'Date.Month', 'Date.Week of',\n",
       "       'Date.Year', 'Station.City', 'Station.Code', 'Station.Location',\n",
       "       'Station.State', 'Data.Temperature.Avg Temp',\n",
       "       'Data.Temperature.Max Temp', 'Data.Temperature.Min Temp',\n",
       "       'Data.Wind.Direction', 'Data.Wind.Speed'],\n",
       "      dtype='object')"
      ]
     },
     "execution_count": 7,
     "metadata": {},
     "output_type": "execute_result"
    }
   ],
   "source": [
    "df1 = pd.read_csv('weather.csv')\n",
    "df1.columns"
   ]
  },
  {
   "cell_type": "code",
   "execution_count": 8,
   "metadata": {},
   "outputs": [
    {
     "data": {
      "text/html": [
       "<div>\n",
       "<style scoped>\n",
       "    .dataframe tbody tr th:only-of-type {\n",
       "        vertical-align: middle;\n",
       "    }\n",
       "\n",
       "    .dataframe tbody tr th {\n",
       "        vertical-align: top;\n",
       "    }\n",
       "\n",
       "    .dataframe thead th {\n",
       "        text-align: right;\n",
       "    }\n",
       "</style>\n",
       "<table border=\"1\" class=\"dataframe\">\n",
       "  <thead>\n",
       "    <tr style=\"text-align: right;\">\n",
       "      <th></th>\n",
       "      <th>Data.Precipitation</th>\n",
       "      <th>Date.Full</th>\n",
       "      <th>Date.Month</th>\n",
       "      <th>Date.Week of</th>\n",
       "      <th>Date.Year</th>\n",
       "      <th>Station.City</th>\n",
       "      <th>Station.Code</th>\n",
       "      <th>Station.Location</th>\n",
       "      <th>Station.State</th>\n",
       "      <th>Data.Temperature.Avg Temp</th>\n",
       "      <th>Data.Temperature.Max Temp</th>\n",
       "      <th>Data.Temperature.Min Temp</th>\n",
       "      <th>Data.Wind.Direction</th>\n",
       "      <th>Data.Wind.Speed</th>\n",
       "    </tr>\n",
       "  </thead>\n",
       "  <tbody>\n",
       "    <tr>\n",
       "      <th>0</th>\n",
       "      <td>0.00</td>\n",
       "      <td>2016-01-03</td>\n",
       "      <td>1</td>\n",
       "      <td>3</td>\n",
       "      <td>2016</td>\n",
       "      <td>Birmingham</td>\n",
       "      <td>BHM</td>\n",
       "      <td>Birmingham, AL</td>\n",
       "      <td>Alabama</td>\n",
       "      <td>39</td>\n",
       "      <td>46</td>\n",
       "      <td>32</td>\n",
       "      <td>33</td>\n",
       "      <td>4.33</td>\n",
       "    </tr>\n",
       "    <tr>\n",
       "      <th>1</th>\n",
       "      <td>0.00</td>\n",
       "      <td>2016-01-03</td>\n",
       "      <td>1</td>\n",
       "      <td>3</td>\n",
       "      <td>2016</td>\n",
       "      <td>Huntsville</td>\n",
       "      <td>HSV</td>\n",
       "      <td>Huntsville, AL</td>\n",
       "      <td>Alabama</td>\n",
       "      <td>39</td>\n",
       "      <td>47</td>\n",
       "      <td>31</td>\n",
       "      <td>32</td>\n",
       "      <td>3.86</td>\n",
       "    </tr>\n",
       "    <tr>\n",
       "      <th>2</th>\n",
       "      <td>0.16</td>\n",
       "      <td>2016-01-03</td>\n",
       "      <td>1</td>\n",
       "      <td>3</td>\n",
       "      <td>2016</td>\n",
       "      <td>Mobile</td>\n",
       "      <td>MOB</td>\n",
       "      <td>Mobile, AL</td>\n",
       "      <td>Alabama</td>\n",
       "      <td>46</td>\n",
       "      <td>51</td>\n",
       "      <td>41</td>\n",
       "      <td>35</td>\n",
       "      <td>9.73</td>\n",
       "    </tr>\n",
       "    <tr>\n",
       "      <th>3</th>\n",
       "      <td>0.00</td>\n",
       "      <td>2016-01-03</td>\n",
       "      <td>1</td>\n",
       "      <td>3</td>\n",
       "      <td>2016</td>\n",
       "      <td>Montgomery</td>\n",
       "      <td>MGM</td>\n",
       "      <td>Montgomery, AL</td>\n",
       "      <td>Alabama</td>\n",
       "      <td>45</td>\n",
       "      <td>52</td>\n",
       "      <td>38</td>\n",
       "      <td>32</td>\n",
       "      <td>6.86</td>\n",
       "    </tr>\n",
       "    <tr>\n",
       "      <th>4</th>\n",
       "      <td>0.01</td>\n",
       "      <td>2016-01-03</td>\n",
       "      <td>1</td>\n",
       "      <td>3</td>\n",
       "      <td>2016</td>\n",
       "      <td>Anchorage</td>\n",
       "      <td>ANC</td>\n",
       "      <td>Anchorage, AK</td>\n",
       "      <td>Alaska</td>\n",
       "      <td>34</td>\n",
       "      <td>38</td>\n",
       "      <td>29</td>\n",
       "      <td>19</td>\n",
       "      <td>7.80</td>\n",
       "    </tr>\n",
       "    <tr>\n",
       "      <th>...</th>\n",
       "      <td>...</td>\n",
       "      <td>...</td>\n",
       "      <td>...</td>\n",
       "      <td>...</td>\n",
       "      <td>...</td>\n",
       "      <td>...</td>\n",
       "      <td>...</td>\n",
       "      <td>...</td>\n",
       "      <td>...</td>\n",
       "      <td>...</td>\n",
       "      <td>...</td>\n",
       "      <td>...</td>\n",
       "      <td>...</td>\n",
       "      <td>...</td>\n",
       "    </tr>\n",
       "    <tr>\n",
       "      <th>16738</th>\n",
       "      <td>0.08</td>\n",
       "      <td>2017-01-01</td>\n",
       "      <td>1</td>\n",
       "      <td>1</td>\n",
       "      <td>2017</td>\n",
       "      <td>Casper</td>\n",
       "      <td>CPR</td>\n",
       "      <td>Casper, WY</td>\n",
       "      <td>Wyoming</td>\n",
       "      <td>23</td>\n",
       "      <td>32</td>\n",
       "      <td>15</td>\n",
       "      <td>23</td>\n",
       "      <td>19.98</td>\n",
       "    </tr>\n",
       "    <tr>\n",
       "      <th>16739</th>\n",
       "      <td>0.00</td>\n",
       "      <td>2017-01-01</td>\n",
       "      <td>1</td>\n",
       "      <td>1</td>\n",
       "      <td>2017</td>\n",
       "      <td>Cheyenne</td>\n",
       "      <td>CYS</td>\n",
       "      <td>Cheyenne, WY</td>\n",
       "      <td>Wyoming</td>\n",
       "      <td>32</td>\n",
       "      <td>42</td>\n",
       "      <td>21</td>\n",
       "      <td>26</td>\n",
       "      <td>15.16</td>\n",
       "    </tr>\n",
       "    <tr>\n",
       "      <th>16740</th>\n",
       "      <td>0.00</td>\n",
       "      <td>2017-01-01</td>\n",
       "      <td>1</td>\n",
       "      <td>1</td>\n",
       "      <td>2017</td>\n",
       "      <td>Lander</td>\n",
       "      <td>LND</td>\n",
       "      <td>Lander, WY</td>\n",
       "      <td>Wyoming</td>\n",
       "      <td>17</td>\n",
       "      <td>29</td>\n",
       "      <td>4</td>\n",
       "      <td>26</td>\n",
       "      <td>1.65</td>\n",
       "    </tr>\n",
       "    <tr>\n",
       "      <th>16741</th>\n",
       "      <td>0.06</td>\n",
       "      <td>2017-01-01</td>\n",
       "      <td>1</td>\n",
       "      <td>1</td>\n",
       "      <td>2017</td>\n",
       "      <td>Rawlins</td>\n",
       "      <td>RWL</td>\n",
       "      <td>Rawlins, WY</td>\n",
       "      <td>Wyoming</td>\n",
       "      <td>23</td>\n",
       "      <td>31</td>\n",
       "      <td>13</td>\n",
       "      <td>24</td>\n",
       "      <td>18.16</td>\n",
       "    </tr>\n",
       "    <tr>\n",
       "      <th>16742</th>\n",
       "      <td>0.10</td>\n",
       "      <td>2017-01-01</td>\n",
       "      <td>1</td>\n",
       "      <td>1</td>\n",
       "      <td>2017</td>\n",
       "      <td>Sheridan</td>\n",
       "      <td>SHR</td>\n",
       "      <td>Sheridan, WY</td>\n",
       "      <td>Wyoming</td>\n",
       "      <td>21</td>\n",
       "      <td>34</td>\n",
       "      <td>8</td>\n",
       "      <td>23</td>\n",
       "      <td>7.51</td>\n",
       "    </tr>\n",
       "  </tbody>\n",
       "</table>\n",
       "<p>16743 rows × 14 columns</p>\n",
       "</div>"
      ],
      "text/plain": [
       "       Data.Precipitation   Date.Full  Date.Month  Date.Week of  Date.Year  \\\n",
       "0                    0.00  2016-01-03           1             3       2016   \n",
       "1                    0.00  2016-01-03           1             3       2016   \n",
       "2                    0.16  2016-01-03           1             3       2016   \n",
       "3                    0.00  2016-01-03           1             3       2016   \n",
       "4                    0.01  2016-01-03           1             3       2016   \n",
       "...                   ...         ...         ...           ...        ...   \n",
       "16738                0.08  2017-01-01           1             1       2017   \n",
       "16739                0.00  2017-01-01           1             1       2017   \n",
       "16740                0.00  2017-01-01           1             1       2017   \n",
       "16741                0.06  2017-01-01           1             1       2017   \n",
       "16742                0.10  2017-01-01           1             1       2017   \n",
       "\n",
       "      Station.City Station.Code Station.Location Station.State  \\\n",
       "0       Birmingham          BHM   Birmingham, AL       Alabama   \n",
       "1       Huntsville          HSV   Huntsville, AL       Alabama   \n",
       "2           Mobile          MOB       Mobile, AL       Alabama   \n",
       "3       Montgomery          MGM   Montgomery, AL       Alabama   \n",
       "4        Anchorage          ANC    Anchorage, AK        Alaska   \n",
       "...            ...          ...              ...           ...   \n",
       "16738       Casper          CPR       Casper, WY       Wyoming   \n",
       "16739     Cheyenne          CYS     Cheyenne, WY       Wyoming   \n",
       "16740       Lander          LND       Lander, WY       Wyoming   \n",
       "16741      Rawlins          RWL      Rawlins, WY       Wyoming   \n",
       "16742     Sheridan          SHR     Sheridan, WY       Wyoming   \n",
       "\n",
       "       Data.Temperature.Avg Temp  Data.Temperature.Max Temp  \\\n",
       "0                             39                         46   \n",
       "1                             39                         47   \n",
       "2                             46                         51   \n",
       "3                             45                         52   \n",
       "4                             34                         38   \n",
       "...                          ...                        ...   \n",
       "16738                         23                         32   \n",
       "16739                         32                         42   \n",
       "16740                         17                         29   \n",
       "16741                         23                         31   \n",
       "16742                         21                         34   \n",
       "\n",
       "       Data.Temperature.Min Temp  Data.Wind.Direction  Data.Wind.Speed  \n",
       "0                             32                   33             4.33  \n",
       "1                             31                   32             3.86  \n",
       "2                             41                   35             9.73  \n",
       "3                             38                   32             6.86  \n",
       "4                             29                   19             7.80  \n",
       "...                          ...                  ...              ...  \n",
       "16738                         15                   23            19.98  \n",
       "16739                         21                   26            15.16  \n",
       "16740                          4                   26             1.65  \n",
       "16741                         13                   24            18.16  \n",
       "16742                          8                   23             7.51  \n",
       "\n",
       "[16743 rows x 14 columns]"
      ]
     },
     "execution_count": 8,
     "metadata": {},
     "output_type": "execute_result"
    }
   ],
   "source": [
    "df1"
   ]
  },
  {
   "cell_type": "code",
   "execution_count": 9,
   "metadata": {},
   "outputs": [],
   "source": [
    "df1['Station.State'] = df1['Station.State'].replace({'DE': 'Delaware', 'VA': 'Virginia'})"
   ]
  },
  {
   "cell_type": "code",
   "execution_count": 10,
   "metadata": {},
   "outputs": [
    {
     "name": "stdout",
     "output_type": "stream",
     "text": [
      "             State  Year  Average Temperature\n",
      "0          Alabama  2016            66.721154\n",
      "1           Alaska  2016            41.413056\n",
      "2          Arizona  2016            66.646154\n",
      "3         Arkansas  2016            62.583333\n",
      "4       California  2016            62.629969\n",
      "5         Colorado  2016            49.724359\n",
      "6      Connecticut  2016            53.711538\n",
      "7         Delaware  2016            56.365385\n",
      "8          Florida  2016            74.059295\n",
      "9          Georgia  2016            66.451923\n",
      "10          Hawaii  2016            76.438462\n",
      "11           Idaho  2016            52.307692\n",
      "12        Illinois  2016            53.740385\n",
      "13         Indiana  2016            54.293269\n",
      "14            Iowa  2016            51.188462\n",
      "15          Kansas  2016            57.259615\n",
      "16        Kentucky  2016            58.569231\n",
      "17       Louisiana  2016            69.601562\n",
      "18           Maine  2016            45.788462\n",
      "19        Maryland  2016            57.269231\n",
      "20   Massachusetts  2016            53.633333\n",
      "21        Michigan  2016            48.335470\n",
      "22       Minnesota  2016            45.153846\n",
      "23     Mississippi  2016            66.640110\n",
      "24        Missouri  2016            57.752747\n",
      "25         Montana  2016            46.110140\n",
      "26        Nebraska  2016            52.024038\n",
      "27          Nevada  2016            56.131410\n",
      "28   New Hampshire  2016            51.724490\n",
      "29      New Jersey  2016            56.384615\n",
      "30      New Mexico  2016            59.000000\n",
      "31        New York  2016            51.372596\n",
      "32  North Carolina  2016            62.019231\n",
      "33    North Dakota  2016            45.696154\n",
      "34            Ohio  2016            52.950549\n",
      "35        Oklahoma  2016            62.086538\n",
      "36          Oregon  2016            53.264423\n",
      "37    Pennsylvania  2016            54.236264\n",
      "38    Rhode Island  2016            53.346154\n",
      "39  South Carolina  2016            65.447115\n",
      "40    South Dakota  2016            48.896154\n",
      "41       Tennessee  2016            61.082524\n",
      "42           Texas  2016            68.371795\n",
      "43            Utah  2016            56.423077\n",
      "44         Vermont  2016            49.153846\n",
      "45        Virginia  2016            59.173077\n",
      "46      Washington  2016            51.774725\n",
      "47   West Virginia  2016            55.293269\n",
      "48       Wisconsin  2016            49.562500\n",
      "49         Wyoming  2016            46.938462\n"
     ]
    }
   ],
   "source": [
    "average_temperatures = df1[(df1['Date.Year'] == 2016) & (df1['Station.State'] != 'Puerto Rico')].groupby(['Station.State', 'Date.Year'])['Data.Temperature.Avg Temp'].mean().reset_index()\n",
    "\n",
    "# Rename columns for clarity\n",
    "average_temperatures.columns = ['State', 'Year', 'Average Temperature']\n",
    "\n",
    "print(average_temperatures)"
   ]
  },
  {
   "cell_type": "code",
   "execution_count": 11,
   "metadata": {},
   "outputs": [
    {
     "name": "stdout",
     "output_type": "stream",
     "text": [
      "             State  Year    Production\n",
      "0          ALABAMA  2016  7.224480e+08\n",
      "1           ALASKA  2016  1.482000e+06\n",
      "2          ARIZONA  2016  1.588800e+08\n",
      "3         ARKANSAS  2016  3.279877e+09\n",
      "4       CALIFORNIA  2016  1.068535e+09\n",
      "5         COLORADO  2016  1.037120e+09\n",
      "6         DELAWARE  2016  2.005010e+08\n",
      "7          FLORIDA  2016  2.131810e+08\n",
      "8          GEORGIA  2016  1.688037e+09\n",
      "9            IDAHO  2016  9.358890e+08\n",
      "10        ILLINOIS  2016  1.368658e+10\n",
      "11         INDIANA  2016  6.663627e+09\n",
      "12            IOWA  2016  1.434594e+10\n",
      "13          KANSAS  2016  6.263041e+09\n",
      "14        KENTUCKY  2016  1.855594e+09\n",
      "15       LOUISIANA  2016  1.325407e+09\n",
      "16           MAINE  2016  3.593000e+06\n",
      "17        MARYLAND  2016  5.194610e+08\n",
      "18        MICHIGAN  2016  2.422443e+09\n",
      "19       MINNESOTA  2016  9.069802e+09\n",
      "20     MISSISSIPPI  2016  2.020817e+09\n",
      "21        MISSOURI  2016  5.104477e+09\n",
      "22         MONTANA  2016  1.604812e+09\n",
      "23        NEBRASKA  2016  8.900241e+09\n",
      "24          NEVADA  2016  2.637000e+06\n",
      "25      NEW JERSEY  2016  7.956300e+07\n",
      "26      NEW MEXICO  2016  8.872400e+07\n",
      "27        NEW YORK  2016  4.559940e+08\n",
      "28  NORTH CAROLINA  2016  1.339588e+09\n",
      "29    NORTH DAKOTA  2016  6.783719e+09\n",
      "30            OHIO  2016  4.638306e+09\n",
      "31        OKLAHOMA  2016  1.067184e+09\n",
      "32          OREGON  2016  2.295890e+08\n",
      "33    PENNSYLVANIA  2016  8.095560e+08\n",
      "34  SOUTH CAROLINA  2016  4.504730e+08\n",
      "35    SOUTH DAKOTA  2016  5.571863e+09\n",
      "36       TENNESSEE  2016  1.521663e+09\n",
      "37           TEXAS  2016  5.348435e+09\n",
      "38            UTAH  2016  5.261500e+07\n",
      "39        VIRGINIA  2016  4.958800e+08\n",
      "40      WASHINGTON  2016  9.175970e+08\n",
      "41   WEST VIRGINIA  2016  3.342800e+07\n",
      "42       WISCONSIN  2016  2.965424e+09\n",
      "43         WYOMING  2016  1.138000e+08\n"
     ]
    }
   ],
   "source": [
    "sum_production = df.groupby(['State', 'Year'])[' PRODUCTION, MEASURED IN $'].sum().reset_index()\n",
    "\n",
    "# Rename columns for clarity\n",
    "sum_production.columns = ['State', 'Year', 'Production']\n",
    "\n",
    "print(sum_production)"
   ]
  },
  {
   "cell_type": "code",
   "execution_count": 12,
   "metadata": {},
   "outputs": [],
   "source": [
    "import plotly.express as px"
   ]
  },
  {
   "cell_type": "code",
   "execution_count": 13,
   "metadata": {},
   "outputs": [],
   "source": [
    "# Merge dataframes on the State column\n",
    "sum_production['State'] = sum_production['State'].str.title()\n",
    "combined_df = pd.merge(sum_production, average_temperatures, on='State')"
   ]
  },
  {
   "cell_type": "code",
   "execution_count": 14,
   "metadata": {},
   "outputs": [
    {
     "data": {
      "text/html": [
       "<div>\n",
       "<style scoped>\n",
       "    .dataframe tbody tr th:only-of-type {\n",
       "        vertical-align: middle;\n",
       "    }\n",
       "\n",
       "    .dataframe tbody tr th {\n",
       "        vertical-align: top;\n",
       "    }\n",
       "\n",
       "    .dataframe thead th {\n",
       "        text-align: right;\n",
       "    }\n",
       "</style>\n",
       "<table border=\"1\" class=\"dataframe\">\n",
       "  <thead>\n",
       "    <tr style=\"text-align: right;\">\n",
       "      <th></th>\n",
       "      <th>State</th>\n",
       "      <th>Year_x</th>\n",
       "      <th>Production</th>\n",
       "      <th>Year_y</th>\n",
       "      <th>Average Temperature</th>\n",
       "    </tr>\n",
       "  </thead>\n",
       "  <tbody>\n",
       "    <tr>\n",
       "      <th>0</th>\n",
       "      <td>Alabama</td>\n",
       "      <td>2016</td>\n",
       "      <td>7.224480e+08</td>\n",
       "      <td>2016</td>\n",
       "      <td>66.721154</td>\n",
       "    </tr>\n",
       "    <tr>\n",
       "      <th>1</th>\n",
       "      <td>Alaska</td>\n",
       "      <td>2016</td>\n",
       "      <td>1.482000e+06</td>\n",
       "      <td>2016</td>\n",
       "      <td>41.413056</td>\n",
       "    </tr>\n",
       "    <tr>\n",
       "      <th>2</th>\n",
       "      <td>Arizona</td>\n",
       "      <td>2016</td>\n",
       "      <td>1.588800e+08</td>\n",
       "      <td>2016</td>\n",
       "      <td>66.646154</td>\n",
       "    </tr>\n",
       "    <tr>\n",
       "      <th>3</th>\n",
       "      <td>Arkansas</td>\n",
       "      <td>2016</td>\n",
       "      <td>3.279877e+09</td>\n",
       "      <td>2016</td>\n",
       "      <td>62.583333</td>\n",
       "    </tr>\n",
       "    <tr>\n",
       "      <th>4</th>\n",
       "      <td>California</td>\n",
       "      <td>2016</td>\n",
       "      <td>1.068535e+09</td>\n",
       "      <td>2016</td>\n",
       "      <td>62.629969</td>\n",
       "    </tr>\n",
       "    <tr>\n",
       "      <th>5</th>\n",
       "      <td>Colorado</td>\n",
       "      <td>2016</td>\n",
       "      <td>1.037120e+09</td>\n",
       "      <td>2016</td>\n",
       "      <td>49.724359</td>\n",
       "    </tr>\n",
       "    <tr>\n",
       "      <th>6</th>\n",
       "      <td>Delaware</td>\n",
       "      <td>2016</td>\n",
       "      <td>2.005010e+08</td>\n",
       "      <td>2016</td>\n",
       "      <td>56.365385</td>\n",
       "    </tr>\n",
       "    <tr>\n",
       "      <th>7</th>\n",
       "      <td>Florida</td>\n",
       "      <td>2016</td>\n",
       "      <td>2.131810e+08</td>\n",
       "      <td>2016</td>\n",
       "      <td>74.059295</td>\n",
       "    </tr>\n",
       "    <tr>\n",
       "      <th>8</th>\n",
       "      <td>Georgia</td>\n",
       "      <td>2016</td>\n",
       "      <td>1.688037e+09</td>\n",
       "      <td>2016</td>\n",
       "      <td>66.451923</td>\n",
       "    </tr>\n",
       "    <tr>\n",
       "      <th>9</th>\n",
       "      <td>Idaho</td>\n",
       "      <td>2016</td>\n",
       "      <td>9.358890e+08</td>\n",
       "      <td>2016</td>\n",
       "      <td>52.307692</td>\n",
       "    </tr>\n",
       "    <tr>\n",
       "      <th>10</th>\n",
       "      <td>Illinois</td>\n",
       "      <td>2016</td>\n",
       "      <td>1.368658e+10</td>\n",
       "      <td>2016</td>\n",
       "      <td>53.740385</td>\n",
       "    </tr>\n",
       "    <tr>\n",
       "      <th>11</th>\n",
       "      <td>Indiana</td>\n",
       "      <td>2016</td>\n",
       "      <td>6.663627e+09</td>\n",
       "      <td>2016</td>\n",
       "      <td>54.293269</td>\n",
       "    </tr>\n",
       "    <tr>\n",
       "      <th>12</th>\n",
       "      <td>Iowa</td>\n",
       "      <td>2016</td>\n",
       "      <td>1.434594e+10</td>\n",
       "      <td>2016</td>\n",
       "      <td>51.188462</td>\n",
       "    </tr>\n",
       "    <tr>\n",
       "      <th>13</th>\n",
       "      <td>Kansas</td>\n",
       "      <td>2016</td>\n",
       "      <td>6.263041e+09</td>\n",
       "      <td>2016</td>\n",
       "      <td>57.259615</td>\n",
       "    </tr>\n",
       "    <tr>\n",
       "      <th>14</th>\n",
       "      <td>Kentucky</td>\n",
       "      <td>2016</td>\n",
       "      <td>1.855594e+09</td>\n",
       "      <td>2016</td>\n",
       "      <td>58.569231</td>\n",
       "    </tr>\n",
       "    <tr>\n",
       "      <th>15</th>\n",
       "      <td>Louisiana</td>\n",
       "      <td>2016</td>\n",
       "      <td>1.325407e+09</td>\n",
       "      <td>2016</td>\n",
       "      <td>69.601562</td>\n",
       "    </tr>\n",
       "    <tr>\n",
       "      <th>16</th>\n",
       "      <td>Maine</td>\n",
       "      <td>2016</td>\n",
       "      <td>3.593000e+06</td>\n",
       "      <td>2016</td>\n",
       "      <td>45.788462</td>\n",
       "    </tr>\n",
       "    <tr>\n",
       "      <th>17</th>\n",
       "      <td>Maryland</td>\n",
       "      <td>2016</td>\n",
       "      <td>5.194610e+08</td>\n",
       "      <td>2016</td>\n",
       "      <td>57.269231</td>\n",
       "    </tr>\n",
       "    <tr>\n",
       "      <th>18</th>\n",
       "      <td>Michigan</td>\n",
       "      <td>2016</td>\n",
       "      <td>2.422443e+09</td>\n",
       "      <td>2016</td>\n",
       "      <td>48.335470</td>\n",
       "    </tr>\n",
       "    <tr>\n",
       "      <th>19</th>\n",
       "      <td>Minnesota</td>\n",
       "      <td>2016</td>\n",
       "      <td>9.069802e+09</td>\n",
       "      <td>2016</td>\n",
       "      <td>45.153846</td>\n",
       "    </tr>\n",
       "    <tr>\n",
       "      <th>20</th>\n",
       "      <td>Mississippi</td>\n",
       "      <td>2016</td>\n",
       "      <td>2.020817e+09</td>\n",
       "      <td>2016</td>\n",
       "      <td>66.640110</td>\n",
       "    </tr>\n",
       "    <tr>\n",
       "      <th>21</th>\n",
       "      <td>Missouri</td>\n",
       "      <td>2016</td>\n",
       "      <td>5.104477e+09</td>\n",
       "      <td>2016</td>\n",
       "      <td>57.752747</td>\n",
       "    </tr>\n",
       "    <tr>\n",
       "      <th>22</th>\n",
       "      <td>Montana</td>\n",
       "      <td>2016</td>\n",
       "      <td>1.604812e+09</td>\n",
       "      <td>2016</td>\n",
       "      <td>46.110140</td>\n",
       "    </tr>\n",
       "    <tr>\n",
       "      <th>23</th>\n",
       "      <td>Nebraska</td>\n",
       "      <td>2016</td>\n",
       "      <td>8.900241e+09</td>\n",
       "      <td>2016</td>\n",
       "      <td>52.024038</td>\n",
       "    </tr>\n",
       "    <tr>\n",
       "      <th>24</th>\n",
       "      <td>Nevada</td>\n",
       "      <td>2016</td>\n",
       "      <td>2.637000e+06</td>\n",
       "      <td>2016</td>\n",
       "      <td>56.131410</td>\n",
       "    </tr>\n",
       "    <tr>\n",
       "      <th>25</th>\n",
       "      <td>New Jersey</td>\n",
       "      <td>2016</td>\n",
       "      <td>7.956300e+07</td>\n",
       "      <td>2016</td>\n",
       "      <td>56.384615</td>\n",
       "    </tr>\n",
       "    <tr>\n",
       "      <th>26</th>\n",
       "      <td>New Mexico</td>\n",
       "      <td>2016</td>\n",
       "      <td>8.872400e+07</td>\n",
       "      <td>2016</td>\n",
       "      <td>59.000000</td>\n",
       "    </tr>\n",
       "    <tr>\n",
       "      <th>27</th>\n",
       "      <td>New York</td>\n",
       "      <td>2016</td>\n",
       "      <td>4.559940e+08</td>\n",
       "      <td>2016</td>\n",
       "      <td>51.372596</td>\n",
       "    </tr>\n",
       "    <tr>\n",
       "      <th>28</th>\n",
       "      <td>North Carolina</td>\n",
       "      <td>2016</td>\n",
       "      <td>1.339588e+09</td>\n",
       "      <td>2016</td>\n",
       "      <td>62.019231</td>\n",
       "    </tr>\n",
       "    <tr>\n",
       "      <th>29</th>\n",
       "      <td>North Dakota</td>\n",
       "      <td>2016</td>\n",
       "      <td>6.783719e+09</td>\n",
       "      <td>2016</td>\n",
       "      <td>45.696154</td>\n",
       "    </tr>\n",
       "    <tr>\n",
       "      <th>30</th>\n",
       "      <td>Ohio</td>\n",
       "      <td>2016</td>\n",
       "      <td>4.638306e+09</td>\n",
       "      <td>2016</td>\n",
       "      <td>52.950549</td>\n",
       "    </tr>\n",
       "    <tr>\n",
       "      <th>31</th>\n",
       "      <td>Oklahoma</td>\n",
       "      <td>2016</td>\n",
       "      <td>1.067184e+09</td>\n",
       "      <td>2016</td>\n",
       "      <td>62.086538</td>\n",
       "    </tr>\n",
       "    <tr>\n",
       "      <th>32</th>\n",
       "      <td>Oregon</td>\n",
       "      <td>2016</td>\n",
       "      <td>2.295890e+08</td>\n",
       "      <td>2016</td>\n",
       "      <td>53.264423</td>\n",
       "    </tr>\n",
       "    <tr>\n",
       "      <th>33</th>\n",
       "      <td>Pennsylvania</td>\n",
       "      <td>2016</td>\n",
       "      <td>8.095560e+08</td>\n",
       "      <td>2016</td>\n",
       "      <td>54.236264</td>\n",
       "    </tr>\n",
       "    <tr>\n",
       "      <th>34</th>\n",
       "      <td>South Carolina</td>\n",
       "      <td>2016</td>\n",
       "      <td>4.504730e+08</td>\n",
       "      <td>2016</td>\n",
       "      <td>65.447115</td>\n",
       "    </tr>\n",
       "    <tr>\n",
       "      <th>35</th>\n",
       "      <td>South Dakota</td>\n",
       "      <td>2016</td>\n",
       "      <td>5.571863e+09</td>\n",
       "      <td>2016</td>\n",
       "      <td>48.896154</td>\n",
       "    </tr>\n",
       "    <tr>\n",
       "      <th>36</th>\n",
       "      <td>Tennessee</td>\n",
       "      <td>2016</td>\n",
       "      <td>1.521663e+09</td>\n",
       "      <td>2016</td>\n",
       "      <td>61.082524</td>\n",
       "    </tr>\n",
       "    <tr>\n",
       "      <th>37</th>\n",
       "      <td>Texas</td>\n",
       "      <td>2016</td>\n",
       "      <td>5.348435e+09</td>\n",
       "      <td>2016</td>\n",
       "      <td>68.371795</td>\n",
       "    </tr>\n",
       "    <tr>\n",
       "      <th>38</th>\n",
       "      <td>Utah</td>\n",
       "      <td>2016</td>\n",
       "      <td>5.261500e+07</td>\n",
       "      <td>2016</td>\n",
       "      <td>56.423077</td>\n",
       "    </tr>\n",
       "    <tr>\n",
       "      <th>39</th>\n",
       "      <td>Virginia</td>\n",
       "      <td>2016</td>\n",
       "      <td>4.958800e+08</td>\n",
       "      <td>2016</td>\n",
       "      <td>59.173077</td>\n",
       "    </tr>\n",
       "    <tr>\n",
       "      <th>40</th>\n",
       "      <td>Washington</td>\n",
       "      <td>2016</td>\n",
       "      <td>9.175970e+08</td>\n",
       "      <td>2016</td>\n",
       "      <td>51.774725</td>\n",
       "    </tr>\n",
       "    <tr>\n",
       "      <th>41</th>\n",
       "      <td>West Virginia</td>\n",
       "      <td>2016</td>\n",
       "      <td>3.342800e+07</td>\n",
       "      <td>2016</td>\n",
       "      <td>55.293269</td>\n",
       "    </tr>\n",
       "    <tr>\n",
       "      <th>42</th>\n",
       "      <td>Wisconsin</td>\n",
       "      <td>2016</td>\n",
       "      <td>2.965424e+09</td>\n",
       "      <td>2016</td>\n",
       "      <td>49.562500</td>\n",
       "    </tr>\n",
       "    <tr>\n",
       "      <th>43</th>\n",
       "      <td>Wyoming</td>\n",
       "      <td>2016</td>\n",
       "      <td>1.138000e+08</td>\n",
       "      <td>2016</td>\n",
       "      <td>46.938462</td>\n",
       "    </tr>\n",
       "  </tbody>\n",
       "</table>\n",
       "</div>"
      ],
      "text/plain": [
       "             State  Year_x    Production  Year_y  Average Temperature\n",
       "0          Alabama    2016  7.224480e+08    2016            66.721154\n",
       "1           Alaska    2016  1.482000e+06    2016            41.413056\n",
       "2          Arizona    2016  1.588800e+08    2016            66.646154\n",
       "3         Arkansas    2016  3.279877e+09    2016            62.583333\n",
       "4       California    2016  1.068535e+09    2016            62.629969\n",
       "5         Colorado    2016  1.037120e+09    2016            49.724359\n",
       "6         Delaware    2016  2.005010e+08    2016            56.365385\n",
       "7          Florida    2016  2.131810e+08    2016            74.059295\n",
       "8          Georgia    2016  1.688037e+09    2016            66.451923\n",
       "9            Idaho    2016  9.358890e+08    2016            52.307692\n",
       "10        Illinois    2016  1.368658e+10    2016            53.740385\n",
       "11         Indiana    2016  6.663627e+09    2016            54.293269\n",
       "12            Iowa    2016  1.434594e+10    2016            51.188462\n",
       "13          Kansas    2016  6.263041e+09    2016            57.259615\n",
       "14        Kentucky    2016  1.855594e+09    2016            58.569231\n",
       "15       Louisiana    2016  1.325407e+09    2016            69.601562\n",
       "16           Maine    2016  3.593000e+06    2016            45.788462\n",
       "17        Maryland    2016  5.194610e+08    2016            57.269231\n",
       "18        Michigan    2016  2.422443e+09    2016            48.335470\n",
       "19       Minnesota    2016  9.069802e+09    2016            45.153846\n",
       "20     Mississippi    2016  2.020817e+09    2016            66.640110\n",
       "21        Missouri    2016  5.104477e+09    2016            57.752747\n",
       "22         Montana    2016  1.604812e+09    2016            46.110140\n",
       "23        Nebraska    2016  8.900241e+09    2016            52.024038\n",
       "24          Nevada    2016  2.637000e+06    2016            56.131410\n",
       "25      New Jersey    2016  7.956300e+07    2016            56.384615\n",
       "26      New Mexico    2016  8.872400e+07    2016            59.000000\n",
       "27        New York    2016  4.559940e+08    2016            51.372596\n",
       "28  North Carolina    2016  1.339588e+09    2016            62.019231\n",
       "29    North Dakota    2016  6.783719e+09    2016            45.696154\n",
       "30            Ohio    2016  4.638306e+09    2016            52.950549\n",
       "31        Oklahoma    2016  1.067184e+09    2016            62.086538\n",
       "32          Oregon    2016  2.295890e+08    2016            53.264423\n",
       "33    Pennsylvania    2016  8.095560e+08    2016            54.236264\n",
       "34  South Carolina    2016  4.504730e+08    2016            65.447115\n",
       "35    South Dakota    2016  5.571863e+09    2016            48.896154\n",
       "36       Tennessee    2016  1.521663e+09    2016            61.082524\n",
       "37           Texas    2016  5.348435e+09    2016            68.371795\n",
       "38            Utah    2016  5.261500e+07    2016            56.423077\n",
       "39        Virginia    2016  4.958800e+08    2016            59.173077\n",
       "40      Washington    2016  9.175970e+08    2016            51.774725\n",
       "41   West Virginia    2016  3.342800e+07    2016            55.293269\n",
       "42       Wisconsin    2016  2.965424e+09    2016            49.562500\n",
       "43         Wyoming    2016  1.138000e+08    2016            46.938462"
      ]
     },
     "execution_count": 14,
     "metadata": {},
     "output_type": "execute_result"
    }
   ],
   "source": [
    "combined_df"
   ]
  },
  {
   "cell_type": "code",
   "execution_count": 15,
   "metadata": {},
   "outputs": [
    {
     "name": "stdout",
     "output_type": "stream",
     "text": [
      "        State  Year_x    Production  Year_y  Average Temperature\n",
      "0     Alabama    2016  7.224480e+08    2016            66.721154\n",
      "1      Alaska    2016  1.482000e+06    2016            41.413056\n",
      "2     Arizona    2016  1.588800e+08    2016            66.646154\n",
      "3    Arkansas    2016  3.279877e+09    2016            62.583333\n",
      "4  California    2016  1.068535e+09    2016            62.629969\n",
      "State                  0\n",
      "Production             0\n",
      "Average Temperature    0\n",
      "dtype: int64\n"
     ]
    }
   ],
   "source": [
    "# Check the first few rows of the DataFrame\n",
    "print(combined_df.head())\n",
    "\n",
    "# Check for any NaN values in the columns used\n",
    "print(combined_df[['State', 'Production', 'Average Temperature']].isnull().sum())\n"
   ]
  },
  {
   "cell_type": "code",
   "execution_count": 16,
   "metadata": {},
   "outputs": [],
   "source": [
    "# Map of state names to abbreviations if using abbreviations\n",
    "state_abbrev = {\n",
    "    'Alabama': 'AL', 'Alaska': 'AK', 'Arizona': 'AZ', 'Arkansas': 'AR', 'California': 'CA',\n",
    "    'Colorado': 'CO', 'Connecticut': 'CT', 'Delaware': 'DE', 'Florida': 'FL',\n",
    "    'Georgia': 'GA', 'Hawaii': 'HI', 'Idaho': 'ID', 'Illinois': 'IL',\n",
    "    'Indiana': 'IN', 'Iowa': 'IA', 'Kansas': 'KS', 'Kentucky': 'KY',\n",
    "    'Louisiana': 'LA', 'Maine': 'ME', 'Maryland': 'MD', 'Massachusetts': 'MA',\n",
    "    'Michigan': 'MI', 'Minnesota': 'MN', 'Mississippi': 'MS', 'Missouri': 'MO',\n",
    "    'Montana': 'MT', 'Nebraska': 'NE', 'Nevada': 'NV', 'New Hampshire': 'NH',\n",
    "    'New Jersey': 'NJ', 'New Mexico': 'NM', 'New York': 'NY', 'North Carolina': 'NC',\n",
    "    'North Dakota': 'ND', 'Ohio': 'OH', 'Oklahoma': 'OK', 'Oregon': 'OR',\n",
    "    'Pennsylvania': 'PA', 'Rhode Island': 'RI', 'South Carolina': 'SC',\n",
    "    'South Dakota': 'SD', 'Tennessee': 'TN', 'Texas': 'TX', 'Utah': 'UT',\n",
    "    'Vermont': 'VT', 'Virginia': 'VA', 'Washington': 'WA', 'West Virginia': 'WV',\n",
    "    'Wisconsin': 'WI', 'Wyoming': 'WY'\n",
    "}\n",
    "combined_df['State'] = combined_df['State'].map(state_abbrev)\n"
   ]
  },
  {
   "cell_type": "code",
   "execution_count": 17,
   "metadata": {},
   "outputs": [
    {
     "data": {
      "application/vnd.plotly.v1+json": {
       "config": {
        "plotlyServerURL": "https://plot.ly"
       },
       "data": [
        {
         "coloraxis": "coloraxis",
         "customdata": [
          [
           722448000,
           66.72115384615384
          ],
          [
           1482000,
           41.41305637982196
          ],
          [
           158880000,
           66.64615384615385
          ],
          [
           3279877000,
           62.583333333333336
          ],
          [
           1068535000,
           62.62996941896024
          ],
          [
           1037120000,
           49.72435897435897
          ],
          [
           200501000,
           56.36538461538461
          ],
          [
           213181000,
           74.05929487179488
          ],
          [
           1688037000,
           66.45192307692308
          ],
          [
           935889000,
           52.30769230769231
          ],
          [
           13686577000,
           53.74038461538461
          ],
          [
           6663627000,
           54.29326923076923
          ],
          [
           14345938000,
           51.18846153846154
          ],
          [
           6263041000,
           57.25961538461539
          ],
          [
           1855594000,
           58.56923076923077
          ],
          [
           1325407000,
           69.6015625
          ],
          [
           3593000,
           45.78846153846154
          ],
          [
           519461000,
           57.26923076923077
          ],
          [
           2422443000,
           48.335470085470085
          ],
          [
           9069802000,
           45.15384615384615
          ],
          [
           2020817000,
           66.64010989010988
          ],
          [
           5104477000,
           57.752747252747255
          ],
          [
           1604812000,
           46.11013986013986
          ],
          [
           8900241000,
           52.02403846153846
          ],
          [
           2637000,
           56.131410256410255
          ],
          [
           79563000,
           56.38461538461539
          ],
          [
           88724000,
           59
          ],
          [
           455994000,
           51.37259615384615
          ],
          [
           1339588000,
           62.01923076923077
          ],
          [
           6783719000,
           45.69615384615385
          ],
          [
           4638306000,
           52.95054945054945
          ],
          [
           1067184000,
           62.08653846153846
          ],
          [
           229589000,
           53.26442307692308
          ],
          [
           809556000,
           54.23626373626374
          ],
          [
           450473000,
           65.44711538461539
          ],
          [
           5571863000,
           48.896153846153844
          ],
          [
           1521663000,
           61.08252427184466
          ],
          [
           5348435000,
           68.37179487179488
          ],
          [
           52615000,
           56.42307692307692
          ],
          [
           495880000,
           59.17307692307692
          ],
          [
           917597000,
           51.77472527472528
          ],
          [
           33428000,
           55.29326923076923
          ],
          [
           2965424000,
           49.5625
          ],
          [
           113800000,
           46.93846153846154
          ]
         ],
         "geo": "geo",
         "hovertemplate": "<b>%{hovertext}</b><br><br>State=%{location}<br>Total Crop Yield=%{z}<br>Average Temperature=%{customdata[1]}<extra></extra>",
         "hovertext": [
          "AL",
          "AK",
          "AZ",
          "AR",
          "CA",
          "CO",
          "DE",
          "FL",
          "GA",
          "ID",
          "IL",
          "IN",
          "IA",
          "KS",
          "KY",
          "LA",
          "ME",
          "MD",
          "MI",
          "MN",
          "MS",
          "MO",
          "MT",
          "NE",
          "NV",
          "NJ",
          "NM",
          "NY",
          "NC",
          "ND",
          "OH",
          "OK",
          "OR",
          "PA",
          "SC",
          "SD",
          "TN",
          "TX",
          "UT",
          "VA",
          "WA",
          "WV",
          "WI",
          "WY"
         ],
         "locationmode": "USA-states",
         "locations": [
          "AL",
          "AK",
          "AZ",
          "AR",
          "CA",
          "CO",
          "DE",
          "FL",
          "GA",
          "ID",
          "IL",
          "IN",
          "IA",
          "KS",
          "KY",
          "LA",
          "ME",
          "MD",
          "MI",
          "MN",
          "MS",
          "MO",
          "MT",
          "NE",
          "NV",
          "NJ",
          "NM",
          "NY",
          "NC",
          "ND",
          "OH",
          "OK",
          "OR",
          "PA",
          "SC",
          "SD",
          "TN",
          "TX",
          "UT",
          "VA",
          "WA",
          "WV",
          "WI",
          "WY"
         ],
         "name": "",
         "type": "choropleth",
         "z": [
          722448000,
          1482000,
          158880000,
          3279877000,
          1068535000,
          1037120000,
          200501000,
          213181000,
          1688037000,
          935889000,
          13686577000,
          6663627000,
          14345938000,
          6263041000,
          1855594000,
          1325407000,
          3593000,
          519461000,
          2422443000,
          9069802000,
          2020817000,
          5104477000,
          1604812000,
          8900241000,
          2637000,
          79563000,
          88724000,
          455994000,
          1339588000,
          6783719000,
          4638306000,
          1067184000,
          229589000,
          809556000,
          450473000,
          5571863000,
          1521663000,
          5348435000,
          52615000,
          495880000,
          917597000,
          33428000,
          2965424000,
          113800000
         ]
        }
       ],
       "layout": {
        "coloraxis": {
         "colorbar": {
          "title": {
           "text": "Total Crop Yield"
          }
         },
         "colorscale": [
          [
           0,
           "#0d0887"
          ],
          [
           0.1111111111111111,
           "#46039f"
          ],
          [
           0.2222222222222222,
           "#7201a8"
          ],
          [
           0.3333333333333333,
           "#9c179e"
          ],
          [
           0.4444444444444444,
           "#bd3786"
          ],
          [
           0.5555555555555556,
           "#d8576b"
          ],
          [
           0.6666666666666666,
           "#ed7953"
          ],
          [
           0.7777777777777778,
           "#fb9f3a"
          ],
          [
           0.8888888888888888,
           "#fdca26"
          ],
          [
           1,
           "#f0f921"
          ]
         ]
        },
        "geo": {
         "center": {},
         "domain": {
          "x": [
           0,
           1
          ],
          "y": [
           0,
           1
          ]
         },
         "scope": "usa"
        },
        "legend": {
         "tracegroupgap": 0
        },
        "template": {
         "data": {
          "bar": [
           {
            "error_x": {
             "color": "#2a3f5f"
            },
            "error_y": {
             "color": "#2a3f5f"
            },
            "marker": {
             "line": {
              "color": "#E5ECF6",
              "width": 0.5
             },
             "pattern": {
              "fillmode": "overlay",
              "size": 10,
              "solidity": 0.2
             }
            },
            "type": "bar"
           }
          ],
          "barpolar": [
           {
            "marker": {
             "line": {
              "color": "#E5ECF6",
              "width": 0.5
             },
             "pattern": {
              "fillmode": "overlay",
              "size": 10,
              "solidity": 0.2
             }
            },
            "type": "barpolar"
           }
          ],
          "carpet": [
           {
            "aaxis": {
             "endlinecolor": "#2a3f5f",
             "gridcolor": "white",
             "linecolor": "white",
             "minorgridcolor": "white",
             "startlinecolor": "#2a3f5f"
            },
            "baxis": {
             "endlinecolor": "#2a3f5f",
             "gridcolor": "white",
             "linecolor": "white",
             "minorgridcolor": "white",
             "startlinecolor": "#2a3f5f"
            },
            "type": "carpet"
           }
          ],
          "choropleth": [
           {
            "colorbar": {
             "outlinewidth": 0,
             "ticks": ""
            },
            "type": "choropleth"
           }
          ],
          "contour": [
           {
            "colorbar": {
             "outlinewidth": 0,
             "ticks": ""
            },
            "colorscale": [
             [
              0,
              "#0d0887"
             ],
             [
              0.1111111111111111,
              "#46039f"
             ],
             [
              0.2222222222222222,
              "#7201a8"
             ],
             [
              0.3333333333333333,
              "#9c179e"
             ],
             [
              0.4444444444444444,
              "#bd3786"
             ],
             [
              0.5555555555555556,
              "#d8576b"
             ],
             [
              0.6666666666666666,
              "#ed7953"
             ],
             [
              0.7777777777777778,
              "#fb9f3a"
             ],
             [
              0.8888888888888888,
              "#fdca26"
             ],
             [
              1,
              "#f0f921"
             ]
            ],
            "type": "contour"
           }
          ],
          "contourcarpet": [
           {
            "colorbar": {
             "outlinewidth": 0,
             "ticks": ""
            },
            "type": "contourcarpet"
           }
          ],
          "heatmap": [
           {
            "colorbar": {
             "outlinewidth": 0,
             "ticks": ""
            },
            "colorscale": [
             [
              0,
              "#0d0887"
             ],
             [
              0.1111111111111111,
              "#46039f"
             ],
             [
              0.2222222222222222,
              "#7201a8"
             ],
             [
              0.3333333333333333,
              "#9c179e"
             ],
             [
              0.4444444444444444,
              "#bd3786"
             ],
             [
              0.5555555555555556,
              "#d8576b"
             ],
             [
              0.6666666666666666,
              "#ed7953"
             ],
             [
              0.7777777777777778,
              "#fb9f3a"
             ],
             [
              0.8888888888888888,
              "#fdca26"
             ],
             [
              1,
              "#f0f921"
             ]
            ],
            "type": "heatmap"
           }
          ],
          "heatmapgl": [
           {
            "colorbar": {
             "outlinewidth": 0,
             "ticks": ""
            },
            "colorscale": [
             [
              0,
              "#0d0887"
             ],
             [
              0.1111111111111111,
              "#46039f"
             ],
             [
              0.2222222222222222,
              "#7201a8"
             ],
             [
              0.3333333333333333,
              "#9c179e"
             ],
             [
              0.4444444444444444,
              "#bd3786"
             ],
             [
              0.5555555555555556,
              "#d8576b"
             ],
             [
              0.6666666666666666,
              "#ed7953"
             ],
             [
              0.7777777777777778,
              "#fb9f3a"
             ],
             [
              0.8888888888888888,
              "#fdca26"
             ],
             [
              1,
              "#f0f921"
             ]
            ],
            "type": "heatmapgl"
           }
          ],
          "histogram": [
           {
            "marker": {
             "pattern": {
              "fillmode": "overlay",
              "size": 10,
              "solidity": 0.2
             }
            },
            "type": "histogram"
           }
          ],
          "histogram2d": [
           {
            "colorbar": {
             "outlinewidth": 0,
             "ticks": ""
            },
            "colorscale": [
             [
              0,
              "#0d0887"
             ],
             [
              0.1111111111111111,
              "#46039f"
             ],
             [
              0.2222222222222222,
              "#7201a8"
             ],
             [
              0.3333333333333333,
              "#9c179e"
             ],
             [
              0.4444444444444444,
              "#bd3786"
             ],
             [
              0.5555555555555556,
              "#d8576b"
             ],
             [
              0.6666666666666666,
              "#ed7953"
             ],
             [
              0.7777777777777778,
              "#fb9f3a"
             ],
             [
              0.8888888888888888,
              "#fdca26"
             ],
             [
              1,
              "#f0f921"
             ]
            ],
            "type": "histogram2d"
           }
          ],
          "histogram2dcontour": [
           {
            "colorbar": {
             "outlinewidth": 0,
             "ticks": ""
            },
            "colorscale": [
             [
              0,
              "#0d0887"
             ],
             [
              0.1111111111111111,
              "#46039f"
             ],
             [
              0.2222222222222222,
              "#7201a8"
             ],
             [
              0.3333333333333333,
              "#9c179e"
             ],
             [
              0.4444444444444444,
              "#bd3786"
             ],
             [
              0.5555555555555556,
              "#d8576b"
             ],
             [
              0.6666666666666666,
              "#ed7953"
             ],
             [
              0.7777777777777778,
              "#fb9f3a"
             ],
             [
              0.8888888888888888,
              "#fdca26"
             ],
             [
              1,
              "#f0f921"
             ]
            ],
            "type": "histogram2dcontour"
           }
          ],
          "mesh3d": [
           {
            "colorbar": {
             "outlinewidth": 0,
             "ticks": ""
            },
            "type": "mesh3d"
           }
          ],
          "parcoords": [
           {
            "line": {
             "colorbar": {
              "outlinewidth": 0,
              "ticks": ""
             }
            },
            "type": "parcoords"
           }
          ],
          "pie": [
           {
            "automargin": true,
            "type": "pie"
           }
          ],
          "scatter": [
           {
            "fillpattern": {
             "fillmode": "overlay",
             "size": 10,
             "solidity": 0.2
            },
            "type": "scatter"
           }
          ],
          "scatter3d": [
           {
            "line": {
             "colorbar": {
              "outlinewidth": 0,
              "ticks": ""
             }
            },
            "marker": {
             "colorbar": {
              "outlinewidth": 0,
              "ticks": ""
             }
            },
            "type": "scatter3d"
           }
          ],
          "scattercarpet": [
           {
            "marker": {
             "colorbar": {
              "outlinewidth": 0,
              "ticks": ""
             }
            },
            "type": "scattercarpet"
           }
          ],
          "scattergeo": [
           {
            "marker": {
             "colorbar": {
              "outlinewidth": 0,
              "ticks": ""
             }
            },
            "type": "scattergeo"
           }
          ],
          "scattergl": [
           {
            "marker": {
             "colorbar": {
              "outlinewidth": 0,
              "ticks": ""
             }
            },
            "type": "scattergl"
           }
          ],
          "scattermapbox": [
           {
            "marker": {
             "colorbar": {
              "outlinewidth": 0,
              "ticks": ""
             }
            },
            "type": "scattermapbox"
           }
          ],
          "scatterpolar": [
           {
            "marker": {
             "colorbar": {
              "outlinewidth": 0,
              "ticks": ""
             }
            },
            "type": "scatterpolar"
           }
          ],
          "scatterpolargl": [
           {
            "marker": {
             "colorbar": {
              "outlinewidth": 0,
              "ticks": ""
             }
            },
            "type": "scatterpolargl"
           }
          ],
          "scatterternary": [
           {
            "marker": {
             "colorbar": {
              "outlinewidth": 0,
              "ticks": ""
             }
            },
            "type": "scatterternary"
           }
          ],
          "surface": [
           {
            "colorbar": {
             "outlinewidth": 0,
             "ticks": ""
            },
            "colorscale": [
             [
              0,
              "#0d0887"
             ],
             [
              0.1111111111111111,
              "#46039f"
             ],
             [
              0.2222222222222222,
              "#7201a8"
             ],
             [
              0.3333333333333333,
              "#9c179e"
             ],
             [
              0.4444444444444444,
              "#bd3786"
             ],
             [
              0.5555555555555556,
              "#d8576b"
             ],
             [
              0.6666666666666666,
              "#ed7953"
             ],
             [
              0.7777777777777778,
              "#fb9f3a"
             ],
             [
              0.8888888888888888,
              "#fdca26"
             ],
             [
              1,
              "#f0f921"
             ]
            ],
            "type": "surface"
           }
          ],
          "table": [
           {
            "cells": {
             "fill": {
              "color": "#EBF0F8"
             },
             "line": {
              "color": "white"
             }
            },
            "header": {
             "fill": {
              "color": "#C8D4E3"
             },
             "line": {
              "color": "white"
             }
            },
            "type": "table"
           }
          ]
         },
         "layout": {
          "annotationdefaults": {
           "arrowcolor": "#2a3f5f",
           "arrowhead": 0,
           "arrowwidth": 1
          },
          "autotypenumbers": "strict",
          "coloraxis": {
           "colorbar": {
            "outlinewidth": 0,
            "ticks": ""
           }
          },
          "colorscale": {
           "diverging": [
            [
             0,
             "#8e0152"
            ],
            [
             0.1,
             "#c51b7d"
            ],
            [
             0.2,
             "#de77ae"
            ],
            [
             0.3,
             "#f1b6da"
            ],
            [
             0.4,
             "#fde0ef"
            ],
            [
             0.5,
             "#f7f7f7"
            ],
            [
             0.6,
             "#e6f5d0"
            ],
            [
             0.7,
             "#b8e186"
            ],
            [
             0.8,
             "#7fbc41"
            ],
            [
             0.9,
             "#4d9221"
            ],
            [
             1,
             "#276419"
            ]
           ],
           "sequential": [
            [
             0,
             "#0d0887"
            ],
            [
             0.1111111111111111,
             "#46039f"
            ],
            [
             0.2222222222222222,
             "#7201a8"
            ],
            [
             0.3333333333333333,
             "#9c179e"
            ],
            [
             0.4444444444444444,
             "#bd3786"
            ],
            [
             0.5555555555555556,
             "#d8576b"
            ],
            [
             0.6666666666666666,
             "#ed7953"
            ],
            [
             0.7777777777777778,
             "#fb9f3a"
            ],
            [
             0.8888888888888888,
             "#fdca26"
            ],
            [
             1,
             "#f0f921"
            ]
           ],
           "sequentialminus": [
            [
             0,
             "#0d0887"
            ],
            [
             0.1111111111111111,
             "#46039f"
            ],
            [
             0.2222222222222222,
             "#7201a8"
            ],
            [
             0.3333333333333333,
             "#9c179e"
            ],
            [
             0.4444444444444444,
             "#bd3786"
            ],
            [
             0.5555555555555556,
             "#d8576b"
            ],
            [
             0.6666666666666666,
             "#ed7953"
            ],
            [
             0.7777777777777778,
             "#fb9f3a"
            ],
            [
             0.8888888888888888,
             "#fdca26"
            ],
            [
             1,
             "#f0f921"
            ]
           ]
          },
          "colorway": [
           "#636efa",
           "#EF553B",
           "#00cc96",
           "#ab63fa",
           "#FFA15A",
           "#19d3f3",
           "#FF6692",
           "#B6E880",
           "#FF97FF",
           "#FECB52"
          ],
          "font": {
           "color": "#2a3f5f"
          },
          "geo": {
           "bgcolor": "white",
           "lakecolor": "white",
           "landcolor": "#E5ECF6",
           "showlakes": true,
           "showland": true,
           "subunitcolor": "white"
          },
          "hoverlabel": {
           "align": "left"
          },
          "hovermode": "closest",
          "mapbox": {
           "style": "light"
          },
          "paper_bgcolor": "white",
          "plot_bgcolor": "#E5ECF6",
          "polar": {
           "angularaxis": {
            "gridcolor": "white",
            "linecolor": "white",
            "ticks": ""
           },
           "bgcolor": "#E5ECF6",
           "radialaxis": {
            "gridcolor": "white",
            "linecolor": "white",
            "ticks": ""
           }
          },
          "scene": {
           "xaxis": {
            "backgroundcolor": "#E5ECF6",
            "gridcolor": "white",
            "gridwidth": 2,
            "linecolor": "white",
            "showbackground": true,
            "ticks": "",
            "zerolinecolor": "white"
           },
           "yaxis": {
            "backgroundcolor": "#E5ECF6",
            "gridcolor": "white",
            "gridwidth": 2,
            "linecolor": "white",
            "showbackground": true,
            "ticks": "",
            "zerolinecolor": "white"
           },
           "zaxis": {
            "backgroundcolor": "#E5ECF6",
            "gridcolor": "white",
            "gridwidth": 2,
            "linecolor": "white",
            "showbackground": true,
            "ticks": "",
            "zerolinecolor": "white"
           }
          },
          "shapedefaults": {
           "line": {
            "color": "#2a3f5f"
           }
          },
          "ternary": {
           "aaxis": {
            "gridcolor": "white",
            "linecolor": "white",
            "ticks": ""
           },
           "baxis": {
            "gridcolor": "white",
            "linecolor": "white",
            "ticks": ""
           },
           "bgcolor": "#E5ECF6",
           "caxis": {
            "gridcolor": "white",
            "linecolor": "white",
            "ticks": ""
           }
          },
          "title": {
           "x": 0.05
          },
          "xaxis": {
           "automargin": true,
           "gridcolor": "white",
           "linecolor": "white",
           "ticks": "",
           "title": {
            "standoff": 15
           },
           "zerolinecolor": "white",
           "zerolinewidth": 2
          },
          "yaxis": {
           "automargin": true,
           "gridcolor": "white",
           "linecolor": "white",
           "ticks": "",
           "title": {
            "standoff": 15
           },
           "zerolinecolor": "white",
           "zerolinewidth": 2
          }
         }
        },
        "title": {
         "text": "Average Crop Yield and Temperature by State"
        }
       }
      }
     },
     "metadata": {},
     "output_type": "display_data"
    }
   ],
   "source": [
    "# Assume we have 'Yield' in df and 'AvgTemp' in df1 as the columns after merging\n",
    "# Create a choropleth map\n",
    "fig = px.choropleth(combined_df,\n",
    "                    locations=\"State\",  # This uses the 'State' column for locations\n",
    "                    locationmode='USA-states',  # Maps to the geographical outlines of US states\n",
    "                    scope=\"usa\",  # Limits the map scope to the USA\n",
    "                    color=\"Production\",  # Feature that will determine the color scale\n",
    "                    hover_name=\"State\",  # Feature to display in hover information\n",
    "                    hover_data=[\"Production\", \"Average Temperature\"],  # Additional data to show on hover\n",
    "                    title=\"Average Crop Yield and Temperature by State\",\n",
    "                    #template=\"plotly_dark\",  # Optional: chooses a theme for the map\n",
    "                    labels={\"Production\": \"Total Crop Yield\", \"Average Temperature\": \"Average Temperature\"}  # Renaming labels for clarity\n",
    "                   )\n",
    "\n",
    "# Show the plot\n",
    "fig.show()"
   ]
  },
  {
   "cell_type": "code",
   "execution_count": null,
   "metadata": {},
   "outputs": [],
   "source": []
  }
 ],
 "metadata": {
  "kernelspec": {
   "display_name": "Python 3",
   "language": "python",
   "name": "python3"
  },
  "language_info": {
   "codemirror_mode": {
    "name": "ipython",
    "version": 3
   },
   "file_extension": ".py",
   "mimetype": "text/x-python",
   "name": "python",
   "nbconvert_exporter": "python",
   "pygments_lexer": "ipython3",
   "version": "3.11.4"
  }
 },
 "nbformat": 4,
 "nbformat_minor": 2
}
