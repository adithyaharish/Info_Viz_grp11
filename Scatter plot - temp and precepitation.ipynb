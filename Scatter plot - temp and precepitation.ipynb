{
 "cells": [
  {
   "cell_type": "code",
   "execution_count": 2,
   "id": "f05cb469",
   "metadata": {},
   "outputs": [
    {
     "data": {
      "application/vnd.jupyter.widget-view+json": {
       "model_id": "bbfedf0ec4ce49a883e1b198ad16378e",
       "version_major": 2,
       "version_minor": 0
      },
      "text/plain": [
       "VBox(children=(Dropdown(options=('Alabama', 'Alaska', 'Arizona', 'Arkansas', 'California', 'Colorado', 'Connec…"
      ]
     },
     "metadata": {},
     "output_type": "display_data"
    }
   ],
   "source": [
    "import pandas as pd\n",
    "import plotly.express as px\n",
    "from ipywidgets import Dropdown, Output, VBox\n",
    "from IPython.display import display\n",
    "import plotly.io as pio\n",
    "\n",
    "# Set the default renderer for Plotly in Jupyter\n",
    "pio.renderers.default = \"notebook_connected\"\n",
    "\n",
    "# Load your data\n",
    "weather_data = pd.read_csv('weather.csv')\n",
    "\n",
    "# Initialize the output area for the plot\n",
    "plot_output = Output()\n",
    "\n",
    "# Function to update the plot based on the selected state\n",
    "def update_plot(state):\n",
    "    plot_output.clear_output(wait=True)  # Clear the previous plot if any\n",
    "    filtered_data = weather_data[weather_data['Station.State'] == state]\n",
    "    fig = px.scatter(filtered_data, \n",
    "                     x='Data.Temperature.Avg Temp', \n",
    "                     y='Data.Precipitation',\n",
    "                     hover_data=['Date.Full', 'Station.Location', 'Data.Wind.Speed'],\n",
    "                     labels={\n",
    "                         'Data.Temperature.Avg Temp': 'Average Temperature (°F)',\n",
    "                         'Data.Precipitation': 'Precipitation (inches)'\n",
    "                     },\n",
    "                     title=f'Relationship Between Temperature and Precipitation in {state}')\n",
    "    with plot_output:\n",
    "        fig.show()\n",
    "\n",
    "# Dropdown to select the state\n",
    "state_dropdown = Dropdown(options=sorted(weather_data['Station.State'].unique()))\n",
    "\n",
    "# Function to handle dropdown changes\n",
    "def on_state_change(change):\n",
    "    if change['type'] == 'change' and change['name'] == 'value':\n",
    "        update_plot(change['new'])\n",
    "\n",
    "state_dropdown.observe(on_state_change, names='value')\n",
    "\n",
    "# Display the dropdown and output area\n",
    "display(VBox([state_dropdown, plot_output]))\n",
    "\n",
    "# Initialize the plot with the first state in the dropdown\n",
    "update_plot(state_dropdown.options[0])\n"
   ]
  },
  {
   "cell_type": "code",
   "execution_count": null,
   "id": "932966ec",
   "metadata": {},
   "outputs": [],
   "source": []
  }
 ],
 "metadata": {
  "kernelspec": {
   "display_name": "Python 3 (ipykernel)",
   "language": "python",
   "name": "python3"
  },
  "language_info": {
   "codemirror_mode": {
    "name": "ipython",
    "version": 3
   },
   "file_extension": ".py",
   "mimetype": "text/x-python",
   "name": "python",
   "nbconvert_exporter": "python",
   "pygments_lexer": "ipython3",
   "version": "3.11.4"
  }
 },
 "nbformat": 4,
 "nbformat_minor": 5
}
