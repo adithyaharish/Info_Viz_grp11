{
 "cells": [
  {
   "cell_type": "code",
   "execution_count": 10,
   "id": "b9ce79c5",
   "metadata": {},
   "outputs": [
    {
     "data": {
      "application/vnd.jupyter.widget-view+json": {
       "model_id": "9f4bb97611094fee99bfc243cd0c6199",
       "version_major": 2,
       "version_minor": 0
      },
      "text/plain": [
       "VBox(children=(Dropdown(options=('alabama', 'alaska', 'arizona', 'arkansas', 'california', 'colorado', 'delawa…"
      ]
     },
     "metadata": {},
     "output_type": "display_data"
    }
   ],
   "source": [
    "import pandas as pd\n",
    "import plotly.express as px\n",
    "from ipywidgets import Dropdown, Output, VBox\n",
    "from IPython.display import display\n",
    "\n",
    "# Load datasets\n",
    "agri_data = pd.read_csv('Agriculture_final_2016.csv')\n",
    "weather_data = pd.read_csv('weather.csv')\n",
    "\n",
    "# Normalize state columns for case sensitivity and merge on these columns\n",
    "agri_data['state_normalized'] = agri_data['State'].str.lower()\n",
    "weather_data['state_normalized'] = weather_data['Station.State'].str.lower()\n",
    "\n",
    "data = pd.merge(agri_data, weather_data, left_on='state_normalized', right_on='state_normalized')\n",
    "\n",
    "# Initialize the output area for the plot\n",
    "plot_output = Output()\n",
    "\n",
    "# Function to update the plot based on the selected state\n",
    "def update_plot(selected_state):\n",
    "    plot_output.clear_output(wait=True)  # Clear the previous plot if any\n",
    "    filtered_data = data[data['state_normalized'] == selected_state]\n",
    "    fig = px.scatter(filtered_data, \n",
    "                     x='Data.Temperature.Avg Temp', \n",
    "                     y=' PRODUCTION, MEASURED IN $', \n",
    "                     color='Commodity',  # Different crops are colored differently\n",
    "                     title=f'Impact of Sunlight on Crop Yields in {selected_state.title()}')\n",
    "    with plot_output:\n",
    "        fig.show()\n",
    "\n",
    "# Dropdown to select the state\n",
    "state_dropdown = Dropdown(options=sorted(data['state_normalized'].unique()))\n",
    "\n",
    "# Function to handle dropdown changes\n",
    "def on_state_change(change):\n",
    "    if change['type'] == 'change' and change['name'] == 'value':\n",
    "        update_plot(change.new)\n",
    "\n",
    "state_dropdown.observe(on_state_change, names='value')\n",
    "\n",
    "# Display the dropdown and output area\n",
    "display(VBox([state_dropdown, plot_output]))\n",
    "\n",
    "# Initialize the plot with the first state in the dropdown\n",
    "update_plot(state_dropdown.options[0])\n"
   ]
  },
  {
   "cell_type": "code",
   "execution_count": null,
   "id": "dea7e412",
   "metadata": {},
   "outputs": [],
   "source": []
  }
 ],
 "metadata": {
  "kernelspec": {
   "display_name": "Python 3 (ipykernel)",
   "language": "python",
   "name": "python3"
  },
  "language_info": {
   "codemirror_mode": {
    "name": "ipython",
    "version": 3
   },
   "file_extension": ".py",
   "mimetype": "text/x-python",
   "name": "python",
   "nbconvert_exporter": "python",
   "pygments_lexer": "ipython3",
   "version": "3.11.4"
  }
 },
 "nbformat": 4,
 "nbformat_minor": 5
}
